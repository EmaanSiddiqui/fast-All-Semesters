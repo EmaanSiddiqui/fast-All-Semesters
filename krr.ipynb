{
 "cells": [
  {
   "cell_type": "code",
   "execution_count": null,
   "id": "a1d2f86a",
   "metadata": {},
   "outputs": [],
   "source": [
    "import rdflib\n",
    "from rdflib import Graph, URIRef"
   ]
  },
  {
   "cell_type": "code",
   "execution_count": null,
   "id": "f6582ecf",
   "metadata": {},
   "outputs": [],
   "source": [
    "try:\n",
    "    import StringIO \n",
    "except ImportError:\n",
    "    from io import StringIO"
   ]
  },
  {
   "cell_type": "code",
   "execution_count": null,
   "id": "1848c3b4",
   "metadata": {},
   "outputs": [],
   "source": [
    "contents = '''\\\n",
    "subject1\\tpredicate1\\tobject1\n",
    "subject2\\tpredicate2\\tobject2\n",
    "'''  \n",
    "tabfile = StringIO(contents)"
   ]
  },
  {
   "cell_type": "code",
   "execution_count": null,
   "id": "a51fba12",
   "metadata": {},
   "outputs": [],
   "source": [
    "graph = rdflib.Graph()"
   ]
  },
  {
   "cell_type": "code",
   "execution_count": null,
   "id": "85a2ce11",
   "metadata": {},
   "outputs": [],
   "source": [
    "for line in tabfile:\n",
    "    triple = line.split()                # triple is now a list of 3 strings\n",
    "    triple = (URIRef(t) for t in triple) # we have to wrap them in URIRef\n",
    "    graph.add(triple)  "
   ]
  },
  {
   "cell_type": "code",
   "execution_count": null,
   "id": "6758e880",
   "metadata": {},
   "outputs": [],
   "source": [
    "print(graph.serialize(format='nt'))"
   ]
  },
  {
   "cell_type": "code",
   "execution_count": null,
   "id": "3a5a0506",
   "metadata": {},
   "outputs": [],
   "source": []
  },
  {
   "cell_type": "code",
   "execution_count": null,
   "id": "5d446bb7",
   "metadata": {},
   "outputs": [],
   "source": []
  }
 ],
 "metadata": {
  "kernelspec": {
   "display_name": "Python 3 (ipykernel)",
   "language": "python",
   "name": "python3"
  },
  "language_info": {
   "codemirror_mode": {
    "name": "ipython",
    "version": 3
   },
   "file_extension": ".py",
   "mimetype": "text/x-python",
   "name": "python",
   "nbconvert_exporter": "python",
   "pygments_lexer": "ipython3",
   "version": "3.9.12"
  }
 },
 "nbformat": 4,
 "nbformat_minor": 5
}
