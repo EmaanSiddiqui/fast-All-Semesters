{
 "cells": [
  {
   "cell_type": "code",
   "execution_count": 1,
   "id": "307895eb",
   "metadata": {},
   "outputs": [],
   "source": [
    "# Libraries\n",
    "import pandas as pd\n",
    "import numpy as np\n",
    "import re\n",
    "from sklearn.feature_extraction.text import TfidfVectorizer\n",
    "from sklearn.metrics.pairwise import linear_kernel"
   ]
  },
  {
   "cell_type": "code",
   "execution_count": 2,
   "id": "b9d6dfcb",
   "metadata": {},
   "outputs": [],
   "source": [
    "# Dataset\n",
    "movies = pd.read_csv(r'C:\\Users\\HP\\OneDrive\\Desktop\\movies.csv', usecols=['movieId','title','genres'], dtype={'movieId':'int32','title':'str','genres':'str'})\n",
    "ratings = pd.read_csv(r'C:\\Users\\HP\\OneDrive\\Desktop\\ratings.csv', usecols=['userId', 'movieId', 'rating'], dtype={'userId': 'int32', 'movieId': 'int32', 'rating': 'float32'})\n",
    "tags = pd.read_csv(r'C:\\Users\\HP\\OneDrive\\Desktop\\tags.csv')"
   ]
  },
  {
   "cell_type": "code",
   "execution_count": 3,
   "id": "beea3b70",
   "metadata": {
    "scrolled": true
   },
   "outputs": [
    {
     "name": "stdout",
     "output_type": "stream",
     "text": [
      "(9742, 3)\n",
      "(100836, 3)\n",
      "(3683, 4)\n"
     ]
    }
   ],
   "source": [
    "print(movies.shape)\n",
    "print(ratings.shape)\n",
    "print(tags.shape)\n"
   ]
  },
  {
   "cell_type": "code",
   "execution_count": 4,
   "id": "261c0144",
   "metadata": {
    "scrolled": true
   },
   "outputs": [
    {
     "name": "stdout",
     "output_type": "stream",
     "text": [
      "<class 'pandas.core.frame.DataFrame'>\n",
      "RangeIndex: 9742 entries, 0 to 9741\n",
      "Data columns (total 3 columns):\n",
      " #   Column   Non-Null Count  Dtype \n",
      "---  ------   --------------  ----- \n",
      " 0   movieId  9742 non-null   int32 \n",
      " 1   title    9742 non-null   object\n",
      " 2   genres   9742 non-null   object\n",
      "dtypes: int32(1), object(2)\n",
      "memory usage: 190.4+ KB\n",
      "<class 'pandas.core.frame.DataFrame'>\n",
      "RangeIndex: 100836 entries, 0 to 100835\n",
      "Data columns (total 3 columns):\n",
      " #   Column   Non-Null Count   Dtype  \n",
      "---  ------   --------------   -----  \n",
      " 0   userId   100836 non-null  int32  \n",
      " 1   movieId  100836 non-null  int32  \n",
      " 2   rating   100836 non-null  float32\n",
      "dtypes: float32(1), int32(2)\n",
      "memory usage: 1.2 MB\n"
     ]
    }
   ],
   "source": [
    "movies.info()\n",
    "ratings.info()"
   ]
  },
  {
   "cell_type": "code",
   "execution_count": 5,
   "id": "66bd4efb",
   "metadata": {},
   "outputs": [
    {
     "name": "stdout",
     "output_type": "stream",
     "text": [
      "\n",
      " movieId    0\n",
      "title      0\n",
      "genres     0\n",
      "dtype: int64\n",
      "\n",
      " userId     0\n",
      "movieId    0\n",
      "rating     0\n",
      "dtype: int64\n",
      "\n",
      " userId       0\n",
      "movieId      0\n",
      "tag          0\n",
      "timestamp    0\n",
      "dtype: int64\n"
     ]
    }
   ],
   "source": [
    "print('\\n',movies.isnull().sum())\n",
    "print('\\n',ratings.isnull().sum())\n",
    "print('\\n',tags.isnull().sum())"
   ]
  },
  {
   "cell_type": "code",
   "execution_count": 6,
   "id": "2b205503",
   "metadata": {},
   "outputs": [],
   "source": [
    "# Merge movies and tags\n",
    "grouped_tags = tags.groupby('movieId')['tag'].apply(list)\n",
    "grouped_tags_df = pd.DataFrame(grouped_tags)\n",
    "movie_tag = pd.merge(movies, grouped_tags_df, left_on='movieId', right_index=True, how='left')"
   ]
  },
  {
   "cell_type": "code",
   "execution_count": 7,
   "id": "47e8adb2",
   "metadata": {},
   "outputs": [],
   "source": [
    "# Preprocess movie data\n",
    "movie_tag['tag'] = movie_tag['tag'].apply(lambda x: x if isinstance(x, list) else [])\n",
    "movie_tag['genres'] = movie_tag['genres'].apply(lambda x: x.split('|'))\n",
    "movie_tag['genres_tags'] = movie_tag['genres'].apply(lambda x: ' '.join(x)) + ' ' + movie_tag['tag'].apply(lambda x: ' '.join(x))\n",
    "movie_tag['year'] = movie_tag['title'].apply(lambda x: re.findall('\\((\\d{4})\\)', x))\n",
    "movie_tag['year'] = movie_tag['year'].apply(lambda x: x[0] if x else '')\n",
    "movie_tag['genres_tags_year'] = movie_tag['genres_tags'] + ' ' + movie_tag['year']\n",
    "movie_tag['title'] = movie_tag['title'].str.replace('\\(\\d{4}\\)', '', regex=True).str.strip()\n"
   ]
  },
  {
   "cell_type": "code",
   "execution_count": 8,
   "id": "b4dff434",
   "metadata": {},
   "outputs": [],
   "source": [
    "# Compute TF-IDF matrix\n",
    "tfidf = TfidfVectorizer(stop_words='english')\n",
    "tfidf_matrix = tfidf.fit_transform(movie_tag['genres_tags_year'])\n"
   ]
  },
  {
   "cell_type": "code",
   "execution_count": 9,
   "id": "32d8d8a8",
   "metadata": {},
   "outputs": [],
   "source": [
    "# Compute cosine similarity matrix\n",
    "cosine_sim = linear_kernel(tfidf_matrix, tfidf_matrix)\n",
    "\n",
    "# Create a reverse map of indices and movie titles\n",
    "indices = pd.Series(movie_tag.index, index=movie_tag['title']).drop_duplicates()"
   ]
  },
  {
   "cell_type": "code",
   "execution_count": 10,
   "id": "2a820251",
   "metadata": {},
   "outputs": [],
   "source": [
    "def recommend_popular_movies(n, user_preferences=None):\n",
    "    movie_ratings = ratings.groupby('movieId')['rating'].mean()\n",
    "    popular_movies = movie_ratings.sort_values(ascending=False).head(n)\n",
    "    if user_preferences:\n",
    "        popular_movies = movie_tag.loc[movie_tag['movieId'].isin(popular_movies.index) & movie_tag['genres'].apply(lambda x: any(pref in x for pref in user_preferences)), 'title']\n",
    "    else:\n",
    "        popular_movies = movie_tag.loc[movie_tag['movieId'].isin(popular_movies.index), 'title']\n",
    "    return popular_movies"
   ]
  },
  {
   "cell_type": "code",
   "execution_count": 11,
   "id": "e63e2a18",
   "metadata": {},
   "outputs": [
    {
     "name": "stdout",
     "output_type": "stream",
     "text": [
      "Popular Movies:\n",
      "4246    Open Hearts (Elsker dig for evigt)\n",
      "4251                             Lady Jane\n",
      "7656        Paper Birds (Pájaros de papel)\n",
      "8107                   Act of Killing, The\n",
      "8148                  Justice League: Doom\n",
      "8154               Bill Hicks: Revelations\n",
      "9083                              Jump In!\n",
      "9094                                 Human\n",
      "9096                          L.A. Slasher\n",
      "9122                       Formula of Love\n",
      "Name: title, dtype: object\n",
      "\n"
     ]
    }
   ],
   "source": [
    "# Get popular movies and recommendations for a new user with preferences:\n",
    "popular_movies = recommend_popular_movies(10)\n",
    "print(\"Popular Movies:\")\n",
    "print(popular_movies)\n",
    "print()"
   ]
  },
  {
   "cell_type": "code",
   "execution_count": 12,
   "id": "822371cc",
   "metadata": {},
   "outputs": [
    {
     "name": "stdout",
     "output_type": "stream",
     "text": [
      "Recommendations:\n",
      "9094                                 Human\n",
      "4246    Open Hearts (Elsker dig for evigt)\n",
      "8107                   Act of Killing, The\n",
      "Name: title, dtype: object\n"
     ]
    }
   ],
   "source": [
    "user_movie_choices = []  # Empty list for a new user\n",
    "user_preferences = ['Action', 'Adventure']  # User preferences (optional)\n",
    "\n",
    "recommendations = recommend_popular_movies(3, user_preferences)  # Recommend popular movies to a new user with preferences\n",
    "\n",
    "if recommendations.empty:\n",
    "    recommendations = popular_movies.sample(3)  # If no recommendations based on preferences, select random popular movies\n",
    "\n",
    "print(\"Recommendations:\")\n",
    "print(recommendations)"
   ]
  },
  {
   "cell_type": "code",
   "execution_count": 13,
   "id": "00b3116c",
   "metadata": {},
   "outputs": [],
   "source": [
    "def get_recommendations(movie_choices, user_preferences, user_ratings=None, cosine_sim=cosine_sim, num_recommendations=3):\n",
    "    movie_indices = []\n",
    "    for choice in movie_choices:\n",
    "        if choice in indices:\n",
    "            idx = indices[choice]\n",
    "            movie_indices.append(idx)\n",
    "    genre_indices = movie_tag[movie_tag['genres'].apply(lambda x: any(pref in x for pref in user_preferences))].index\n",
    "    movie_indices.extend(genre_indices)\n",
    "    movie_indices = list(set(movie_indices))\n",
    "    if user_ratings is not None:\n",
    "        for movie, rating in user_ratings.items():\n",
    "            if movie in indices:\n",
    "                idx = indices[movie]\n",
    "                movie_indices.append(idx)\n",
    "                ratings.loc[len(ratings)] = [1, idx, rating]  # Add the user ratings to the ratings DataFrame\n",
    "    if len(movie_indices) == 0:\n",
    "        return \"No movies found for the given choices and preferences.\"\n",
    "    tfidf_matrix_updated = tfidf.fit_transform(movie_tag['genres_tags_year']) # Update TF-IDF matrix with new ratings\n",
    "    cosine_sim_updated = linear_kernel(tfidf_matrix_updated, tfidf_matrix_updated) # Update cosine similarity matrix\n",
    "    sim_scores = []\n",
    "    for idx in movie_indices:\n",
    "        sim_scores.extend(list(enumerate(cosine_sim_updated[idx])))\n",
    "        sim_scores = sorted(sim_scores, key=lambda x: x[1], reverse=True)\n",
    "        sim_scores = sim_scores[1:(num_recommendations + 1)]\n",
    "        movie_indices = [i[0] for i in sim_scores]\n",
    "        recommended_movies = movie_tag.loc[movie_indices, 'title']\n",
    "    return recommended_movies\n"
   ]
  },
  {
   "cell_type": "code",
   "execution_count": 14,
   "id": "acaf0f14",
   "metadata": {
    "scrolled": false
   },
   "outputs": [
    {
     "data": {
      "text/plain": [
       "0                                Toy Story\n",
       "1                                  Jumanji\n",
       "2                         Grumpier Old Men\n",
       "3                        Waiting to Exhale\n",
       "4              Father of the Bride Part II\n",
       "                       ...                \n",
       "9737    Black Butler: Book of the Atlantic\n",
       "9738                 No Game No Life: Zero\n",
       "9739                                 Flint\n",
       "9740          Bungo Stray Dogs: Dead Apple\n",
       "9741          Andrew Dice Clay: Dice Rules\n",
       "Name: title, Length: 9742, dtype: object"
      ]
     },
     "execution_count": 14,
     "metadata": {},
     "output_type": "execute_result"
    }
   ],
   "source": [
    "movie_tag[\"title\"]"
   ]
  },
  {
   "cell_type": "code",
   "execution_count": 15,
   "id": "f89d8cc8",
   "metadata": {},
   "outputs": [
    {
     "name": "stdout",
     "output_type": "stream",
     "text": [
      "Recommendations:\n",
      "8239                                Planes\n",
      "8171    Captain America II: Death Too Soon\n",
      "8137                              Oblivion\n",
      "Name: title, dtype: object\n"
     ]
    }
   ],
   "source": [
    "user_movie_choices = ['Jumanji', 'The Dark Knight', 'Human', 'Grumpier Old Men']\n",
    "recommendations = get_recommendations(user_movie_choices, user_preferences)\n",
    "print(\"Recommendations:\")\n",
    "print(recommendations)"
   ]
  },
  {
   "cell_type": "code",
   "execution_count": null,
   "id": "19421171",
   "metadata": {},
   "outputs": [],
   "source": []
  }
 ],
 "metadata": {
  "kernelspec": {
   "display_name": "Python 3 (ipykernel)",
   "language": "python",
   "name": "python3"
  },
  "language_info": {
   "codemirror_mode": {
    "name": "ipython",
    "version": 3
   },
   "file_extension": ".py",
   "mimetype": "text/x-python",
   "name": "python",
   "nbconvert_exporter": "python",
   "pygments_lexer": "ipython3",
   "version": "3.9.12"
  }
 },
 "nbformat": 4,
 "nbformat_minor": 5
}
