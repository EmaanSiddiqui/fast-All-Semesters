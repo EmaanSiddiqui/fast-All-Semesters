{
 "cells": [
  {
   "cell_type": "markdown",
   "metadata": {
    "id": "m5r8LDYZK-bk"
   },
   "source": [
    "1. Two unbiased dice are thrown once and the total score is observed. Use a simulation to find the estimated probability that the total score is even or greaterthan 7?\n",
    "\n",
    "2. A box contains 10 white balls, 20 reds and 30 greens. Draw 5 balls with replacement. what is the probability that:\n",
    "a. 3 white or 2 red\n",
    "b. All 5 are the same color\n",
    "\n",
    "3. The sample space for four sibling children. Each row in the sample space contains 1 of 16 possible outcomes. Every outcome represents a unique combination of four children. The sex of each child is indicated by a letter: B for boy and G for girl. Outcomes with two boys are marked by an arrow. Calculate the probability of two\n",
    "boys.\n",
    "\n",
    "4. A coin is tossed twice. What is the probability that at least 1 head occurs? The\n",
    "sample space for this experiment is S = {HH, HT, TH, TT}.\n",
    "\n",
    "5. A die is loaded in such a way that an even number is twice as likely to occur as an\n",
    "odd number. If E is the event that a number less than 4 occurs on a single toss of the\n",
    "die, find P (E).\n",
    "\n",
    "6. Let A be the event that an even number turns up and let B be the event that a\n",
    "number divisible by 3 occurs. Find P (A ∪ B) and P (A ∩ B).\n",
    "\n",
    "7. A manufacturing firm employs three analytical plans for the design and development of a particular product. For cost reasons, all three are used at varying times. In fact, plans 1, 2, and 3 are used for 30%, 20%, and 50% of the products, respectively. The defect rate is different for the three procedures as follows: P(D|P1)=0.01, P(D|P2)=0.03, P(D|P3)=0.02, where P(D|Pj ) is the probability of a defective product, given plan j. If a random product was observed and found to bedefective, which plan was most likely used and thus responsible?"
   ]
  },
  {
   "cell_type": "code",
   "execution_count": 21,
   "metadata": {
    "colab": {
     "base_uri": "https://localhost:8080/"
    },
    "id": "HHpZLE0IJT1V",
    "outputId": "77d2d71c-7675-4da8-fc72-81459466fb3d"
   },
   "outputs": [
    {
     "name": "stdout",
     "output_type": "stream",
     "text": [
      "The probability of rolling an even number or greater than 7 = 0.6944444444444444\n"
     ]
    }
   ],
   "source": [
    "#QUESTION # 01\n",
    "\n",
    "import random\n",
    "def die_sum(iter = 36):\n",
    "  count = 0\n",
    "\n",
    "  for i in range(iter):\n",
    "    die1 = random.randint(1, 6)\n",
    "    die2 = random.randint(1, 6)\n",
    "\n",
    "    score = die1 + die2\n",
    "\n",
    "    if score % 2 == 0 or score > 7:\n",
    "      count += 1\n",
    "\n",
    "  return (count / iter)\n",
    "\n",
    "prompt = 'The probability of rolling an even number or greater than 7 ='\n",
    "print(prompt, die_sum())"
   ]
  },
  {
   "cell_type": "code",
   "execution_count": 32,
   "metadata": {
    "colab": {
     "base_uri": "https://localhost:8080/"
    },
    "id": "2au7RL1OJ8CF",
    "outputId": "285c39d4-1571-49d8-9be9-6e70304e3e13"
   },
   "outputs": [
    {
     "name": "stdout",
     "output_type": "stream",
     "text": [
      "The probability of 3 white or 2 red is : 0.31666666666666665\n",
      "The probability of having all same color is : 0.06666666666666667\n"
     ]
    }
   ],
   "source": [
    "#QUESTION # 02\n",
    "\n",
    "def probability(n = 120):\n",
    "  d = {}\n",
    "  for i in range(60):\n",
    "    if i < 10:\n",
    "      d[i] = 'white'\n",
    "    elif i > 9 and i < 30:\n",
    "      d[i] = 'red'\n",
    "    else:\n",
    "      d[i] = 'green'\n",
    "\n",
    "  sol = [0, 0]\n",
    "\n",
    "  for i in range(n):\n",
    "    white = 0\n",
    "    red = 0\n",
    "    green = 0\n",
    "    for i in range(5):\n",
    "      choice = d[random.randint(0, 59)]\n",
    "      if choice == 'white':\n",
    "        white += 1\n",
    "      elif choice == 'red':\n",
    "        red += 1\n",
    "      else:\n",
    "        green += 1\n",
    "\n",
    "    if white == 3 or red == 2:\n",
    "      sol[0] += 1\n",
    "\n",
    "    if white == 5 or red == 5 or green == 5:\n",
    "      sol[1] += 1\n",
    "\n",
    "  sol[0] = sol[0] / n\n",
    "  sol[1] = sol[1] / n\n",
    "  \n",
    "  return sol\n",
    "\n",
    "p1 = 'The probability of 3 white or 2 red is :'\n",
    "p2 = 'The probability of having all same color is :'\n",
    "sol = probability()\n",
    "\n",
    "print(p1, sol[0])\n",
    "print(p2, sol[1])"
   ]
  },
  {
   "cell_type": "code",
   "execution_count": 33,
   "metadata": {
    "colab": {
     "base_uri": "https://localhost:8080/"
    },
    "id": "HXCWYHoeJpyZ",
    "outputId": "1ee81aab-d36c-460b-a784-64142ab85219"
   },
   "outputs": [
    {
     "name": "stdout",
     "output_type": "stream",
     "text": [
      "['Boy', 'Boy', 'Boy', 'Boy']\n",
      "['Boy', 'Boy', 'Boy', 'Girl']\n",
      "['Boy', 'Boy', 'Girl', 'Boy']\n",
      "['Boy', 'Boy', 'Girl', 'Girl']\n",
      "['Boy', 'Girl', 'Boy', 'Boy']\n",
      "['Boy', 'Girl', 'Boy', 'Girl']\n",
      "['Boy', 'Girl', 'Girl', 'Boy']\n",
      "['Boy', 'Girl', 'Girl', 'Girl']\n",
      "['Girl', 'Boy', 'Boy', 'Boy']\n",
      "['Girl', 'Boy', 'Boy', 'Girl']\n",
      "['Girl', 'Boy', 'Girl', 'Boy']\n",
      "['Girl', 'Boy', 'Girl', 'Girl']\n",
      "['Girl', 'Girl', 'Boy', 'Boy']\n",
      "['Girl', 'Girl', 'Boy', 'Girl']\n",
      "['Girl', 'Girl', 'Girl', 'Boy']\n",
      "['Girl', 'Girl', 'Girl', 'Girl']\n",
      "\n",
      "Prob of 2 boys = 0.375\n",
      "[['Boy', 'Boy', 'Boy', 'Boy'], ['Boy', 'Boy', 'Boy', 'Girl'], ['Boy', 'Boy', 'Girl', 'Boy'], ['Boy', 'Boy', 'Girl', 'Girl'], ['Boy', 'Girl', 'Boy', 'Boy'], ['Boy', 'Girl', 'Boy', 'Girl'], ['Boy', 'Girl', 'Girl', 'Boy'], ['Boy', 'Girl', 'Girl', 'Girl'], ['Girl', 'Boy', 'Boy', 'Boy'], ['Girl', 'Boy', 'Boy', 'Girl'], ['Girl', 'Boy', 'Girl', 'Boy'], ['Girl', 'Boy', 'Girl', 'Girl'], ['Girl', 'Girl', 'Boy', 'Boy'], ['Girl', 'Girl', 'Boy', 'Girl'], ['Girl', 'Girl', 'Girl', 'Boy'], ['Girl', 'Girl', 'Girl', 'Girl']]\n"
     ]
    }
   ],
   "source": [
    "#QUESTION # 03\n",
    "\n",
    "possible_children = ['Boy', 'Girl']\n",
    "sample_space = list()\n",
    "for child1 in possible_children:\n",
    "    for child2 in possible_children:\n",
    "        for child3 in possible_children:\n",
    "            for child4 in possible_children:\n",
    "                outcome = [child1, child2, child3, child4]\n",
    "                sample_space.append(outcome)\n",
    "                print(outcome)\n",
    "\n",
    "print(\"\")\n",
    "n = 0\n",
    "for i in sample_space:\n",
    "  count_b = i.count('Boy')\n",
    "  if count_b == 2:\n",
    "    n += 1\n",
    "\n",
    "print('Prob of 2 boys =', n / len(sample_space))\n",
    "\n",
    "print(sample_space)"
   ]
  },
  {
   "cell_type": "code",
   "execution_count": null,
   "metadata": {
    "colab": {
     "base_uri": "https://localhost:8080/"
    },
    "id": "TtgqNYR4KM9_",
    "outputId": "bf58accd-2f17-4160-97cd-f83d6bae8f4c"
   },
   "outputs": [
    {
     "name": "stdout",
     "output_type": "stream",
     "text": [
      "Prob of atleast 1 Head = 3 / 4\n"
     ]
    }
   ],
   "source": [
    "#QUESTION # 04\n",
    "\n",
    "S = ['HH','HT','TH','TT']\n",
    "c = 0\n",
    "\n",
    "for i in S:\n",
    "  if 'H' in i:\n",
    "    c += 1\n",
    "\n",
    "print('Prob of atleast 1 Head =', c, '/ 4')"
   ]
  },
  {
   "cell_type": "code",
   "execution_count": null,
   "metadata": {
    "colab": {
     "base_uri": "https://localhost:8080/"
    },
    "id": "pz9cTN4TKZZc",
    "outputId": "a8716c93-4cd0-4666-e48f-8806327c0b49"
   },
   "outputs": [
    {
     "name": "stdout",
     "output_type": "stream",
     "text": [
      "P (E) = 4 / 9\n"
     ]
    }
   ],
   "source": [
    "#QUESTION # 05\n",
    "\n",
    "A = [1,2,3]\n",
    "count = 0\n",
    "\n",
    "for i in A:\n",
    "  if i % 2 == 0:\n",
    "    count += 2\n",
    "  else:\n",
    "    count += 1\n",
    "\n",
    "print('P (E) =',count, '/ 9')"
   ]
  },
  {
   "cell_type": "code",
   "execution_count": null,
   "metadata": {
    "colab": {
     "base_uri": "https://localhost:8080/"
    },
    "id": "cyto5Tj-Kct9",
    "outputId": "b884369d-cf65-4419-c7fa-9ab1addb6fdc"
   },
   "outputs": [
    {
     "name": "stdout",
     "output_type": "stream",
     "text": [
      "P (A & B) = 1 / 6\n",
      "P (A U B) = 4 / 6\n"
     ]
    }
   ],
   "source": [
    "#QUESTION # 06\n",
    "\n",
    "A = [2,4,6]\n",
    "B = [3,6]\n",
    "\n",
    "intersection = 0\n",
    "union = len(A)\n",
    "\n",
    "for i in A:\n",
    "  if i in B:\n",
    "    intersection += 1\n",
    "\n",
    "for j in B:\n",
    "  if j not in A:\n",
    "    union +=  1\n",
    "\n",
    "print('P (A & B) =',intersection,'/ 6')\n",
    "print('P (A U B) =',union,'/ 6')"
   ]
  },
  {
   "cell_type": "code",
   "execution_count": null,
   "metadata": {
    "colab": {
     "base_uri": "https://localhost:8080/"
    },
    "id": "uCL8bwuIKn42",
    "outputId": "c3fef6ac-b7c9-42b5-f634-3f17143e17ca"
   },
   "outputs": [
    {
     "name": "stdout",
     "output_type": "stream",
     "text": [
      "Prob of plan 1 given defective = 0.15789473684210525\n",
      "Prob of plan 2 given defective = 0.3157894736842105\n",
      "Prob of plan 3 given defective = 0.5263157894736842 \n",
      "\n",
      "Plan 3 was most likely used and thus responsible\n"
     ]
    }
   ],
   "source": [
    "#QUESTION # 07\n",
    "\n",
    "p = [0.3, 0.2, 0.5]\n",
    "\n",
    "D_p = [0.01, 0.03, 0.02]\n",
    "\n",
    "total = 0\n",
    "for x, y in zip(p, D_p):\n",
    "  total += x * y\n",
    "\n",
    "result = []\n",
    "for i, j in zip(p, D_p):\n",
    "  result.append((i * j) / total)\n",
    "\n",
    "print('Prob of plan 1 given defective =', result[0])\n",
    "print('Prob of plan 2 given defective =', result[1])\n",
    "print('Prob of plan 3 given defective =', result[2], '\\n')\n",
    "\n",
    "if result[0] > result[1] and result[0] > result[2]:\n",
    "  print('Plan 1 was most likely used and thus responsible')\n",
    "elif result[1] > result[0] and result[1] > result[2]:\n",
    "  print('Plan 2 was most likely used and thus responsible')\n",
    "elif result[2] > result[0] and result[2] > result[1]:\n",
    "  print('Plan 3 was most likely used and thus responsible')\n"
   ]
  }
 ],
 "metadata": {
  "colab": {
   "collapsed_sections": [],
   "name": "CP.ipynb",
   "provenance": []
  },
  "kernelspec": {
   "display_name": "Python 3 (ipykernel)",
   "language": "python",
   "name": "python3"
  },
  "language_info": {
   "codemirror_mode": {
    "name": "ipython",
    "version": 3
   },
   "file_extension": ".py",
   "mimetype": "text/x-python",
   "name": "python",
   "nbconvert_exporter": "python",
   "pygments_lexer": "ipython3",
   "version": "3.9.12"
  }
 },
 "nbformat": 4,
 "nbformat_minor": 1
}
