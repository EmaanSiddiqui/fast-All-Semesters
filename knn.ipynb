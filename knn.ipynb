{
 "cells": [
  {
   "cell_type": "code",
   "execution_count": 17,
   "id": "42b341fb",
   "metadata": {},
   "outputs": [],
   "source": [
    "import pandas as pd\n",
    "from sklearn.model_selection import train_test_split\n",
    "from sklearn.metrics import accuracy_score\n",
    "from sklearn.neighbors import KNeighborsClassifier\n",
    "#from sklearn.metrics import classification_report\n",
    "#from sklearn.metrics import confusion_matrix"
   ]
  },
  {
   "cell_type": "code",
   "execution_count": 18,
   "id": "a6d48a80",
   "metadata": {},
   "outputs": [],
   "source": [
    "names = ['c1','c2','c3','c4','class']\n",
    "data = pd.read_csv(r\"D:\\FastSemesters\\semster4\\AI\\lab_Final\\dataset\\iris.data\",names=names)\n",
    "x = data.drop(columns='class')\n",
    "y = data['class']\n",
    "arr= data.values\n",
    "x= "
   ]
  },
  {
   "cell_type": "code",
   "execution_count": 19,
   "id": "ae9913ee",
   "metadata": {},
   "outputs": [],
   "source": [
    "x_train, x_test, y_train, y_test = train_test_split(x, y, test_size = 0.20, random_state = 7)"
   ]
  },
  {
   "cell_type": "code",
   "execution_count": 20,
   "id": "4f309787",
   "metadata": {},
   "outputs": [
    {
     "name": "stdout",
     "output_type": "stream",
     "text": [
      "0.9333333333333333\n"
     ]
    }
   ],
   "source": [
    "knn = KNeighborsClassifier(n_neighbors=2)\n",
    "knn.fit(x_train, y_train)\n",
    "predictions= knn.predict(x_test)\n",
    "print(accuracy_score(y_test, predictions))"
   ]
  },
  {
   "cell_type": "code",
   "execution_count": 22,
   "id": "624dcdd3",
   "metadata": {},
   "outputs": [],
   "source": [
    "[[342,43534,54645]\n",
    "[]\n",
    "]\n",
    "\n",
    "\n",
    "#print((classification_report(y_test, predictions)))   \n",
    "#print(confusion_matrix(y_test, predictions))"
   ]
  }
 ],
 "metadata": {
  "kernelspec": {
   "display_name": "Python 3 (ipykernel)",
   "language": "python",
   "name": "python3"
  },
  "language_info": {
   "codemirror_mode": {
    "name": "ipython",
    "version": 3
   },
   "file_extension": ".py",
   "mimetype": "text/x-python",
   "name": "python",
   "nbconvert_exporter": "python",
   "pygments_lexer": "ipython3",
   "version": "3.9.12"
  }
 },
 "nbformat": 4,
 "nbformat_minor": 5
}
