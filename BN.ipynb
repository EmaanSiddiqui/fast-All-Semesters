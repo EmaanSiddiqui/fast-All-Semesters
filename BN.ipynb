{
 "cells": [
  {
   "cell_type": "code",
   "execution_count": 7,
   "id": "d1e2d553",
   "metadata": {},
   "outputs": [
    {
     "name": "stdout",
     "output_type": "stream",
     "text": [
      "0.1\n",
      "8.0%\n"
     ]
    }
   ],
   "source": [
    "import numpy as np # linear algebra\n",
    "import pandas as pd # data processing, CSV file I/O (e.g. pd.read_csv)\n",
    "import matplotlib.pyplot as plt\n",
    "# Sample Space\n",
    "cards = 52\n",
    "# Outcomes\n",
    "aces = 4\n",
    "# Divide possible outcomes by the sample set\n",
    "ace_probability = aces / cards\n",
    "# Print probability rounded to two decimal places\n",
    "print(round(ace_probability, 1))\n",
    "# Ace Probability Percent Code\n",
    "ace_probability_percent = ace_probability * 100\n",
    "# Print probability percent rounded to one decimal place\n",
    "print(str(round(ace_probability_percent, 0)) + '%')"
   ]
  },
  {
   "cell_type": "code",
   "execution_count": 8,
   "id": "f98ad6a6",
   "metadata": {},
   "outputs": [],
   "source": [
    "import numpy as np # linear algebra\n",
    "import pandas as pd \n",
    "import matplotlib.pyplot as plt"
   ]
  },
  {
   "cell_type": "code",
   "execution_count": 9,
   "id": "44705c51",
   "metadata": {},
   "outputs": [],
   "source": [
    "# Create function that returns probability percent rounded to one decimal place\n",
    "def event_probability(event_outcomes, sample_space):\n",
    "    probability = (event_outcomes / sample_space) * 100\n",
    "    return round(probability, 1)"
   ]
  },
  {
   "cell_type": "code",
   "execution_count": 11,
   "id": "1183f732",
   "metadata": {},
   "outputs": [
    {
     "name": "stdout",
     "output_type": "stream",
     "text": [
      "Probability of Heart :  25.0%\n",
      "Probability of Face Card :  23.1%\n",
      "Probability of Queen of Hearts :  1.9%\n"
     ]
    }
   ],
   "source": [
    "# Sample Space\n",
    "cards = 52\n",
    "\n",
    "# Determine the probability of drawing a heart\n",
    "hearts = 13\n",
    "heart_probability = event_probability(hearts, cards)\n",
    "\n",
    "# Determine the probability of drawing a face card\n",
    "face_cards = 12\n",
    "face_card_probability = event_probability(face_cards, cards)\n",
    "\n",
    "# Determine the probability of drawing the queen of hearts\n",
    "queen_of_hearts = 1\n",
    "queen_of_hearts_probability = event_probability(queen_of_hearts, cards)\n",
    "\n",
    "# Print each probability\n",
    "print(\"Probability of Heart : \",str(heart_probability) + '%')\n",
    "print(\"Probability of Face Card : \",str(face_card_probability) + '%')\n",
    "print(\"Probability of Queen of Hearts : \",str(queen_of_hearts_probability) + '%')"
   ]
  },
  {
   "cell_type": "code",
   "execution_count": 5,
   "id": "268b5ccb",
   "metadata": {},
   "outputs": [],
   "source": [
    "from pgmpy.models import BayesianNetwork\n",
    "from pgmpy.factors.discrete import TabularCPD\n",
    "import networkx as nx\n",
    "import pylab as plt\n",
    " \n",
    "# Defining Bayesian Structure\n",
    "model = BayesianNetwork([('Guest', 'Host'), ('Price', 'Host')])\n",
    " \n",
    "# Defining the CPDs:\n",
    "cpd_guest = TabularCPD('Guest', 3, [[0.33], [0.33], [0.33]])\n",
    "\n",
    "cpd_price = TabularCPD('Price', 3, [[0.33], [0.33], [0.33]])\n",
    "\n",
    "cpd_host = TabularCPD('Host', 3, [[0, 0, 0, 0, 0.5, 1, 0, 1, 0.5],\n",
    "                            [0.5, 0, 1, 0, 0, 0, 1, 0, 0.5],\n",
    "                            [0.5, 1, 0, 1, 0.5, 0, 0, 0, 0]],\n",
    "                  evidence=['Guest', 'Price'], evidence_card=[3, 3])\n",
    " \n",
    "# Associating the CPDs with the network structure.\n",
    "model.add_cpds(cpd_guest, cpd_price, cpd_host)"
   ]
  },
  {
   "cell_type": "code",
   "execution_count": 6,
   "id": "cbf5ae14",
   "metadata": {},
   "outputs": [
    {
     "data": {
      "text/plain": [
       "True"
      ]
     },
     "execution_count": 6,
     "metadata": {},
     "output_type": "execute_result"
    }
   ],
   "source": [
    "model.check_model()"
   ]
  },
  {
   "cell_type": "code",
   "execution_count": 7,
   "id": "4db032be",
   "metadata": {},
   "outputs": [
    {
     "data": {
      "application/vnd.jupyter.widget-view+json": {
       "model_id": "dd3186cd4b7d421a8357e71628d76d09",
       "version_major": 2,
       "version_minor": 0
      },
      "text/plain": [
       "0it [00:00, ?it/s]"
      ]
     },
     "metadata": {},
     "output_type": "display_data"
    },
    {
     "data": {
      "application/vnd.jupyter.widget-view+json": {
       "model_id": "8eb13410f6b843e5a23737aba2e6e7a9",
       "version_major": 2,
       "version_minor": 0
      },
      "text/plain": [
       "0it [00:00, ?it/s]"
      ]
     },
     "metadata": {},
     "output_type": "display_data"
    },
    {
     "name": "stdout",
     "output_type": "stream",
     "text": [
      "+---------+-------------+\n",
      "| Host    |   phi(Host) |\n",
      "+=========+=============+\n",
      "| Host(0) |      0.5000 |\n",
      "+---------+-------------+\n",
      "| Host(1) |      0.5000 |\n",
      "+---------+-------------+\n",
      "| Host(2) |      0.0000 |\n",
      "+---------+-------------+\n"
     ]
    },
    {
     "data": {
      "application/vnd.jupyter.widget-view+json": {
       "model_id": "929433536bf64c96af4148e7281c1cb0",
       "version_major": 2,
       "version_minor": 0
      },
      "text/plain": [
       "  0%|          | 0/2 [00:00<?, ?it/s]"
      ]
     },
     "metadata": {},
     "output_type": "display_data"
    },
    {
     "data": {
      "application/vnd.jupyter.widget-view+json": {
       "model_id": "811a3a23fffa4fa8bcced82cf0c4d814",
       "version_major": 2,
       "version_minor": 0
      },
      "text/plain": [
       "  0%|          | 0/2 [00:00<?, ?it/s]"
      ]
     },
     "metadata": {},
     "output_type": "display_data"
    },
    {
     "name": "stdout",
     "output_type": "stream",
     "text": [
      "+---------+-------------+\n",
      "| Host    |   phi(Host) |\n",
      "+=========+=============+\n",
      "| Host(0) |      0.3333 |\n",
      "+---------+-------------+\n",
      "| Host(1) |      0.3333 |\n",
      "+---------+-------------+\n",
      "| Host(2) |      0.3333 |\n",
      "+---------+-------------+\n"
     ]
    }
   ],
   "source": [
    "# Infering the posterior probability\n",
    "from pgmpy.inference import VariableElimination\n",
    " \n",
    "infer = VariableElimination(model)\n",
    "posterior_p = infer.query(['Host'], evidence={'Guest': 2, 'Price': 2})\n",
    "print(posterior_p)\n",
    "\n",
    "infer = VariableElimination(model)\n",
    "g_dist = infer.query(['Host'])\n",
    "print(g_dist)"
   ]
  },
  {
   "cell_type": "code",
   "execution_count": 3,
   "id": "ae8af687",
   "metadata": {},
   "outputs": [
    {
     "name": "stdout",
     "output_type": "stream",
     "text": [
      "guesttA\n",
      "prizet{\n",
      "    \"class\" : \"Distribution\",\n",
      "    \"dtype\" : \"str\",\n",
      "    \"name\" : \"DiscreteDistribution\",\n",
      "    \"parameters\" : [\n",
      "        {\n",
      "            \"A\" : 0.3333333333333333,\n",
      "            \"B\" : 0.3333333333333333,\n",
      "            \"C\" : 0.3333333333333333\n",
      "        }\n",
      "    ],\n",
      "    \"frozen\" : false\n",
      "}\n",
      "montyt{\n",
      "    \"class\" : \"Distribution\",\n",
      "    \"dtype\" : \"str\",\n",
      "    \"name\" : \"DiscreteDistribution\",\n",
      "    \"parameters\" : [\n",
      "        {\n",
      "            \"B\" : 0.49999999999999994,\n",
      "            \"C\" : 0.49999999999999994,\n",
      "            \"A\" : 0.0\n",
      "        }\n",
      "    ],\n",
      "    \"frozen\" : false\n",
      "}\n",
      "guesttA\n",
      "prizet{\n",
      "    \"class\" : \"Distribution\",\n",
      "    \"dtype\" : \"str\",\n",
      "    \"name\" : \"DiscreteDistribution\",\n",
      "    \"parameters\" : [\n",
      "        {\n",
      "            \"A\" : 0.3333333333333334,\n",
      "            \"B\" : 0.0,\n",
      "            \"C\" : 0.6666666666666664\n",
      "        }\n",
      "    ],\n",
      "    \"frozen\" : false\n",
      "}\n",
      "montytB\n"
     ]
    }
   ],
   "source": [
    "# Import required packages\n",
    "import math\n",
    "from pomegranate import *\n",
    "\n",
    "# Initially the door selected by the guest is completely random\n",
    "guest = DiscreteDistribution({'A': 1./3, 'B': 1./3, 'C': 1./3})\n",
    "\n",
    "# The door containing the prize is also a random process\n",
    "prize = DiscreteDistribution({'A': 1./3, 'B': 1./3, 'C': 1./3})\n",
    "\n",
    "# The door Monty picks, depends on the choice of the guest and the prize door\n",
    "monty = ConditionalProbabilityTable(\n",
    "    [['A', 'A', 'A', 0.0],\n",
    "     ['A', 'A', 'B', 0.5],\n",
    "        ['A', 'A', 'C', 0.5],\n",
    "        ['A', 'B', 'A', 0.0],\n",
    "        ['A', 'B', 'B', 0.0],\n",
    "        ['A', 'B', 'C', 1.0],\n",
    "        ['A', 'C', 'A', 0.0],\n",
    "        ['A', 'C', 'B', 1.0],\n",
    "        ['A', 'C', 'C', 0.0],\n",
    "        ['B', 'A', 'A', 0.0],\n",
    "        ['B', 'A', 'B', 0.0],\n",
    "        ['B', 'A', 'C', 1.0],\n",
    "        ['B', 'B', 'A', 0.5],\n",
    "        ['B', 'B', 'B', 0.0],\n",
    "        ['B', 'B', 'C', 0.5],\n",
    "        ['B', 'C', 'A', 1.0],\n",
    "        ['B', 'C', 'B', 0.0],\n",
    "        ['B', 'C', 'C', 0.0],\n",
    "        ['C', 'A', 'A', 0.0],\n",
    "        ['C', 'A', 'B', 1.0],\n",
    "        ['C', 'A', 'C', 0.0],\n",
    "        ['C', 'B', 'A', 1.0],\n",
    "        ['C', 'B', 'B', 0.0],\n",
    "        ['C', 'B', 'C', 0.0],\n",
    "        ['C', 'C', 'A', 0.5],\n",
    "        ['C', 'C', 'B', 0.5],\n",
    "        ['C', 'C', 'C', 0.0]], [guest, prize])\n",
    "\n",
    "d1 = State(guest, name=\"guest\")\n",
    "d2 = State(prize, name=\"prize\")\n",
    "d3 = State(monty, name=\"monty\")\n",
    "\n",
    "# Building the Bayesian Network\n",
    "network = BayesianNetwork(\n",
    "    \"Solving the Monty Hall Problem With Bayesian Networks\")\n",
    "network.add_states(d1, d2, d3)\n",
    "network.add_edge(d1, d3)\n",
    "network.add_edge(d2, d3)\n",
    "network.bake()\n",
    "\n",
    "beliefs = network.predict_proba({'guest': 'A'})\n",
    "beliefs = map(str, beliefs)\n",
    "print(\"\\n\".join(\"{}t{}\".format(state.name, belief)\n",
    "      for state, belief in zip(network.states, beliefs)))\n",
    "\n",
    "beliefs = network.predict_proba({'guest': 'A', 'monty': 'B'})\n",
    "print(\"\\n\".join(\"{}t{}\".format(state.name, str(belief))\n",
    "      for state, belief in zip(network.states, beliefs)))"
   ]
  },
  {
   "cell_type": "code",
   "execution_count": null,
   "id": "0a32941a",
   "metadata": {},
   "outputs": [],
   "source": []
  }
 ],
 "metadata": {
  "kernelspec": {
   "display_name": "Python 3 (ipykernel)",
   "language": "python",
   "name": "python3"
  },
  "language_info": {
   "codemirror_mode": {
    "name": "ipython",
    "version": 3
   },
   "file_extension": ".py",
   "mimetype": "text/x-python",
   "name": "python",
   "nbconvert_exporter": "python",
   "pygments_lexer": "ipython3",
   "version": "3.9.12"
  }
 },
 "nbformat": 4,
 "nbformat_minor": 5
}
