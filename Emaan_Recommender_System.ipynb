{
 "cells": [
  {
   "cell_type": "code",
   "execution_count": 25,
   "id": "574cb5d4",
   "metadata": {},
   "outputs": [],
   "source": [
    "#Libraries\n",
    "import pandas as pd\n",
    "import numpy as np\n",
    "import re\n",
    "from sklearn.feature_extraction.text import TfidfVectorizer\n",
    "from sklearn.metrics.pairwise import linear_kernel\n"
   ]
  },
  {
   "cell_type": "code",
   "execution_count": 10,
   "id": "4aa766ec",
   "metadata": {},
   "outputs": [],
   "source": [
    "#Dataset\n",
    "movies=pd.read_csv(r'D:\\FastSemesters\\semester6\\Recommender_System(E)\\project\\temp\\ml-latest-small\\movies.csv', usecols=['movieId','title','genres'], dtype={'movieId':'int32','title':'str','genre':'str'})\n",
    "ratings=pd.read_csv(r'D:\\FastSemesters\\semester6\\Recommender_System(E)\\project\\temp\\ml-latest-small\\ratings.csv',usecols=['userId', 'movieId', 'rating'],dtype={'userId': 'int32', 'movieId': 'int32', 'rating': 'float32'})\n",
    "tags=pd.read_csv(r'D:\\FastSemesters\\semester6\\Recommender_System(E)\\project\\temp\\ml-latest-small\\tags.csv',usecols=['userId', 'movieId', 'tag'],dtype={'userId': 'int32', 'movieId': 'int32', 'tag': 'str'})\n",
    "#links=pd.read_csv(r'C:\\Users\\sarim\\OneDrive\\Desktop\\RS\\Project\\Recommendation\\Datasets\\links.csv')\n",
    "\n"
   ]
  },
  {
   "cell_type": "code",
   "execution_count": 11,
   "id": "4993e04d",
   "metadata": {},
   "outputs": [
    {
     "name": "stdout",
     "output_type": "stream",
     "text": [
      "(9742, 3)\n",
      "(100836, 3)\n",
      "(3683, 3)\n",
      "\n",
      " movieId    0\n",
      "title      0\n",
      "genres     0\n",
      "dtype: int64\n",
      "\n",
      " userId     0\n",
      "movieId    0\n",
      "rating     0\n",
      "dtype: int64\n"
     ]
    }
   ],
   "source": [
    "print(movies.shape)\n",
    "print(ratings.shape)\n",
    "#print(links.shape)\n",
    "print(tags.shape)\n",
    "print('\\n',movies.isnull().sum())\n",
    "print('\\n',ratings.isnull().sum())\n",
    "#movies.info()\n",
    "#ratings.info()"
   ]
  },
  {
   "cell_type": "code",
   "execution_count": 12,
   "id": "e99b2320",
   "metadata": {},
   "outputs": [
    {
     "data": {
      "text/plain": [
       "userId     0\n",
       "movieId    0\n",
       "tag        0\n",
       "dtype: int64"
      ]
     },
     "execution_count": 12,
     "metadata": {},
     "output_type": "execute_result"
    }
   ],
   "source": [
    "tags.isna().sum()"
   ]
  },
  {
   "cell_type": "code",
   "execution_count": 13,
   "id": "41972436",
   "metadata": {},
   "outputs": [
    {
     "data": {
      "text/html": [
       "<div>\n",
       "<style scoped>\n",
       "    .dataframe tbody tr th:only-of-type {\n",
       "        vertical-align: middle;\n",
       "    }\n",
       "\n",
       "    .dataframe tbody tr th {\n",
       "        vertical-align: top;\n",
       "    }\n",
       "\n",
       "    .dataframe thead th {\n",
       "        text-align: right;\n",
       "    }\n",
       "</style>\n",
       "<table border=\"1\" class=\"dataframe\">\n",
       "  <thead>\n",
       "    <tr style=\"text-align: right;\">\n",
       "      <th></th>\n",
       "      <th>userId</th>\n",
       "      <th>movieId</th>\n",
       "      <th>tag</th>\n",
       "    </tr>\n",
       "  </thead>\n",
       "  <tbody>\n",
       "    <tr>\n",
       "      <th>0</th>\n",
       "      <td>2</td>\n",
       "      <td>60756</td>\n",
       "      <td>funny</td>\n",
       "    </tr>\n",
       "    <tr>\n",
       "      <th>1</th>\n",
       "      <td>2</td>\n",
       "      <td>60756</td>\n",
       "      <td>Highly quotable</td>\n",
       "    </tr>\n",
       "    <tr>\n",
       "      <th>2</th>\n",
       "      <td>2</td>\n",
       "      <td>60756</td>\n",
       "      <td>will ferrell</td>\n",
       "    </tr>\n",
       "    <tr>\n",
       "      <th>3</th>\n",
       "      <td>2</td>\n",
       "      <td>89774</td>\n",
       "      <td>Boxing story</td>\n",
       "    </tr>\n",
       "    <tr>\n",
       "      <th>4</th>\n",
       "      <td>2</td>\n",
       "      <td>89774</td>\n",
       "      <td>MMA</td>\n",
       "    </tr>\n",
       "  </tbody>\n",
       "</table>\n",
       "</div>"
      ],
      "text/plain": [
       "   userId  movieId              tag\n",
       "0       2    60756            funny\n",
       "1       2    60756  Highly quotable\n",
       "2       2    60756     will ferrell\n",
       "3       2    89774     Boxing story\n",
       "4       2    89774              MMA"
      ]
     },
     "execution_count": 13,
     "metadata": {},
     "output_type": "execute_result"
    }
   ],
   "source": [
    "tags.head()"
   ]
  },
  {
   "cell_type": "code",
   "execution_count": 14,
   "id": "3fe623b3",
   "metadata": {},
   "outputs": [
    {
     "data": {
      "text/html": [
       "<div>\n",
       "<style scoped>\n",
       "    .dataframe tbody tr th:only-of-type {\n",
       "        vertical-align: middle;\n",
       "    }\n",
       "\n",
       "    .dataframe tbody tr th {\n",
       "        vertical-align: top;\n",
       "    }\n",
       "\n",
       "    .dataframe thead th {\n",
       "        text-align: right;\n",
       "    }\n",
       "</style>\n",
       "<table border=\"1\" class=\"dataframe\">\n",
       "  <thead>\n",
       "    <tr style=\"text-align: right;\">\n",
       "      <th></th>\n",
       "      <th>movieId</th>\n",
       "      <th>title</th>\n",
       "      <th>genres</th>\n",
       "      <th>tag</th>\n",
       "    </tr>\n",
       "  </thead>\n",
       "  <tbody>\n",
       "    <tr>\n",
       "      <th>0</th>\n",
       "      <td>1</td>\n",
       "      <td>Toy Story (1995)</td>\n",
       "      <td>[Adventure, Animation, Children, Comedy, Fantasy]</td>\n",
       "      <td>[pixar, pixar, fun]</td>\n",
       "    </tr>\n",
       "    <tr>\n",
       "      <th>1</th>\n",
       "      <td>2</td>\n",
       "      <td>Jumanji (1995)</td>\n",
       "      <td>[Adventure, Children, Fantasy]</td>\n",
       "      <td>[fantasy, magic board game, Robin Williams, game]</td>\n",
       "    </tr>\n",
       "    <tr>\n",
       "      <th>2</th>\n",
       "      <td>3</td>\n",
       "      <td>Grumpier Old Men (1995)</td>\n",
       "      <td>[Comedy, Romance]</td>\n",
       "      <td>[moldy, old]</td>\n",
       "    </tr>\n",
       "    <tr>\n",
       "      <th>3</th>\n",
       "      <td>4</td>\n",
       "      <td>Waiting to Exhale (1995)</td>\n",
       "      <td>[Comedy, Drama, Romance]</td>\n",
       "      <td>[]</td>\n",
       "    </tr>\n",
       "    <tr>\n",
       "      <th>4</th>\n",
       "      <td>5</td>\n",
       "      <td>Father of the Bride Part II (1995)</td>\n",
       "      <td>[Comedy]</td>\n",
       "      <td>[pregnancy, remake]</td>\n",
       "    </tr>\n",
       "  </tbody>\n",
       "</table>\n",
       "</div>"
      ],
      "text/plain": [
       "   movieId                               title  \\\n",
       "0        1                    Toy Story (1995)   \n",
       "1        2                      Jumanji (1995)   \n",
       "2        3             Grumpier Old Men (1995)   \n",
       "3        4            Waiting to Exhale (1995)   \n",
       "4        5  Father of the Bride Part II (1995)   \n",
       "\n",
       "                                              genres  \\\n",
       "0  [Adventure, Animation, Children, Comedy, Fantasy]   \n",
       "1                     [Adventure, Children, Fantasy]   \n",
       "2                                  [Comedy, Romance]   \n",
       "3                           [Comedy, Drama, Romance]   \n",
       "4                                           [Comedy]   \n",
       "\n",
       "                                                 tag  \n",
       "0                                [pixar, pixar, fun]  \n",
       "1  [fantasy, magic board game, Robin Williams, game]  \n",
       "2                                       [moldy, old]  \n",
       "3                                                 []  \n",
       "4                                [pregnancy, remake]  "
      ]
     },
     "execution_count": 14,
     "metadata": {},
     "output_type": "execute_result"
    }
   ],
   "source": [
    "grouped_tags = tags.groupby('movieId')['tag'].apply(list)\n",
    "\n",
    "grouped_tags_df = pd.DataFrame(grouped_tags)\n",
    "\n",
    "movie_tag = pd.merge(movies, grouped_tags_df, left_on='movieId', right_index=True, how='left')\n",
    "\n",
    "movie_tag['tag'] = movie_tag['tag'].apply(lambda x: x if isinstance(x, list) else [])\n",
    "movie_tag['genres'] = movie_tag['genres'].apply(lambda x: x.split('|'))\n",
    "movie_tag.head()\n"
   ]
  },
  {
   "cell_type": "code",
   "execution_count": 15,
   "id": "bfe1f383",
   "metadata": {},
   "outputs": [
    {
     "data": {
      "text/plain": [
       "movieId    0\n",
       "title      0\n",
       "genres     0\n",
       "tag        0\n",
       "dtype: int64"
      ]
     },
     "execution_count": 15,
     "metadata": {},
     "output_type": "execute_result"
    }
   ],
   "source": [
    "movie_tag.isna().sum()"
   ]
  },
  {
   "cell_type": "code",
   "execution_count": 16,
   "id": "35fea1aa",
   "metadata": {},
   "outputs": [],
   "source": [
    "movie_tag['genres_tags'] = movie_tag['genres'].apply(lambda x: ' '.join(x)) + ' ' + movie_tag['tag'].apply(lambda x: ' '.join(x))"
   ]
  },
  {
   "cell_type": "code",
   "execution_count": 17,
   "id": "f7446cb0",
   "metadata": {},
   "outputs": [],
   "source": [
    "movie_tag['year'] = movie_tag['title'].apply(lambda x: re.findall('\\((\\d{4})\\)', x))\n",
    "movie_tag['year'] = movie_tag['year'].apply(lambda x: x[0] if x else '')\n",
    "movie_tag['genres_tags_year'] = movie_tag['genres_tags'] + ' ' + movie_tag['year']\n"
   ]
  },
  {
   "cell_type": "code",
   "execution_count": 24,
   "id": "7b7eb73d",
   "metadata": {},
   "outputs": [
    {
     "data": {
      "text/html": [
       "<div>\n",
       "<style scoped>\n",
       "    .dataframe tbody tr th:only-of-type {\n",
       "        vertical-align: middle;\n",
       "    }\n",
       "\n",
       "    .dataframe tbody tr th {\n",
       "        vertical-align: top;\n",
       "    }\n",
       "\n",
       "    .dataframe thead th {\n",
       "        text-align: right;\n",
       "    }\n",
       "</style>\n",
       "<table border=\"1\" class=\"dataframe\">\n",
       "  <thead>\n",
       "    <tr style=\"text-align: right;\">\n",
       "      <th></th>\n",
       "      <th>movieId</th>\n",
       "      <th>title</th>\n",
       "      <th>genres</th>\n",
       "      <th>tag</th>\n",
       "      <th>genres_tags</th>\n",
       "      <th>year</th>\n",
       "      <th>genres_tags_year</th>\n",
       "    </tr>\n",
       "  </thead>\n",
       "  <tbody>\n",
       "    <tr>\n",
       "      <th>0</th>\n",
       "      <td>1</td>\n",
       "      <td>Toy Story</td>\n",
       "      <td>[Adventure, Animation, Children, Comedy, Fantasy]</td>\n",
       "      <td>[pixar, pixar, fun]</td>\n",
       "      <td>Adventure Animation Children Comedy Fantasy pi...</td>\n",
       "      <td>1995</td>\n",
       "      <td>Adventure Animation Children Comedy Fantasy pi...</td>\n",
       "    </tr>\n",
       "    <tr>\n",
       "      <th>1</th>\n",
       "      <td>2</td>\n",
       "      <td>Jumanji</td>\n",
       "      <td>[Adventure, Children, Fantasy]</td>\n",
       "      <td>[fantasy, magic board game, Robin Williams, game]</td>\n",
       "      <td>Adventure Children Fantasy fantasy magic board...</td>\n",
       "      <td>1995</td>\n",
       "      <td>Adventure Children Fantasy fantasy magic board...</td>\n",
       "    </tr>\n",
       "    <tr>\n",
       "      <th>2</th>\n",
       "      <td>3</td>\n",
       "      <td>Grumpier Old Men</td>\n",
       "      <td>[Comedy, Romance]</td>\n",
       "      <td>[moldy, old]</td>\n",
       "      <td>Comedy Romance moldy old</td>\n",
       "      <td>1995</td>\n",
       "      <td>Comedy Romance moldy old 1995</td>\n",
       "    </tr>\n",
       "    <tr>\n",
       "      <th>3</th>\n",
       "      <td>4</td>\n",
       "      <td>Waiting to Exhale</td>\n",
       "      <td>[Comedy, Drama, Romance]</td>\n",
       "      <td>[]</td>\n",
       "      <td>Comedy Drama Romance</td>\n",
       "      <td>1995</td>\n",
       "      <td>Comedy Drama Romance  1995</td>\n",
       "    </tr>\n",
       "    <tr>\n",
       "      <th>4</th>\n",
       "      <td>5</td>\n",
       "      <td>Father of the Bride Part II</td>\n",
       "      <td>[Comedy]</td>\n",
       "      <td>[pregnancy, remake]</td>\n",
       "      <td>Comedy pregnancy remake</td>\n",
       "      <td>1995</td>\n",
       "      <td>Comedy pregnancy remake 1995</td>\n",
       "    </tr>\n",
       "  </tbody>\n",
       "</table>\n",
       "</div>"
      ],
      "text/plain": [
       "   movieId                        title  \\\n",
       "0        1                    Toy Story   \n",
       "1        2                      Jumanji   \n",
       "2        3             Grumpier Old Men   \n",
       "3        4            Waiting to Exhale   \n",
       "4        5  Father of the Bride Part II   \n",
       "\n",
       "                                              genres  \\\n",
       "0  [Adventure, Animation, Children, Comedy, Fantasy]   \n",
       "1                     [Adventure, Children, Fantasy]   \n",
       "2                                  [Comedy, Romance]   \n",
       "3                           [Comedy, Drama, Romance]   \n",
       "4                                           [Comedy]   \n",
       "\n",
       "                                                 tag  \\\n",
       "0                                [pixar, pixar, fun]   \n",
       "1  [fantasy, magic board game, Robin Williams, game]   \n",
       "2                                       [moldy, old]   \n",
       "3                                                 []   \n",
       "4                                [pregnancy, remake]   \n",
       "\n",
       "                                         genres_tags  year  \\\n",
       "0  Adventure Animation Children Comedy Fantasy pi...  1995   \n",
       "1  Adventure Children Fantasy fantasy magic board...  1995   \n",
       "2                           Comedy Romance moldy old  1995   \n",
       "3                              Comedy Drama Romance   1995   \n",
       "4                            Comedy pregnancy remake  1995   \n",
       "\n",
       "                                    genres_tags_year  \n",
       "0  Adventure Animation Children Comedy Fantasy pi...  \n",
       "1  Adventure Children Fantasy fantasy magic board...  \n",
       "2                      Comedy Romance moldy old 1995  \n",
       "3                         Comedy Drama Romance  1995  \n",
       "4                       Comedy pregnancy remake 1995  "
      ]
     },
     "execution_count": 24,
     "metadata": {},
     "output_type": "execute_result"
    }
   ],
   "source": [
    "movie_tag['title'] = movie_tag['title'].str.replace('\\(\\d{4}\\)', '', regex=True).str.strip()\n",
    "movie_tag.head(5)"
   ]
  },
  {
   "cell_type": "markdown",
   "id": "9ae47489",
   "metadata": {},
   "source": [
    "# MULTIPLE MOVIES"
   ]
  },
  {
   "cell_type": "code",
   "execution_count": 34,
   "id": "f4011ab7",
   "metadata": {},
   "outputs": [],
   "source": [
    "# Compute TF-IDF matrix\n",
    "tfidf = TfidfVectorizer(stop_words='english')\n",
    "tfidf_matrix = tfidf.fit_transform(movie_tag['genres_tags_year'])\n",
    "\n",
    "# Compute cosine similarity matrix\n",
    "cosine_sim = linear_kernel(tfidf_matrix, tfidf_matrix)\n",
    "\n",
    "# Create a reverse map of indices and movie titles\n",
    "indices = pd.Series(movie_tag.index, index=movie_tag['title']).drop_duplicates()"
   ]
  },
  {
   "cell_type": "code",
   "execution_count": 39,
   "id": "475794b1",
   "metadata": {},
   "outputs": [],
   "source": [
    "def get_recommendations(titles, cosine_sim=cosine_sim, indices=indices):\n",
    "    movie_indices = []\n",
    "    for title in titles:\n",
    "        idx = indices[title]\n",
    "        sim_scores = list(enumerate(cosine_sim[idx]))\n",
    "        sim_scores = sorted(sim_scores, key=lambda x: x[1], reverse=True)\n",
    "        sim_scores = sim_scores[1:4]\n",
    "        movie_indices.extend([i[0] for i in sim_scores])\n",
    "    \n",
    "    return movie_tag['title'].iloc[movie_indices]"
   ]
  },
  {
   "cell_type": "code",
   "execution_count": 36,
   "id": "e84b7c24",
   "metadata": {},
   "outputs": [
    {
     "data": {
      "text/plain": [
       "0                                Toy Story\n",
       "1                                  Jumanji\n",
       "2                         Grumpier Old Men\n",
       "3                        Waiting to Exhale\n",
       "4              Father of the Bride Part II\n",
       "                       ...                \n",
       "9737    Black Butler: Book of the Atlantic\n",
       "9738                 No Game No Life: Zero\n",
       "9739                                 Flint\n",
       "9740          Bungo Stray Dogs: Dead Apple\n",
       "9741          Andrew Dice Clay: Dice Rules\n",
       "Name: title, Length: 9742, dtype: object"
      ]
     },
     "execution_count": 36,
     "metadata": {},
     "output_type": "execute_result"
    }
   ],
   "source": [
    "movie_tag[\"title\"]"
   ]
  },
  {
   "cell_type": "code",
   "execution_count": 42,
   "id": "3f5afc30",
   "metadata": {},
   "outputs": [
    {
     "name": "stdout",
     "output_type": "stream",
     "text": [
      "53      Indian in the Cupboard, The\n",
      "6254            Night at the Museum\n",
      "9692                    Tomb Raider\n",
      "1757                  Bug's Life, A\n",
      "2355                    Toy Story 2\n",
      "12                            Balto\n",
      "60      French Twist (Gazon maudit)\n",
      "152                        Mallrats\n",
      "157                     Nine Months\n",
      "885                    Hear My Song\n",
      "2105                Problem Child 2\n",
      "2847                What About Bob?\n",
      "Name: title, dtype: object\n"
     ]
    }
   ],
   "source": [
    "titles = [\"Jumanji\", \"Toy Story\",\"Grumpier Old Men\",\"Andrew Dice Clay: Dice Rules\"]\n",
    "recommendations = get_recommendations(titles)\n",
    "print(recommendations)"
   ]
  },
  {
   "cell_type": "code",
   "execution_count": null,
   "id": "bfadd2dc",
   "metadata": {},
   "outputs": [],
   "source": []
  },
  {
   "cell_type": "code",
   "execution_count": null,
   "id": "d5ddf180",
   "metadata": {},
   "outputs": [],
   "source": []
  }
 ],
 "metadata": {
  "kernelspec": {
   "display_name": "Python 3 (ipykernel)",
   "language": "python",
   "name": "python3"
  },
  "language_info": {
   "codemirror_mode": {
    "name": "ipython",
    "version": 3
   },
   "file_extension": ".py",
   "mimetype": "text/x-python",
   "name": "python",
   "nbconvert_exporter": "python",
   "pygments_lexer": "ipython3",
   "version": "3.9.12"
  }
 },
 "nbformat": 4,
 "nbformat_minor": 5
}
