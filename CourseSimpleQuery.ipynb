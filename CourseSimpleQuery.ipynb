{
 "cells": [
  {
   "cell_type": "code",
   "execution_count": 2,
   "id": "978ecaad",
   "metadata": {},
   "outputs": [],
   "source": [
    "from rdflib import Graph"
   ]
  },
  {
   "cell_type": "code",
   "execution_count": 3,
   "id": "7c17fa0c",
   "metadata": {},
   "outputs": [],
   "source": [
    "import pprint"
   ]
  },
  {
   "cell_type": "code",
   "execution_count": 4,
   "id": "804c201a",
   "metadata": {},
   "outputs": [
    {
     "data": {
      "text/plain": [
       "<Graph identifier=Ndcee2657e1df4f07a688d1117de8dc65 (<class 'rdflib.graph.Graph'>)>"
      ]
     },
     "execution_count": 4,
     "metadata": {},
     "output_type": "execute_result"
    }
   ],
   "source": [
    "#using .rdf files of our three files here.\n",
    "course = Graph()\n",
    "course.parse(r\"C:\\Users\\Dell\\Downloads\\sample\\Course.rdf\")\n",
    "\n",
    "feedback = Graph()\n",
    "feedback.parse(r\"C:\\Users\\Dell\\Downloads\\sample\\Feedback.rdf\")\n",
    "\n",
    "teacher = Graph()\n",
    "teacher.parse(r\"C:\\Users\\Dell\\Downloads\\sample\\Teacher.rdf\")"
   ]
  },
  {
   "cell_type": "code",
   "execution_count": 5,
   "id": "406477a1",
   "metadata": {
    "scrolled": true
   },
   "outputs": [
    {
     "name": "stdout",
     "output_type": "stream",
     "text": [
      " CS542\n",
      " CS494\n",
      " CS535\n",
      " SE4031\n",
      " CS543\n",
      " CS537\n",
      " CS538\n",
      " CS539\n",
      " CS536\n",
      " CS541\n",
      " CS540\n"
     ]
    }
   ],
   "source": [
    "#here is a sample query that fetches course\n",
    "query =\"\"\"\n",
    "PREFIX rdf: <http://www.w3.org/1999/02/22-rdf-syntax-ns#>\n",
    "PREFIX owl: <http://www.w3.org/2002/07/owl#>\n",
    "PREFIX rdfs: <http://www.w3.org/2000/01/rdf-schema#>\n",
    "PREFIX xsd: <http://www.w3.org/2001/XMLSchema#>\n",
    "SELECT ?v\n",
    "WHERE {\n",
    "    ?o coursee:code ?v\n",
    "    \n",
    "} \n",
    "\n",
    "\"\"\"\n",
    "\n",
    "qres = course.query(query)\n",
    "for row in qres:\n",
    "    print(f\" {row.v.toPython()}\")"
   ]
  },
  {
   "cell_type": "code",
   "execution_count": 9,
   "id": "c3ab30a0",
   "metadata": {},
   "outputs": [
    {
     "ename": "ParseException",
     "evalue": "Expected {SelectQuery | ConstructQuery | DescribeQuery | AskQuery}, found 'PREFIX'  (at char 205), (line:6, col:1)",
     "output_type": "error",
     "traceback": [
      "\u001b[1;31m---------------------------------------------------------------------------\u001b[0m",
      "\u001b[1;31mParseException\u001b[0m                            Traceback (most recent call last)",
      "Input \u001b[1;32mIn [9]\u001b[0m, in \u001b[0;36m<cell line: 28>\u001b[1;34m()\u001b[0m\n\u001b[0;32m      1\u001b[0m query1 \u001b[38;5;241m=\u001b[39m \u001b[38;5;124m\"\"\"\u001b[39m\n\u001b[0;32m      2\u001b[0m \u001b[38;5;124mPREFIX rdf: <http://www.w3.org/1999/02/22-rdf-syntax-ns#>\u001b[39m\n\u001b[0;32m      3\u001b[0m \u001b[38;5;124mPREFIX owl: <http://www.w3.org/2002/07/owl#>\u001b[39m\n\u001b[1;32m   (...)\u001b[0m\n\u001b[0;32m     25\u001b[0m \n\u001b[0;32m     26\u001b[0m \u001b[38;5;124m\"\"\"\u001b[39m\n\u001b[1;32m---> 28\u001b[0m qres \u001b[38;5;241m=\u001b[39m \u001b[43m(\u001b[49m\u001b[43mcourse\u001b[49m\u001b[38;5;241;43m+\u001b[39;49m\u001b[43mteacher\u001b[49m\u001b[43m)\u001b[49m\u001b[38;5;241;43m.\u001b[39;49m\u001b[43mquery\u001b[49m\u001b[43m(\u001b[49m\u001b[43mquery1\u001b[49m\u001b[43m)\u001b[49m\n\u001b[0;32m     29\u001b[0m \u001b[38;5;28;01mfor\u001b[39;00m row \u001b[38;5;129;01min\u001b[39;00m qres:\n\u001b[0;32m     30\u001b[0m     \u001b[38;5;28mprint\u001b[39m(\u001b[38;5;124mf\u001b[39m\u001b[38;5;124m\"\u001b[39m\u001b[38;5;132;01m{\u001b[39;00mrow\u001b[38;5;241m.\u001b[39mCourseName,row\u001b[38;5;241m.\u001b[39mTeacherName, row\u001b[38;5;241m.\u001b[39mMasters, row\u001b[38;5;241m.\u001b[39mBachelors\u001b[38;5;132;01m}\u001b[39;00m\u001b[38;5;124m\"\u001b[39m)\n",
      "File \u001b[1;32m~\\anaconda3\\lib\\site-packages\\rdflib\\graph.py:1389\u001b[0m, in \u001b[0;36mGraph.query\u001b[1;34m(self, query_object, processor, result, initNs, initBindings, use_store_provided, **kwargs)\u001b[0m\n\u001b[0;32m   1386\u001b[0m \u001b[38;5;28;01mif\u001b[39;00m \u001b[38;5;129;01mnot\u001b[39;00m \u001b[38;5;28misinstance\u001b[39m(processor, query\u001b[38;5;241m.\u001b[39mProcessor):\n\u001b[0;32m   1387\u001b[0m     processor \u001b[38;5;241m=\u001b[39m plugin\u001b[38;5;241m.\u001b[39mget(processor, query\u001b[38;5;241m.\u001b[39mProcessor)(\u001b[38;5;28mself\u001b[39m)\n\u001b[1;32m-> 1389\u001b[0m \u001b[38;5;28;01mreturn\u001b[39;00m result(processor\u001b[38;5;241m.\u001b[39mquery(query_object, initBindings, initNs, \u001b[38;5;241m*\u001b[39m\u001b[38;5;241m*\u001b[39mkwargs))\n",
      "File \u001b[1;32m~\\anaconda3\\lib\\site-packages\\rdflib\\plugins\\sparql\\processor.py:77\u001b[0m, in \u001b[0;36mSPARQLProcessor.query\u001b[1;34m(self, strOrQuery, initBindings, initNs, base, DEBUG)\u001b[0m\n\u001b[0;32m     70\u001b[0m \u001b[38;5;124;03m\"\"\"\u001b[39;00m\n\u001b[0;32m     71\u001b[0m \u001b[38;5;124;03mEvaluate a query with the given initial bindings, and initial\u001b[39;00m\n\u001b[0;32m     72\u001b[0m \u001b[38;5;124;03mnamespaces. The given base is used to resolve relative URIs in\u001b[39;00m\n\u001b[0;32m     73\u001b[0m \u001b[38;5;124;03mthe query and will be overridden by any BASE given in the query.\u001b[39;00m\n\u001b[0;32m     74\u001b[0m \u001b[38;5;124;03m\"\"\"\u001b[39;00m\n\u001b[0;32m     76\u001b[0m \u001b[38;5;28;01mif\u001b[39;00m \u001b[38;5;129;01mnot\u001b[39;00m \u001b[38;5;28misinstance\u001b[39m(strOrQuery, Query):\n\u001b[1;32m---> 77\u001b[0m     parsetree \u001b[38;5;241m=\u001b[39m \u001b[43mparseQuery\u001b[49m\u001b[43m(\u001b[49m\u001b[43mstrOrQuery\u001b[49m\u001b[43m)\u001b[49m\n\u001b[0;32m     78\u001b[0m     query \u001b[38;5;241m=\u001b[39m translateQuery(parsetree, base, initNs)\n\u001b[0;32m     79\u001b[0m \u001b[38;5;28;01melse\u001b[39;00m:\n",
      "File \u001b[1;32m~\\anaconda3\\lib\\site-packages\\rdflib\\plugins\\sparql\\parser.py:1536\u001b[0m, in \u001b[0;36mparseQuery\u001b[1;34m(q)\u001b[0m\n\u001b[0;32m   1533\u001b[0m     q \u001b[38;5;241m=\u001b[39m q\u001b[38;5;241m.\u001b[39mdecode(\u001b[38;5;124m\"\u001b[39m\u001b[38;5;124mutf-8\u001b[39m\u001b[38;5;124m\"\u001b[39m)\n\u001b[0;32m   1535\u001b[0m q \u001b[38;5;241m=\u001b[39m expandUnicodeEscapes(q)\n\u001b[1;32m-> 1536\u001b[0m \u001b[38;5;28;01mreturn\u001b[39;00m \u001b[43mQuery\u001b[49m\u001b[38;5;241;43m.\u001b[39;49m\u001b[43mparseString\u001b[49m\u001b[43m(\u001b[49m\u001b[43mq\u001b[49m\u001b[43m,\u001b[49m\u001b[43m \u001b[49m\u001b[43mparseAll\u001b[49m\u001b[38;5;241;43m=\u001b[39;49m\u001b[38;5;28;43;01mTrue\u001b[39;49;00m\u001b[43m)\u001b[49m\n",
      "File \u001b[1;32m~\\anaconda3\\lib\\site-packages\\pyparsing\\core.py:1107\u001b[0m, in \u001b[0;36mParserElement.parse_string\u001b[1;34m(self, instring, parse_all, parseAll)\u001b[0m\n\u001b[0;32m   1104\u001b[0m         \u001b[38;5;28;01mraise\u001b[39;00m\n\u001b[0;32m   1105\u001b[0m     \u001b[38;5;28;01melse\u001b[39;00m:\n\u001b[0;32m   1106\u001b[0m         \u001b[38;5;66;03m# catch and re-raise exception from here, clearing out pyparsing internal stack trace\u001b[39;00m\n\u001b[1;32m-> 1107\u001b[0m         \u001b[38;5;28;01mraise\u001b[39;00m exc\u001b[38;5;241m.\u001b[39mwith_traceback(\u001b[38;5;28;01mNone\u001b[39;00m)\n\u001b[0;32m   1108\u001b[0m \u001b[38;5;28;01melse\u001b[39;00m:\n\u001b[0;32m   1109\u001b[0m     \u001b[38;5;28;01mreturn\u001b[39;00m tokens\n",
      "\u001b[1;31mParseException\u001b[0m: Expected {SelectQuery | ConstructQuery | DescribeQuery | AskQuery}, found 'PREFIX'  (at char 205), (line:6, col:1)"
     ]
    }
   ],
   "source": [
    "query1 = \"\"\"\n",
    "PREFIX rdf: <http://www.w3.org/1999/02/22-rdf-syntax-ns#>\n",
    "PREFIX owl: <http://www.w3.org/2002/07/owl#>\n",
    "PREFIX rdfs: <http://www.w3.org/2000/01/rdf-schema#>\n",
    "PREFIX xsd: <http://www.w3.org/2001/XMLSchema#>\n",
    "PREFIX Teacher=\"file:///data/Teacher.csv#\"\n",
    "PREFIX coursee=\"file:///data/coursee.csv#\"\n",
    "SELECT DISTINCT ?CourseName ?TeacherName ?Masters ?Bachelors\n",
    "WHERE{\n",
    "?row coursee:name ?CourseName.\n",
    "FILTER(?CourseName!='Nil' &&?CourseName='NLP')\n",
    "{\n",
    "SELECT DISTINCT ?TeacherName ?Masters ?Bachelors\n",
    "WHERE{?row Teacher:name_0 ?TeacherName.\n",
    "?row Teacher:educationmasters ?Masters.\n",
    "?row Teacher:educationbachelors ?Bachelors.\n",
    "?row Teacher:publicationsinternational ?InternationalPublications.\n",
    "?row Teacher:publicationsnational ?NationalPublications.\n",
    "FILTER((xsd:string(?Masters)='Computer Science')&&(xsd:string(?Bachelors)='Computer Science'))\n",
    "FILTER(?NationalPublications>'20')\n",
    "FILTER(?TeacherName!='Nil')\n",
    "}\n",
    "}\n",
    "}\n",
    "\n",
    "\"\"\"\n",
    "\n",
    "qres = (course+teacher).query(query1)\n",
    "for row in qres:\n",
    "    print(f\"{row.CourseName,row.TeacherName, row.Masters, row.Bachelors}\")"
   ]
  },
  {
   "cell_type": "code",
   "execution_count": null,
   "id": "93632eab",
   "metadata": {},
   "outputs": [],
   "source": []
  }
 ],
 "metadata": {
  "kernelspec": {
   "display_name": "Python 3 (ipykernel)",
   "language": "python",
   "name": "python3"
  },
  "language_info": {
   "codemirror_mode": {
    "name": "ipython",
    "version": 3
   },
   "file_extension": ".py",
   "mimetype": "text/x-python",
   "name": "python",
   "nbconvert_exporter": "python",
   "pygments_lexer": "ipython3",
   "version": "3.9.12"
  }
 },
 "nbformat": 4,
 "nbformat_minor": 5
}
