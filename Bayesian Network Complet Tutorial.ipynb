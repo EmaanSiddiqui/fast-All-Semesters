{
 "cells": [
  {
   "cell_type": "markdown",
   "metadata": {},
   "source": [
    "In this example we will try to create the cancer (http://www.bnlearn.com/bnrepository/discrete-small.html#cancer) bayesian network using pgmpy and do some simple queries on the network.\n",
    "\n",
    "In pgmpy, the general flow of defining a network is to first define the network and then add the parameters to it."
   ]
  },
  {
   "cell_type": "markdown",
   "metadata": {},
   "source": [
    "The graph\n",
    "<img src=\"http://www.bnlearn.com/bnrepository/cancer/cancer.png\" width=\"400\">"
   ]
  },
  {
   "cell_type": "raw",
   "metadata": {},
   "source": [
    "network unknown {\n",
    "}\n",
    "variable Pollution {\n",
    "  type discrete [ 2 ] { low, high };\n",
    "}\n",
    "variable Smoker {\n",
    "  type discrete [ 2 ] { True, False };\n",
    "}\n",
    "variable Cancer {\n",
    "  type discrete [ 2 ] { True, False };\n",
    "}\n",
    "variable Xray {\n",
    "  type discrete [ 2 ] { positive, negative };\n",
    "}\n",
    "variable Dyspnoea {\n",
    "  type discrete [ 2 ] { True, False };\n",
    "}\n",
    "probability ( Pollution ) {\n",
    "  table 0.9, 0.1;\n",
    "}\n",
    "probability ( Smoker ) {\n",
    "  table 0.3, 0.7;\n",
    "}\n",
    "probability ( Cancer | Pollution, Smoker ) {\n",
    "  (low, True) 0.03, 0.97;\n",
    "  (high, True) 0.05, 0.95;\n",
    "  (low, False) 0.001, 0.999;\n",
    "  (high, False) 0.02, 0.98;\n",
    "}\n",
    "probability ( Xray | Cancer ) {\n",
    "  (True) 0.9, 0.1;\n",
    "  (False) 0.2, 0.8;\n",
    "}\n",
    "probability ( Dyspnoea | Cancer ) {\n",
    "  (True) 0.65, 0.35;\n",
    "  (False) 0.3, 0.7;\n",
    "}"
   ]
  },
  {
   "cell_type": "markdown",
   "metadata": {},
   "source": [
    "**Given the above infortion, we need convert them into correct input format of TabularCPD**  \n",
    "\n",
    "<pre>\n",
    "\n",
    "P(P):\n",
    "+----------+----------+-----------+\n",
    "|    P     | 0(low)   |  1(high)  |\n",
    "+----------+----------+-----------+\n",
    "|   P(P)   |   0.9    |    0.1    |\n",
    "+----------+----------+-----------+\n",
    "\n",
    "P(S):\n",
    "+----------+----------+-----------+\n",
    "|    P     | 0(T)     |     1(F)  |\n",
    "+----------+----------+-----------+\n",
    "|   P(S)   |   0.3    |    0.7    |\n",
    "+----------+----------+-----------+\n",
    "\n",
    "If we want to put them in order ['Smoker', 'Pollution']\n",
    "probability ( Cancer | Pollution, Smoker ) {\n",
    "  (low, True) 0.03, 0.97;\n",
    "  (high, True) 0.05, 0.95;\n",
    "  (low, False) 0.001, 0.999;\n",
    "  (high, False) 0.02, 0.98;\n",
    "}\n",
    "\n",
    "P(C | S, P):\n",
    "+------+------+------+------+------+\n",
    "|   S  |      0      |      1      |\n",
    "+------+------+------+------+------+\n",
    "|   P  |   0  |   1  |   0  |   1  |\n",
    "+------+------+------+------+------+\n",
    "|  C=0 | 0.03 |0.05  |0.001 |0.02  |\n",
    "+------+------+------+------+------+\n",
    "|  C=1 | 0.97 |0.95  |0.999 |0.98  |\n",
    "+------+------+------+------+------+\n",
    "\n",
    "</pre>\n",
    "\n",
    "```python\n",
    "cpd_cancer = TabularCPD(variable='Cancer', variable_card=2,\n",
    "                        values=[[],\n",
    "                                []],\n",
    "                        evidence=['Smoker', 'Pollution'],\n",
    "                        evidence_card=[2, 2])\n",
    "```\n"
   ]
  },
  {
   "cell_type": "code",
   "execution_count": 1,
   "metadata": {},
   "outputs": [
    {
     "ename": "ModuleNotFoundError",
     "evalue": "No module named 'pgmpy'",
     "output_type": "error",
     "traceback": [
      "\u001b[1;31m---------------------------------------------------------------------------\u001b[0m",
      "\u001b[1;31mModuleNotFoundError\u001b[0m                       Traceback (most recent call last)",
      "\u001b[1;32mc:\\Users\\UMER\\Downloads\\Datasets\\Bayesian Network Complet Tutorial.ipynb Cell 5'\u001b[0m in \u001b[0;36m<cell line: 2>\u001b[1;34m()\u001b[0m\n\u001b[0;32m      <a href='vscode-notebook-cell:/c%3A/Users/UMER/Downloads/Datasets/Bayesian%20Network%20Complet%20Tutorial.ipynb#ch0000004?line=0'>1</a>\u001b[0m \u001b[39m# Starting with defining the network structure\u001b[39;00m\n\u001b[1;32m----> <a href='vscode-notebook-cell:/c%3A/Users/UMER/Downloads/Datasets/Bayesian%20Network%20Complet%20Tutorial.ipynb#ch0000004?line=1'>2</a>\u001b[0m \u001b[39mfrom\u001b[39;00m \u001b[39mpgmpy\u001b[39;00m\u001b[39m.\u001b[39;00m\u001b[39mmodels\u001b[39;00m \u001b[39mimport\u001b[39;00m BayesianModel\n\u001b[0;32m      <a href='vscode-notebook-cell:/c%3A/Users/UMER/Downloads/Datasets/Bayesian%20Network%20Complet%20Tutorial.ipynb#ch0000004?line=3'>4</a>\u001b[0m cancer_model \u001b[39m=\u001b[39m BayesianModel([(\u001b[39m'\u001b[39m\u001b[39mPollution\u001b[39m\u001b[39m'\u001b[39m, \u001b[39m'\u001b[39m\u001b[39mCancer\u001b[39m\u001b[39m'\u001b[39m), \n\u001b[0;32m      <a href='vscode-notebook-cell:/c%3A/Users/UMER/Downloads/Datasets/Bayesian%20Network%20Complet%20Tutorial.ipynb#ch0000004?line=4'>5</a>\u001b[0m                               (\u001b[39m'\u001b[39m\u001b[39mSmoker\u001b[39m\u001b[39m'\u001b[39m, \u001b[39m'\u001b[39m\u001b[39mCancer\u001b[39m\u001b[39m'\u001b[39m),\n\u001b[0;32m      <a href='vscode-notebook-cell:/c%3A/Users/UMER/Downloads/Datasets/Bayesian%20Network%20Complet%20Tutorial.ipynb#ch0000004?line=5'>6</a>\u001b[0m                               (\u001b[39m'\u001b[39m\u001b[39mCancer\u001b[39m\u001b[39m'\u001b[39m, \u001b[39m'\u001b[39m\u001b[39mXray\u001b[39m\u001b[39m'\u001b[39m),\n\u001b[0;32m      <a href='vscode-notebook-cell:/c%3A/Users/UMER/Downloads/Datasets/Bayesian%20Network%20Complet%20Tutorial.ipynb#ch0000004?line=6'>7</a>\u001b[0m                               (\u001b[39m'\u001b[39m\u001b[39mCancer\u001b[39m\u001b[39m'\u001b[39m, \u001b[39m'\u001b[39m\u001b[39mDyspnoea\u001b[39m\u001b[39m'\u001b[39m)])\n",
      "\u001b[1;31mModuleNotFoundError\u001b[0m: No module named 'pgmpy'"
     ]
    }
   ],
   "source": [
    "# Starting with defining the network structure\n",
    "from pgmpy.models import BayesianModel\n",
    "\n",
    "cancer_model = BayesianModel([('Pollution', 'Cancer'), \n",
    "                              ('Smoker', 'Cancer'),\n",
    "                              ('Cancer', 'Xray'),\n",
    "                              ('Cancer', 'Dyspnoea')])"
   ]
  },
  {
   "cell_type": "code",
   "execution_count": null,
   "metadata": {},
   "outputs": [],
   "source": [
    "# Now defining the parameters.\n",
    "from pgmpy.factors.discrete import TabularCPD\n",
    "\n",
    "cpd_poll = TabularCPD(variable='Pollution', variable_card=2,\n",
    "                      values=[[0.9], [0.1]])\n",
    "cpd_smoke = TabularCPD(variable='Smoker', variable_card=2,\n",
    "                       values=[[0.3], [0.7]])\n",
    "cpd_cancer = TabularCPD(variable='Cancer', variable_card=2,\n",
    "                        values=[[0.03, 0.05, 0.001, 0.02],\n",
    "                                [0.97, 0.95, 0.999, 0.98]],\n",
    "                        evidence=['Smoker', 'Pollution'],\n",
    "                        evidence_card=[2, 2])\n",
    "cpd_xray = TabularCPD(variable='Xray', variable_card=2,\n",
    "                      values=[[0.9, 0.2], [0.1, 0.8]],\n",
    "                      evidence=['Cancer'], evidence_card=[2])\n",
    "cpd_dysp = TabularCPD(variable='Dyspnoea', variable_card=2,\n",
    "                      values=[[0.65, 0.3], [0.35, 0.7]],\n",
    "                      evidence=['Cancer'], evidence_card=[2])"
   ]
  },
  {
   "cell_type": "code",
   "execution_count": null,
   "metadata": {},
   "outputs": [],
   "source": [
    "# Associating the parameters with the model structure.\n",
    "cancer_model.add_cpds(cpd_poll, cpd_smoke, cpd_cancer, cpd_xray, cpd_dysp)\n",
    "\n",
    "# Checking if the cpds are valid for the model.\n",
    "cancer_model.check_model()"
   ]
  },
  {
   "cell_type": "code",
   "execution_count": null,
   "metadata": {},
   "outputs": [],
   "source": [
    "# Doing some simple queries on the network\n",
    "cancer_model.is_active_trail('Pollution', 'Smoker')"
   ]
  },
  {
   "cell_type": "code",
   "execution_count": null,
   "metadata": {},
   "outputs": [],
   "source": [
    "cancer_model.is_active_trail('Pollution', 'Smoker', observed=['Cancer'])"
   ]
  },
  {
   "cell_type": "code",
   "execution_count": null,
   "metadata": {},
   "outputs": [],
   "source": [
    "cancer_model.local_independencies('Xray')"
   ]
  },
  {
   "cell_type": "code",
   "execution_count": null,
   "metadata": {},
   "outputs": [],
   "source": [
    "cancer_model.get_independencies()"
   ]
  },
  {
   "cell_type": "code",
   "execution_count": null,
   "metadata": {},
   "outputs": [],
   "source": [
    "from pgmpy.inference import VariableElimination\n",
    "asia_infer = VariableElimination(cancer_model)\n",
    "\n",
    "\n",
    "q = asia_infer.query(variables=['Xray'], evidence={'Smoker': 0, 'Dyspnoea':0, })\n",
    "print(q['Xray'])"
   ]
  },
  {
   "cell_type": "code",
   "execution_count": null,
   "metadata": {},
   "outputs": [],
   "source": []
  },
  {
   "cell_type": "code",
   "execution_count": null,
   "metadata": {},
   "outputs": [],
   "source": []
  }
 ],
 "metadata": {
  "anaconda-cloud": {},
  "interpreter": {
   "hash": "f1aac67d3a2de111e43e82958818704e320b4555f8bee22b361f4cfde89e1dd1"
  },
  "kernelspec": {
   "display_name": "Python 3 (ipykernel)",
   "language": "python",
   "name": "python3"
  },
  "language_info": {
   "codemirror_mode": {
    "name": "ipython",
    "version": 3
   },
   "file_extension": ".py",
   "mimetype": "text/x-python",
   "name": "python",
   "nbconvert_exporter": "python",
   "pygments_lexer": "ipython3",
   "version": "3.9.12"
  }
 },
 "nbformat": 4,
 "nbformat_minor": 1
}
