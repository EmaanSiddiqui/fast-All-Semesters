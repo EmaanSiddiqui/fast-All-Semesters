{
 "cells": [
  {
   "cell_type": "markdown",
   "id": "f3129cc4",
   "metadata": {
    "id": "f3129cc4"
   },
   "source": [
    "## Perceptron Architecture"
   ]
  },
  {
   "cell_type": "code",
   "execution_count": null,
   "id": "e523e78f",
   "metadata": {
    "id": "e523e78f"
   },
   "outputs": [],
   "source": [
    "## x0 will always be 1 - the length of x vector is n+1\n",
    "## the length of vector w would be n+1\n",
    "\n",
    "def perceptron_computation(w, x):\n",
    "    z = 0.0\n",
    "    for i in range(len(w)):\n",
    "        z = z + w[i]*x[i]\n",
    "    if z < 0:\n",
    "        return -1\n",
    "    else:\n",
    "        return 1"
   ]
  },
  {
   "cell_type": "markdown",
   "id": "15544b30",
   "metadata": {
    "id": "15544b30"
   },
   "source": [
    "## Example of a patricular set of weights for NAND logic"
   ]
  },
  {
   "cell_type": "code",
   "execution_count": null,
   "id": "f8aac860",
   "metadata": {
    "id": "f8aac860"
   },
   "outputs": [],
   "source": [
    "w = [0.9, -0.6, -0.5]"
   ]
  },
  {
   "cell_type": "code",
   "execution_count": null,
   "id": "744b5d5e",
   "metadata": {
    "id": "744b5d5e",
    "outputId": "eb75d23f-854a-40a4-9777-3d9ab4571b64"
   },
   "outputs": [
    {
     "data": {
      "text/plain": [
       "1"
      ]
     },
     "execution_count": 4,
     "metadata": {},
     "output_type": "execute_result"
    }
   ],
   "source": [
    "perceptron_computation(w, [1, -1, -1])"
   ]
  },
  {
   "cell_type": "code",
   "execution_count": null,
   "id": "8fe47387",
   "metadata": {
    "id": "8fe47387",
    "outputId": "1eae61e6-be42-4b2e-ee31-c3ebfc179343"
   },
   "outputs": [
    {
     "data": {
      "text/plain": [
       "1"
      ]
     },
     "execution_count": 5,
     "metadata": {},
     "output_type": "execute_result"
    }
   ],
   "source": [
    "perceptron_computation(w, [1, -1, 1])"
   ]
  },
  {
   "cell_type": "code",
   "execution_count": null,
   "id": "850805a3",
   "metadata": {
    "id": "850805a3",
    "outputId": "a20b93ff-7d7b-4b5e-f720-97b7c8c29d88"
   },
   "outputs": [
    {
     "data": {
      "text/plain": [
       "1"
      ]
     },
     "execution_count": 6,
     "metadata": {},
     "output_type": "execute_result"
    }
   ],
   "source": [
    "perceptron_computation(w, [1, 1, -1])"
   ]
  },
  {
   "cell_type": "code",
   "execution_count": null,
   "id": "d4dca2e5",
   "metadata": {
    "id": "d4dca2e5",
    "outputId": "04041c31-36dc-46ce-c697-df12a7fd5223"
   },
   "outputs": [
    {
     "data": {
      "text/plain": [
       "-1"
      ]
     },
     "execution_count": 7,
     "metadata": {},
     "output_type": "execute_result"
    }
   ],
   "source": [
    "perceptron_computation(w, [1, 1, 1])"
   ]
  },
  {
   "cell_type": "markdown",
   "id": "37453fd3",
   "metadata": {
    "id": "37453fd3"
   },
   "source": [
    "## Perceptron Learning Algorithm"
   ]
  },
  {
   "cell_type": "code",
   "execution_count": null,
   "id": "d5dc2285",
   "metadata": {
    "id": "d5dc2285"
   },
   "outputs": [],
   "source": [
    "import random"
   ]
  },
  {
   "cell_type": "code",
   "execution_count": null,
   "id": "ae4ea414",
   "metadata": {
    "id": "ae4ea414"
   },
   "outputs": [],
   "source": [
    "random.seed(7)"
   ]
  },
  {
   "cell_type": "code",
   "execution_count": null,
   "id": "7b8940c9",
   "metadata": {
    "id": "7b8940c9"
   },
   "outputs": [],
   "source": [
    "LEARNING_RATE = 0.1 "
   ]
  },
  {
   "cell_type": "code",
   "execution_count": null,
   "id": "5111a7f1",
   "metadata": {
    "id": "5111a7f1"
   },
   "outputs": [],
   "source": [
    "w = [0.2, -0.6, 0.25]"
   ]
  },
  {
   "cell_type": "code",
   "execution_count": null,
   "id": "8a2fedd7",
   "metadata": {
    "id": "8a2fedd7"
   },
   "outputs": [],
   "source": [
    "index_list = [0,1,2,3]"
   ]
  },
  {
   "cell_type": "code",
   "execution_count": null,
   "id": "db6c7305",
   "metadata": {
    "id": "db6c7305"
   },
   "outputs": [],
   "source": [
    "X_train = [(1.0, -1.0, -1.0), (1.0, -1.0, 1.0),\n",
    "          (1.0, 1.0, -1.0), (1.0, 1.0, 1.0)]"
   ]
  },
  {
   "cell_type": "code",
   "execution_count": null,
   "id": "be5b98dd",
   "metadata": {
    "id": "be5b98dd"
   },
   "outputs": [],
   "source": [
    "y_train = [1.0, 1.0, 1.0, -1.0]"
   ]
  },
  {
   "cell_type": "code",
   "execution_count": null,
   "id": "4f0a9b42",
   "metadata": {
    "id": "4f0a9b42"
   },
   "outputs": [],
   "source": [
    "def show_learning(w):\n",
    "    print(\"w0 = {}\".format(w[0]), \"w1 = {}\".format(w[1]), \"w2 = {}\".format(w[2]))"
   ]
  },
  {
   "cell_type": "code",
   "execution_count": null,
   "id": "0cc56094",
   "metadata": {
    "id": "0cc56094",
    "outputId": "70ea4b38-9e9c-4e24-f920-e334c10ef881"
   },
   "outputs": [
    {
     "data": {
      "text/plain": [
       "[(1.0, -1.0, -1.0), (1.0, -1.0, 1.0), (1.0, 1.0, -1.0), (1.0, 1.0, 1.0)]"
      ]
     },
     "execution_count": 18,
     "metadata": {},
     "output_type": "execute_result"
    }
   ],
   "source": [
    "X_train"
   ]
  },
  {
   "cell_type": "code",
   "execution_count": null,
   "id": "5db9e0c9",
   "metadata": {
    "id": "5db9e0c9",
    "outputId": "81752418-bf53-4989-ce01-51525832eaf3"
   },
   "outputs": [
    {
     "name": "stdout",
     "output_type": "stream",
     "text": [
      "================== epoch = 1 ==================\n",
      "actual_y =  1.0 predicted_y =  1\n",
      "\n",
      "actual_y =  -1.0 predicted_y =  1\n",
      "w0 = 0.07621772849037031 w1 = 0.13195686681953575 w2 = 0.1333360836808611\n",
      "\n",
      "actual_y =  1.0 predicted_y =  1\n",
      "\n",
      "actual_y =  1.0 predicted_y =  -1\n",
      "w0 = 0.17621772849037032 w1 = 0.031956866819535745 w2 = 0.033336083680861106\n",
      "\n",
      "================== epoch = 2 ==================\n",
      "actual_y =  1.0 predicted_y =  1\n",
      "\n",
      "actual_y =  1.0 predicted_y =  1\n",
      "\n",
      "actual_y =  -1.0 predicted_y =  1\n",
      "w0 = 0.07621772849037031 w1 = -0.06804313318046426 w2 = -0.0666639163191389\n",
      "\n",
      "actual_y =  1.0 predicted_y =  1\n",
      "\n",
      "================== epoch = 3 ==================\n",
      "actual_y =  1.0 predicted_y =  1\n",
      "\n",
      "actual_y =  -1.0 predicted_y =  -1\n",
      "\n",
      "actual_y =  1.0 predicted_y =  1\n",
      "\n",
      "actual_y =  1.0 predicted_y =  1\n",
      "\n"
     ]
    }
   ],
   "source": [
    "w = [random.random(), random.random(), random.random()]\n",
    "\n",
    "all_correct = False\n",
    "epoch = 1\n",
    "\n",
    "while not all_correct:\n",
    "    \n",
    "    print(\"================== epoch = {} ==================\".format(epoch))\n",
    "    \n",
    "    all_correct = True\n",
    "    \n",
    "    random.shuffle(index_list)\n",
    "    \n",
    "    for i in index_list:\n",
    "        \n",
    "        x = X_train[i]\n",
    "        y = y_train[i]\n",
    "        \n",
    "        perceptron_output = perceptron_computation(w, x)\n",
    "        print(\"actual_y = \",  y, \"predicted_y = \", perceptron_output)\n",
    "\n",
    "        if y != perceptron_output:\n",
    "            for j in range(0, len(w)):\n",
    "                w[j] = w[j] + (y*LEARNING_RATE*x[j])\n",
    "            all_correct = False\n",
    "            show_learning(w)\n",
    "        print()\n",
    "    epoch = epoch + 1"
   ]
  },
  {
   "cell_type": "markdown",
   "id": "10a6223a",
   "metadata": {
    "id": "10a6223a"
   },
   "source": [
    "## Your Tasks"
   ]
  },
  {
   "cell_type": "code",
   "execution_count": null,
   "id": "47ab3cd1",
   "metadata": {
    "id": "47ab3cd1"
   },
   "outputs": [],
   "source": [
    "### Task 1: Provide description for each line of the code given in cell no. 53\n",
    "### Task 2: Apply the perceptron training algorithm on AND, XOR Logic truth tables,\n",
    "###         and describe the observed output with respect to AND and XOR logic truth tables"
   ]
  },
  {
   "cell_type": "markdown",
   "id": "273e86de",
   "metadata": {
    "id": "273e86de"
   },
   "source": [
    "### Task 3: A. Download dataset from Description:https://archive.ics.uci.edu/ml/datasets/Blood+Transfusion+Service+Center\n",
    "### Data Folder: https://archive.ics.uci.edu/ml/machine-learning-databases/blood-transfusion/"
   ]
  },
  {
   "cell_type": "markdown",
   "id": "022e4994",
   "metadata": {
    "id": "022e4994"
   },
   "source": [
    "### Task 3 B. Apply the perceptron learning algorithm on the dataset (A). The dataset with respect to classes is not linearly separable, you may need to early stop the perceptron training after k iterations"
   ]
  },
  {
   "cell_type": "markdown",
   "id": "374eb664",
   "metadata": {
    "id": "374eb664"
   },
   "source": [
    "### Task C. Output the weights learned by the perceptron algorithm for each of the attributes"
   ]
  },
  {
   "cell_type": "code",
   "execution_count": null,
   "id": "d7d0526b",
   "metadata": {
    "id": "d7d0526b"
   },
   "outputs": [],
   "source": [
    "import pandas as pd "
   ]
  },
  {
   "cell_type": "code",
   "execution_count": null,
   "id": "9a6ab141",
   "metadata": {
    "id": "9a6ab141"
   },
   "outputs": [],
   "source": [
    "names = ['c1','c2','c3','c4','output']"
   ]
  },
  {
   "cell_type": "code",
   "execution_count": null,
   "id": "7b845bfb",
   "metadata": {
    "id": "7b845bfb"
   },
   "outputs": [],
   "source": [
    "s = pd.read_csv(r\"/content/transfusion.data\",names=names)"
   ]
  },
  {
   "cell_type": "code",
   "execution_count": null,
   "id": "723cd14a",
   "metadata": {
    "colab": {
     "base_uri": "https://localhost:8080/",
     "height": 424
    },
    "id": "723cd14a",
    "outputId": "49f4d1c4-b3c7-439b-ea90-2dfaf564c18f"
   },
   "outputs": [
    {
     "data": {
      "text/html": [
       "\n",
       "  <div id=\"df-10e57bcc-3006-4fa4-8076-dcc407afe315\">\n",
       "    <div class=\"colab-df-container\">\n",
       "      <div>\n",
       "<style scoped>\n",
       "    .dataframe tbody tr th:only-of-type {\n",
       "        vertical-align: middle;\n",
       "    }\n",
       "\n",
       "    .dataframe tbody tr th {\n",
       "        vertical-align: top;\n",
       "    }\n",
       "\n",
       "    .dataframe thead th {\n",
       "        text-align: right;\n",
       "    }\n",
       "</style>\n",
       "<table border=\"1\" class=\"dataframe\">\n",
       "  <thead>\n",
       "    <tr style=\"text-align: right;\">\n",
       "      <th></th>\n",
       "      <th>c1</th>\n",
       "      <th>c2</th>\n",
       "      <th>c3</th>\n",
       "      <th>c4</th>\n",
       "      <th>output</th>\n",
       "    </tr>\n",
       "  </thead>\n",
       "  <tbody>\n",
       "    <tr>\n",
       "      <th>0</th>\n",
       "      <td>Recency (months)</td>\n",
       "      <td>Frequency (times)</td>\n",
       "      <td>Monetary (c.c. blood)</td>\n",
       "      <td>Time (months)</td>\n",
       "      <td>whether he/she donated blood in March 2007</td>\n",
       "    </tr>\n",
       "    <tr>\n",
       "      <th>1</th>\n",
       "      <td>2</td>\n",
       "      <td>50</td>\n",
       "      <td>12500</td>\n",
       "      <td>98</td>\n",
       "      <td>1</td>\n",
       "    </tr>\n",
       "    <tr>\n",
       "      <th>2</th>\n",
       "      <td>0</td>\n",
       "      <td>13</td>\n",
       "      <td>3250</td>\n",
       "      <td>28</td>\n",
       "      <td>1</td>\n",
       "    </tr>\n",
       "    <tr>\n",
       "      <th>3</th>\n",
       "      <td>1</td>\n",
       "      <td>16</td>\n",
       "      <td>4000</td>\n",
       "      <td>35</td>\n",
       "      <td>1</td>\n",
       "    </tr>\n",
       "    <tr>\n",
       "      <th>4</th>\n",
       "      <td>2</td>\n",
       "      <td>20</td>\n",
       "      <td>5000</td>\n",
       "      <td>45</td>\n",
       "      <td>1</td>\n",
       "    </tr>\n",
       "    <tr>\n",
       "      <th>...</th>\n",
       "      <td>...</td>\n",
       "      <td>...</td>\n",
       "      <td>...</td>\n",
       "      <td>...</td>\n",
       "      <td>...</td>\n",
       "    </tr>\n",
       "    <tr>\n",
       "      <th>744</th>\n",
       "      <td>23</td>\n",
       "      <td>2</td>\n",
       "      <td>500</td>\n",
       "      <td>38</td>\n",
       "      <td>0</td>\n",
       "    </tr>\n",
       "    <tr>\n",
       "      <th>745</th>\n",
       "      <td>21</td>\n",
       "      <td>2</td>\n",
       "      <td>500</td>\n",
       "      <td>52</td>\n",
       "      <td>0</td>\n",
       "    </tr>\n",
       "    <tr>\n",
       "      <th>746</th>\n",
       "      <td>23</td>\n",
       "      <td>3</td>\n",
       "      <td>750</td>\n",
       "      <td>62</td>\n",
       "      <td>0</td>\n",
       "    </tr>\n",
       "    <tr>\n",
       "      <th>747</th>\n",
       "      <td>39</td>\n",
       "      <td>1</td>\n",
       "      <td>250</td>\n",
       "      <td>39</td>\n",
       "      <td>0</td>\n",
       "    </tr>\n",
       "    <tr>\n",
       "      <th>748</th>\n",
       "      <td>72</td>\n",
       "      <td>1</td>\n",
       "      <td>250</td>\n",
       "      <td>72</td>\n",
       "      <td>0</td>\n",
       "    </tr>\n",
       "  </tbody>\n",
       "</table>\n",
       "<p>749 rows × 5 columns</p>\n",
       "</div>\n",
       "      <button class=\"colab-df-convert\" onclick=\"convertToInteractive('df-10e57bcc-3006-4fa4-8076-dcc407afe315')\"\n",
       "              title=\"Convert this dataframe to an interactive table.\"\n",
       "              style=\"display:none;\">\n",
       "        \n",
       "  <svg xmlns=\"http://www.w3.org/2000/svg\" height=\"24px\"viewBox=\"0 0 24 24\"\n",
       "       width=\"24px\">\n",
       "    <path d=\"M0 0h24v24H0V0z\" fill=\"none\"/>\n",
       "    <path d=\"M18.56 5.44l.94 2.06.94-2.06 2.06-.94-2.06-.94-.94-2.06-.94 2.06-2.06.94zm-11 1L8.5 8.5l.94-2.06 2.06-.94-2.06-.94L8.5 2.5l-.94 2.06-2.06.94zm10 10l.94 2.06.94-2.06 2.06-.94-2.06-.94-.94-2.06-.94 2.06-2.06.94z\"/><path d=\"M17.41 7.96l-1.37-1.37c-.4-.4-.92-.59-1.43-.59-.52 0-1.04.2-1.43.59L10.3 9.45l-7.72 7.72c-.78.78-.78 2.05 0 2.83L4 21.41c.39.39.9.59 1.41.59.51 0 1.02-.2 1.41-.59l7.78-7.78 2.81-2.81c.8-.78.8-2.07 0-2.86zM5.41 20L4 18.59l7.72-7.72 1.47 1.35L5.41 20z\"/>\n",
       "  </svg>\n",
       "      </button>\n",
       "      \n",
       "  <style>\n",
       "    .colab-df-container {\n",
       "      display:flex;\n",
       "      flex-wrap:wrap;\n",
       "      gap: 12px;\n",
       "    }\n",
       "\n",
       "    .colab-df-convert {\n",
       "      background-color: #E8F0FE;\n",
       "      border: none;\n",
       "      border-radius: 50%;\n",
       "      cursor: pointer;\n",
       "      display: none;\n",
       "      fill: #1967D2;\n",
       "      height: 32px;\n",
       "      padding: 0 0 0 0;\n",
       "      width: 32px;\n",
       "    }\n",
       "\n",
       "    .colab-df-convert:hover {\n",
       "      background-color: #E2EBFA;\n",
       "      box-shadow: 0px 1px 2px rgba(60, 64, 67, 0.3), 0px 1px 3px 1px rgba(60, 64, 67, 0.15);\n",
       "      fill: #174EA6;\n",
       "    }\n",
       "\n",
       "    [theme=dark] .colab-df-convert {\n",
       "      background-color: #3B4455;\n",
       "      fill: #D2E3FC;\n",
       "    }\n",
       "\n",
       "    [theme=dark] .colab-df-convert:hover {\n",
       "      background-color: #434B5C;\n",
       "      box-shadow: 0px 1px 3px 1px rgba(0, 0, 0, 0.15);\n",
       "      filter: drop-shadow(0px 1px 2px rgba(0, 0, 0, 0.3));\n",
       "      fill: #FFFFFF;\n",
       "    }\n",
       "  </style>\n",
       "\n",
       "      <script>\n",
       "        const buttonEl =\n",
       "          document.querySelector('#df-10e57bcc-3006-4fa4-8076-dcc407afe315 button.colab-df-convert');\n",
       "        buttonEl.style.display =\n",
       "          google.colab.kernel.accessAllowed ? 'block' : 'none';\n",
       "\n",
       "        async function convertToInteractive(key) {\n",
       "          const element = document.querySelector('#df-10e57bcc-3006-4fa4-8076-dcc407afe315');\n",
       "          const dataTable =\n",
       "            await google.colab.kernel.invokeFunction('convertToInteractive',\n",
       "                                                     [key], {});\n",
       "          if (!dataTable) return;\n",
       "\n",
       "          const docLinkHtml = 'Like what you see? Visit the ' +\n",
       "            '<a target=\"_blank\" href=https://colab.research.google.com/notebooks/data_table.ipynb>data table notebook</a>'\n",
       "            + ' to learn more about interactive tables.';\n",
       "          element.innerHTML = '';\n",
       "          dataTable['output_type'] = 'display_data';\n",
       "          await google.colab.output.renderOutput(dataTable, element);\n",
       "          const docLink = document.createElement('div');\n",
       "          docLink.innerHTML = docLinkHtml;\n",
       "          element.appendChild(docLink);\n",
       "        }\n",
       "      </script>\n",
       "    </div>\n",
       "  </div>\n",
       "  "
      ],
      "text/plain": [
       "                   c1                 c2                     c3  \\\n",
       "0    Recency (months)  Frequency (times)  Monetary (c.c. blood)   \n",
       "1                  2                  50                  12500   \n",
       "2                  0                  13                   3250   \n",
       "3                  1                  16                   4000   \n",
       "4                  2                  20                   5000   \n",
       "..                ...                ...                    ...   \n",
       "744               23                   2                    500   \n",
       "745               21                   2                    500   \n",
       "746               23                   3                    750   \n",
       "747               39                   1                    250   \n",
       "748               72                   1                    250   \n",
       "\n",
       "                c4                                      output  \n",
       "0    Time (months)  whether he/she donated blood in March 2007  \n",
       "1              98                                            1  \n",
       "2              28                                            1  \n",
       "3              35                                            1  \n",
       "4              45                                            1  \n",
       "..             ...                                         ...  \n",
       "744            38                                            0  \n",
       "745            52                                            0  \n",
       "746            62                                            0  \n",
       "747            39                                            0  \n",
       "748            72                                            0  \n",
       "\n",
       "[749 rows x 5 columns]"
      ]
     },
     "execution_count": 8,
     "metadata": {},
     "output_type": "execute_result"
    }
   ],
   "source": [
    "s"
   ]
  },
  {
   "cell_type": "code",
   "execution_count": null,
   "id": "81eb3a7b",
   "metadata": {
    "id": "81eb3a7b"
   },
   "outputs": [],
   "source": [
    "import random\n",
    "random.seed(6)"
   ]
  },
  {
   "cell_type": "code",
   "execution_count": null,
   "id": "e266eb09",
   "metadata": {
    "id": "e266eb09"
   },
   "outputs": [],
   "source": [
    "def perceptron_computation(w, x):\n",
    "    z = 0.0\n",
    "    for i in range(len(w)):\n",
    "        z = z + w[i]*x[i]\n",
    "    if z < 0:\n",
    "        return -1\n",
    "    else:\n",
    "        return 1"
   ]
  },
  {
   "cell_type": "code",
   "execution_count": null,
   "id": "G3ACnNt2-Ic4",
   "metadata": {
    "id": "G3ACnNt2-Ic4"
   },
   "outputs": [],
   "source": [
    "LEARNING_RATE = 0.01"
   ]
  },
  {
   "cell_type": "code",
   "execution_count": null,
   "id": "adKrhotM-Pq3",
   "metadata": {
    "id": "adKrhotM-Pq3"
   },
   "outputs": [],
   "source": [
    "w = [0.5, -0.2, 0.25,-0.4]\n",
    "index_list = [0,1,2,3]"
   ]
  },
  {
   "cell_type": "code",
   "execution_count": null,
   "id": "yURSrQdI-4C0",
   "metadata": {
    "id": "yURSrQdI-4C0"
   },
   "outputs": [],
   "source": [
    "arr = s.values\n",
    "x= arr[1:5,0:4]\n",
    "y= arr[1:5,4]"
   ]
  },
  {
   "cell_type": "code",
   "execution_count": null,
   "id": "7C4aC7ec_zg-",
   "metadata": {
    "colab": {
     "base_uri": "https://localhost:8080/"
    },
    "id": "7C4aC7ec_zg-",
    "outputId": "d9bf332e-d0a8-45eb-d071-ac763522e051"
   },
   "outputs": [
    {
     "name": "stdout",
     "output_type": "stream",
     "text": [
      "[['2 ' '50' '12500' '98 ']\n",
      " ['0 ' '13' '3250' '28 ']\n",
      " ['1 ' '16' '4000' '35 ']\n",
      " ['2 ' '20' '5000' '45 ']]\n",
      "['1' '1' '1' '1']\n"
     ]
    }
   ],
   "source": [
    "print(x)\n",
    "print(y)"
   ]
  },
  {
   "cell_type": "code",
   "execution_count": null,
   "id": "rcbCP9V9__vS",
   "metadata": {
    "id": "rcbCP9V9__vS"
   },
   "outputs": [],
   "source": [
    "def show_learning(w):\n",
    "    print(\"w0 = {}\".format(w[0]), \"w1 = {}\".format(w[1]), \"w2 = {}\".format(w[2]), \"w3 = {}\".format(w[3]))"
   ]
  },
  {
   "cell_type": "code",
   "execution_count": null,
   "id": "x-os8ThCBLVn",
   "metadata": {
    "colab": {
     "base_uri": "https://localhost:8080/",
     "height": 373
    },
    "id": "x-os8ThCBLVn",
    "outputId": "4128afd6-4b96-4c73-b0d9-5859fc753f92"
   },
   "outputs": [
    {
     "name": "stdout",
     "output_type": "stream",
     "text": [
      "================== epoch = 1 ==================\n"
     ]
    },
    {
     "ename": "TypeError",
     "evalue": "ignored",
     "output_type": "error",
     "traceback": [
      "\u001b[0;31m---------------------------------------------------------------------------\u001b[0m",
      "\u001b[0;31mTypeError\u001b[0m                                 Traceback (most recent call last)",
      "\u001b[0;32m<ipython-input-34-910fbae4fda9>\u001b[0m in \u001b[0;36m<module>\u001b[0;34m\u001b[0m\n\u001b[1;32m     17\u001b[0m         \u001b[0my\u001b[0m \u001b[0;34m=\u001b[0m \u001b[0my\u001b[0m\u001b[0;34m[\u001b[0m\u001b[0mi\u001b[0m\u001b[0;34m]\u001b[0m\u001b[0;34m\u001b[0m\u001b[0;34m\u001b[0m\u001b[0m\n\u001b[1;32m     18\u001b[0m \u001b[0;34m\u001b[0m\u001b[0m\n\u001b[0;32m---> 19\u001b[0;31m         \u001b[0mperceptron_output\u001b[0m \u001b[0;34m=\u001b[0m \u001b[0mperceptron_computation\u001b[0m\u001b[0;34m(\u001b[0m\u001b[0mw\u001b[0m\u001b[0;34m,\u001b[0m \u001b[0mx\u001b[0m\u001b[0;34m)\u001b[0m\u001b[0;34m\u001b[0m\u001b[0;34m\u001b[0m\u001b[0m\n\u001b[0m\u001b[1;32m     20\u001b[0m         \u001b[0mprint\u001b[0m\u001b[0;34m(\u001b[0m\u001b[0;34m\"actual_y = \"\u001b[0m\u001b[0;34m,\u001b[0m  \u001b[0my\u001b[0m\u001b[0;34m,\u001b[0m \u001b[0;34m\"predicted_y = \"\u001b[0m\u001b[0;34m,\u001b[0m \u001b[0mperceptron_output\u001b[0m\u001b[0;34m)\u001b[0m\u001b[0;34m\u001b[0m\u001b[0;34m\u001b[0m\u001b[0m\n\u001b[1;32m     21\u001b[0m \u001b[0;34m\u001b[0m\u001b[0m\n",
      "\u001b[0;32m<ipython-input-13-db89e5affe18>\u001b[0m in \u001b[0;36mperceptron_computation\u001b[0;34m(w, x)\u001b[0m\n\u001b[1;32m      2\u001b[0m     \u001b[0mz\u001b[0m \u001b[0;34m=\u001b[0m \u001b[0;36m0.0\u001b[0m\u001b[0;34m\u001b[0m\u001b[0;34m\u001b[0m\u001b[0m\n\u001b[1;32m      3\u001b[0m     \u001b[0;32mfor\u001b[0m \u001b[0mi\u001b[0m \u001b[0;32min\u001b[0m \u001b[0mrange\u001b[0m\u001b[0;34m(\u001b[0m\u001b[0mlen\u001b[0m\u001b[0;34m(\u001b[0m\u001b[0mw\u001b[0m\u001b[0;34m)\u001b[0m\u001b[0;34m)\u001b[0m\u001b[0;34m:\u001b[0m\u001b[0;34m\u001b[0m\u001b[0;34m\u001b[0m\u001b[0m\n\u001b[0;32m----> 4\u001b[0;31m         \u001b[0mz\u001b[0m \u001b[0;34m=\u001b[0m \u001b[0mz\u001b[0m \u001b[0;34m+\u001b[0m \u001b[0mw\u001b[0m\u001b[0;34m[\u001b[0m\u001b[0mi\u001b[0m\u001b[0;34m]\u001b[0m\u001b[0;34m*\u001b[0m\u001b[0mx\u001b[0m\u001b[0;34m[\u001b[0m\u001b[0mi\u001b[0m\u001b[0;34m]\u001b[0m\u001b[0;34m\u001b[0m\u001b[0;34m\u001b[0m\u001b[0m\n\u001b[0m\u001b[1;32m      5\u001b[0m     \u001b[0;32mif\u001b[0m \u001b[0mz\u001b[0m \u001b[0;34m<\u001b[0m \u001b[0;36m0\u001b[0m\u001b[0;34m:\u001b[0m\u001b[0;34m\u001b[0m\u001b[0;34m\u001b[0m\u001b[0m\n\u001b[1;32m      6\u001b[0m         \u001b[0;32mreturn\u001b[0m \u001b[0;34m-\u001b[0m\u001b[0;36m1\u001b[0m\u001b[0;34m\u001b[0m\u001b[0;34m\u001b[0m\u001b[0m\n",
      "\u001b[0;31mTypeError\u001b[0m: can't multiply sequence by non-int of type 'float'"
     ]
    }
   ],
   "source": [
    "w = [random.random(), random.random(), random.random(), random.random()]\n",
    "\n",
    "all_correct = False\n",
    "epoch = 1\n",
    "\n",
    "while not all_correct:\n",
    "    \n",
    "    print(\"================== epoch = {} ==================\".format(epoch))\n",
    "    \n",
    "    all_correct = True\n",
    "    \n",
    "    random.shuffle(index_list)\n",
    "    \n",
    "    for i in index_list:\n",
    "        \n",
    "        x = x[i]\n",
    "        y = y[i]\n",
    "        \n",
    "        perceptron_output = perceptron_computation(w, x)\n",
    "        print(\"actual_y = \",  y, \"predicted_y = \", perceptron_output)\n",
    "\n",
    "        if y != perceptron_output:\n",
    "            for j in range(0, len(w)):\n",
    "                w[j] = w[j] + (y*LEARNING_RATE*x[j])\n",
    "            all_correct = False\n",
    "            show_learning(w)\n",
    "        print()\n",
    "    epoch = epoch + 1"
   ]
  },
  {
   "cell_type": "code",
   "execution_count": null,
   "id": "gzU4fE6xBWZj",
   "metadata": {
    "id": "gzU4fE6xBWZj"
   },
   "outputs": [],
   "source": []
  }
 ],
 "metadata": {
  "colab": {
   "provenance": []
  },
  "kernelspec": {
   "display_name": "Python 3 (ipykernel)",
   "language": "python",
   "name": "python3"
  },
  "language_info": {
   "codemirror_mode": {
    "name": "ipython",
    "version": 3
   },
   "file_extension": ".py",
   "mimetype": "text/x-python",
   "name": "python",
   "nbconvert_exporter": "python",
   "pygments_lexer": "ipython3",
   "version": "3.9.12"
  }
 },
 "nbformat": 4,
 "nbformat_minor": 5
}
