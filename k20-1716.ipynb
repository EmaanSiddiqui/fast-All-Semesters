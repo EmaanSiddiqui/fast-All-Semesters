{
 "cells": [
  {
   "cell_type": "markdown",
   "id": "6671fb82-1962-44c1-aa4f-4e44883b3832",
   "metadata": {},
   "source": [
    "# Can you find a better way to segment your customers?\n",
    "\n",
    "## 📖 Background\n",
    "You work for a medical device manufacturer in Switzerland. Your company manufactures orthopedic devices and sells them worldwide. The company sells directly to individual doctors who use them on rehabilitation and physical therapy patients.\n",
    "\n",
    "Historically, the sales and customer support departments have grouped doctors by geography. However, the region is not a good predictor of the number of purchases a doctor will make or their support needs.\n",
    "\n",
    "Your team wants to use a data-centric approach to segmenting doctors to improve marketing, customer service, and product planning. "
   ]
  },
  {
   "cell_type": "markdown",
   "id": "2f5929b9-9d9a-457a-99ab-be05f27176f9",
   "metadata": {},
   "source": [
    "## 💾 The data\n",
    "\n",
    "The company stores the information you need in the following four tables. Some of the fields are anonymized to comply with privacy regulations.\n",
    "\n",
    "#### Doctors contains information on doctors. Each row represents one doctor.\n",
    "- \"DoctorID\" - is a unique identifier for each doctor.\n",
    "- \"Region\" - the current geographical region of the doctor.\n",
    "- \"Category\" - the type of doctor, either 'Specialist' or 'General Practitioner.'\n",
    "- \"Rank\" - is an internal ranking system. It is an ordered variable: The highest level is Ambassadors, followed by Titanium Plus, Titanium, Platinum Plus, Platinum, Gold Plus, Gold, Silver Plus, and the lowest level is Silver.\n",
    "- \"Incidence rate\"  and \"R rate\" - relate to the amount of re-work each doctor generates.\n",
    "- \"Satisfaction\" - measures doctors' satisfaction with the company.\n",
    "- \"Experience\" - relates to the doctor's experience with the company.\n",
    "- \"Purchases\" - purchases over the last year.\n",
    "\n",
    "#### Orders contains details on orders. Each row represents one order; a doctor can place multiple orders.\n",
    "- \"DoctorID\" - doctor id (matches the other tables).\n",
    "- \"OrderID\" - order identifier.\n",
    "- \"OrderNum\" - order number.\n",
    "- \"Conditions A through J\" - map the different settings of the devices in each order. Each order goes to an individual patient.\n",
    "\n",
    "#### Complaints collects information on doctor complaints.\n",
    "- \"DoctorID\" - doctor id (matches the other tables).\n",
    "- \"Complaint Type\" - the company's classification of the complaints.\n",
    "- \"Qty\" - number of complaints per complaint type per doctor.\n",
    "\n",
    "#### Instructions has information on whether the doctor includes special instructions on their orders.\n",
    "- \"DoctorID\" - doctor id (matches the other tables).\n",
    "- \"Instructions\" - 'Yes' when the doctor includes special instructions, 'No' when they do not."
   ]
  },
  {
   "cell_type": "code",
   "execution_count": 1,
   "id": "07ee76ec-6cc0-4cc7-b6ed-eba4feb6ca0b",
   "metadata": {},
   "outputs": [
    {
     "data": {
      "application/com.datacamp.data-table.v1+json": {
       "is_truncated": false,
       "table": {
        "data": [
         {
          "Category": "Specialist",
          "DoctorID": "AHDCBA",
          "Experience": 1.2,
          "Incidence rate": 49,
          "Purchases": 49,
          "R rate": 0.9,
          "Rank": "Ambassador",
          "Region": "4 15",
          "Satisfaction": "53.85",
          "index": 0
         },
         {
          "Category": "General Practitioner",
          "DoctorID": "ABHAHF",
          "Experience": 0,
          "Incidence rate": 37,
          "Purchases": 38,
          "R rate": 0,
          "Rank": "Ambassador",
          "Region": "1 8 T4",
          "Satisfaction": "100.00",
          "index": 1
         },
         {
          "Category": "Specialist",
          "DoctorID": "FDHFJ",
          "Experience": 0,
          "Incidence rate": 33,
          "Purchases": 34,
          "R rate": 1.53,
          "Rank": "Ambassador",
          "Region": "1 9 T4",
          "Satisfaction": "--",
          "index": 2
         },
         {
          "Category": "Specialist",
          "DoctorID": "BJJHCA",
          "Experience": 0.48,
          "Incidence rate": 28,
          "Purchases": 29,
          "R rate": 2.03,
          "Rank": "Ambassador",
          "Region": "1 10 T3",
          "Satisfaction": "--",
          "index": 3
         },
         {
          "Category": "Specialist",
          "DoctorID": "FJBEA",
          "Experience": 0.75,
          "Incidence rate": 23,
          "Purchases": 24,
          "R rate": 0.96,
          "Rank": "Ambassador",
          "Region": "1 14 T4",
          "Satisfaction": "76.79",
          "index": 4
         },
         {
          "Category": "Specialist",
          "DoctorID": "BCJCED",
          "Experience": 0.1,
          "Incidence rate": 19,
          "Purchases": 20,
          "R rate": 1.2,
          "Rank": "Platinum Plus",
          "Region": "1 10",
          "Satisfaction": "-50.00",
          "index": 5
         },
         {
          "Category": "Specialist",
          "DoctorID": "FCGIG",
          "Experience": 0.26,
          "Incidence rate": 18,
          "Purchases": 19,
          "R rate": 1.68,
          "Rank": "Titanium",
          "Region": "1 8 T3",
          "Satisfaction": "--",
          "index": 6
         },
         {
          "Category": "Specialist",
          "DoctorID": "HFIDE",
          "Experience": 0.38,
          "Incidence rate": 15,
          "Purchases": 16,
          "R rate": 1.19,
          "Rank": "Ambassador",
          "Region": "1 11",
          "Satisfaction": "--",
          "index": 7
         },
         {
          "Category": "Specialist",
          "DoctorID": "ICBGB",
          "Experience": 0.25,
          "Incidence rate": 15,
          "Purchases": 16,
          "R rate": 0.81,
          "Rank": "Platinum Plus",
          "Region": "1 12",
          "Satisfaction": "--",
          "index": 8
         },
         {
          "Category": "Specialist",
          "DoctorID": "FCBDC",
          "Experience": 0.07,
          "Incidence rate": 14,
          "Purchases": 14,
          "R rate": 0.07,
          "Rank": "Silver Plus",
          "Region": "2 7 19",
          "Satisfaction": "--",
          "index": 9
         },
         {
          "Category": "Specialist",
          "DoctorID": "HCIEB",
          "Experience": 0,
          "Incidence rate": 14,
          "Purchases": 30,
          "R rate": 1.63,
          "Rank": "Ambassador",
          "Region": "1 19 T4",
          "Satisfaction": "--",
          "index": 10
         },
         {
          "Category": "Specialist",
          "DoctorID": "AADIFG",
          "Experience": 0.47,
          "Incidence rate": 14,
          "Purchases": 45,
          "R rate": 0.22,
          "Rank": "Titanium",
          "Region": "1 10",
          "Satisfaction": "-50.00",
          "index": 11
         },
         {
          "Category": "Specialist",
          "DoctorID": "AICFDG",
          "Experience": 0.53,
          "Incidence rate": 14,
          "Purchases": 15,
          "R rate": 0.87,
          "Rank": "Titanium",
          "Region": "1 11",
          "Satisfaction": "14.29",
          "index": 12
         },
         {
          "Category": "General Practitioner",
          "DoctorID": "BJJGJE",
          "Experience": 0.57,
          "Incidence rate": 14,
          "Purchases": 14,
          "R rate": 0.36,
          "Rank": "Gold",
          "Region": "2 11",
          "Satisfaction": "66.67",
          "index": 13
         },
         {
          "Category": "Specialist",
          "DoctorID": "IFDIB",
          "Experience": 0.14,
          "Incidence rate": 13,
          "Purchases": 14,
          "R rate": 1.29,
          "Rank": "Titanium",
          "Region": "1 19 T3",
          "Satisfaction": "37.50",
          "index": 14
         },
         {
          "Category": "Specialist",
          "DoctorID": "FCDIF",
          "Experience": 0.62,
          "Incidence rate": 12,
          "Purchases": 13,
          "R rate": 0.15,
          "Rank": "Ambassador",
          "Region": "1 11",
          "Satisfaction": "--",
          "index": 15
         },
         {
          "Category": "Specialist",
          "DoctorID": "FDHGC",
          "Experience": 0.62,
          "Incidence rate": 12,
          "Purchases": 13,
          "R rate": 0.85,
          "Rank": "Titanium",
          "Region": "1 14",
          "Satisfaction": "--",
          "index": 16
         },
         {
          "Category": "Specialist",
          "DoctorID": "ADDCAB",
          "Experience": 0.25,
          "Incidence rate": 12,
          "Purchases": 12,
          "R rate": 0.17,
          "Rank": "Platinum Plus",
          "Region": "1 12 T3",
          "Satisfaction": "--",
          "index": 17
         },
         {
          "Category": "Specialist",
          "DoctorID": "BGEEHB",
          "Experience": 0.17,
          "Incidence rate": 12,
          "Purchases": 12,
          "R rate": 0.5,
          "Rank": "Titanium",
          "Region": "1 8 T3",
          "Satisfaction": "--",
          "index": 18
         },
         {
          "Category": "Specialist",
          "DoctorID": "AHIEIG",
          "Experience": 0.3,
          "Incidence rate": 11.33,
          "Purchases": 37,
          "R rate": 1,
          "Rank": "Ambassador",
          "Region": "1 12",
          "Satisfaction": "--",
          "index": 19
         },
         {
          "Category": "Specialist",
          "DoctorID": "FBEIF",
          "Experience": 0.09,
          "Incidence rate": 11,
          "Purchases": 11,
          "R rate": 1,
          "Rank": "Titanium",
          "Region": "1 13 T3",
          "Satisfaction": "100.00",
          "index": 20
         },
         {
          "Category": "General Practitioner",
          "DoctorID": "ACJAIB",
          "Experience": 0.42,
          "Incidence rate": 11,
          "Purchases": 12,
          "R rate": 0,
          "Rank": "Platinum",
          "Region": "1 14",
          "Satisfaction": "--",
          "index": 21
         },
         {
          "Category": "Specialist",
          "DoctorID": "IBIJD",
          "Experience": 1.1,
          "Incidence rate": 10,
          "Purchases": 10,
          "R rate": 0.7,
          "Rank": "Ambassador",
          "Region": "1 14",
          "Satisfaction": "50.00",
          "index": 22
         },
         {
          "Category": "Specialist",
          "DoctorID": "AACHCG",
          "Experience": 0.95,
          "Incidence rate": 10,
          "Purchases": 22,
          "R rate": 1.18,
          "Rank": "Ambassador",
          "Region": "1 11",
          "Satisfaction": "14.71",
          "index": 23
         },
         {
          "Category": "Specialist",
          "DoctorID": "AAHIHJ",
          "Experience": 0.27,
          "Incidence rate": 10,
          "Purchases": 11,
          "R rate": 1.91,
          "Rank": "Platinum Plus",
          "Region": "1 19",
          "Satisfaction": "75.00",
          "index": 24
         },
         {
          "Category": "Specialist",
          "DoctorID": "AEFEAG",
          "Experience": 0,
          "Incidence rate": 10,
          "Purchases": 10,
          "R rate": 1.1,
          "Rank": "Platinum Plus",
          "Region": "1 19 T3",
          "Satisfaction": "--",
          "index": 25
         },
         {
          "Category": "Specialist",
          "DoctorID": "AGICFF",
          "Experience": 0.27,
          "Incidence rate": 10,
          "Purchases": 11,
          "R rate": 1,
          "Rank": "Titanium",
          "Region": "1 21 T3",
          "Satisfaction": "-16.67",
          "index": 26
         },
         {
          "Category": "Specialist",
          "DoctorID": "AHDDAI",
          "Experience": 0.18,
          "Incidence rate": 10,
          "Purchases": 11,
          "R rate": 1.45,
          "Rank": "Titanium",
          "Region": "1 10",
          "Satisfaction": "46.67",
          "index": 27
         },
         {
          "Category": "Specialist",
          "DoctorID": "BDJHBC",
          "Experience": 2.27,
          "Incidence rate": 10,
          "Purchases": 11,
          "R rate": 2.82,
          "Rank": "Platinum Plus",
          "Region": "1 11",
          "Satisfaction": "--",
          "index": 28
         },
         {
          "Category": "Specialist",
          "DoctorID": "FJIGJ",
          "Experience": 0.44,
          "Incidence rate": 9,
          "Purchases": 9,
          "R rate": 0.78,
          "Rank": "Platinum Plus",
          "Region": "1 8 T3",
          "Satisfaction": "81.82",
          "index": 29
         },
         {
          "Category": "Specialist",
          "DoctorID": "FBEHD",
          "Experience": 0.5,
          "Incidence rate": 9,
          "Purchases": 10,
          "R rate": 1.7,
          "Rank": "Gold",
          "Region": "2 7 13",
          "Satisfaction": "--",
          "index": 30
         },
         {
          "Category": "Specialist",
          "DoctorID": "FDAIE",
          "Experience": 1,
          "Incidence rate": 9,
          "Purchases": 9,
          "R rate": 1.67,
          "Rank": "Ambassador",
          "Region": "1 14 T3",
          "Satisfaction": "10.00",
          "index": 31
         },
         {
          "Category": "Specialist",
          "DoctorID": "FDCDH",
          "Experience": 0.4,
          "Incidence rate": 9,
          "Purchases": 30,
          "R rate": 0.5,
          "Rank": "Ambassador",
          "Region": "1 12 T4",
          "Satisfaction": "81.82",
          "index": 32
         },
         {
          "Category": "Specialist",
          "DoctorID": "GHDFB",
          "Experience": 0.11,
          "Incidence rate": 9,
          "Purchases": 9,
          "R rate": 1.11,
          "Rank": "Silver Plus",
          "Region": "1 13",
          "Satisfaction": "-31.58",
          "index": 33
         },
         {
          "Category": "Specialist",
          "DoctorID": "HFDHG",
          "Experience": 0.89,
          "Incidence rate": 9,
          "Purchases": 9,
          "R rate": 1.67,
          "Rank": "Platinum Plus",
          "Region": "1 13 T3",
          "Satisfaction": "--",
          "index": 34
         },
         {
          "Category": "Specialist",
          "DoctorID": "HGBDE",
          "Experience": 0.3,
          "Incidence rate": 9,
          "Purchases": 10,
          "R rate": 0.2,
          "Rank": "Platinum Plus",
          "Region": "1 14 T3",
          "Satisfaction": "--",
          "index": 35
         },
         {
          "Category": "Specialist",
          "DoctorID": "AAFCFD",
          "Experience": 0.7,
          "Incidence rate": 9,
          "Purchases": 10,
          "R rate": 0.3,
          "Rank": "Ambassador",
          "Region": "1 10",
          "Satisfaction": "71.05",
          "index": 36
         },
         {
          "Category": "General Practitioner",
          "DoctorID": "AAIJGC",
          "Experience": 1.44,
          "Incidence rate": 9,
          "Purchases": 9,
          "R rate": 1,
          "Rank": "Titanium",
          "Region": "1 19",
          "Satisfaction": "61.54",
          "index": 37
         },
         {
          "Category": "Specialist",
          "DoctorID": "ABJEAI",
          "Experience": 0.7,
          "Incidence rate": 9,
          "Purchases": 10,
          "R rate": 0.9,
          "Rank": "Ambassador",
          "Region": "1 19",
          "Satisfaction": "-100.00",
          "index": 38
         },
         {
          "Category": "General Practitioner",
          "DoctorID": "ACIEJG",
          "Experience": 0.22,
          "Incidence rate": 9,
          "Purchases": 9,
          "R rate": 0.33,
          "Rank": "Gold Plus",
          "Region": "2 6 13",
          "Satisfaction": "50.00",
          "index": 39
         },
         {
          "Category": "Specialist",
          "DoctorID": "AFFEHI",
          "Experience": 0,
          "Incidence rate": 9,
          "Purchases": 10,
          "R rate": 2.1,
          "Rank": "Titanium",
          "Region": "1 8 T3",
          "Satisfaction": "-41.18",
          "index": 40
         },
         {
          "Category": "Specialist",
          "DoctorID": "AGIIBD",
          "Experience": 0,
          "Incidence rate": 9,
          "Purchases": 9,
          "R rate": 0.67,
          "Rank": "Platinum Plus",
          "Region": "1 14 T3",
          "Satisfaction": "100.00",
          "index": 41
         },
         {
          "Category": "Specialist",
          "DoctorID": "BDFCBA",
          "Experience": 0.3,
          "Incidence rate": 9,
          "Purchases": 10,
          "R rate": 0.5,
          "Rank": "Platinum",
          "Region": "1 12",
          "Satisfaction": "60.00",
          "index": 42
         },
         {
          "Category": "Specialist",
          "DoctorID": "EIGBH",
          "Experience": 0,
          "Incidence rate": 8,
          "Purchases": 8,
          "R rate": 1,
          "Rank": "Gold Plus",
          "Region": "2 7 13",
          "Satisfaction": "--",
          "index": 43
         },
         {
          "Category": "Specialist",
          "DoctorID": "EIHEC",
          "Experience": 0,
          "Incidence rate": 8,
          "Purchases": 9,
          "R rate": 0.56,
          "Rank": "Gold Plus",
          "Region": "2 7 9",
          "Satisfaction": "50.00",
          "index": 44
         },
         {
          "Category": "Specialist",
          "DoctorID": "FAABD",
          "Experience": 0,
          "Incidence rate": 8,
          "Purchases": 9,
          "R rate": 0.89,
          "Rank": "Platinum Plus",
          "Region": "1 13 T3",
          "Satisfaction": "--",
          "index": 45
         },
         {
          "Category": "Specialist",
          "DoctorID": "FBFGD",
          "Experience": 0.13,
          "Incidence rate": 8,
          "Purchases": 8,
          "R rate": 0.5,
          "Rank": "Platinum Plus",
          "Region": "1 14 T3",
          "Satisfaction": "81.82",
          "index": 46
         },
         {
          "Category": "Specialist",
          "DoctorID": "FDDDD",
          "Experience": 0.11,
          "Incidence rate": 8,
          "Purchases": 9,
          "R rate": 1.11,
          "Rank": "Platinum",
          "Region": "1 14",
          "Satisfaction": "--",
          "index": 47
         },
         {
          "Category": "Specialist",
          "DoctorID": "FDDIH",
          "Experience": 0.67,
          "Incidence rate": 8,
          "Purchases": 18,
          "R rate": 1.11,
          "Rank": "Titanium",
          "Region": "1 14 T3",
          "Satisfaction": "31.58",
          "index": 48
         },
         {
          "Category": "Specialist",
          "DoctorID": "GHCGC",
          "Experience": 0,
          "Incidence rate": 8,
          "Purchases": 9,
          "R rate": 1.56,
          "Rank": "Platinum Plus",
          "Region": "1 19 T3",
          "Satisfaction": "0.00",
          "index": 49
         },
         {
          "Category": "Specialist",
          "DoctorID": "HCBFF",
          "Experience": 0.25,
          "Incidence rate": 8,
          "Purchases": 8,
          "R rate": 1.25,
          "Rank": "Platinum Plus",
          "Region": "1 8",
          "Satisfaction": "--",
          "index": 50
         },
         {
          "Category": "Specialist",
          "DoctorID": "HFDHF",
          "Experience": 2.56,
          "Incidence rate": 8,
          "Purchases": 9,
          "R rate": 1.11,
          "Rank": "Platinum",
          "Region": "1 9",
          "Satisfaction": "94.12",
          "index": 51
         },
         {
          "Category": "Specialist",
          "DoctorID": "AADCEC",
          "Experience": 0.25,
          "Incidence rate": 8,
          "Purchases": 8,
          "R rate": 1.88,
          "Rank": "Platinum",
          "Region": "1 19",
          "Satisfaction": "--",
          "index": 52
         },
         {
          "Category": "Specialist",
          "DoctorID": "AAGJEF",
          "Experience": 0.13,
          "Incidence rate": 8,
          "Purchases": 8,
          "R rate": 1.63,
          "Rank": "Platinum",
          "Region": "1 13",
          "Satisfaction": "25.00",
          "index": 53
         },
         {
          "Category": "Specialist",
          "DoctorID": "ACIFIF",
          "Experience": 0.89,
          "Incidence rate": 8,
          "Purchases": 9,
          "R rate": 2.11,
          "Rank": "Platinum Plus",
          "Region": "1 14 T3",
          "Satisfaction": "--",
          "index": 54
         },
         {
          "Category": "Specialist",
          "DoctorID": "ADFIAF",
          "Experience": 1,
          "Incidence rate": 8,
          "Purchases": 9,
          "R rate": 1.11,
          "Rank": "Titanium",
          "Region": "1 9",
          "Satisfaction": "25.00",
          "index": 55
         },
         {
          "Category": "General Practitioner",
          "DoctorID": "AFHBCF",
          "Experience": 0.5,
          "Incidence rate": 8,
          "Purchases": 8,
          "R rate": 0,
          "Rank": "Silver Plus",
          "Region": "2 11",
          "Satisfaction": "100.00",
          "index": 56
         },
         {
          "Category": "Specialist",
          "DoctorID": "AHIHIC",
          "Experience": 0.38,
          "Incidence rate": 8,
          "Purchases": 8,
          "R rate": 1.25,
          "Rank": "Platinum",
          "Region": "1 10",
          "Satisfaction": "--",
          "index": 57
         },
         {
          "Category": "General Practitioner",
          "DoctorID": "BJEIBF",
          "Experience": 0.75,
          "Incidence rate": 8,
          "Purchases": 8,
          "R rate": 1.38,
          "Rank": "Silver Plus",
          "Region": "2 6 9",
          "Satisfaction": "0.00",
          "index": 58
         },
         {
          "Category": "Specialist",
          "DoctorID": "CJIFAA",
          "Experience": 0.5,
          "Incidence rate": 8,
          "Purchases": 8,
          "R rate": 1.13,
          "Rank": "Silver",
          "Region": "2 7 12",
          "Satisfaction": "-25.00",
          "index": 59
         },
         {
          "Category": "Specialist",
          "DoctorID": "CAEBGA",
          "Experience": 0.44,
          "Incidence rate": 8,
          "Purchases": 9,
          "R rate": 0.56,
          "Rank": "Platinum",
          "Region": "1 12",
          "Satisfaction": "-50.00",
          "index": 60
         },
         {
          "Category": "Specialist",
          "DoctorID": "FBIGI",
          "Experience": 0.53,
          "Incidence rate": 7.5,
          "Purchases": 17,
          "R rate": 2.65,
          "Rank": "Ambassador",
          "Region": "1 9",
          "Satisfaction": "3.45",
          "index": 61
         },
         {
          "Category": "Specialist",
          "DoctorID": "EHHFF",
          "Experience": 0.14,
          "Incidence rate": 7,
          "Purchases": 7,
          "R rate": 1,
          "Rank": "Titanium",
          "Region": "1 8 T3",
          "Satisfaction": "--",
          "index": 62
         },
         {
          "Category": "Specialist",
          "DoctorID": "EIDID",
          "Experience": 1.25,
          "Incidence rate": 7,
          "Purchases": 8,
          "R rate": 0.88,
          "Rank": "Ambassador",
          "Region": "1 19",
          "Satisfaction": "--",
          "index": 63
         },
         {
          "Category": "Specialist",
          "DoctorID": "EIFHE",
          "Experience": 0.63,
          "Incidence rate": 7,
          "Purchases": 8,
          "R rate": 1.5,
          "Rank": "Ambassador",
          "Region": "1 21 T3",
          "Satisfaction": "--",
          "index": 64
         },
         {
          "Category": "Specialist",
          "DoctorID": "FJGAH",
          "Experience": 0.14,
          "Incidence rate": 7,
          "Purchases": 7,
          "R rate": 0.86,
          "Rank": "Platinum Plus",
          "Region": "1 13 T3",
          "Satisfaction": "53.85",
          "index": 65
         },
         {
          "Category": "Specialist",
          "DoctorID": "FBHIB",
          "Experience": 0.14,
          "Incidence rate": 7,
          "Purchases": 7,
          "R rate": 0.86,
          "Rank": "Titanium",
          "Region": "1 10 T3",
          "Satisfaction": "--",
          "index": 66
         },
         {
          "Category": "Specialist",
          "DoctorID": "FCJCC",
          "Experience": 0.13,
          "Incidence rate": 7,
          "Purchases": 16,
          "R rate": 1.69,
          "Rank": "Ambassador",
          "Region": "1 9 T4",
          "Satisfaction": "--",
          "index": 67
         },
         {
          "Category": "Specialist",
          "DoctorID": "FCJHJ",
          "Experience": 0.13,
          "Incidence rate": 7,
          "Purchases": 8,
          "R rate": 0.38,
          "Rank": "Platinum Plus",
          "Region": "1 13 T3",
          "Satisfaction": "--",
          "index": 68
         },
         {
          "Category": "Specialist",
          "DoctorID": "FCBIJ",
          "Experience": 0.25,
          "Incidence rate": 7,
          "Purchases": 8,
          "R rate": 1.13,
          "Rank": "Platinum",
          "Region": "1 9",
          "Satisfaction": "12.50",
          "index": 69
         },
         {
          "Category": "Specialist",
          "DoctorID": "FDIJG",
          "Experience": 0.14,
          "Incidence rate": 7,
          "Purchases": 7,
          "R rate": 1.14,
          "Rank": "Platinum",
          "Region": "1 8",
          "Satisfaction": "--",
          "index": 70
         },
         {
          "Category": "Specialist",
          "DoctorID": "GDAHJ",
          "Experience": 1.19,
          "Incidence rate": 7,
          "Purchases": 16,
          "R rate": 1.13,
          "Rank": "Platinum",
          "Region": "1 14",
          "Satisfaction": "23.81",
          "index": 71
         },
         {
          "Category": "Specialist",
          "DoctorID": "HBIGG",
          "Experience": 0,
          "Incidence rate": 7,
          "Purchases": 8,
          "R rate": 1.63,
          "Rank": "Platinum Plus",
          "Region": "1 13 T3",
          "Satisfaction": "68.75",
          "index": 72
         },
         {
          "Category": "Specialist",
          "DoctorID": "HDFJH",
          "Experience": 0.5,
          "Incidence rate": 7,
          "Purchases": 8,
          "R rate": 1,
          "Rank": "Ambassador",
          "Region": "1 14",
          "Satisfaction": "17.65",
          "index": 73
         },
         {
          "Category": "General Practitioner",
          "DoctorID": "ABIGFJ",
          "Experience": 0.29,
          "Incidence rate": 7,
          "Purchases": 7,
          "R rate": 0,
          "Rank": "Platinum",
          "Region": "1 19",
          "Satisfaction": "--",
          "index": 74
         },
         {
          "Category": "General Practitioner",
          "DoctorID": "ACJHIA",
          "Experience": 1,
          "Incidence rate": 7,
          "Purchases": 7,
          "R rate": 3.57,
          "Rank": "Silver",
          "Region": "2 6 9",
          "Satisfaction": "-50.00",
          "index": 75
         },
         {
          "Category": "Specialist",
          "DoctorID": "ACCBHF",
          "Experience": 0.43,
          "Incidence rate": 7,
          "Purchases": 7,
          "R rate": 1,
          "Rank": "Platinum",
          "Region": "1 13",
          "Satisfaction": "--",
          "index": 76
         },
         {
          "Category": "Specialist",
          "DoctorID": "ACGACH",
          "Experience": 0.29,
          "Incidence rate": 7,
          "Purchases": 7,
          "R rate": 0.71,
          "Rank": "Ambassador",
          "Region": "1 14",
          "Satisfaction": "--",
          "index": 77
         },
         {
          "Category": "General Practitioner",
          "DoctorID": "ADJIHG",
          "Experience": 0.71,
          "Incidence rate": 7,
          "Purchases": 7,
          "R rate": 0.14,
          "Rank": "Silver Plus",
          "Region": "17",
          "Satisfaction": "--",
          "index": 78
         },
         {
          "Category": "Specialist",
          "DoctorID": "AHAHIB",
          "Experience": 0.88,
          "Incidence rate": 7,
          "Purchases": 8,
          "R rate": 1.25,
          "Rank": "Platinum Plus",
          "Region": "1 14 T3",
          "Satisfaction": "100.00",
          "index": 79
         },
         {
          "Category": "Specialist",
          "DoctorID": "AIBJAH",
          "Experience": 0.13,
          "Incidence rate": 7,
          "Purchases": 8,
          "R rate": 1.5,
          "Rank": "Ambassador",
          "Region": "1 19",
          "Satisfaction": "55.10",
          "index": 80
         },
         {
          "Category": "Specialist",
          "DoctorID": "BADGEJ",
          "Experience": 0.71,
          "Incidence rate": 7,
          "Purchases": 7,
          "R rate": 0.14,
          "Rank": "Platinum",
          "Region": "1 14",
          "Satisfaction": "-100.00",
          "index": 81
         },
         {
          "Category": "Specialist",
          "DoctorID": "CCCBCE",
          "Experience": 0.14,
          "Incidence rate": 7,
          "Purchases": 7,
          "R rate": 1.29,
          "Rank": "Titanium",
          "Region": "1 14 T3",
          "Satisfaction": "--",
          "index": 82
         },
         {
          "Category": "Specialist",
          "DoctorID": "HDBEF",
          "Experience": 0.47,
          "Incidence rate": 6.6,
          "Purchases": 38,
          "R rate": 1.13,
          "Rank": "Ambassador",
          "Region": "1 14 T4",
          "Satisfaction": "-13.33",
          "index": 83
         },
         {
          "Category": "Specialist",
          "DoctorID": "BABGJG",
          "Experience": 0.83,
          "Incidence rate": 6.55,
          "Purchases": 83,
          "R rate": 1.05,
          "Rank": "Ambassador",
          "Region": "1 8",
          "Satisfaction": "100.00",
          "index": 84
         },
         {
          "Category": "Specialist",
          "DoctorID": "FBIHE",
          "Experience": 0.04,
          "Incidence rate": 6.5,
          "Purchases": 45,
          "R rate": 1.24,
          "Rank": "Ambassador",
          "Region": "1 19 T4",
          "Satisfaction": "100.00",
          "index": 85
         },
         {
          "Category": "Specialist",
          "DoctorID": "FBIII",
          "Experience": 0,
          "Incidence rate": 6.5,
          "Purchases": 15,
          "R rate": 0.73,
          "Rank": "Ambassador",
          "Region": "1 8 T4",
          "Satisfaction": "100.00",
          "index": 86
         },
         {
          "Category": "Specialist",
          "DoctorID": "ACBGIB",
          "Experience": 0.17,
          "Incidence rate": 6.5,
          "Purchases": 30,
          "R rate": 0.37,
          "Rank": "Titanium",
          "Region": "1 13 T3",
          "Satisfaction": "--",
          "index": 87
         },
         {
          "Category": "General Practitioner",
          "DoctorID": "AICHFJ",
          "Experience": 1.07,
          "Incidence rate": 6.5,
          "Purchases": 15,
          "R rate": 1.87,
          "Rank": "Titanium",
          "Region": "1 14",
          "Satisfaction": "40.00",
          "index": 88
         },
         {
          "Category": "Specialist",
          "DoctorID": "EIEJB",
          "Experience": 1.17,
          "Incidence rate": 6,
          "Purchases": 6,
          "R rate": 1.83,
          "Rank": "Platinum",
          "Region": "1 19",
          "Satisfaction": "56.25",
          "index": 89
         },
         {
          "Category": "Specialist",
          "DoctorID": "EIHDC",
          "Experience": 0.5,
          "Incidence rate": 6,
          "Purchases": 6,
          "R rate": 0.67,
          "Rank": "Platinum",
          "Region": "1 13",
          "Satisfaction": "66.67",
          "index": 90
         },
         {
          "Category": "Specialist",
          "DoctorID": "FJJHH",
          "Experience": 0.17,
          "Incidence rate": 6,
          "Purchases": 6,
          "R rate": 1.17,
          "Rank": "Gold Plus",
          "Region": "1 8",
          "Satisfaction": "28.57",
          "index": 91
         },
         {
          "Category": "Specialist",
          "DoctorID": "FADGD",
          "Experience": 0.67,
          "Incidence rate": 6,
          "Purchases": 6,
          "R rate": 1,
          "Rank": "Ambassador",
          "Region": "1 14 T4",
          "Satisfaction": "--",
          "index": 92
         },
         {
          "Category": "Specialist",
          "DoctorID": "FAFIH",
          "Experience": 0.14,
          "Incidence rate": 6,
          "Purchases": 21,
          "R rate": 0.33,
          "Rank": "Titanium",
          "Region": "1 12",
          "Satisfaction": "50.00",
          "index": 93
         },
         {
          "Category": "Specialist",
          "DoctorID": "FBAHD",
          "Experience": 0.62,
          "Incidence rate": 6,
          "Purchases": 21,
          "R rate": 1.19,
          "Rank": "Ambassador",
          "Region": "1 19",
          "Satisfaction": "-100.00",
          "index": 94
         },
         {
          "Category": "Specialist",
          "DoctorID": "FBFJB",
          "Experience": 0.29,
          "Incidence rate": 6,
          "Purchases": 7,
          "R rate": 1.29,
          "Rank": "Gold Plus",
          "Region": "2 7 13",
          "Satisfaction": "--",
          "index": 95
         },
         {
          "Category": "Specialist",
          "DoctorID": "FDDJI",
          "Experience": 2.07,
          "Incidence rate": 6,
          "Purchases": 14,
          "R rate": 1.07,
          "Rank": "Titanium",
          "Region": "1 9 T3",
          "Satisfaction": "--",
          "index": 96
         },
         {
          "Category": "Specialist",
          "DoctorID": "FDEAE",
          "Experience": 1.29,
          "Incidence rate": 6,
          "Purchases": 7,
          "R rate": 1.57,
          "Rank": "Platinum",
          "Region": "1 9",
          "Satisfaction": "100.00",
          "index": 97
         },
         {
          "Category": "Specialist",
          "DoctorID": "HBFAA",
          "Experience": 0.14,
          "Incidence rate": 6,
          "Purchases": 7,
          "R rate": 1,
          "Rank": "Platinum Plus",
          "Region": "1 19 T3",
          "Satisfaction": "50.00",
          "index": 98
         },
         {
          "Category": "General Practitioner",
          "DoctorID": "ABFBHC",
          "Experience": 0,
          "Incidence rate": 6,
          "Purchases": 6,
          "R rate": 0,
          "Rank": "Silver Plus",
          "Region": "2 6 8",
          "Satisfaction": "--",
          "index": 99
         },
         {
          "Category": "Specialist",
          "DoctorID": "ABHBED",
          "Experience": 0.29,
          "Incidence rate": 6,
          "Purchases": 21,
          "R rate": 1.14,
          "Rank": "Ambassador",
          "Region": "1 19 T4",
          "Satisfaction": "5.26",
          "index": 100
         },
         {
          "Category": "General Practitioner",
          "DoctorID": "ADIDAJ",
          "Experience": 1.57,
          "Incidence rate": 6,
          "Purchases": 7,
          "R rate": 2,
          "Rank": "Platinum",
          "Region": "1 13",
          "Satisfaction": "--",
          "index": 101
         },
         {
          "Category": "Specialist",
          "DoctorID": "ADIEIF",
          "Experience": 0,
          "Incidence rate": 6,
          "Purchases": 6,
          "R rate": 0.5,
          "Rank": "Silver",
          "Region": "1 19",
          "Satisfaction": "0.00",
          "index": 102
         },
         {
          "Category": "Specialist",
          "DoctorID": "AFEHDF",
          "Experience": 0.07,
          "Incidence rate": 6,
          "Purchases": 14,
          "R rate": 0.86,
          "Rank": "Ambassador",
          "Region": "1 8 T4",
          "Satisfaction": "50.00",
          "index": 103
         },
         {
          "Category": "Specialist",
          "DoctorID": "AHHHEC",
          "Experience": 0.36,
          "Incidence rate": 6,
          "Purchases": 14,
          "R rate": 1.21,
          "Rank": "Titanium",
          "Region": "1 12",
          "Satisfaction": "60.00",
          "index": 104
         },
         {
          "Category": "Specialist",
          "DoctorID": "AIBJGI",
          "Experience": 0.21,
          "Incidence rate": 6,
          "Purchases": 14,
          "R rate": 1.86,
          "Rank": "Ambassador",
          "Region": "1 8",
          "Satisfaction": "--",
          "index": 105
         },
         {
          "Category": "General Practitioner",
          "DoctorID": "AIEDED",
          "Experience": 0.57,
          "Incidence rate": 6,
          "Purchases": 7,
          "R rate": 0.57,
          "Rank": "Titanium",
          "Region": "1 9",
          "Satisfaction": "-100.00",
          "index": 106
         },
         {
          "Category": "Specialist",
          "DoctorID": "BJCHAD",
          "Experience": 0.17,
          "Incidence rate": 6,
          "Purchases": 6,
          "R rate": 2.33,
          "Rank": "Platinum Plus",
          "Region": "1 10 T3",
          "Satisfaction": "--",
          "index": 107
         },
         {
          "Category": "Specialist",
          "DoctorID": "BJGJBI",
          "Experience": 0,
          "Incidence rate": 6,
          "Purchases": 6,
          "R rate": 0.83,
          "Rank": "Titanium",
          "Region": "1 4CP",
          "Satisfaction": "36.36",
          "index": 108
         },
         {
          "Category": "Specialist",
          "DoctorID": "BABEFH",
          "Experience": 0.57,
          "Incidence rate": 6,
          "Purchases": 7,
          "R rate": 1.29,
          "Rank": "Platinum",
          "Region": "1 13",
          "Satisfaction": "--",
          "index": 109
         },
         {
          "Category": "Specialist",
          "DoctorID": "BBAHCA",
          "Experience": 1.43,
          "Incidence rate": 6,
          "Purchases": 7,
          "R rate": 3.14,
          "Rank": null,
          "Region": "5 18",
          "Satisfaction": "--",
          "index": 110
         },
         {
          "Category": "Specialist",
          "DoctorID": "BBGEDE",
          "Experience": 0,
          "Incidence rate": 6,
          "Purchases": 7,
          "R rate": 1.29,
          "Rank": "Platinum Plus",
          "Region": "1 9 T3",
          "Satisfaction": "--",
          "index": 111
         },
         {
          "Category": "General Practitioner",
          "DoctorID": "BBGFGA",
          "Experience": 0.43,
          "Incidence rate": 6,
          "Purchases": 7,
          "R rate": 1.71,
          "Rank": "Gold",
          "Region": "2 11",
          "Satisfaction": "--",
          "index": 112
         },
         {
          "Category": "Specialist",
          "DoctorID": "BCGHCF",
          "Experience": 0.71,
          "Incidence rate": 6,
          "Purchases": 7,
          "R rate": 0.86,
          "Rank": "Silver Plus",
          "Region": "2 7 12",
          "Satisfaction": "--",
          "index": 113
         },
         {
          "Category": "Specialist",
          "DoctorID": "CAGHHC",
          "Experience": 0.43,
          "Incidence rate": 6,
          "Purchases": 7,
          "R rate": 1.57,
          "Rank": "Titanium",
          "Region": "1 13 T3",
          "Satisfaction": "--",
          "index": 114
         },
         {
          "Category": "Specialist",
          "DoctorID": "BJDEHJ",
          "Experience": 0.48,
          "Incidence rate": 5.75,
          "Purchases": 27,
          "R rate": 0.26,
          "Rank": "Titanium",
          "Region": "1 12 T3",
          "Satisfaction": "100.00",
          "index": 115
         },
         {
          "Category": "Specialist",
          "DoctorID": "AAAEAH",
          "Experience": 1.3,
          "Incidence rate": 5.67,
          "Purchases": 20,
          "R rate": 1.4,
          "Rank": "Ambassador",
          "Region": "1 19",
          "Satisfaction": "100.00",
          "index": 116
         },
         {
          "Category": "Specialist",
          "DoctorID": "ADGGJB",
          "Experience": 0.85,
          "Incidence rate": 5.5,
          "Purchases": 13,
          "R rate": 0.77,
          "Rank": "Platinum Plus",
          "Region": "1 12",
          "Satisfaction": "-83.33",
          "index": 117
         },
         {
          "Category": "Specialist",
          "DoctorID": "AGEHHD",
          "Experience": 0.92,
          "Incidence rate": 5.5,
          "Purchases": 13,
          "R rate": 2,
          "Rank": "Titanium",
          "Region": "1 12",
          "Satisfaction": "--",
          "index": 118
         },
         {
          "Category": "General Practitioner",
          "DoctorID": "BJDGBB",
          "Experience": 0,
          "Incidence rate": 5.25,
          "Purchases": 25,
          "R rate": 0.8,
          "Rank": "Ambassador",
          "Region": "1 19 T4",
          "Satisfaction": "--",
          "index": 119
         },
         {
          "Category": "Specialist",
          "DoctorID": "EHEEI",
          "Experience": 0.8,
          "Incidence rate": 5,
          "Purchases": 5,
          "R rate": 1.8,
          "Rank": "Platinum",
          "Region": "4 15",
          "Satisfaction": "--",
          "index": 120
         },
         {
          "Category": "Specialist",
          "DoctorID": "EIDFF",
          "Experience": 0.67,
          "Incidence rate": 5,
          "Purchases": 6,
          "R rate": 1.5,
          "Rank": "Titanium",
          "Region": "1 9 T3",
          "Satisfaction": "55.17",
          "index": 121
         },
         {
          "Category": "Specialist",
          "DoctorID": "EIDGE",
          "Experience": 0.83,
          "Incidence rate": 5,
          "Purchases": 6,
          "R rate": 1,
          "Rank": "Gold",
          "Region": "22 18",
          "Satisfaction": "--",
          "index": 122
         },
         {
          "Category": "Specialist",
          "DoctorID": "FJGBD",
          "Experience": 2,
          "Incidence rate": 5,
          "Purchases": 6,
          "R rate": 1.33,
          "Rank": "Ambassador",
          "Region": "1 11",
          "Satisfaction": "-100.00",
          "index": 123
         },
         {
          "Category": "Specialist",
          "DoctorID": "FAJIB",
          "Experience": 0.6,
          "Incidence rate": 5,
          "Purchases": 5,
          "R rate": 1.6,
          "Rank": "Titanium",
          "Region": "1 8",
          "Satisfaction": "83.33",
          "index": 124
         },
         {
          "Category": "Specialist",
          "DoctorID": "FAIEE",
          "Experience": 0.83,
          "Incidence rate": 5,
          "Purchases": 6,
          "R rate": 1.83,
          "Rank": "Platinum Plus",
          "Region": "1 19",
          "Satisfaction": "71.43",
          "index": 125
         },
         {
          "Category": "Specialist",
          "DoctorID": "FBCAF",
          "Experience": 0,
          "Incidence rate": 5,
          "Purchases": 5,
          "R rate": 0.6,
          "Rank": "Platinum",
          "Region": "1 8",
          "Satisfaction": "66.67",
          "index": 126
         },
         {
          "Category": "Specialist",
          "DoctorID": "FBGCC",
          "Experience": 0.17,
          "Incidence rate": 5,
          "Purchases": 6,
          "R rate": 2,
          "Rank": "Gold Plus",
          "Region": "2 7 8",
          "Satisfaction": "--",
          "index": 127
         },
         {
          "Category": "Specialist",
          "DoctorID": "FCBDH",
          "Experience": 0.6,
          "Incidence rate": 5,
          "Purchases": 5,
          "R rate": 2.2,
          "Rank": "Platinum",
          "Region": "1 14",
          "Satisfaction": "58.33",
          "index": 128
         },
         {
          "Category": "Specialist",
          "DoctorID": "FCIJH",
          "Experience": 1.4,
          "Incidence rate": 5,
          "Purchases": 5,
          "R rate": 1.6,
          "Rank": "Platinum",
          "Region": "1 14",
          "Satisfaction": "100.00",
          "index": 129
         },
         {
          "Category": "Specialist",
          "DoctorID": "FDJBB",
          "Experience": 0.5,
          "Incidence rate": 5,
          "Purchases": 6,
          "R rate": 0.17,
          "Rank": "Titanium",
          "Region": "1 8",
          "Satisfaction": "--",
          "index": 130
         },
         {
          "Category": "Specialist",
          "DoctorID": "FDDAA",
          "Experience": 0.83,
          "Incidence rate": 5,
          "Purchases": 6,
          "R rate": 1,
          "Rank": "Titanium",
          "Region": "1 9",
          "Satisfaction": "-17.39",
          "index": 131
         },
         {
          "Category": "Specialist",
          "DoctorID": "FDDHC",
          "Experience": 0,
          "Incidence rate": 5,
          "Purchases": 5,
          "R rate": 0.2,
          "Rank": "Gold Plus",
          "Region": "1 9",
          "Satisfaction": "-66.67",
          "index": 132
         },
         {
          "Category": "Specialist",
          "DoctorID": "FDFAC",
          "Experience": 0.92,
          "Incidence rate": 5,
          "Purchases": 12,
          "R rate": 0.75,
          "Rank": "Ambassador",
          "Region": "1 13",
          "Satisfaction": "0.00",
          "index": 133
         },
         {
          "Category": "Specialist",
          "DoctorID": "GHFHE",
          "Experience": 0.4,
          "Incidence rate": 5,
          "Purchases": 5,
          "R rate": 2,
          "Rank": "Titanium",
          "Region": "1 9 T3",
          "Satisfaction": "100.00",
          "index": 134
         },
         {
          "Category": "Specialist",
          "DoctorID": "HBAHA",
          "Experience": 0.8,
          "Incidence rate": 5,
          "Purchases": 5,
          "R rate": 2.2,
          "Rank": "Platinum Plus",
          "Region": "1 10 T3",
          "Satisfaction": "97.73",
          "index": 135
         },
         {
          "Category": "Specialist",
          "DoctorID": "HCDJF",
          "Experience": 0.8,
          "Incidence rate": 5,
          "Purchases": 5,
          "R rate": 1.2,
          "Rank": "Silver Plus",
          "Region": "2 7 19",
          "Satisfaction": "--",
          "index": 136
         },
         {
          "Category": "General Practitioner",
          "DoctorID": "AJFCDH",
          "Experience": 0.17,
          "Incidence rate": 5,
          "Purchases": 6,
          "R rate": 0.33,
          "Rank": "Titanium",
          "Region": "1 13",
          "Satisfaction": "100.00",
          "index": 137
         },
         {
          "Category": "Specialist",
          "DoctorID": "AABBEB",
          "Experience": 0,
          "Incidence rate": 5,
          "Purchases": 5,
          "R rate": 1.2,
          "Rank": "Platinum",
          "Region": "1 14",
          "Satisfaction": "-100.00",
          "index": 138
         },
         {
          "Category": "General Practitioner",
          "DoctorID": "AAGHII",
          "Experience": 2.5,
          "Incidence rate": 5,
          "Purchases": 6,
          "R rate": 0.17,
          "Rank": "Titanium",
          "Region": "1 9",
          "Satisfaction": "-12.50",
          "index": 139
         },
         {
          "Category": "General Practitioner",
          "DoctorID": "ABAIEG",
          "Experience": 0.8,
          "Incidence rate": 5,
          "Purchases": 5,
          "R rate": 2.6,
          "Rank": "Gold",
          "Region": "1 11",
          "Satisfaction": "75.00",
          "index": 140
         },
         {
          "Category": "General Practitioner",
          "DoctorID": "ABDHHI",
          "Experience": 0,
          "Incidence rate": 5,
          "Purchases": 5,
          "R rate": 0.6,
          "Rank": "Gold Plus",
          "Region": "2 6 13",
          "Satisfaction": "--",
          "index": 141
         },
         {
          "Category": "Specialist",
          "DoctorID": "ACBBCA",
          "Experience": 0.28,
          "Incidence rate": 5,
          "Purchases": 18,
          "R rate": 0.72,
          "Rank": "Ambassador",
          "Region": "1 9",
          "Satisfaction": "93.55",
          "index": 142
         },
         {
          "Category": "Specialist",
          "DoctorID": "ACBBGF",
          "Experience": 1.25,
          "Incidence rate": 5,
          "Purchases": 12,
          "R rate": 1,
          "Rank": "Titanium",
          "Region": "1 13",
          "Satisfaction": "--",
          "index": 143
         },
         {
          "Category": "Specialist",
          "DoctorID": "ADFIEI",
          "Experience": 0.33,
          "Incidence rate": 5,
          "Purchases": 6,
          "R rate": 1.17,
          "Rank": "Platinum",
          "Region": "1 14",
          "Satisfaction": "--",
          "index": 144
         },
         {
          "Category": "General Practitioner",
          "DoctorID": "AEGFAA",
          "Experience": 1,
          "Incidence rate": 5,
          "Purchases": 6,
          "R rate": 0.33,
          "Rank": "Platinum",
          "Region": "1 12",
          "Satisfaction": "-6.67",
          "index": 145
         },
         {
          "Category": "Specialist",
          "DoctorID": "AFCADC",
          "Experience": 0,
          "Incidence rate": 5,
          "Purchases": 5,
          "R rate": 1,
          "Rank": "Platinum",
          "Region": "1 10",
          "Satisfaction": "--",
          "index": 146
         },
         {
          "Category": "Specialist",
          "DoctorID": "AFCGAH",
          "Experience": 0.4,
          "Incidence rate": 5,
          "Purchases": 5,
          "R rate": 0.4,
          "Rank": "Ambassador",
          "Region": "1 14",
          "Satisfaction": "--",
          "index": 147
         },
         {
          "Category": "General Practitioner",
          "DoctorID": "AGBHAC",
          "Experience": 0,
          "Incidence rate": 5,
          "Purchases": 12,
          "R rate": 0.67,
          "Rank": "Ambassador",
          "Region": "1 11",
          "Satisfaction": "100.00",
          "index": 148
         },
         {
          "Category": "Specialist",
          "DoctorID": "AHEBBE",
          "Experience": 0.17,
          "Incidence rate": 5,
          "Purchases": 6,
          "R rate": 0.33,
          "Rank": "Gold Plus",
          "Region": "2 7 12",
          "Satisfaction": "--",
          "index": 149
         },
         {
          "Category": "Specialist",
          "DoctorID": "AIDHHG",
          "Experience": 0,
          "Incidence rate": 5,
          "Purchases": 6,
          "R rate": 0.83,
          "Rank": "Gold Plus",
          "Region": "1 13",
          "Satisfaction": "--",
          "index": 150
         },
         {
          "Category": "Specialist",
          "DoctorID": "BJCEID",
          "Experience": 0.2,
          "Incidence rate": 5,
          "Purchases": 5,
          "R rate": 1,
          "Rank": "Ambassador",
          "Region": "1 8",
          "Satisfaction": "-50.00",
          "index": 151
         },
         {
          "Category": "Specialist",
          "DoctorID": "BACHDJ",
          "Experience": 0.5,
          "Incidence rate": 5,
          "Purchases": 6,
          "R rate": 1.17,
          "Rank": "Ambassador",
          "Region": "1 11",
          "Satisfaction": "100.00",
          "index": 152
         },
         {
          "Category": "General Practitioner",
          "DoctorID": "BBCHEH",
          "Experience": 0.4,
          "Incidence rate": 5,
          "Purchases": 5,
          "R rate": 2.2,
          "Rank": "Platinum Plus",
          "Region": "1 9",
          "Satisfaction": "-75.00",
          "index": 153
         },
         {
          "Category": "Specialist",
          "DoctorID": "BCECCB",
          "Experience": 0,
          "Incidence rate": 5,
          "Purchases": 6,
          "R rate": 1.5,
          "Rank": "Gold Plus",
          "Region": "1 11",
          "Satisfaction": "--",
          "index": 154
         },
         {
          "Category": "Specialist",
          "DoctorID": "BCGFDD",
          "Experience": 0.2,
          "Incidence rate": 5,
          "Purchases": 5,
          "R rate": 0.2,
          "Rank": "Platinum Plus",
          "Region": "1 8 T3",
          "Satisfaction": "--",
          "index": 155
         },
         {
          "Category": "General Practitioner",
          "DoctorID": "BCHIGJ",
          "Experience": 1.2,
          "Incidence rate": 5,
          "Purchases": 5,
          "R rate": 0,
          "Rank": "Silver Plus",
          "Region": "2 6 10",
          "Satisfaction": "100.00",
          "index": 156
         },
         {
          "Category": "Specialist",
          "DoctorID": "BDAIBI",
          "Experience": 0.2,
          "Incidence rate": 5,
          "Purchases": 5,
          "R rate": 1,
          "Rank": "Platinum",
          "Region": "1 14",
          "Satisfaction": "--",
          "index": 157
         },
         {
          "Category": "Specialist",
          "DoctorID": "BHIJBJ",
          "Experience": 0.8,
          "Incidence rate": 5,
          "Purchases": 5,
          "R rate": 2.2,
          "Rank": "Gold Plus",
          "Region": "2 7 14",
          "Satisfaction": "--",
          "index": 158
         },
         {
          "Category": "Specialist",
          "DoctorID": "CCAGCF",
          "Experience": 0.2,
          "Incidence rate": 5,
          "Purchases": 5,
          "R rate": 0.8,
          "Rank": "Gold Plus",
          "Region": "2 7 19",
          "Satisfaction": "-20.00",
          "index": 159
         },
         {
          "Category": "Specialist",
          "DoctorID": "AGEAHA",
          "Experience": 0.61,
          "Incidence rate": 4.75,
          "Purchases": 23,
          "R rate": 0,
          "Rank": "Gold Plus",
          "Region": "1 9",
          "Satisfaction": "100.00",
          "index": 160
         },
         {
          "Category": "Specialist",
          "DoctorID": "FAFEG",
          "Experience": 0.64,
          "Incidence rate": 4.5,
          "Purchases": 11,
          "R rate": 1.82,
          "Rank": "Gold Plus",
          "Region": "22 18",
          "Satisfaction": "89.47",
          "index": 161
         },
         {
          "Category": "Specialist",
          "DoctorID": "FAICB",
          "Experience": 0.76,
          "Incidence rate": 4.5,
          "Purchases": 33,
          "R rate": 0.97,
          "Rank": "Ambassador",
          "Region": "1 19",
          "Satisfaction": "--",
          "index": 162
         },
         {
          "Category": "Specialist",
          "DoctorID": "HJCDC",
          "Experience": 0.09,
          "Incidence rate": 4.5,
          "Purchases": 11,
          "R rate": 0.73,
          "Rank": "Titanium",
          "Region": "1 8 T3",
          "Satisfaction": "--",
          "index": 163
         },
         {
          "Category": "Specialist",
          "DoctorID": "HJDFA",
          "Experience": 0.36,
          "Incidence rate": 4.5,
          "Purchases": 44,
          "R rate": 1.14,
          "Rank": "Ambassador",
          "Region": "1 9",
          "Satisfaction": "-33.33",
          "index": 164
         },
         {
          "Category": "Specialist",
          "DoctorID": "AAEIEG",
          "Experience": 0.18,
          "Incidence rate": 4.5,
          "Purchases": 11,
          "R rate": 1.64,
          "Rank": "Titanium",
          "Region": "1 8 T3",
          "Satisfaction": "-50.00",
          "index": 165
         },
         {
          "Category": "Specialist",
          "DoctorID": "GDGFF",
          "Experience": 0.7,
          "Incidence rate": 4.4,
          "Purchases": 27,
          "R rate": 1.15,
          "Rank": "Titanium",
          "Region": "1 14 T3",
          "Satisfaction": "7.14",
          "index": 166
         },
         {
          "Category": "Specialist",
          "DoctorID": "ABCGFA",
          "Experience": 1,
          "Incidence rate": 4.4,
          "Purchases": 27,
          "R rate": 0.19,
          "Rank": "Ambassador",
          "Region": "1 12",
          "Satisfaction": "--",
          "index": 167
         },
         {
          "Category": "General Practitioner",
          "DoctorID": "AFDEJE",
          "Experience": 0.81,
          "Incidence rate": 4.33,
          "Purchases": 16,
          "R rate": 0.69,
          "Rank": "Ambassador",
          "Region": "1 10",
          "Satisfaction": "-29.41",
          "index": 168
         },
         {
          "Category": "Specialist",
          "DoctorID": "BGAHGD",
          "Experience": 0,
          "Incidence rate": 4.33,
          "Purchases": 16,
          "R rate": 0.63,
          "Rank": "Titanium",
          "Region": "1 9 T3",
          "Satisfaction": "--",
          "index": 169
         },
         {
          "Category": "Specialist",
          "DoctorID": "HIFAE",
          "Experience": 0.35,
          "Incidence rate": 4.2,
          "Purchases": 26,
          "R rate": 0.23,
          "Rank": "Ambassador",
          "Region": "1 9",
          "Satisfaction": "--",
          "index": 170
         },
         {
          "Category": "Specialist",
          "DoctorID": "HCHIJ",
          "Experience": 0.02,
          "Incidence rate": 4.1,
          "Purchases": 51,
          "R rate": 0.82,
          "Rank": "Ambassador",
          "Region": "1 9 T4",
          "Satisfaction": "33.33",
          "index": 171
         },
         {
          "Category": "Specialist",
          "DoctorID": "EHECC",
          "Experience": 0.25,
          "Incidence rate": 4,
          "Purchases": 4,
          "R rate": 1.25,
          "Rank": "Gold Plus",
          "Region": "2 7 14",
          "Satisfaction": "--",
          "index": 172
         },
         {
          "Category": "Specialist",
          "DoctorID": "EIJGE",
          "Experience": 0.7,
          "Incidence rate": 4,
          "Purchases": 20,
          "R rate": 1.3,
          "Rank": "Ambassador",
          "Region": "1 19",
          "Satisfaction": "--",
          "index": 173
         },
         {
          "Category": "Specialist",
          "DoctorID": "EICEC",
          "Experience": 1.25,
          "Incidence rate": 4,
          "Purchases": 4,
          "R rate": 0.75,
          "Rank": "Gold Plus",
          "Region": "1 13",
          "Satisfaction": "94.44",
          "index": 174
         },
         {
          "Category": "Specialist",
          "DoctorID": "EIFEG",
          "Experience": 0,
          "Incidence rate": 4,
          "Purchases": 5,
          "R rate": 0.2,
          "Rank": "Silver Plus",
          "Region": "2 7 19",
          "Satisfaction": "--",
          "index": 175
         },
         {
          "Category": "Specialist",
          "DoctorID": "EIHDD",
          "Experience": 0,
          "Incidence rate": 4,
          "Purchases": 5,
          "R rate": 0.8,
          "Rank": "Gold Plus",
          "Region": "2 7 19",
          "Satisfaction": "-100.00",
          "index": 176
         },
         {
          "Category": "Specialist",
          "DoctorID": "FJBGJ",
          "Experience": 1.25,
          "Incidence rate": 4,
          "Purchases": 4,
          "R rate": 1.5,
          "Rank": "Platinum",
          "Region": "1 19",
          "Satisfaction": "-5.88",
          "index": 177
         },
         {
          "Category": "Specialist",
          "DoctorID": "FJFFA",
          "Experience": 0,
          "Incidence rate": 4,
          "Purchases": 4,
          "R rate": 0.5,
          "Rank": "Gold Plus",
          "Region": "2 11",
          "Satisfaction": "--",
          "index": 178
         },
         {
          "Category": "Specialist",
          "DoctorID": "FAGIE",
          "Experience": 0.75,
          "Incidence rate": 4,
          "Purchases": 4,
          "R rate": 0.5,
          "Rank": "Ambassador",
          "Region": "1 10",
          "Satisfaction": "30.77",
          "index": 179
         },
         {
          "Category": "Specialist",
          "DoctorID": "FBHBI",
          "Experience": 0,
          "Incidence rate": 4,
          "Purchases": 5,
          "R rate": 1,
          "Rank": "Platinum Plus",
          "Region": "1 8",
          "Satisfaction": "100.00",
          "index": 180
         },
         {
          "Category": "Specialist",
          "DoctorID": "FCJCH",
          "Experience": 0,
          "Incidence rate": 4,
          "Purchases": 4,
          "R rate": 1,
          "Rank": "Ambassador",
          "Region": "1 21 T4",
          "Satisfaction": "90.48",
          "index": 181
         },
         {
          "Category": "Specialist",
          "DoctorID": "FCGBJ",
          "Experience": 0,
          "Incidence rate": 4,
          "Purchases": 5,
          "R rate": 0.6,
          "Rank": "Platinum",
          "Region": "1 9",
          "Satisfaction": "--",
          "index": 182
         },
         {
          "Category": "Specialist",
          "DoctorID": "FCGCI",
          "Experience": 1.2,
          "Incidence rate": 4,
          "Purchases": 5,
          "R rate": 0.2,
          "Rank": "Platinum",
          "Region": "1 9",
          "Satisfaction": "100.00",
          "index": 183
         },
         {
          "Category": "Specialist",
          "DoctorID": "FCGDF",
          "Experience": 0.6,
          "Incidence rate": 4,
          "Purchases": 15,
          "R rate": 1.47,
          "Rank": "Titanium",
          "Region": "1 13",
          "Satisfaction": "37.50",
          "index": 184
         },
         {
          "Category": "Specialist",
          "DoctorID": "FCIII",
          "Experience": 0.2,
          "Incidence rate": 4,
          "Purchases": 10,
          "R rate": 1.2,
          "Rank": "Gold Plus",
          "Region": "2 7 10",
          "Satisfaction": "-90.91",
          "index": 185
         },
         {
          "Category": "Specialist",
          "DoctorID": "FDHBD",
          "Experience": 0,
          "Incidence rate": 4,
          "Purchases": 5,
          "R rate": 0.6,
          "Rank": "Platinum",
          "Region": "1 9",
          "Satisfaction": "--",
          "index": 186
         },
         {
          "Category": "Specialist",
          "DoctorID": "GDGGA",
          "Experience": 0.2,
          "Incidence rate": 4,
          "Purchases": 5,
          "R rate": 1,
          "Rank": "Platinum",
          "Region": "1 19",
          "Satisfaction": "-16.67",
          "index": 187
         },
         {
          "Category": "Specialist",
          "DoctorID": "GHFAG",
          "Experience": 0.2,
          "Incidence rate": 4,
          "Purchases": 5,
          "R rate": 0.2,
          "Rank": "Ambassador",
          "Region": "1 9 T4",
          "Satisfaction": "--",
          "index": 188
         },
         {
          "Category": "Specialist",
          "DoctorID": "HCAIC",
          "Experience": 0.28,
          "Incidence rate": 4,
          "Purchases": 40,
          "R rate": 1.1,
          "Rank": "Ambassador",
          "Region": "1 13",
          "Satisfaction": "100.00",
          "index": 189
         },
         {
          "Category": "Specialist",
          "DoctorID": "HCGDD",
          "Experience": 0,
          "Incidence rate": 4,
          "Purchases": 4,
          "R rate": 0.5,
          "Rank": "Ambassador",
          "Region": "1 9 T3",
          "Satisfaction": "--",
          "index": 190
         },
         {
          "Category": "Specialist",
          "DoctorID": "HCIGF",
          "Experience": 0.2,
          "Incidence rate": 4,
          "Purchases": 10,
          "R rate": 1.2,
          "Rank": "Titanium",
          "Region": "1 19 T3",
          "Satisfaction": "--",
          "index": 191
         },
         {
          "Category": "Specialist",
          "DoctorID": "HIDEF",
          "Experience": 0,
          "Incidence rate": 4,
          "Purchases": 10,
          "R rate": 0.5,
          "Rank": "Ambassador",
          "Region": "1 8",
          "Satisfaction": "37.04",
          "index": 192
         },
         {
          "Category": "Specialist",
          "DoctorID": "IBIAH",
          "Experience": 0.25,
          "Incidence rate": 4,
          "Purchases": 4,
          "R rate": 0,
          "Rank": "Platinum Plus",
          "Region": "1 9",
          "Satisfaction": "--",
          "index": 193
         },
         {
          "Category": "Specialist",
          "DoctorID": "IHCIH",
          "Experience": 0.25,
          "Incidence rate": 4,
          "Purchases": 4,
          "R rate": 1.25,
          "Rank": "Ambassador",
          "Region": "1 12",
          "Satisfaction": "--",
          "index": 194
         },
         {
          "Category": "Specialist",
          "DoctorID": "AJBGGI",
          "Experience": 0.6,
          "Incidence rate": 4,
          "Purchases": 5,
          "R rate": 1,
          "Rank": "Platinum",
          "Region": "1 19",
          "Satisfaction": "-100.00",
          "index": 195
         },
         {
          "Category": "General Practitioner",
          "DoctorID": "AJCAGD",
          "Experience": 0.4,
          "Incidence rate": 4,
          "Purchases": 5,
          "R rate": 0.4,
          "Rank": "Platinum Plus",
          "Region": "1 11",
          "Satisfaction": "0.00",
          "index": 196
         },
         {
          "Category": "Specialist",
          "DoctorID": "AJCBFE",
          "Experience": 0.4,
          "Incidence rate": 4,
          "Purchases": 5,
          "R rate": 0.8,
          "Rank": "Titanium",
          "Region": "1 12",
          "Satisfaction": "69.57",
          "index": 197
         },
         {
          "Category": "Specialist",
          "DoctorID": "AJGICE",
          "Experience": 1,
          "Incidence rate": 4,
          "Purchases": 4,
          "R rate": 0.75,
          "Rank": "Ambassador",
          "Region": "1 19",
          "Satisfaction": "28.57",
          "index": 198
         },
         {
          "Category": "Specialist",
          "DoctorID": "AJHDJB",
          "Experience": 0.25,
          "Incidence rate": 4,
          "Purchases": 4,
          "R rate": 1.25,
          "Rank": "Platinum Plus",
          "Region": "1 10",
          "Satisfaction": "-41.18",
          "index": 199
         },
         {
          "Category": "Specialist",
          "DoctorID": "AJHIHH",
          "Experience": 0,
          "Incidence rate": 4,
          "Purchases": 4,
          "R rate": 1.5,
          "Rank": "Gold Plus",
          "Region": "2 7 9",
          "Satisfaction": "--",
          "index": 200
         },
         {
          "Category": "Specialist",
          "DoctorID": "AJICGD",
          "Experience": 0.2,
          "Incidence rate": 4,
          "Purchases": 5,
          "R rate": 3,
          "Rank": "Platinum Plus",
          "Region": "1 14 T3",
          "Satisfaction": "-12.50",
          "index": 201
         },
         {
          "Category": "Specialist",
          "DoctorID": "AABGAB",
          "Experience": 0.75,
          "Incidence rate": 4,
          "Purchases": 4,
          "R rate": 2,
          "Rank": "Platinum Plus",
          "Region": "1 8 T3",
          "Satisfaction": "--",
          "index": 202
         },
         {
          "Category": "Specialist",
          "DoctorID": "AADDIG",
          "Experience": 0,
          "Incidence rate": 4,
          "Purchases": 5,
          "R rate": 0.6,
          "Rank": "Titanium",
          "Region": "1 9 T3",
          "Satisfaction": "--",
          "index": 203
         },
         {
          "Category": "Specialist",
          "DoctorID": "AAHIHB",
          "Experience": 0.75,
          "Incidence rate": 4,
          "Purchases": 4,
          "R rate": 2.75,
          "Rank": "Gold Plus",
          "Region": "2 11",
          "Satisfaction": "11.11",
          "index": 204
         },
         {
          "Category": "General Practitioner",
          "DoctorID": "ABCEFF",
          "Experience": 0.2,
          "Incidence rate": 4,
          "Purchases": 5,
          "R rate": 0,
          "Rank": "Gold Plus",
          "Region": "2 6 12",
          "Satisfaction": "66.67",
          "index": 205
         },
         {
          "Category": "General Practitioner",
          "DoctorID": "ABIGIB",
          "Experience": 1.25,
          "Incidence rate": 4,
          "Purchases": 4,
          "R rate": 0.75,
          "Rank": "Ambassador",
          "Region": "1 13",
          "Satisfaction": "75.00",
          "index": 206
         },
         {
          "Category": "Specialist",
          "DoctorID": "ACFFFF",
          "Experience": 0.75,
          "Incidence rate": 4,
          "Purchases": 4,
          "R rate": 3.25,
          "Rank": "Platinum",
          "Region": "1 14",
          "Satisfaction": "38.46",
          "index": 207
         },
         {
          "Category": "Specialist",
          "DoctorID": "ADBEEF",
          "Experience": 1,
          "Incidence rate": 4,
          "Purchases": 4,
          "R rate": 1,
          "Rank": "Titanium",
          "Region": "1 14",
          "Satisfaction": "-20.00",
          "index": 208
         },
         {
          "Category": "Specialist",
          "DoctorID": "ADGAIC",
          "Experience": 0,
          "Incidence rate": 4,
          "Purchases": 4,
          "R rate": 1,
          "Rank": "Titanium",
          "Region": "1 13 T3",
          "Satisfaction": "--",
          "index": 209
         },
         {
          "Category": "Specialist",
          "DoctorID": "ADHACC",
          "Experience": 0,
          "Incidence rate": 4,
          "Purchases": 4,
          "R rate": 1.5,
          "Rank": "Platinum",
          "Region": "1 9",
          "Satisfaction": "--",
          "index": 210
         },
         {
          "Category": "Specialist",
          "DoctorID": "ADICBB",
          "Experience": 0.5,
          "Incidence rate": 4,
          "Purchases": 4,
          "R rate": 0,
          "Rank": "Silver Plus",
          "Region": "2 7 19",
          "Satisfaction": "--",
          "index": 211
         },
         {
          "Category": "General Practitioner",
          "DoctorID": "AEEDGJ",
          "Experience": 0.25,
          "Incidence rate": 4,
          "Purchases": 4,
          "R rate": 0.5,
          "Rank": "Titanium",
          "Region": "1 13",
          "Satisfaction": "90.91",
          "index": 212
         },
         {
          "Category": "Specialist",
          "DoctorID": "AFDBEF",
          "Experience": 0.25,
          "Incidence rate": 4,
          "Purchases": 4,
          "R rate": 1.25,
          "Rank": "Gold Plus",
          "Region": "1 13",
          "Satisfaction": "--",
          "index": 213
         },
         {
          "Category": "Specialist",
          "DoctorID": "AFEHJH",
          "Experience": 0.75,
          "Incidence rate": 4,
          "Purchases": 4,
          "R rate": 1.5,
          "Rank": "Gold Plus",
          "Region": "1 8",
          "Satisfaction": "0.00",
          "index": 214
         },
         {
          "Category": "Specialist",
          "DoctorID": "AFIFCC",
          "Experience": 0.2,
          "Incidence rate": 4,
          "Purchases": 5,
          "R rate": 1,
          "Rank": "Titanium",
          "Region": "1 11",
          "Satisfaction": "62.07",
          "index": 215
         },
         {
          "Category": "Specialist",
          "DoctorID": "AGFGJH",
          "Experience": 0.7,
          "Incidence rate": 4,
          "Purchases": 10,
          "R rate": 0.3,
          "Rank": "Silver Plus",
          "Region": "2 7 13",
          "Satisfaction": "--",
          "index": 216
         },
         {
          "Category": "General Practitioner",
          "DoctorID": "AHABIB",
          "Experience": 2,
          "Incidence rate": 4,
          "Purchases": 4,
          "R rate": 1,
          "Rank": null,
          "Region": "5 18",
          "Satisfaction": "83.33",
          "index": 217
         },
         {
          "Category": "Specialist",
          "DoctorID": "AHCAFI",
          "Experience": 1,
          "Incidence rate": 4,
          "Purchases": 4,
          "R rate": 0.75,
          "Rank": "Ambassador",
          "Region": "22 18",
          "Satisfaction": "--",
          "index": 218
         },
         {
          "Category": "Specialist",
          "DoctorID": "AIFAIJ",
          "Experience": 0,
          "Incidence rate": 4,
          "Purchases": 4,
          "R rate": 0.25,
          "Rank": "Platinum",
          "Region": "1 10",
          "Satisfaction": "53.85",
          "index": 219
         },
         {
          "Category": "General Practitioner",
          "DoctorID": "BJCFGJ",
          "Experience": 0.25,
          "Incidence rate": 4,
          "Purchases": 4,
          "R rate": 0.5,
          "Rank": "Titanium",
          "Region": "1 13",
          "Satisfaction": "-53.85",
          "index": 220
         },
         {
          "Category": "Specialist",
          "DoctorID": "BJDEGI",
          "Experience": 0.4,
          "Incidence rate": 4,
          "Purchases": 5,
          "R rate": 3,
          "Rank": "Gold Plus",
          "Region": "2 7 19",
          "Satisfaction": "--",
          "index": 221
         },
         {
          "Category": "Specialist",
          "DoctorID": "BABEFF",
          "Experience": 0.8,
          "Incidence rate": 4,
          "Purchases": 5,
          "R rate": 0.8,
          "Rank": "Platinum",
          "Region": "1 8",
          "Satisfaction": "--",
          "index": 222
         },
         {
          "Category": "Specialist",
          "DoctorID": "BBFDCG",
          "Experience": 0,
          "Incidence rate": 4,
          "Purchases": 4,
          "R rate": 0,
          "Rank": "Gold Plus",
          "Region": "2 7 9",
          "Satisfaction": "-100.00",
          "index": 223
         },
         {
          "Category": "General Practitioner",
          "DoctorID": "BBGJJA",
          "Experience": 0.25,
          "Incidence rate": 4,
          "Purchases": 4,
          "R rate": 0.25,
          "Rank": "Gold",
          "Region": "2 6 19",
          "Satisfaction": "--",
          "index": 224
         },
         {
          "Category": "Specialist",
          "DoctorID": "BCFJAB",
          "Experience": 0.4,
          "Incidence rate": 4,
          "Purchases": 5,
          "R rate": 1.4,
          "Rank": "Platinum",
          "Region": "1 13",
          "Satisfaction": "-20.00",
          "index": 225
         },
         {
          "Category": "Specialist",
          "DoctorID": "BCGGFB",
          "Experience": 1.2,
          "Incidence rate": 4,
          "Purchases": 5,
          "R rate": 0.4,
          "Rank": "Silver Plus",
          "Region": "2 7 19",
          "Satisfaction": "--",
          "index": 226
         },
         {
          "Category": "Specialist",
          "DoctorID": "BDDCCJ",
          "Experience": 0.7,
          "Incidence rate": 4,
          "Purchases": 10,
          "R rate": 0.8,
          "Rank": "Ambassador",
          "Region": "1 14 T4",
          "Satisfaction": "66.67",
          "index": 227
         },
         {
          "Category": "Specialist",
          "DoctorID": "BHCADG",
          "Experience": 0.2,
          "Incidence rate": 4,
          "Purchases": 5,
          "R rate": 1,
          "Rank": "Platinum",
          "Region": "1 9",
          "Satisfaction": "--",
          "index": 228
         },
         {
          "Category": "Specialist",
          "DoctorID": "FBJHB",
          "Experience": 0.34,
          "Incidence rate": 3.83,
          "Purchases": 29,
          "R rate": 0.55,
          "Rank": "Titanium",
          "Region": "1 14 T3",
          "Satisfaction": "66.67",
          "index": 229
         },
         {
          "Category": "Specialist",
          "DoctorID": "EIAHC",
          "Experience": 2.57,
          "Incidence rate": 3.67,
          "Purchases": 14,
          "R rate": 1.93,
          "Rank": "Ambassador",
          "Region": "1 14",
          "Satisfaction": "86.21",
          "index": 230
         },
         {
          "Category": "Specialist",
          "DoctorID": "FAGBJ",
          "Experience": 1.07,
          "Incidence rate": 3.67,
          "Purchases": 14,
          "R rate": 0.21,
          "Rank": "Ambassador",
          "Region": "3 16",
          "Satisfaction": "--",
          "index": 231
         },
         {
          "Category": "Specialist",
          "DoctorID": "FBJIB",
          "Experience": 0.93,
          "Incidence rate": 3.67,
          "Purchases": 14,
          "R rate": 1.14,
          "Rank": "Platinum Plus",
          "Region": "1 14",
          "Satisfaction": "-33.33",
          "index": 232
         },
         {
          "Category": "Specialist",
          "DoctorID": "HCDHE",
          "Experience": 0.43,
          "Incidence rate": 3.67,
          "Purchases": 14,
          "R rate": 1.57,
          "Rank": "Platinum",
          "Region": "1 10",
          "Satisfaction": "0.00",
          "index": 233
         },
         {
          "Category": "Specialist",
          "DoctorID": "BAEEJB",
          "Experience": 0.87,
          "Incidence rate": 3.6,
          "Purchases": 23,
          "R rate": 2.61,
          "Rank": "Ambassador",
          "Region": "1 19 T4",
          "Satisfaction": "--",
          "index": 234
         },
         {
          "Category": "Specialist",
          "DoctorID": "EICFE",
          "Experience": 0.78,
          "Incidence rate": 3.5,
          "Purchases": 9,
          "R rate": 1.22,
          "Rank": "Titanium",
          "Region": "1 10 T3",
          "Satisfaction": "60.00",
          "index": 235
         },
         {
          "Category": "Specialist",
          "DoctorID": "FBAHB",
          "Experience": 0,
          "Incidence rate": 3.5,
          "Purchases": 9,
          "R rate": 0.33,
          "Rank": "Ambassador",
          "Region": "1 19 T3",
          "Satisfaction": "--",
          "index": 236
         },
         {
          "Category": "Specialist",
          "DoctorID": "FCFJF",
          "Experience": 0.22,
          "Incidence rate": 3.5,
          "Purchases": 9,
          "R rate": 1.22,
          "Rank": "Gold Plus",
          "Region": "1 19",
          "Satisfaction": "100.00",
          "index": 237
         },
         {
          "Category": "Specialist",
          "DoctorID": "FDHAJ",
          "Experience": 0.67,
          "Incidence rate": 3.5,
          "Purchases": 9,
          "R rate": 1.56,
          "Rank": "Platinum",
          "Region": "1 13",
          "Satisfaction": "-11.76",
          "index": 238
         },
         {
          "Category": "Specialist",
          "DoctorID": "HDFGG",
          "Experience": 1.67,
          "Incidence rate": 3.5,
          "Purchases": 9,
          "R rate": 0.67,
          "Rank": "Ambassador",
          "Region": "1 12",
          "Satisfaction": "100.00",
          "index": 239
         },
         {
          "Category": "Specialist",
          "DoctorID": "IJDHE",
          "Experience": 0.78,
          "Incidence rate": 3.5,
          "Purchases": 18,
          "R rate": 1.33,
          "Rank": "Ambassador",
          "Region": "1 11",
          "Satisfaction": "--",
          "index": 240
         },
         {
          "Category": "General Practitioner",
          "DoctorID": "ABECJH",
          "Experience": 0.22,
          "Incidence rate": 3.5,
          "Purchases": 9,
          "R rate": 1.33,
          "Rank": "Platinum Plus",
          "Region": "1 14",
          "Satisfaction": "75.00",
          "index": 241
         },
         {
          "Category": "Specialist",
          "DoctorID": "ADEIBA",
          "Experience": 0.11,
          "Incidence rate": 3.5,
          "Purchases": 9,
          "R rate": 0.67,
          "Rank": "Ambassador",
          "Region": "1 19",
          "Satisfaction": "--",
          "index": 242
         },
         {
          "Category": "Specialist",
          "DoctorID": "AEBDAB",
          "Experience": 1.22,
          "Incidence rate": 3.5,
          "Purchases": 9,
          "R rate": 0.44,
          "Rank": "Ambassador",
          "Region": "1 13",
          "Satisfaction": "100.00",
          "index": 243
         },
         {
          "Category": "Specialist",
          "DoctorID": "BCGHBE",
          "Experience": 1.11,
          "Incidence rate": 3.5,
          "Purchases": 9,
          "R rate": 2.11,
          "Rank": "Platinum Plus",
          "Region": "1 8",
          "Satisfaction": "--",
          "index": 244
         },
         {
          "Category": "Specialist",
          "DoctorID": "CJFIHG",
          "Experience": 0.11,
          "Incidence rate": 3.5,
          "Purchases": 9,
          "R rate": 0.22,
          "Rank": "Gold Plus",
          "Region": "2 7 12",
          "Satisfaction": "--",
          "index": 245
         },
         {
          "Category": "Specialist",
          "DoctorID": "EIBIE",
          "Experience": 0,
          "Incidence rate": 3.33,
          "Purchases": 13,
          "R rate": 0.92,
          "Rank": "Ambassador",
          "Region": "1 19 T3",
          "Satisfaction": "65.00",
          "index": 246
         },
         {
          "Category": "Specialist",
          "DoctorID": "EICFJ",
          "Experience": 0.46,
          "Incidence rate": 3.33,
          "Purchases": 13,
          "R rate": 1.23,
          "Rank": "Ambassador",
          "Region": "1 19 T3",
          "Satisfaction": "-100.00",
          "index": 247
         },
         {
          "Category": "Specialist",
          "DoctorID": "FJAJH",
          "Experience": 0.63,
          "Incidence rate": 3.33,
          "Purchases": 52,
          "R rate": 1.5,
          "Rank": "Ambassador",
          "Region": "1 14",
          "Satisfaction": "10.71",
          "index": 248
         },
         {
          "Category": "Specialist",
          "DoctorID": "FJG",
          "Experience": 0.23,
          "Incidence rate": 3.33,
          "Purchases": 13,
          "R rate": 2,
          "Rank": "Titanium",
          "Region": "1 13 T3",
          "Satisfaction": "28.57",
          "index": 249
         },
         {
          "Category": "Specialist",
          "DoctorID": "FCBJC",
          "Experience": 0.54,
          "Incidence rate": 3.33,
          "Purchases": 13,
          "R rate": 0.62,
          "Rank": "Ambassador",
          "Region": "1 12",
          "Satisfaction": "100.00",
          "index": 250
         },
         {
          "Category": "Specialist",
          "DoctorID": "GDGHI",
          "Experience": 0.15,
          "Incidence rate": 3.33,
          "Purchases": 26,
          "R rate": 0.38,
          "Rank": "Ambassador",
          "Region": "1 12",
          "Satisfaction": "--",
          "index": 251
         },
         {
          "Category": "Specialist",
          "DoctorID": "ABCGDJ",
          "Experience": 0.08,
          "Incidence rate": 3.33,
          "Purchases": 13,
          "R rate": 0.46,
          "Rank": "Platinum",
          "Region": "1 13",
          "Satisfaction": "--",
          "index": 252
         },
         {
          "Category": "Specialist",
          "DoctorID": "BCGHCE",
          "Experience": 1,
          "Incidence rate": 3.33,
          "Purchases": 13,
          "R rate": 1.69,
          "Rank": "Platinum Plus",
          "Region": "1 12 T3",
          "Satisfaction": "44.44",
          "index": 253
         },
         {
          "Category": "Specialist",
          "DoctorID": "HBBCA",
          "Experience": 0.29,
          "Incidence rate": 3.25,
          "Purchases": 17,
          "R rate": 1.65,
          "Rank": "Titanium",
          "Region": "1 12",
          "Satisfaction": "83.33",
          "index": 254
         },
         {
          "Category": "Specialist",
          "DoctorID": "ADHBHG",
          "Experience": 0.59,
          "Incidence rate": 3.25,
          "Purchases": 17,
          "R rate": 1.24,
          "Rank": "Ambassador",
          "Region": "1 9",
          "Satisfaction": "--",
          "index": 255
         },
         {
          "Category": "Specialist",
          "DoctorID": "EHDCH",
          "Experience": 0.25,
          "Incidence rate": 3,
          "Purchases": 4,
          "R rate": 0.25,
          "Rank": "Platinum Plus",
          "Region": "1 14",
          "Satisfaction": "--",
          "index": 256
         },
         {
          "Category": "Specialist",
          "DoctorID": "EHDDC",
          "Experience": 0,
          "Incidence rate": 3,
          "Purchases": 3,
          "R rate": 0.67,
          "Rank": "Silver Plus",
          "Region": "2 7 13",
          "Satisfaction": "-66.67",
          "index": 257
         },
         {
          "Category": "Specialist",
          "DoctorID": "EHEGI",
          "Experience": 0.25,
          "Incidence rate": 3,
          "Purchases": 4,
          "R rate": 1.5,
          "Rank": "Platinum",
          "Region": "1 8",
          "Satisfaction": "--",
          "index": 258
         },
         {
          "Category": "Specialist",
          "DoctorID": "EHIIF",
          "Experience": 0.13,
          "Incidence rate": 3,
          "Purchases": 8,
          "R rate": 0.88,
          "Rank": "Ambassador",
          "Region": "1 8 T3",
          "Satisfaction": "0.00",
          "index": 259
         },
         {
          "Category": "Specialist",
          "DoctorID": "EIBJG",
          "Experience": 0.88,
          "Incidence rate": 3,
          "Purchases": 24,
          "R rate": 1.13,
          "Rank": "Platinum Plus",
          "Region": "1 19 T3",
          "Satisfaction": "--",
          "index": 260
         },
         {
          "Category": "Specialist",
          "DoctorID": "EIBAF",
          "Experience": 0.33,
          "Incidence rate": 3,
          "Purchases": 3,
          "R rate": 1,
          "Rank": "Platinum",
          "Region": "1 14",
          "Satisfaction": "41.67",
          "index": 261
         },
         {
          "Category": "Specialist",
          "DoctorID": "FJAGH",
          "Experience": 0.92,
          "Incidence rate": 3,
          "Purchases": 12,
          "R rate": 1.58,
          "Rank": "Platinum Plus",
          "Region": "1 19",
          "Satisfaction": "87.50",
          "index": 262
         },
         {
          "Category": "Specialist",
          "DoctorID": "FJAIF",
          "Experience": 0.5,
          "Incidence rate": 3,
          "Purchases": 8,
          "R rate": 1.75,
          "Rank": "Gold Plus",
          "Region": "2 7 13",
          "Satisfaction": "--",
          "index": 263
         },
         {
          "Category": "Specialist",
          "DoctorID": "FJEEE",
          "Experience": 0.33,
          "Incidence rate": 3,
          "Purchases": 3,
          "R rate": 0.67,
          "Rank": "Gold Plus",
          "Region": "2 7 19",
          "Satisfaction": "--",
          "index": 264
         },
         {
          "Category": "Specialist",
          "DoctorID": "FJFJJJJJJJ",
          "Experience": 0.33,
          "Incidence rate": 3,
          "Purchases": 3,
          "R rate": 0,
          "Rank": "Silver Plus",
          "Region": "2 7 9",
          "Satisfaction": "--",
          "index": 265
         },
         {
          "Category": "Specialist",
          "DoctorID": "FAJGG",
          "Experience": 0,
          "Incidence rate": 3,
          "Purchases": 3,
          "R rate": 1.33,
          "Rank": "Platinum",
          "Region": "1 13",
          "Satisfaction": "65.22",
          "index": 266
         },
         {
          "Category": "Specialist",
          "DoctorID": "FABAI",
          "Experience": 0,
          "Incidence rate": 3,
          "Purchases": 8,
          "R rate": 1.75,
          "Rank": "Titanium",
          "Region": "1 19",
          "Satisfaction": "100.00",
          "index": 267
         },
         {
          "Category": "Specialist",
          "DoctorID": "FAGEH",
          "Experience": 0.28,
          "Incidence rate": 3,
          "Purchases": 32,
          "R rate": 1.38,
          "Rank": "Ambassador",
          "Region": "1 10",
          "Satisfaction": "12.50",
          "index": 268
         },
         {
          "Category": "Specialist",
          "DoctorID": "FAICE",
          "Experience": 0.5,
          "Incidence rate": 3,
          "Purchases": 24,
          "R rate": 2.5,
          "Rank": "Ambassador",
          "Region": "1 9",
          "Satisfaction": "--",
          "index": 269
         },
         {
          "Category": "Specialist",
          "DoctorID": "FBJBG",
          "Experience": 0.33,
          "Incidence rate": 3,
          "Purchases": 3,
          "R rate": 0.67,
          "Rank": "Titanium",
          "Region": "1 9 T3",
          "Satisfaction": "88.89",
          "index": 270
         },
         {
          "Category": "Specialist",
          "DoctorID": "FBEAF",
          "Experience": 0.25,
          "Incidence rate": 3,
          "Purchases": 4,
          "R rate": 0,
          "Rank": "Gold Plus",
          "Region": "22 18",
          "Satisfaction": "--",
          "index": 271
         },
         {
          "Category": "Specialist",
          "DoctorID": "FBFJH",
          "Experience": 0,
          "Incidence rate": 3,
          "Purchases": 3,
          "R rate": 0.67,
          "Rank": "Ambassador",
          "Region": "1 13",
          "Satisfaction": "87.50",
          "index": 272
         },
         {
          "Category": "Specialist",
          "DoctorID": "FBFHB",
          "Experience": 1.5,
          "Incidence rate": 3,
          "Purchases": 4,
          "R rate": 4.25,
          "Rank": "Gold Plus",
          "Region": "2 7 14",
          "Satisfaction": "--",
          "index": 273
         },
         {
          "Category": "Specialist",
          "DoctorID": "FBHDC",
          "Experience": 0.33,
          "Incidence rate": 3,
          "Purchases": 3,
          "R rate": 1.67,
          "Rank": "Gold Plus",
          "Region": "2 7 8",
          "Satisfaction": "0.00",
          "index": 274
         },
         {
          "Category": "Specialist",
          "DoctorID": "FBHEA",
          "Experience": 1.25,
          "Incidence rate": 3,
          "Purchases": 4,
          "R rate": 1.25,
          "Rank": "Platinum",
          "Region": "1 14",
          "Satisfaction": "--",
          "index": 275
         },
         {
          "Category": "Specialist",
          "DoctorID": "FCJDB",
          "Experience": 1,
          "Incidence rate": 3,
          "Purchases": 3,
          "R rate": 1,
          "Rank": "Silver Plus",
          "Region": "2 7 14",
          "Satisfaction": "--",
          "index": 276
         },
         {
          "Category": "Specialist",
          "DoctorID": "FCCFD",
          "Experience": 0.33,
          "Incidence rate": 3,
          "Purchases": 3,
          "R rate": 0.67,
          "Rank": "Gold Plus",
          "Region": "2 7 14",
          "Satisfaction": "--",
          "index": 277
         },
         {
          "Category": "Specialist",
          "DoctorID": "FCDEJ",
          "Experience": 0.67,
          "Incidence rate": 3,
          "Purchases": 3,
          "R rate": 0,
          "Rank": "Platinum",
          "Region": "1 12",
          "Satisfaction": "--",
          "index": 278
         },
         {
          "Category": "Specialist",
          "DoctorID": "FCDID",
          "Experience": 0,
          "Incidence rate": 3,
          "Purchases": 4,
          "R rate": 1.25,
          "Rank": "Platinum",
          "Region": "1 9",
          "Satisfaction": "41.18",
          "index": 279
         },
         {
          "Category": "Specialist",
          "DoctorID": "FCDIG",
          "Experience": 0,
          "Incidence rate": 3,
          "Purchases": 3,
          "R rate": 1.67,
          "Rank": "Gold",
          "Region": "1 13 T3",
          "Satisfaction": "--",
          "index": 280
         },
         {
          "Category": "Specialist",
          "DoctorID": "FCEDH",
          "Experience": 0.63,
          "Incidence rate": 3,
          "Purchases": 16,
          "R rate": 0.69,
          "Rank": "Titanium",
          "Region": "1 13",
          "Satisfaction": "--",
          "index": 281
         },
         {
          "Category": "Specialist",
          "DoctorID": "FCGBA",
          "Experience": 1,
          "Incidence rate": 3,
          "Purchases": 4,
          "R rate": 1.25,
          "Rank": "Platinum",
          "Region": "1 13",
          "Satisfaction": "--",
          "index": 282
         },
         {
          "Category": "Specialist",
          "DoctorID": "FCGHC",
          "Experience": 0.5,
          "Incidence rate": 3,
          "Purchases": 4,
          "R rate": 1.75,
          "Rank": "Platinum",
          "Region": "1 9",
          "Satisfaction": "25.00",
          "index": 283
         },
         {
          "Category": "Specialist",
          "DoctorID": "FCHBE",
          "Experience": 1,
          "Incidence rate": 3,
          "Purchases": 8,
          "R rate": 0.13,
          "Rank": "Gold",
          "Region": "22 18",
          "Satisfaction": "--",
          "index": 284
         },
         {
          "Category": "Specialist",
          "DoctorID": "FCIIJ",
          "Experience": 0.33,
          "Incidence rate": 3,
          "Purchases": 3,
          "R rate": 0.33,
          "Rank": "Silver Plus",
          "Region": "2 7 14",
          "Satisfaction": "100.00",
          "index": 285
         },
         {
          "Category": "Specialist",
          "DoctorID": "FDJAF",
          "Experience": 0.25,
          "Incidence rate": 3,
          "Purchases": 4,
          "R rate": 1.75,
          "Rank": "Platinum",
          "Region": "1 8",
          "Satisfaction": "43.75",
          "index": 286
         },
         {
          "Category": "Specialist",
          "DoctorID": "FDAAB",
          "Experience": 0,
          "Incidence rate": 3,
          "Purchases": 4,
          "R rate": 2.25,
          "Rank": "Platinum",
          "Region": "1 19",
          "Satisfaction": "33.33",
          "index": 287
         },
         {
          "Category": "Specialist",
          "DoctorID": "FDGBC",
          "Experience": 0.75,
          "Incidence rate": 3,
          "Purchases": 4,
          "R rate": 2,
          "Rank": "Titanium",
          "Region": "1 8",
          "Satisfaction": "60.00",
          "index": 288
         },
         {
          "Category": "Specialist",
          "DoctorID": "GCIHA",
          "Experience": 1.5,
          "Incidence rate": 3,
          "Purchases": 4,
          "R rate": 3,
          "Rank": "Ambassador",
          "Region": "1 11",
          "Satisfaction": "27.27",
          "index": 289
         },
         {
          "Category": "Specialist",
          "DoctorID": "GDJBG",
          "Experience": 0.25,
          "Incidence rate": 3,
          "Purchases": 4,
          "R rate": 2,
          "Rank": "Gold Plus",
          "Region": "2 7 9",
          "Satisfaction": "100.00",
          "index": 290
         },
         {
          "Category": "Specialist",
          "DoctorID": "GDDJA",
          "Experience": 0.75,
          "Incidence rate": 3,
          "Purchases": 4,
          "R rate": 1.25,
          "Rank": "Platinum Plus",
          "Region": "1 14 T3",
          "Satisfaction": "-6.25",
          "index": 291
         },
         {
          "Category": "Specialist",
          "DoctorID": "GDHEC",
          "Experience": 1,
          "Incidence rate": 3,
          "Purchases": 3,
          "R rate": 2.33,
          "Rank": "Gold",
          "Region": "22 18",
          "Satisfaction": "-100.00",
          "index": 292
         },
         {
          "Category": "Specialist",
          "DoctorID": "GDIGD",
          "Experience": 0.75,
          "Incidence rate": 3,
          "Purchases": 8,
          "R rate": 0.38,
          "Rank": "Titanium",
          "Region": "1 19",
          "Satisfaction": "-20.00",
          "index": 293
         },
         {
          "Category": "Specialist",
          "DoctorID": "GEJFE",
          "Experience": 0.75,
          "Incidence rate": 3,
          "Purchases": 4,
          "R rate": 3,
          "Rank": "Silver Plus",
          "Region": "2 7 10",
          "Satisfaction": "--",
          "index": 294
         },
         {
          "Category": "Specialist",
          "DoctorID": "GGBFD",
          "Experience": 0,
          "Incidence rate": 3,
          "Purchases": 3,
          "R rate": 3.33,
          "Rank": "Ambassador",
          "Region": "1 21 T3",
          "Satisfaction": "--",
          "index": 295
         },
         {
          "Category": "Specialist",
          "DoctorID": "GGCCD",
          "Experience": 0,
          "Incidence rate": 3,
          "Purchases": 3,
          "R rate": 0.33,
          "Rank": "Silver Plus",
          "Region": "2 7 9",
          "Satisfaction": "-25.00",
          "index": 296
         },
         {
          "Category": "Specialist",
          "DoctorID": "GGCDI",
          "Experience": 0.25,
          "Incidence rate": 3,
          "Purchases": 4,
          "R rate": 1.75,
          "Rank": "Platinum Plus",
          "Region": "1 9",
          "Satisfaction": "0.00",
          "index": 297
         },
         {
          "Category": "Specialist",
          "DoctorID": "GGDEA",
          "Experience": 0.67,
          "Incidence rate": 3,
          "Purchases": 3,
          "R rate": 2,
          "Rank": "Titanium",
          "Region": "1 19",
          "Satisfaction": "-50.00",
          "index": 298
         },
         {
          "Category": "Specialist",
          "DoctorID": "GGFAG",
          "Experience": 0.67,
          "Incidence rate": 3,
          "Purchases": 3,
          "R rate": 1,
          "Rank": "Platinum Plus",
          "Region": "1 14",
          "Satisfaction": "--",
          "index": 299
         },
         {
          "Category": "Specialist",
          "DoctorID": "GGHAA",
          "Experience": 1,
          "Incidence rate": 3,
          "Purchases": 3,
          "R rate": 1.67,
          "Rank": "Platinum",
          "Region": "1 13",
          "Satisfaction": "100.00",
          "index": 300
         },
         {
          "Category": "Specialist",
          "DoctorID": "GIEAH",
          "Experience": 0,
          "Incidence rate": 3,
          "Purchases": 20,
          "R rate": 0.95,
          "Rank": "Ambassador",
          "Region": "1 8 T4",
          "Satisfaction": "12.50",
          "index": 301
         },
         {
          "Category": "Specialist",
          "DoctorID": "HBIEA",
          "Experience": 0.33,
          "Incidence rate": 3,
          "Purchases": 3,
          "R rate": 1,
          "Rank": "Silver Plus",
          "Region": "2 7 19",
          "Satisfaction": "--",
          "index": 302
         },
         {
          "Category": "Specialist",
          "DoctorID": "HCACA",
          "Experience": 0,
          "Incidence rate": 3,
          "Purchases": 3,
          "R rate": 0.67,
          "Rank": "Silver Plus",
          "Region": "2 7 19",
          "Satisfaction": "--",
          "index": 303
         },
         {
          "Category": "Specialist",
          "DoctorID": "HCCJG",
          "Experience": 0.67,
          "Incidence rate": 3,
          "Purchases": 3,
          "R rate": 2.33,
          "Rank": "Gold",
          "Region": "2 7 19",
          "Satisfaction": "25.00",
          "index": 304
         },
         {
          "Category": "Specialist",
          "DoctorID": "HCCIE",
          "Experience": 0.63,
          "Incidence rate": 3,
          "Purchases": 8,
          "R rate": 1.75,
          "Rank": "Platinum",
          "Region": "1 9",
          "Satisfaction": "60.00",
          "index": 305
         },
         {
          "Category": "Specialist",
          "DoctorID": "HCGFC",
          "Experience": 0.38,
          "Incidence rate": 3,
          "Purchases": 8,
          "R rate": 1.13,
          "Rank": "Platinum Plus",
          "Region": "1 19 T3",
          "Satisfaction": "--",
          "index": 306
         },
         {
          "Category": "Specialist",
          "DoctorID": "HDJCD",
          "Experience": 0.67,
          "Incidence rate": 3,
          "Purchases": 3,
          "R rate": 2.33,
          "Rank": "Platinum",
          "Region": "1 19",
          "Satisfaction": "100.00",
          "index": 307
         },
         {
          "Category": "Specialist",
          "DoctorID": "HEEIF",
          "Experience": 0,
          "Incidence rate": 3,
          "Purchases": 3,
          "R rate": 0,
          "Rank": "Silver Plus",
          "Region": "2 7 19",
          "Satisfaction": "--",
          "index": 308
         },
         {
          "Category": "Specialist",
          "DoctorID": "HFHII",
          "Experience": 5.42,
          "Incidence rate": 3,
          "Purchases": 12,
          "R rate": 1.42,
          "Rank": "Ambassador",
          "Region": "1 9 T4",
          "Satisfaction": "74.47",
          "index": 309
         },
         {
          "Category": "Specialist",
          "DoctorID": "HGGAF",
          "Experience": 0.33,
          "Incidence rate": 3,
          "Purchases": 3,
          "R rate": 0,
          "Rank": "Platinum",
          "Region": "1 13",
          "Satisfaction": "--",
          "index": 310
         },
         {
          "Category": "Specialist",
          "DoctorID": "IABCA",
          "Experience": 0.31,
          "Incidence rate": 3,
          "Purchases": 16,
          "R rate": 1.31,
          "Rank": "Ambassador",
          "Region": "1 13",
          "Satisfaction": "71.43",
          "index": 311
         },
         {
          "Category": "Specialist",
          "DoctorID": "IDFHH",
          "Experience": 1,
          "Incidence rate": 3,
          "Purchases": 3,
          "R rate": 2.33,
          "Rank": "Platinum",
          "Region": "1 9",
          "Satisfaction": "11.76",
          "index": 312
         },
         {
          "Category": "Specialist",
          "DoctorID": "IDIAG",
          "Experience": 0.75,
          "Incidence rate": 3,
          "Purchases": 4,
          "R rate": 1,
          "Rank": "Titanium",
          "Region": "1 10",
          "Satisfaction": "--",
          "index": 313
         },
         {
          "Category": "Specialist",
          "DoctorID": "IGFGA",
          "Experience": 1,
          "Incidence rate": 3,
          "Purchases": 3,
          "R rate": 3.33,
          "Rank": "Platinum Plus",
          "Region": "1 14 T3",
          "Satisfaction": "--",
          "index": 314
         },
         {
          "Category": "General Practitioner",
          "DoctorID": "IIDBD",
          "Experience": 0,
          "Incidence rate": 3,
          "Purchases": 3,
          "R rate": 0.33,
          "Rank": "Gold",
          "Region": "17",
          "Satisfaction": "--",
          "index": 315
         },
         {
          "Category": "General Practitioner",
          "DoctorID": "AJACEB",
          "Experience": 0,
          "Incidence rate": 3,
          "Purchases": 4,
          "R rate": 1,
          "Rank": "Silver Plus",
          "Region": "2 6 8",
          "Satisfaction": "--",
          "index": 316
         },
         {
          "Category": "Specialist",
          "DoctorID": "AJBEFA",
          "Experience": 0,
          "Incidence rate": 3,
          "Purchases": 8,
          "R rate": 0.38,
          "Rank": "Platinum",
          "Region": "1 8",
          "Satisfaction": "-100.00",
          "index": 317
         },
         {
          "Category": "General Practitioner",
          "DoctorID": "AJDBBA",
          "Experience": 0.33,
          "Incidence rate": 3,
          "Purchases": 3,
          "R rate": 0.33,
          "Rank": "Gold",
          "Region": "2 6 13",
          "Satisfaction": "--",
          "index": 318
         },
         {
          "Category": "Specialist",
          "DoctorID": "AJEFEG",
          "Experience": 0.5,
          "Incidence rate": 3,
          "Purchases": 4,
          "R rate": 0.5,
          "Rank": "Platinum Plus",
          "Region": "1 12",
          "Satisfaction": "83.33",
          "index": 319
         },
         {
          "Category": "General Practitioner",
          "DoctorID": "AJFBID",
          "Experience": 0.33,
          "Incidence rate": 3,
          "Purchases": 3,
          "R rate": 0,
          "Rank": "Silver Plus",
          "Region": "17",
          "Satisfaction": "--",
          "index": 320
         },
         {
          "Category": "General Practitioner",
          "DoctorID": "AABAAC",
          "Experience": 0.33,
          "Incidence rate": 3,
          "Purchases": 3,
          "R rate": 0.33,
          "Rank": "Silver Plus",
          "Region": "17",
          "Satisfaction": "--",
          "index": 321
         },
         {
          "Category": "General Practitioner",
          "DoctorID": "ABBBGD",
          "Experience": 0.67,
          "Incidence rate": 3,
          "Purchases": 3,
          "R rate": 0,
          "Rank": "Silver Plus",
          "Region": "2 6 13",
          "Satisfaction": "--",
          "index": 322
         },
         {
          "Category": "Specialist",
          "DoctorID": "ABCAFG",
          "Experience": 1,
          "Incidence rate": 3,
          "Purchases": 4,
          "R rate": 2.5,
          "Rank": "Gold Plus",
          "Region": "5 18",
          "Satisfaction": "--",
          "index": 323
         },
         {
          "Category": "Specialist",
          "DoctorID": "ABEAFF",
          "Experience": 0,
          "Incidence rate": 3,
          "Purchases": 8,
          "R rate": 0.63,
          "Rank": "Ambassador",
          "Region": "1 8 T4",
          "Satisfaction": "23.08",
          "index": 324
         },
         {
          "Category": "Specialist",
          "DoctorID": "ABHGCJ",
          "Experience": 0,
          "Incidence rate": 3,
          "Purchases": 3,
          "R rate": 1,
          "Rank": "Gold",
          "Region": "2 7 8",
          "Satisfaction": "100.00",
          "index": 325
         },
         {
          "Category": "General Practitioner",
          "DoctorID": "ABICJC",
          "Experience": 0.33,
          "Incidence rate": 3,
          "Purchases": 3,
          "R rate": 1,
          "Rank": "Gold",
          "Region": "2 6 19",
          "Satisfaction": "--",
          "index": 326
         },
         {
          "Category": "Specialist",
          "DoctorID": "ACJADJ",
          "Experience": 1,
          "Incidence rate": 3,
          "Purchases": 4,
          "R rate": 1,
          "Rank": "Gold Plus",
          "Region": "2 7 12",
          "Satisfaction": "-100.00",
          "index": 327
         },
         {
          "Category": "Specialist",
          "DoctorID": "ACDBJE",
          "Experience": 0,
          "Incidence rate": 3,
          "Purchases": 16,
          "R rate": 0.81,
          "Rank": "Ambassador",
          "Region": "1 8 T4",
          "Satisfaction": "80.00",
          "index": 328
         },
         {
          "Category": "Specialist",
          "DoctorID": "ACEHEG",
          "Experience": 0.67,
          "Incidence rate": 3,
          "Purchases": 3,
          "R rate": 2,
          "Rank": "Gold Plus",
          "Region": "2 7 12",
          "Satisfaction": "33.33",
          "index": 329
         },
         {
          "Category": "General Practitioner",
          "DoctorID": "ACFJEF",
          "Experience": 3,
          "Incidence rate": 3,
          "Purchases": 3,
          "R rate": 0,
          "Rank": "Platinum",
          "Region": "1 11",
          "Satisfaction": "--",
          "index": 330
         },
         {
          "Category": "Specialist",
          "DoctorID": "ACGIJH",
          "Experience": 1.5,
          "Incidence rate": 3,
          "Purchases": 8,
          "R rate": 0.88,
          "Rank": "Silver Plus",
          "Region": "2 7 10",
          "Satisfaction": "-50.00",
          "index": 331
         },
         {
          "Category": "Specialist",
          "DoctorID": "ACHADI",
          "Experience": 1,
          "Incidence rate": 3,
          "Purchases": 3,
          "R rate": 0,
          "Rank": "Silver Plus",
          "Region": "2 7 14",
          "Satisfaction": "--",
          "index": 332
         },
         {
          "Category": "Specialist",
          "DoctorID": "ACHCAG",
          "Experience": 0.25,
          "Incidence rate": 3,
          "Purchases": 8,
          "R rate": 1.38,
          "Rank": "Platinum",
          "Region": "1 8",
          "Satisfaction": "14.29",
          "index": 333
         },
         {
          "Category": "General Practitioner",
          "DoctorID": "ADBJFE",
          "Experience": 1,
          "Incidence rate": 3,
          "Purchases": 3,
          "R rate": 0,
          "Rank": "Gold",
          "Region": "2 6 12",
          "Satisfaction": "-100.00",
          "index": 334
         },
         {
          "Category": "General Practitioner",
          "DoctorID": "ADCAEI",
          "Experience": 0,
          "Incidence rate": 3,
          "Purchases": 3,
          "R rate": 0,
          "Rank": "Silver Plus",
          "Region": "2 6 8",
          "Satisfaction": "--",
          "index": 335
         },
         {
          "Category": "General Practitioner",
          "DoctorID": "ADEFFC",
          "Experience": 1,
          "Incidence rate": 3,
          "Purchases": 4,
          "R rate": 0.75,
          "Rank": "Platinum",
          "Region": "1 11",
          "Satisfaction": "100.00",
          "index": 336
         },
         {
          "Category": "Specialist",
          "DoctorID": "ADFECC",
          "Experience": 1,
          "Incidence rate": 3,
          "Purchases": 3,
          "R rate": 1.33,
          "Rank": "Gold Plus",
          "Region": "2 7 9",
          "Satisfaction": "90.00",
          "index": 337
         },
         {
          "Category": "Specialist",
          "DoctorID": "ADIJBE",
          "Experience": 0,
          "Incidence rate": 3,
          "Purchases": 3,
          "R rate": 1.67,
          "Rank": "Silver Plus",
          "Region": "2 11",
          "Satisfaction": "66.67",
          "index": 338
         },
         {
          "Category": "Specialist",
          "DoctorID": "ADIFBD",
          "Experience": 0,
          "Incidence rate": 3,
          "Purchases": 3,
          "R rate": 1,
          "Rank": "Platinum Plus",
          "Region": "1 19 T3",
          "Satisfaction": "28.57",
          "index": 339
         },
         {
          "Category": "General Practitioner",
          "DoctorID": "AEEJCH",
          "Experience": 0.38,
          "Incidence rate": 3,
          "Purchases": 8,
          "R rate": 0.13,
          "Rank": "Gold Plus",
          "Region": "17",
          "Satisfaction": "100.00",
          "index": 340
         },
         {
          "Category": "Specialist",
          "DoctorID": "AEFJHG",
          "Experience": 0.33,
          "Incidence rate": 3,
          "Purchases": 3,
          "R rate": 1,
          "Rank": "Gold",
          "Region": "2 7 10",
          "Satisfaction": "37.50",
          "index": 341
         },
         {
          "Category": "General Practitioner",
          "DoctorID": "AFBJIE",
          "Experience": 0.5,
          "Incidence rate": 3,
          "Purchases": 4,
          "R rate": 0.75,
          "Rank": "Silver Plus",
          "Region": "2 6 19",
          "Satisfaction": "33.33",
          "index": 342
         },
         {
          "Category": "Specialist",
          "DoctorID": "AFCEGG",
          "Experience": 0,
          "Incidence rate": 3,
          "Purchases": 3,
          "R rate": 1.33,
          "Rank": "Gold Plus",
          "Region": "2 7 9",
          "Satisfaction": "--",
          "index": 343
         },
         {
          "Category": "General Practitioner",
          "DoctorID": "AFEHCG",
          "Experience": 1.33,
          "Incidence rate": 3,
          "Purchases": 3,
          "R rate": 0,
          "Rank": "Silver Plus",
          "Region": "2 6 14",
          "Satisfaction": "--",
          "index": 344
         },
         {
          "Category": "General Practitioner",
          "DoctorID": "AFFCCA",
          "Experience": 0.75,
          "Incidence rate": 3,
          "Purchases": 4,
          "R rate": 1.25,
          "Rank": "Silver Plus",
          "Region": "2 6 12",
          "Satisfaction": "37.50",
          "index": 345
         },
         {
          "Category": "Specialist",
          "DoctorID": "AFICJC",
          "Experience": 0.33,
          "Incidence rate": 3,
          "Purchases": 3,
          "R rate": 1,
          "Rank": "Platinum",
          "Region": "1 19",
          "Satisfaction": "-100.00",
          "index": 346
         },
         {
          "Category": "General Practitioner",
          "DoctorID": "AGBJFF",
          "Experience": 0,
          "Incidence rate": 3,
          "Purchases": 4,
          "R rate": 0.5,
          "Rank": "Platinum",
          "Region": "1 19",
          "Satisfaction": "--",
          "index": 347
         },
         {
          "Category": "General Practitioner",
          "DoctorID": "AGCDEJ",
          "Experience": 1,
          "Incidence rate": 3,
          "Purchases": 4,
          "R rate": 0.25,
          "Rank": "Silver Plus",
          "Region": "2 6 9",
          "Satisfaction": "--",
          "index": 348
         },
         {
          "Category": "Specialist",
          "DoctorID": "AGDFDJ",
          "Experience": 0.5,
          "Incidence rate": 3,
          "Purchases": 4,
          "R rate": 1.75,
          "Rank": "Platinum",
          "Region": "1 9",
          "Satisfaction": "--",
          "index": 349
         },
         {
          "Category": "General Practitioner",
          "DoctorID": "AHCFGJ",
          "Experience": 0,
          "Incidence rate": 3,
          "Purchases": 3,
          "R rate": 2,
          "Rank": "Gold Plus",
          "Region": "2 6 19",
          "Satisfaction": "--",
          "index": 350
         },
         {
          "Category": "Specialist",
          "DoctorID": "AHGDBD",
          "Experience": 0.06,
          "Incidence rate": 3,
          "Purchases": 16,
          "R rate": 1.19,
          "Rank": "Ambassador",
          "Region": "4 15",
          "Satisfaction": "--",
          "index": 351
         },
         {
          "Category": "Specialist",
          "DoctorID": "AHGGFF",
          "Experience": 0.75,
          "Incidence rate": 3,
          "Purchases": 4,
          "R rate": 1,
          "Rank": "Gold Plus",
          "Region": "2 7 8",
          "Satisfaction": "-100.00",
          "index": 352
         },
         {
          "Category": "General Practitioner",
          "DoctorID": "AHHEGJ",
          "Experience": 0.25,
          "Incidence rate": 3,
          "Purchases": 4,
          "R rate": 1.25,
          "Rank": "Silver Plus",
          "Region": "2 6 12",
          "Satisfaction": "--",
          "index": 353
         },
         {
          "Category": "General Practitioner",
          "DoctorID": "AHIAEA",
          "Experience": 1,
          "Incidence rate": 3,
          "Purchases": 4,
          "R rate": 1,
          "Rank": "Silver Plus",
          "Region": "2 6 19",
          "Satisfaction": "--",
          "index": 354
         },
         {
          "Category": "General Practitioner",
          "DoctorID": "AHIBDA",
          "Experience": 0,
          "Incidence rate": 3,
          "Purchases": 3,
          "R rate": 0.33,
          "Rank": "Silver Plus",
          "Region": "2 6 9",
          "Satisfaction": "--",
          "index": 355
         },
         {
          "Category": "General Practitioner",
          "DoctorID": "AIBEEA",
          "Experience": 5.33,
          "Incidence rate": 3,
          "Purchases": 3,
          "R rate": 0,
          "Rank": "Silver Plus",
          "Region": "2 6 14",
          "Satisfaction": "--",
          "index": 356
         },
         {
          "Category": "Specialist",
          "DoctorID": "AIEBFJ",
          "Experience": 1,
          "Incidence rate": 3,
          "Purchases": 4,
          "R rate": 0,
          "Rank": "Gold",
          "Region": "2 7 10",
          "Satisfaction": "-100.00",
          "index": 357
         },
         {
          "Category": "Specialist",
          "DoctorID": "AIEBFD",
          "Experience": 0.5,
          "Incidence rate": 3,
          "Purchases": 8,
          "R rate": 1.25,
          "Rank": "Titanium",
          "Region": "1 8 T3",
          "Satisfaction": "--",
          "index": 358
         },
         {
          "Category": "General Practitioner",
          "DoctorID": "AIFDCI",
          "Experience": 0,
          "Incidence rate": 3,
          "Purchases": 4,
          "R rate": 0,
          "Rank": "Silver Plus",
          "Region": "2 6 9",
          "Satisfaction": "-100.00",
          "index": 359
         },
         {
          "Category": "General Practitioner",
          "DoctorID": "BJDFFJ",
          "Experience": 0,
          "Incidence rate": 3,
          "Purchases": 4,
          "R rate": 0.25,
          "Rank": "Gold",
          "Region": "2 11",
          "Satisfaction": "100.00",
          "index": 360
         },
         {
          "Category": "General Practitioner",
          "DoctorID": "BJEACG",
          "Experience": 0.25,
          "Incidence rate": 3,
          "Purchases": 4,
          "R rate": 0.75,
          "Rank": "Platinum",
          "Region": "1 11",
          "Satisfaction": "--",
          "index": 361
         },
         {
          "Category": "Specialist",
          "DoctorID": "BJGCHG",
          "Experience": 1,
          "Incidence rate": 3,
          "Purchases": 3,
          "R rate": 0.67,
          "Rank": "Platinum Plus",
          "Region": "1 14",
          "Satisfaction": "50.00",
          "index": 362
         },
         {
          "Category": "Specialist",
          "DoctorID": "BAJCJJ",
          "Experience": 0.75,
          "Incidence rate": 3,
          "Purchases": 4,
          "R rate": 1,
          "Rank": "Gold Plus",
          "Region": "2 7 10",
          "Satisfaction": "100.00",
          "index": 363
         },
         {
          "Category": "Specialist",
          "DoctorID": "BABGCI",
          "Experience": 0.25,
          "Incidence rate": 3,
          "Purchases": 4,
          "R rate": 4.25,
          "Rank": "Gold Plus",
          "Region": "1 9",
          "Satisfaction": "25.00",
          "index": 364
         },
         {
          "Category": "General Practitioner",
          "DoctorID": "BACJAD",
          "Experience": 0,
          "Incidence rate": 3,
          "Purchases": 4,
          "R rate": 0,
          "Rank": "Gold",
          "Region": "2 6 8",
          "Satisfaction": "--",
          "index": 365
         },
         {
          "Category": "General Practitioner",
          "DoctorID": "BACJCC",
          "Experience": 0,
          "Incidence rate": 3,
          "Purchases": 4,
          "R rate": 1,
          "Rank": "Platinum",
          "Region": "1 8",
          "Satisfaction": "100.00",
          "index": 366
         },
         {
          "Category": "Specialist",
          "DoctorID": "BACAGE",
          "Experience": 0.38,
          "Incidence rate": 3,
          "Purchases": 24,
          "R rate": 1.42,
          "Rank": "Ambassador",
          "Region": "1 19 T4",
          "Satisfaction": "--",
          "index": 367
         },
         {
          "Category": "General Practitioner",
          "DoctorID": "BBBFHC",
          "Experience": 1,
          "Incidence rate": 3,
          "Purchases": 3,
          "R rate": 0,
          "Rank": "Silver Plus",
          "Region": "2 11",
          "Satisfaction": "100.00",
          "index": 368
         },
         {
          "Category": "General Practitioner",
          "DoctorID": "BBBFHH",
          "Experience": 0.25,
          "Incidence rate": 3,
          "Purchases": 4,
          "R rate": 0.75,
          "Rank": "Ambassador",
          "Region": "1 11",
          "Satisfaction": "100.00",
          "index": 369
         },
         {
          "Category": "Specialist",
          "DoctorID": "BCGGDI",
          "Experience": 0.25,
          "Incidence rate": 3,
          "Purchases": 4,
          "R rate": 1.75,
          "Rank": "Gold",
          "Region": "2 7 19",
          "Satisfaction": "--",
          "index": 370
         },
         {
          "Category": "Specialist",
          "DoctorID": "BDGBAA",
          "Experience": 0.75,
          "Incidence rate": 3,
          "Purchases": 4,
          "R rate": 2.25,
          "Rank": "Platinum",
          "Region": "1 13",
          "Satisfaction": "--",
          "index": 371
         },
         {
          "Category": "General Practitioner",
          "DoctorID": "BDGCAB",
          "Experience": 0.33,
          "Incidence rate": 3,
          "Purchases": 3,
          "R rate": 0,
          "Rank": "Gold",
          "Region": "17",
          "Satisfaction": "--",
          "index": 372
         },
         {
          "Category": "General Practitioner",
          "DoctorID": "BDGHAH",
          "Experience": 0.33,
          "Incidence rate": 3,
          "Purchases": 3,
          "R rate": 0,
          "Rank": "Silver Plus",
          "Region": "2 6 12",
          "Satisfaction": "--",
          "index": 373
         },
         {
          "Category": "General Practitioner",
          "DoctorID": "BDHEJE",
          "Experience": 1,
          "Incidence rate": 3,
          "Purchases": 4,
          "R rate": 0.25,
          "Rank": "Silver Plus",
          "Region": "2 6 13",
          "Satisfaction": "--",
          "index": 374
         },
         {
          "Category": "General Practitioner",
          "DoctorID": "BEAGDA",
          "Experience": 1,
          "Incidence rate": 3,
          "Purchases": 3,
          "R rate": 2.33,
          "Rank": "Ambassador",
          "Region": "1 12",
          "Satisfaction": "-33.33",
          "index": 375
         },
         {
          "Category": "General Practitioner",
          "DoctorID": "BEDIAF",
          "Experience": 0.88,
          "Incidence rate": 3,
          "Purchases": 8,
          "R rate": 0.88,
          "Rank": "Platinum",
          "Region": "1 14",
          "Satisfaction": "--",
          "index": 376
         },
         {
          "Category": "General Practitioner",
          "DoctorID": "BFADBF",
          "Experience": 2,
          "Incidence rate": 3,
          "Purchases": 3,
          "R rate": 0,
          "Rank": "Gold Plus",
          "Region": "2 6 13",
          "Satisfaction": "--",
          "index": 377
         },
         {
          "Category": "Specialist",
          "DoctorID": "BFIBIE",
          "Experience": 0,
          "Incidence rate": 3,
          "Purchases": 4,
          "R rate": 0.5,
          "Rank": "Gold",
          "Region": "2 11",
          "Satisfaction": "--",
          "index": 378
         },
         {
          "Category": "Specialist",
          "DoctorID": "BGABAC",
          "Experience": 1.33,
          "Incidence rate": 3,
          "Purchases": 3,
          "R rate": 1,
          "Rank": "Silver Plus",
          "Region": "2 7 10",
          "Satisfaction": "-75.00",
          "index": 379
         },
         {
          "Category": "Specialist",
          "DoctorID": "BHJBFE",
          "Experience": 0.25,
          "Incidence rate": 3,
          "Purchases": 8,
          "R rate": 1.88,
          "Rank": "Silver Plus",
          "Region": "22 18",
          "Satisfaction": "--",
          "index": 380
         },
         {
          "Category": "Specialist",
          "DoctorID": "IACHF",
          "Experience": 0.89,
          "Incidence rate": 2.89,
          "Purchases": 35,
          "R rate": 1.51,
          "Rank": "Ambassador",
          "Region": "1 14",
          "Satisfaction": "88.89",
          "index": 381
         },
         {
          "Category": "Specialist",
          "DoctorID": "EIFEJ",
          "Experience": 0,
          "Incidence rate": 2.86,
          "Purchases": 27,
          "R rate": 0.81,
          "Rank": "Ambassador",
          "Region": "1 9 T4",
          "Satisfaction": "--",
          "index": 382
         },
         {
          "Category": "Specialist",
          "DoctorID": "FAFFH",
          "Experience": 0.57,
          "Incidence rate": 2.83,
          "Purchases": 23,
          "R rate": 1.57,
          "Rank": "Platinum Plus",
          "Region": "1 12 T3",
          "Satisfaction": "--",
          "index": 383
         },
         {
          "Category": "Specialist",
          "DoctorID": "FDBFC",
          "Experience": 0.48,
          "Incidence rate": 2.83,
          "Purchases": 23,
          "R rate": 1.09,
          "Rank": "Ambassador",
          "Region": "1 8",
          "Satisfaction": "100.00",
          "index": 384
         },
         {
          "Category": "Specialist",
          "DoctorID": "FAJBA",
          "Experience": 0.53,
          "Incidence rate": 2.8,
          "Purchases": 19,
          "R rate": 1.47,
          "Rank": "Ambassador",
          "Region": "1 13",
          "Satisfaction": "48.57",
          "index": 385
         },
         {
          "Category": "Specialist",
          "DoctorID": "BDFHAC",
          "Experience": 0.37,
          "Incidence rate": 2.8,
          "Purchases": 19,
          "R rate": 0.53,
          "Rank": "Titanium",
          "Region": "1 14 T3",
          "Satisfaction": "--",
          "index": 386
         },
         {
          "Category": "Specialist",
          "DoctorID": "FDDHA",
          "Experience": 0.94,
          "Incidence rate": 2.78,
          "Purchases": 34,
          "R rate": 1.12,
          "Rank": "Ambassador",
          "Region": "1 12",
          "Satisfaction": "--",
          "index": 387
         },
         {
          "Category": "Specialist",
          "DoctorID": "FDGCE",
          "Experience": 1.13,
          "Incidence rate": 2.75,
          "Purchases": 30,
          "R rate": 1.03,
          "Rank": "Ambassador",
          "Region": "1 11",
          "Satisfaction": "0.00",
          "index": 388
         },
         {
          "Category": "Specialist",
          "DoctorID": "IDBDE",
          "Experience": 0.07,
          "Incidence rate": 2.75,
          "Purchases": 15,
          "R rate": 0.93,
          "Rank": "Ambassador",
          "Region": "1 12 T4",
          "Satisfaction": "--",
          "index": 389
         },
         {
          "Category": "Specialist",
          "DoctorID": "GDADF",
          "Experience": 0.79,
          "Incidence rate": 2.69,
          "Purchases": 48,
          "R rate": 1.35,
          "Rank": "Ambassador",
          "Region": "1 14",
          "Satisfaction": "66.67",
          "index": 390
         },
         {
          "Category": "Specialist",
          "DoctorID": "FJDEA",
          "Experience": 0.91,
          "Incidence rate": 2.67,
          "Purchases": 11,
          "R rate": 1.18,
          "Rank": "Platinum Plus",
          "Region": "1 10 T3",
          "Satisfaction": "--",
          "index": 391
         },
         {
          "Category": "Specialist",
          "DoctorID": "FBHHI",
          "Experience": 0.64,
          "Incidence rate": 2.67,
          "Purchases": 11,
          "R rate": 2.18,
          "Rank": "Platinum",
          "Region": "1 10 T3",
          "Satisfaction": "70.00",
          "index": 392
         },
         {
          "Category": "Specialist",
          "DoctorID": "GIHBE",
          "Experience": 0,
          "Incidence rate": 2.67,
          "Purchases": 11,
          "R rate": 3,
          "Rank": "Titanium",
          "Region": "1 8 T3",
          "Satisfaction": "--",
          "index": 393
         },
         {
          "Category": "Specialist",
          "DoctorID": "HBDID",
          "Experience": 0.05,
          "Incidence rate": 2.67,
          "Purchases": 22,
          "R rate": 1.27,
          "Rank": "Ambassador",
          "Region": "1 19 T4",
          "Satisfaction": "-33.33",
          "index": 394
         },
         {
          "Category": "Specialist",
          "DoctorID": "BAFIJH",
          "Experience": 2.09,
          "Incidence rate": 2.67,
          "Purchases": 11,
          "R rate": 1.64,
          "Rank": "Ambassador",
          "Region": "1 11",
          "Satisfaction": "-29.17",
          "index": 395
         },
         {
          "Category": "Specialist",
          "DoctorID": "GDJGB",
          "Experience": 0.33,
          "Incidence rate": 2.6,
          "Purchases": 18,
          "R rate": 1.17,
          "Rank": "Ambassador",
          "Region": "1 21 T4",
          "Satisfaction": "20.00",
          "index": 396
         },
         {
          "Category": "Specialist",
          "DoctorID": "FDHDI",
          "Experience": 0.16,
          "Incidence rate": 2.56,
          "Purchases": 32,
          "R rate": 0.72,
          "Rank": "Ambassador",
          "Region": "1 12",
          "Satisfaction": "5.88",
          "index": 397
         },
         {
          "Category": "Specialist",
          "DoctorID": "FAHDI",
          "Experience": 0.82,
          "Incidence rate": 2.55,
          "Purchases": 39,
          "R rate": 0.85,
          "Rank": "Ambassador",
          "Region": "1 14",
          "Satisfaction": "0.00",
          "index": 398
         },
         {
          "Category": "Specialist",
          "DoctorID": "EHHCB",
          "Experience": 0,
          "Incidence rate": 2.5,
          "Purchases": 7,
          "R rate": 2.86,
          "Rank": "Platinum",
          "Region": "1 19 T3",
          "Satisfaction": "--",
          "index": 399
         },
         {
          "Category": "Specialist",
          "DoctorID": "EHHGF",
          "Experience": 0.57,
          "Incidence rate": 2.5,
          "Purchases": 7,
          "R rate": 1.86,
          "Rank": "Titanium",
          "Region": "1 12 T3",
          "Satisfaction": "-100.00",
          "index": 400
         },
         {
          "Category": "Specialist",
          "DoctorID": "FJEEA",
          "Experience": 0,
          "Incidence rate": 2.5,
          "Purchases": 7,
          "R rate": 1.29,
          "Rank": "Platinum",
          "Region": "1 19",
          "Satisfaction": "27.27",
          "index": 401
         },
         {
          "Category": "Specialist",
          "DoctorID": "FAACH",
          "Experience": 0.43,
          "Incidence rate": 2.5,
          "Purchases": 7,
          "R rate": 0.14,
          "Rank": "Ambassador",
          "Region": "1 13",
          "Satisfaction": "100.00",
          "index": 402
         },
         {
          "Category": "Specialist",
          "DoctorID": "FAHJJ",
          "Experience": 0.14,
          "Incidence rate": 2.5,
          "Purchases": 7,
          "R rate": 0.57,
          "Rank": "Titanium",
          "Region": "1 9 T3",
          "Satisfaction": "40.00",
          "index": 403
         },
         {
          "Category": "Specialist",
          "DoctorID": "FAICH",
          "Experience": 0.64,
          "Incidence rate": 2.5,
          "Purchases": 14,
          "R rate": 1.14,
          "Rank": "Ambassador",
          "Region": "1 9",
          "Satisfaction": "85.96",
          "index": 404
         },
         {
          "Category": "Specialist",
          "DoctorID": "FCFCJ",
          "Experience": 0.18,
          "Incidence rate": 2.5,
          "Purchases": 28,
          "R rate": 1.61,
          "Rank": "Titanium",
          "Region": "1 8 T3",
          "Satisfaction": "--",
          "index": 405
         },
         {
          "Category": "Specialist",
          "DoctorID": "FDEIA",
          "Experience": 0.57,
          "Incidence rate": 2.5,
          "Purchases": 7,
          "R rate": 2.57,
          "Rank": "Gold Plus",
          "Region": "2 7 8",
          "Satisfaction": "60.00",
          "index": 406
         },
         {
          "Category": "Specialist",
          "DoctorID": "GDFHE",
          "Experience": 0.29,
          "Incidence rate": 2.5,
          "Purchases": 7,
          "R rate": 1.57,
          "Rank": "Platinum Plus",
          "Region": "1 12",
          "Satisfaction": "-26.32",
          "index": 407
         },
         {
          "Category": "Specialist",
          "DoctorID": "AABCGD",
          "Experience": 1.14,
          "Incidence rate": 2.5,
          "Purchases": 7,
          "R rate": 1.57,
          "Rank": "Gold Plus",
          "Region": "1 14",
          "Satisfaction": "-33.33",
          "index": 408
         },
         {
          "Category": "Specialist",
          "DoctorID": "ABDJAA",
          "Experience": 4.07,
          "Incidence rate": 2.5,
          "Purchases": 14,
          "R rate": 1.64,
          "Rank": "Titanium Plus",
          "Region": "23 3",
          "Satisfaction": "--",
          "index": 409
         },
         {
          "Category": "Specialist",
          "DoctorID": "ADJHAB",
          "Experience": 0,
          "Incidence rate": 2.5,
          "Purchases": 7,
          "R rate": 0.57,
          "Rank": "Titanium",
          "Region": "1 12 T3",
          "Satisfaction": "--",
          "index": 410
         },
         {
          "Category": "Specialist",
          "DoctorID": "BJBFJC",
          "Experience": 0.71,
          "Incidence rate": 2.5,
          "Purchases": 7,
          "R rate": 1.14,
          "Rank": "Platinum Plus",
          "Region": "1 9 T3",
          "Satisfaction": "64.71",
          "index": 411
         },
         {
          "Category": "Specialist",
          "DoctorID": "FCABB",
          "Experience": 0.35,
          "Incidence rate": 2.4,
          "Purchases": 17,
          "R rate": 1.41,
          "Rank": "Ambassador",
          "Region": "1 9",
          "Satisfaction": "100.00",
          "index": 412
         },
         {
          "Category": "Specialist",
          "DoctorID": "EIEJD",
          "Experience": 0.2,
          "Incidence rate": 2.33,
          "Purchases": 10,
          "R rate": 1.5,
          "Rank": "Platinum",
          "Region": "1 11",
          "Satisfaction": "100.00",
          "index": 413
         },
         {
          "Category": "Specialist",
          "DoctorID": "FJDAD",
          "Experience": 0.3,
          "Incidence rate": 2.33,
          "Purchases": 10,
          "R rate": 0.8,
          "Rank": "Ambassador",
          "Region": "1 19",
          "Satisfaction": "42.86",
          "index": 414
         },
         {
          "Category": "Specialist",
          "DoctorID": "FBIHF",
          "Experience": 0.3,
          "Incidence rate": 2.33,
          "Purchases": 10,
          "R rate": 1.4,
          "Rank": "Platinum",
          "Region": "1 8 T3",
          "Satisfaction": "-33.33",
          "index": 415
         },
         {
          "Category": "Specialist",
          "DoctorID": "FCDBG",
          "Experience": 1,
          "Incidence rate": 2.33,
          "Purchases": 20,
          "R rate": 1.05,
          "Rank": "Ambassador",
          "Region": "1 12",
          "Satisfaction": "87.10",
          "index": 416
         },
         {
          "Category": "Specialist",
          "DoctorID": "FCHHD",
          "Experience": 0.5,
          "Incidence rate": 2.33,
          "Purchases": 10,
          "R rate": 1.4,
          "Rank": "Platinum Plus",
          "Region": "1 14 T3",
          "Satisfaction": "--",
          "index": 417
         },
         {
          "Category": "Specialist",
          "DoctorID": "GGCCG",
          "Experience": 0.6,
          "Incidence rate": 2.33,
          "Purchases": 10,
          "R rate": 1.3,
          "Rank": "Platinum",
          "Region": "1 19",
          "Satisfaction": "--",
          "index": 418
         },
         {
          "Category": "General Practitioner",
          "DoctorID": "AJJHDH",
          "Experience": 1,
          "Incidence rate": 2.33,
          "Purchases": 10,
          "R rate": 1.7,
          "Rank": "Ambassador",
          "Region": "1 13",
          "Satisfaction": "100.00",
          "index": 419
         },
         {
          "Category": "Specialist",
          "DoctorID": "AJCACF",
          "Experience": 0.13,
          "Incidence rate": 2.33,
          "Purchases": 30,
          "R rate": 0.63,
          "Rank": "Ambassador",
          "Region": "1 13 T4",
          "Satisfaction": "83.33",
          "index": 420
         },
         {
          "Category": "Specialist",
          "DoctorID": "AABDHC",
          "Experience": 0.6,
          "Incidence rate": 2.33,
          "Purchases": 10,
          "R rate": 2.3,
          "Rank": "Titanium",
          "Region": "1 13",
          "Satisfaction": "31.82",
          "index": 421
         },
         {
          "Category": "Specialist",
          "DoctorID": "AAEAAJ",
          "Experience": 0.7,
          "Incidence rate": 2.33,
          "Purchases": 10,
          "R rate": 1.6,
          "Rank": "Platinum Plus",
          "Region": "1 9 T3",
          "Satisfaction": "-22.22",
          "index": 422
         },
         {
          "Category": "General Practitioner",
          "DoctorID": "AAHAEH",
          "Experience": 0.55,
          "Incidence rate": 2.33,
          "Purchases": 20,
          "R rate": 0.45,
          "Rank": "Ambassador",
          "Region": "1 11",
          "Satisfaction": "0.00",
          "index": 423
         },
         {
          "Category": "Specialist",
          "DoctorID": "AFJFJB",
          "Experience": 0.7,
          "Incidence rate": 2.33,
          "Purchases": 10,
          "R rate": 0.8,
          "Rank": "Gold Plus",
          "Region": "1 14",
          "Satisfaction": "-100.00",
          "index": 424
         },
         {
          "Category": "Specialist",
          "DoctorID": "IAEBD",
          "Experience": 1.09,
          "Incidence rate": 2.31,
          "Purchases": 129,
          "R rate": 1.29,
          "Rank": "Ambassador",
          "Region": "1 19 20",
          "Satisfaction": "84.29",
          "index": 425
         },
         {
          "Category": "Specialist",
          "DoctorID": "FBJHH",
          "Experience": 0.38,
          "Incidence rate": 2.25,
          "Purchases": 13,
          "R rate": 1.08,
          "Rank": "Titanium",
          "Region": "1 10 T3",
          "Satisfaction": "-33.33",
          "index": 426
         },
         {
          "Category": "Specialist",
          "DoctorID": "FCFFF",
          "Experience": 0.23,
          "Incidence rate": 2.25,
          "Purchases": 13,
          "R rate": 1.69,
          "Rank": "Titanium",
          "Region": "1 19 T3",
          "Satisfaction": "-13.33",
          "index": 427
         },
         {
          "Category": "Specialist",
          "DoctorID": "AEFJCG",
          "Experience": 0.23,
          "Incidence rate": 2.25,
          "Purchases": 13,
          "R rate": 1.54,
          "Rank": "Platinum",
          "Region": "1 10",
          "Satisfaction": "40.00",
          "index": 428
         },
         {
          "Category": "Specialist",
          "DoctorID": "AHDFJE",
          "Experience": 0.92,
          "Incidence rate": 2.25,
          "Purchases": 13,
          "R rate": 0.92,
          "Rank": "Titanium",
          "Region": "1 11",
          "Satisfaction": "100.00",
          "index": 429
         },
         {
          "Category": "Specialist",
          "DoctorID": "BABIEG",
          "Experience": 0,
          "Incidence rate": 2.25,
          "Purchases": 13,
          "R rate": 0.23,
          "Rank": "Platinum",
          "Region": "1 21 T3",
          "Satisfaction": "-33.33",
          "index": 430
         },
         {
          "Category": "Specialist",
          "DoctorID": "HGAFG",
          "Experience": 0.06,
          "Incidence rate": 2.2,
          "Purchases": 16,
          "R rate": 0.88,
          "Rank": "Ambassador",
          "Region": "1 19 T4",
          "Satisfaction": "--",
          "index": 431
         },
         {
          "Category": "Specialist",
          "DoctorID": "AIABDJ",
          "Experience": 0.77,
          "Incidence rate": 2.18,
          "Purchases": 35,
          "R rate": 0.8,
          "Rank": "Ambassador",
          "Region": "1 10",
          "Satisfaction": "11.76",
          "index": 432
         },
         {
          "Category": "Specialist",
          "DoctorID": "BBAJCF",
          "Experience": 0.11,
          "Incidence rate": 2.17,
          "Purchases": 19,
          "R rate": 1.68,
          "Rank": "Ambassador",
          "Region": "1 9 T4",
          "Satisfaction": "--",
          "index": 433
         },
         {
          "Category": "Specialist",
          "DoctorID": "GGCFB",
          "Experience": 0.27,
          "Incidence rate": 2.14,
          "Purchases": 22,
          "R rate": 0.77,
          "Rank": "Ambassador",
          "Region": "1 19 T4",
          "Satisfaction": "--",
          "index": 434
         },
         {
          "Category": "Specialist",
          "DoctorID": "FDCEG",
          "Experience": 0.32,
          "Incidence rate": 2.13,
          "Purchases": 25,
          "R rate": 0.84,
          "Rank": "Ambassador",
          "Region": "1 9",
          "Satisfaction": "100.00",
          "index": 435
         },
         {
          "Category": "Specialist",
          "DoctorID": "EIEIB",
          "Experience": 0.39,
          "Incidence rate": 2.05,
          "Purchases": 64,
          "R rate": 1.56,
          "Rank": "Ambassador",
          "Region": "1 13",
          "Satisfaction": "11.11",
          "index": 436
         }
        ],
        "schema": {
         "fields": [
          {
           "name": "index",
           "type": "integer"
          },
          {
           "name": "DoctorID",
           "type": "string"
          },
          {
           "name": "Region",
           "type": "string"
          },
          {
           "name": "Category",
           "type": "string"
          },
          {
           "name": "Rank",
           "type": "string"
          },
          {
           "name": "Incidence rate",
           "type": "number"
          },
          {
           "name": "R rate",
           "type": "number"
          },
          {
           "name": "Satisfaction",
           "type": "string"
          },
          {
           "name": "Experience",
           "type": "number"
          },
          {
           "name": "Purchases",
           "type": "number"
          }
         ],
         "pandas_version": "0.20.0",
         "primaryKey": [
          "index"
         ]
        }
       },
       "total_rows": 437
      },
      "text/html": [
       "<div>\n",
       "<style scoped>\n",
       "    .dataframe tbody tr th:only-of-type {\n",
       "        vertical-align: middle;\n",
       "    }\n",
       "\n",
       "    .dataframe tbody tr th {\n",
       "        vertical-align: top;\n",
       "    }\n",
       "\n",
       "    .dataframe thead th {\n",
       "        text-align: right;\n",
       "    }\n",
       "</style>\n",
       "<table border=\"1\" class=\"dataframe\">\n",
       "  <thead>\n",
       "    <tr style=\"text-align: right;\">\n",
       "      <th></th>\n",
       "      <th>DoctorID</th>\n",
       "      <th>Region</th>\n",
       "      <th>Category</th>\n",
       "      <th>Rank</th>\n",
       "      <th>Incidence rate</th>\n",
       "      <th>R rate</th>\n",
       "      <th>Satisfaction</th>\n",
       "      <th>Experience</th>\n",
       "      <th>Purchases</th>\n",
       "    </tr>\n",
       "  </thead>\n",
       "  <tbody>\n",
       "    <tr>\n",
       "      <th>0</th>\n",
       "      <td>AHDCBA</td>\n",
       "      <td>4 15</td>\n",
       "      <td>Specialist</td>\n",
       "      <td>Ambassador</td>\n",
       "      <td>49.00</td>\n",
       "      <td>0.90</td>\n",
       "      <td>53.85</td>\n",
       "      <td>1.20</td>\n",
       "      <td>49.0</td>\n",
       "    </tr>\n",
       "    <tr>\n",
       "      <th>1</th>\n",
       "      <td>ABHAHF</td>\n",
       "      <td>1 8 T4</td>\n",
       "      <td>General Practitioner</td>\n",
       "      <td>Ambassador</td>\n",
       "      <td>37.00</td>\n",
       "      <td>0.00</td>\n",
       "      <td>100.00</td>\n",
       "      <td>0.00</td>\n",
       "      <td>38.0</td>\n",
       "    </tr>\n",
       "    <tr>\n",
       "      <th>2</th>\n",
       "      <td>FDHFJ</td>\n",
       "      <td>1 9 T4</td>\n",
       "      <td>Specialist</td>\n",
       "      <td>Ambassador</td>\n",
       "      <td>33.00</td>\n",
       "      <td>1.53</td>\n",
       "      <td>--</td>\n",
       "      <td>0.00</td>\n",
       "      <td>34.0</td>\n",
       "    </tr>\n",
       "    <tr>\n",
       "      <th>3</th>\n",
       "      <td>BJJHCA</td>\n",
       "      <td>1 10 T3</td>\n",
       "      <td>Specialist</td>\n",
       "      <td>Ambassador</td>\n",
       "      <td>28.00</td>\n",
       "      <td>2.03</td>\n",
       "      <td>--</td>\n",
       "      <td>0.48</td>\n",
       "      <td>29.0</td>\n",
       "    </tr>\n",
       "    <tr>\n",
       "      <th>4</th>\n",
       "      <td>FJBEA</td>\n",
       "      <td>1 14 T4</td>\n",
       "      <td>Specialist</td>\n",
       "      <td>Ambassador</td>\n",
       "      <td>23.00</td>\n",
       "      <td>0.96</td>\n",
       "      <td>76.79</td>\n",
       "      <td>0.75</td>\n",
       "      <td>24.0</td>\n",
       "    </tr>\n",
       "    <tr>\n",
       "      <th>...</th>\n",
       "      <td>...</td>\n",
       "      <td>...</td>\n",
       "      <td>...</td>\n",
       "      <td>...</td>\n",
       "      <td>...</td>\n",
       "      <td>...</td>\n",
       "      <td>...</td>\n",
       "      <td>...</td>\n",
       "      <td>...</td>\n",
       "    </tr>\n",
       "    <tr>\n",
       "      <th>432</th>\n",
       "      <td>AIABDJ</td>\n",
       "      <td>1 10</td>\n",
       "      <td>Specialist</td>\n",
       "      <td>Ambassador</td>\n",
       "      <td>2.18</td>\n",
       "      <td>0.80</td>\n",
       "      <td>11.76</td>\n",
       "      <td>0.77</td>\n",
       "      <td>35.0</td>\n",
       "    </tr>\n",
       "    <tr>\n",
       "      <th>433</th>\n",
       "      <td>BBAJCF</td>\n",
       "      <td>1 9 T4</td>\n",
       "      <td>Specialist</td>\n",
       "      <td>Ambassador</td>\n",
       "      <td>2.17</td>\n",
       "      <td>1.68</td>\n",
       "      <td>--</td>\n",
       "      <td>0.11</td>\n",
       "      <td>19.0</td>\n",
       "    </tr>\n",
       "    <tr>\n",
       "      <th>434</th>\n",
       "      <td>GGCFB</td>\n",
       "      <td>1 19 T4</td>\n",
       "      <td>Specialist</td>\n",
       "      <td>Ambassador</td>\n",
       "      <td>2.14</td>\n",
       "      <td>0.77</td>\n",
       "      <td>--</td>\n",
       "      <td>0.27</td>\n",
       "      <td>22.0</td>\n",
       "    </tr>\n",
       "    <tr>\n",
       "      <th>435</th>\n",
       "      <td>FDCEG</td>\n",
       "      <td>1 9</td>\n",
       "      <td>Specialist</td>\n",
       "      <td>Ambassador</td>\n",
       "      <td>2.13</td>\n",
       "      <td>0.84</td>\n",
       "      <td>100.00</td>\n",
       "      <td>0.32</td>\n",
       "      <td>25.0</td>\n",
       "    </tr>\n",
       "    <tr>\n",
       "      <th>436</th>\n",
       "      <td>EIEIB</td>\n",
       "      <td>1 13</td>\n",
       "      <td>Specialist</td>\n",
       "      <td>Ambassador</td>\n",
       "      <td>2.05</td>\n",
       "      <td>1.56</td>\n",
       "      <td>11.11</td>\n",
       "      <td>0.39</td>\n",
       "      <td>64.0</td>\n",
       "    </tr>\n",
       "  </tbody>\n",
       "</table>\n",
       "<p>437 rows × 9 columns</p>\n",
       "</div>"
      ],
      "text/plain": [
       "    DoctorID   Region              Category        Rank  Incidence rate  \\\n",
       "0     AHDCBA     4 15            Specialist  Ambassador           49.00   \n",
       "1     ABHAHF   1 8 T4  General Practitioner  Ambassador           37.00   \n",
       "2      FDHFJ   1 9 T4            Specialist  Ambassador           33.00   \n",
       "3     BJJHCA  1 10 T3            Specialist  Ambassador           28.00   \n",
       "4      FJBEA  1 14 T4            Specialist  Ambassador           23.00   \n",
       "..       ...      ...                   ...         ...             ...   \n",
       "432   AIABDJ     1 10            Specialist  Ambassador            2.18   \n",
       "433   BBAJCF   1 9 T4            Specialist  Ambassador            2.17   \n",
       "434    GGCFB  1 19 T4            Specialist  Ambassador            2.14   \n",
       "435    FDCEG      1 9            Specialist  Ambassador            2.13   \n",
       "436    EIEIB     1 13            Specialist  Ambassador            2.05   \n",
       "\n",
       "     R rate Satisfaction  Experience  Purchases  \n",
       "0      0.90        53.85        1.20       49.0  \n",
       "1      0.00       100.00        0.00       38.0  \n",
       "2      1.53           --        0.00       34.0  \n",
       "3      2.03           --        0.48       29.0  \n",
       "4      0.96        76.79        0.75       24.0  \n",
       "..      ...          ...         ...        ...  \n",
       "432    0.80        11.76        0.77       35.0  \n",
       "433    1.68           --        0.11       19.0  \n",
       "434    0.77           --        0.27       22.0  \n",
       "435    0.84       100.00        0.32       25.0  \n",
       "436    1.56        11.11        0.39       64.0  \n",
       "\n",
       "[437 rows x 9 columns]"
      ]
     },
     "execution_count": 1,
     "metadata": {},
     "output_type": "execute_result"
    }
   ],
   "source": [
    "import pandas as pd\n",
    "doctors = pd.read_csv('data/doctors.csv')\n",
    "doctors"
   ]
  },
  {
   "cell_type": "code",
   "execution_count": 2,
   "id": "2b75957b-35e3-492e-b1ab-41780128ed18",
   "metadata": {},
   "outputs": [
    {
     "data": {
      "application/com.datacamp.data-table.v1+json": {
       "is_truncated": false,
       "table": {
        "data": [
         {
          "Condition A": false,
          "Condition B": false,
          "Condition C": false,
          "Condition D": false,
          "Condition F": false,
          "Condition G": true,
          "Condition H": true,
          "Condition I": false,
          "Condition J": "Before",
          "DoctorID": "ABJEAI",
          "OrderID": "DGEJFDC",
          "OrderNum": "AIBEHCJ",
          "index": 0
         },
         {
          "Condition A": false,
          "Condition B": true,
          "Condition C": null,
          "Condition D": false,
          "Condition F": false,
          "Condition G": true,
          "Condition H": false,
          "Condition I": true,
          "Condition J": "Before",
          "DoctorID": "HBIEA",
          "OrderID": "DGAJDAH",
          "OrderNum": "AIJIHGB",
          "index": 1
         },
         {
          "Condition A": false,
          "Condition B": false,
          "Condition C": false,
          "Condition D": false,
          "Condition F": false,
          "Condition G": false,
          "Condition H": false,
          "Condition I": false,
          "Condition J": null,
          "DoctorID": "GGCCD",
          "OrderID": "DGBBDCB",
          "OrderNum": "AFEIHFB",
          "index": 2
         },
         {
          "Condition A": false,
          "Condition B": false,
          "Condition C": false,
          "Condition D": true,
          "Condition F": false,
          "Condition G": false,
          "Condition H": true,
          "Condition I": false,
          "Condition J": "Before",
          "DoctorID": "EHHGF",
          "OrderID": "DGCDCCF",
          "OrderNum": "AIBJJEE",
          "index": 3
         },
         {
          "Condition A": false,
          "Condition B": false,
          "Condition C": false,
          "Condition D": false,
          "Condition F": false,
          "Condition G": false,
          "Condition H": false,
          "Condition I": false,
          "Condition J": null,
          "DoctorID": "EHHGF",
          "OrderID": "DGCFAGC",
          "OrderNum": "AEDBBDC",
          "index": 4
         },
         {
          "Condition A": false,
          "Condition B": false,
          "Condition C": false,
          "Condition D": false,
          "Condition F": false,
          "Condition G": false,
          "Condition H": false,
          "Condition I": false,
          "Condition J": null,
          "DoctorID": "EHHGF",
          "OrderID": "DGDBJJC",
          "OrderNum": "AFIEHAA",
          "index": 5
         },
         {
          "Condition A": false,
          "Condition B": true,
          "Condition C": false,
          "Condition D": false,
          "Condition F": false,
          "Condition G": false,
          "Condition H": false,
          "Condition I": false,
          "Condition J": null,
          "DoctorID": "EHHGF",
          "OrderID": "DHJCDJF",
          "OrderNum": "ABJEJHJ",
          "index": 6
         },
         {
          "Condition A": false,
          "Condition B": false,
          "Condition C": null,
          "Condition D": false,
          "Condition F": false,
          "Condition G": false,
          "Condition H": false,
          "Condition I": false,
          "Condition J": null,
          "DoctorID": "FCBDC",
          "OrderID": "DGAIAHJ",
          "OrderNum": "AADBICE",
          "index": 7
         },
         {
          "Condition A": false,
          "Condition B": false,
          "Condition C": false,
          "Condition D": false,
          "Condition F": false,
          "Condition G": false,
          "Condition H": true,
          "Condition I": false,
          "Condition J": "Before",
          "DoctorID": "AABDHC",
          "OrderID": "DEHCIAA",
          "OrderNum": "AHEIDCG",
          "index": 8
         },
         {
          "Condition A": false,
          "Condition B": false,
          "Condition C": false,
          "Condition D": false,
          "Condition F": false,
          "Condition G": false,
          "Condition H": true,
          "Condition I": false,
          "Condition J": "Before",
          "DoctorID": "BCFJAB",
          "OrderID": "DEIIFJB",
          "OrderNum": "AHFEGEI",
          "index": 9
         },
         {
          "Condition A": false,
          "Condition B": false,
          "Condition C": false,
          "Condition D": true,
          "Condition F": false,
          "Condition G": false,
          "Condition H": true,
          "Condition I": false,
          "Condition J": "Before",
          "DoctorID": "BCFJAB",
          "OrderID": "DEIIFJB",
          "OrderNum": "AHFEGEI",
          "index": 10
         },
         {
          "Condition A": false,
          "Condition B": false,
          "Condition C": false,
          "Condition D": false,
          "Condition F": false,
          "Condition G": false,
          "Condition H": false,
          "Condition I": false,
          "Condition J": null,
          "DoctorID": "ACBGIB",
          "OrderID": "DGDCCIH",
          "OrderNum": "AFHBJBH",
          "index": 11
         },
         {
          "Condition A": false,
          "Condition B": false,
          "Condition C": false,
          "Condition D": false,
          "Condition F": false,
          "Condition G": false,
          "Condition H": false,
          "Condition I": false,
          "Condition J": "After",
          "DoctorID": "BJDFFJ",
          "OrderID": "DGIBHCH",
          "OrderNum": "AEIAAAI",
          "index": 12
         },
         {
          "Condition A": true,
          "Condition B": true,
          "Condition C": false,
          "Condition D": false,
          "Condition F": false,
          "Condition G": false,
          "Condition H": true,
          "Condition I": false,
          "Condition J": "Before",
          "DoctorID": "FDHGC",
          "OrderID": "DGJBGBE",
          "OrderNum": "AIJFCGE",
          "index": 13
         },
         {
          "Condition A": false,
          "Condition B": false,
          "Condition C": true,
          "Condition D": true,
          "Condition F": false,
          "Condition G": false,
          "Condition H": true,
          "Condition I": true,
          "Condition J": "Before",
          "DoctorID": "FDHGC",
          "OrderID": "DGADCHE",
          "OrderNum": "AIAADHI",
          "index": 14
         },
         {
          "Condition A": false,
          "Condition B": false,
          "Condition C": false,
          "Condition D": false,
          "Condition F": false,
          "Condition G": true,
          "Condition H": true,
          "Condition I": false,
          "Condition J": "Before",
          "DoctorID": "FDHGC",
          "OrderID": "DGAHEIH",
          "OrderNum": "AIACCCB",
          "index": 15
         },
         {
          "Condition A": false,
          "Condition B": false,
          "Condition C": false,
          "Condition D": false,
          "Condition F": false,
          "Condition G": false,
          "Condition H": true,
          "Condition I": false,
          "Condition J": "Before",
          "DoctorID": "FDHGC",
          "OrderID": "DGCBJJD",
          "OrderNum": "AIAIJEH",
          "index": 16
         },
         {
          "Condition A": false,
          "Condition B": false,
          "Condition C": false,
          "Condition D": false,
          "Condition F": false,
          "Condition G": false,
          "Condition H": true,
          "Condition I": false,
          "Condition J": "Before",
          "DoctorID": "FDHDI",
          "OrderID": "DGCEAED",
          "OrderNum": "AIBJDID",
          "index": 17
         },
         {
          "Condition A": false,
          "Condition B": false,
          "Condition C": false,
          "Condition D": false,
          "Condition F": false,
          "Condition G": false,
          "Condition H": false,
          "Condition I": false,
          "Condition J": null,
          "DoctorID": "FDHDI",
          "OrderID": "DGCIIEC",
          "OrderNum": "AFFACIC",
          "index": 18
         },
         {
          "Condition A": false,
          "Condition B": true,
          "Condition C": false,
          "Condition D": false,
          "Condition F": false,
          "Condition G": false,
          "Condition H": false,
          "Condition I": false,
          "Condition J": null,
          "DoctorID": "FDHDI",
          "OrderID": "DGCIIHI",
          "OrderNum": "ADGHAJE",
          "index": 19
         },
         {
          "Condition A": false,
          "Condition B": false,
          "Condition C": false,
          "Condition D": false,
          "Condition F": false,
          "Condition G": false,
          "Condition H": false,
          "Condition I": false,
          "Condition J": null,
          "DoctorID": "FDHDI",
          "OrderID": "DGDCHJD",
          "OrderNum": "ACAHCDF",
          "index": 20
         },
         {
          "Condition A": false,
          "Condition B": false,
          "Condition C": false,
          "Condition D": false,
          "Condition F": false,
          "Condition G": false,
          "Condition H": false,
          "Condition I": false,
          "Condition J": null,
          "DoctorID": "FDHDI",
          "OrderID": "DGDCIAC",
          "OrderNum": "AFEAAGE",
          "index": 21
         },
         {
          "Condition A": true,
          "Condition B": true,
          "Condition C": true,
          "Condition D": true,
          "Condition F": false,
          "Condition G": false,
          "Condition H": false,
          "Condition I": false,
          "Condition J": "Before",
          "DoctorID": "FDHDI",
          "OrderID": "DGEEFEB",
          "OrderNum": "AIBGFDI",
          "index": 22
         },
         {
          "Condition A": false,
          "Condition B": true,
          "Condition C": false,
          "Condition D": true,
          "Condition F": false,
          "Condition G": false,
          "Condition H": false,
          "Condition I": false,
          "Condition J": null,
          "DoctorID": "FDHDI",
          "OrderID": "DGEHDIH",
          "OrderNum": "AEJDADB",
          "index": 23
         },
         {
          "Condition A": false,
          "Condition B": false,
          "Condition C": null,
          "Condition D": false,
          "Condition F": null,
          "Condition G": null,
          "Condition H": true,
          "Condition I": false,
          "Condition J": null,
          "DoctorID": "FDHDI",
          "OrderID": "DGFFAJJ",
          "OrderNum": "AFFACIC",
          "index": 24
         },
         {
          "Condition A": false,
          "Condition B": false,
          "Condition C": true,
          "Condition D": true,
          "Condition F": false,
          "Condition G": true,
          "Condition H": true,
          "Condition I": false,
          "Condition J": "Before",
          "DoctorID": "GHDFB",
          "OrderID": "DFECJJC",
          "OrderNum": "AHHFFCA",
          "index": 25
         },
         {
          "Condition A": false,
          "Condition B": false,
          "Condition C": false,
          "Condition D": false,
          "Condition F": false,
          "Condition G": false,
          "Condition H": false,
          "Condition I": true,
          "Condition J": "Before",
          "DoctorID": "GHDFB",
          "OrderID": "DGEJIBB",
          "OrderNum": "AIBEIEJ",
          "index": 26
         },
         {
          "Condition A": false,
          "Condition B": false,
          "Condition C": false,
          "Condition D": false,
          "Condition F": false,
          "Condition G": false,
          "Condition H": false,
          "Condition I": false,
          "Condition J": null,
          "DoctorID": "GHDFB",
          "OrderID": "DGIJDEA",
          "OrderNum": "AEAHFFG",
          "index": 27
         },
         {
          "Condition A": false,
          "Condition B": true,
          "Condition C": false,
          "Condition D": false,
          "Condition F": false,
          "Condition G": false,
          "Condition H": false,
          "Condition I": false,
          "Condition J": null,
          "DoctorID": "GHDFB",
          "OrderID": "DHJDBAF",
          "OrderNum": "AEJCHCH",
          "index": 28
         },
         {
          "Condition A": false,
          "Condition B": false,
          "Condition C": false,
          "Condition D": false,
          "Condition F": false,
          "Condition G": false,
          "Condition H": false,
          "Condition I": false,
          "Condition J": "Before",
          "DoctorID": "ADGAIC",
          "OrderID": "DFJJGIH",
          "OrderNum": "AHFFBHA",
          "index": 29
         },
         {
          "Condition A": false,
          "Condition B": false,
          "Condition C": true,
          "Condition D": true,
          "Condition F": false,
          "Condition G": false,
          "Condition H": false,
          "Condition I": false,
          "Condition J": "Before",
          "DoctorID": "FAHDI",
          "OrderID": "DFBAGFE",
          "OrderNum": "AHGDCHB",
          "index": 30
         },
         {
          "Condition A": false,
          "Condition B": false,
          "Condition C": true,
          "Condition D": false,
          "Condition F": false,
          "Condition G": true,
          "Condition H": true,
          "Condition I": false,
          "Condition J": "Before",
          "DoctorID": "FAHDI",
          "OrderID": "DFECBIH",
          "OrderNum": "AHHFGGH",
          "index": 31
         },
         {
          "Condition A": false,
          "Condition B": false,
          "Condition C": false,
          "Condition D": false,
          "Condition F": false,
          "Condition G": true,
          "Condition H": true,
          "Condition I": false,
          "Condition J": "Before",
          "DoctorID": "FAHDI",
          "OrderID": "DFFADBA",
          "OrderNum": "AHIJCBE",
          "index": 32
         },
         {
          "Condition A": false,
          "Condition B": false,
          "Condition C": true,
          "Condition D": false,
          "Condition F": false,
          "Condition G": true,
          "Condition H": true,
          "Condition I": false,
          "Condition J": "Before",
          "DoctorID": "FAHDI",
          "OrderID": "DFFDCDI",
          "OrderNum": "AHIAEJJ",
          "index": 33
         },
         {
          "Condition A": false,
          "Condition B": false,
          "Condition C": true,
          "Condition D": false,
          "Condition F": false,
          "Condition G": false,
          "Condition H": true,
          "Condition I": false,
          "Condition J": "Before",
          "DoctorID": "FAHDI",
          "OrderID": "DFFDFDC",
          "OrderNum": "AHIAFFG",
          "index": 34
         },
         {
          "Condition A": false,
          "Condition B": true,
          "Condition C": true,
          "Condition D": false,
          "Condition F": false,
          "Condition G": false,
          "Condition H": true,
          "Condition I": false,
          "Condition J": "Before",
          "DoctorID": "FAHDI",
          "OrderID": "DGJBHBF",
          "OrderNum": "AIJFCGA",
          "index": 35
         },
         {
          "Condition A": false,
          "Condition B": false,
          "Condition C": false,
          "Condition D": false,
          "Condition F": false,
          "Condition G": false,
          "Condition H": true,
          "Condition I": false,
          "Condition J": null,
          "DoctorID": "FAHDI",
          "OrderID": "DGAHGAD",
          "OrderNum": "AFEAIBH",
          "index": 36
         },
         {
          "Condition A": false,
          "Condition B": false,
          "Condition C": true,
          "Condition D": true,
          "Condition F": false,
          "Condition G": false,
          "Condition H": false,
          "Condition I": false,
          "Condition J": null,
          "DoctorID": "FAHDI",
          "OrderID": "DGAHHED",
          "OrderNum": "ABIHDHH",
          "index": 37
         },
         {
          "Condition A": false,
          "Condition B": false,
          "Condition C": false,
          "Condition D": false,
          "Condition F": false,
          "Condition G": false,
          "Condition H": false,
          "Condition I": false,
          "Condition J": null,
          "DoctorID": "FAHDI",
          "OrderID": "DGAIDAB",
          "OrderNum": "AADBFJB",
          "index": 38
         },
         {
          "Condition A": false,
          "Condition B": false,
          "Condition C": true,
          "Condition D": false,
          "Condition F": false,
          "Condition G": false,
          "Condition H": false,
          "Condition I": false,
          "Condition J": "Before",
          "DoctorID": "FAHDI",
          "OrderID": "DGBHAJC",
          "OrderNum": "AIAGFJD",
          "index": 39
         },
         {
          "Condition A": false,
          "Condition B": false,
          "Condition C": true,
          "Condition D": true,
          "Condition F": false,
          "Condition G": true,
          "Condition H": false,
          "Condition I": false,
          "Condition J": null,
          "DoctorID": "FAHDI",
          "OrderID": "DGDEBIH",
          "OrderNum": "ADDABFE",
          "index": 40
         },
         {
          "Condition A": false,
          "Condition B": false,
          "Condition C": false,
          "Condition D": false,
          "Condition F": false,
          "Condition G": false,
          "Condition H": false,
          "Condition I": false,
          "Condition J": null,
          "DoctorID": "FAHDI",
          "OrderID": "DGDECJH",
          "OrderNum": "FAHJHE",
          "index": 41
         },
         {
          "Condition A": false,
          "Condition B": false,
          "Condition C": false,
          "Condition D": false,
          "Condition F": false,
          "Condition G": false,
          "Condition H": false,
          "Condition I": false,
          "Condition J": null,
          "DoctorID": "FAHDI",
          "OrderID": "DGDIFEH",
          "OrderNum": "AFIJDDJ",
          "index": 42
         },
         {
          "Condition A": false,
          "Condition B": false,
          "Condition C": false,
          "Condition D": false,
          "Condition F": false,
          "Condition G": false,
          "Condition H": false,
          "Condition I": false,
          "Condition J": "Before",
          "DoctorID": "FAHDI",
          "OrderID": "DGFJEBH",
          "OrderNum": "AIBIDBJ",
          "index": 43
         },
         {
          "Condition A": false,
          "Condition B": true,
          "Condition C": false,
          "Condition D": false,
          "Condition F": false,
          "Condition G": false,
          "Condition H": false,
          "Condition I": false,
          "Condition J": "Before",
          "DoctorID": "FAHDI",
          "OrderID": "DGFJFFC",
          "OrderNum": "AIBIDEH",
          "index": 44
         },
         {
          "Condition A": false,
          "Condition B": false,
          "Condition C": false,
          "Condition D": false,
          "Condition F": false,
          "Condition G": false,
          "Condition H": false,
          "Condition I": false,
          "Condition J": null,
          "DoctorID": "FAHDI",
          "OrderID": "DGFFEIH",
          "OrderNum": "ABFFFIB",
          "index": 45
         },
         {
          "Condition A": false,
          "Condition B": false,
          "Condition C": true,
          "Condition D": true,
          "Condition F": false,
          "Condition G": false,
          "Condition H": false,
          "Condition I": false,
          "Condition J": null,
          "DoctorID": "FAHDI",
          "OrderID": "DGFGAGD",
          "OrderNum": "AFBIFFI",
          "index": 46
         },
         {
          "Condition A": true,
          "Condition B": false,
          "Condition C": false,
          "Condition D": false,
          "Condition F": false,
          "Condition G": false,
          "Condition H": false,
          "Condition I": false,
          "Condition J": null,
          "DoctorID": "BJBFJC",
          "OrderID": "DGAGFDB",
          "OrderNum": "AGCEAIJ",
          "index": 47
         },
         {
          "Condition A": false,
          "Condition B": true,
          "Condition C": false,
          "Condition D": false,
          "Condition F": false,
          "Condition G": false,
          "Condition H": false,
          "Condition I": true,
          "Condition J": "Before",
          "DoctorID": "FJAJH",
          "OrderID": "DGBAEDC",
          "OrderNum": "AIADFFI",
          "index": 48
         },
         {
          "Condition A": true,
          "Condition B": false,
          "Condition C": false,
          "Condition D": false,
          "Condition F": false,
          "Condition G": false,
          "Condition H": true,
          "Condition I": false,
          "Condition J": "Before",
          "DoctorID": "FJAJH",
          "OrderID": "DGBAEGE",
          "OrderNum": "AIADFIJ",
          "index": 49
         },
         {
          "Condition A": false,
          "Condition B": false,
          "Condition C": false,
          "Condition D": false,
          "Condition F": false,
          "Condition G": false,
          "Condition H": false,
          "Condition I": false,
          "Condition J": null,
          "DoctorID": "FJAJH",
          "OrderID": "DGBFIDB",
          "OrderNum": "ACFFJGB",
          "index": 50
         },
         {
          "Condition A": false,
          "Condition B": false,
          "Condition C": false,
          "Condition D": false,
          "Condition F": false,
          "Condition G": false,
          "Condition H": false,
          "Condition I": false,
          "Condition J": null,
          "DoctorID": "FJAJH",
          "OrderID": "DGCBEBF",
          "OrderNum": "AEFBCGD",
          "index": 51
         },
         {
          "Condition A": false,
          "Condition B": false,
          "Condition C": false,
          "Condition D": false,
          "Condition F": false,
          "Condition G": true,
          "Condition H": true,
          "Condition I": false,
          "Condition J": "Before",
          "DoctorID": "FJAJH",
          "OrderID": "DGDIDFI",
          "OrderNum": "AIBECHD",
          "index": 52
         },
         {
          "Condition A": false,
          "Condition B": false,
          "Condition C": false,
          "Condition D": true,
          "Condition F": false,
          "Condition G": true,
          "Condition H": true,
          "Condition I": false,
          "Condition J": "Before",
          "DoctorID": "FJAJH",
          "OrderID": "DGDIDFI",
          "OrderNum": "AIBECHD",
          "index": 53
         },
         {
          "Condition A": false,
          "Condition B": false,
          "Condition C": false,
          "Condition D": false,
          "Condition F": false,
          "Condition G": false,
          "Condition H": false,
          "Condition I": false,
          "Condition J": null,
          "DoctorID": "FJAJH",
          "OrderID": "DGECJAJ",
          "OrderNum": "AFDACAD",
          "index": 54
         },
         {
          "Condition A": false,
          "Condition B": false,
          "Condition C": false,
          "Condition D": false,
          "Condition F": false,
          "Condition G": false,
          "Condition H": false,
          "Condition I": false,
          "Condition J": null,
          "DoctorID": "FJAJH",
          "OrderID": "DGFBHHG",
          "OrderNum": "AEBIGIG",
          "index": 55
         },
         {
          "Condition A": false,
          "Condition B": false,
          "Condition C": false,
          "Condition D": false,
          "Condition F": false,
          "Condition G": false,
          "Condition H": false,
          "Condition I": false,
          "Condition J": null,
          "DoctorID": "FJAJH",
          "OrderID": "DGIJBFF",
          "OrderNum": "ACHGJIF",
          "index": 56
         },
         {
          "Condition A": false,
          "Condition B": false,
          "Condition C": false,
          "Condition D": false,
          "Condition F": false,
          "Condition G": false,
          "Condition H": false,
          "Condition I": false,
          "Condition J": "Before",
          "DoctorID": "FJAJH",
          "OrderID": "DGIGCEB",
          "OrderNum": "AIDDDGB",
          "index": 57
         },
         {
          "Condition A": true,
          "Condition B": false,
          "Condition C": false,
          "Condition D": false,
          "Condition F": false,
          "Condition G": false,
          "Condition H": false,
          "Condition I": false,
          "Condition J": null,
          "DoctorID": "AIEBFD",
          "OrderID": "DGCGJFI",
          "OrderNum": "ABABGGC",
          "index": 58
         },
         {
          "Condition A": false,
          "Condition B": false,
          "Condition C": false,
          "Condition D": false,
          "Condition F": false,
          "Condition G": false,
          "Condition H": false,
          "Condition I": false,
          "Condition J": null,
          "DoctorID": "AIEBFD",
          "OrderID": "DGCGABA",
          "OrderNum": "AFCDEEB",
          "index": 59
         },
         {
          "Condition A": false,
          "Condition B": false,
          "Condition C": false,
          "Condition D": false,
          "Condition F": false,
          "Condition G": false,
          "Condition H": false,
          "Condition I": true,
          "Condition J": "Before",
          "DoctorID": "AIEBFD",
          "OrderID": "DGEFJBD",
          "OrderNum": "AIBGHCE",
          "index": 60
         },
         {
          "Condition A": true,
          "Condition B": true,
          "Condition C": false,
          "Condition D": false,
          "Condition F": false,
          "Condition G": false,
          "Condition H": true,
          "Condition I": false,
          "Condition J": "Before",
          "DoctorID": "AIEBFD",
          "OrderID": "DGGCHAJ",
          "OrderNum": "AICDFDF",
          "index": 61
         },
         {
          "Condition A": false,
          "Condition B": false,
          "Condition C": false,
          "Condition D": false,
          "Condition F": false,
          "Condition G": false,
          "Condition H": false,
          "Condition I": true,
          "Condition J": "Before",
          "DoctorID": "AIEBFD",
          "OrderID": "DGHJAGG",
          "OrderNum": "AICGBGG",
          "index": 62
         },
         {
          "Condition A": false,
          "Condition B": false,
          "Condition C": false,
          "Condition D": false,
          "Condition F": false,
          "Condition G": false,
          "Condition H": false,
          "Condition I": true,
          "Condition J": "Before",
          "DoctorID": "HCBFF",
          "OrderID": "DGJDBHA",
          "OrderNum": "AIJGABE",
          "index": 63
         },
         {
          "Condition A": false,
          "Condition B": false,
          "Condition C": false,
          "Condition D": false,
          "Condition F": false,
          "Condition G": false,
          "Condition H": false,
          "Condition I": false,
          "Condition J": null,
          "DoctorID": "IFDIB",
          "OrderID": "DFGBHHC",
          "OrderNum": "ACBECBD",
          "index": 64
         },
         {
          "Condition A": false,
          "Condition B": false,
          "Condition C": false,
          "Condition D": false,
          "Condition F": false,
          "Condition G": true,
          "Condition H": false,
          "Condition I": false,
          "Condition J": "Before",
          "DoctorID": "IFDIB",
          "OrderID": "DGJECBF",
          "OrderNum": "AIJGEBJ",
          "index": 65
         },
         {
          "Condition A": false,
          "Condition B": false,
          "Condition C": false,
          "Condition D": false,
          "Condition F": false,
          "Condition G": true,
          "Condition H": true,
          "Condition I": false,
          "Condition J": "Before",
          "DoctorID": "IFDIB",
          "OrderID": "DGJECBF",
          "OrderNum": "AIJGEBJ",
          "index": 66
         },
         {
          "Condition A": false,
          "Condition B": false,
          "Condition C": true,
          "Condition D": false,
          "Condition F": false,
          "Condition G": false,
          "Condition H": false,
          "Condition I": true,
          "Condition J": "Before",
          "DoctorID": "IFDIB",
          "OrderID": "DGEJHIB",
          "OrderNum": "AIBEIDJ",
          "index": 67
         },
         {
          "Condition A": true,
          "Condition B": false,
          "Condition C": false,
          "Condition D": false,
          "Condition F": false,
          "Condition G": false,
          "Condition H": true,
          "Condition I": false,
          "Condition J": "Before",
          "DoctorID": "IFDIB",
          "OrderID": "DGECIDE",
          "OrderNum": "AIBGAEB",
          "index": 68
         },
         {
          "Condition A": false,
          "Condition B": false,
          "Condition C": false,
          "Condition D": false,
          "Condition F": false,
          "Condition G": false,
          "Condition H": true,
          "Condition I": false,
          "Condition J": null,
          "DoctorID": "FJBGJ",
          "OrderID": "DGBEFAB",
          "OrderNum": "AEGGDJI",
          "index": 69
         },
         {
          "Condition A": false,
          "Condition B": false,
          "Condition C": false,
          "Condition D": false,
          "Condition F": false,
          "Condition G": false,
          "Condition H": true,
          "Condition I": false,
          "Condition J": "Before",
          "DoctorID": "FJBGJ",
          "OrderID": "DGEFABA",
          "OrderNum": "AIBGHFI",
          "index": 70
         },
         {
          "Condition A": false,
          "Condition B": false,
          "Condition C": false,
          "Condition D": false,
          "Condition F": false,
          "Condition G": false,
          "Condition H": false,
          "Condition I": false,
          "Condition J": null,
          "DoctorID": "FJBGJ",
          "OrderID": "DGFCIJI",
          "OrderNum": "AFIDCDF",
          "index": 71
         },
         {
          "Condition A": false,
          "Condition B": false,
          "Condition C": false,
          "Condition D": false,
          "Condition F": false,
          "Condition G": false,
          "Condition H": false,
          "Condition I": false,
          "Condition J": "Before",
          "DoctorID": "FJBGJ",
          "OrderID": "DGIACCB",
          "OrderNum": "AIDAIBE",
          "index": 72
         },
         {
          "Condition A": false,
          "Condition B": false,
          "Condition C": false,
          "Condition D": false,
          "Condition F": false,
          "Condition G": false,
          "Condition H": false,
          "Condition I": false,
          "Condition J": "Before",
          "DoctorID": "EIFEJ",
          "OrderID": "DGEBABH",
          "OrderNum": "AIBFDFC",
          "index": 73
         },
         {
          "Condition A": false,
          "Condition B": false,
          "Condition C": false,
          "Condition D": false,
          "Condition F": false,
          "Condition G": true,
          "Condition H": false,
          "Condition I": false,
          "Condition J": "Before",
          "DoctorID": "ABAIEG",
          "OrderID": "DFGFDBJ",
          "OrderNum": "AHIFDAD",
          "index": 74
         },
         {
          "Condition A": true,
          "Condition B": false,
          "Condition C": false,
          "Condition D": true,
          "Condition F": false,
          "Condition G": true,
          "Condition H": false,
          "Condition I": false,
          "Condition J": "Before",
          "DoctorID": "ACBBCA",
          "OrderID": "DFIEADA",
          "OrderNum": "AIJCEHJ",
          "index": 75
         },
         {
          "Condition A": false,
          "Condition B": false,
          "Condition C": false,
          "Condition D": false,
          "Condition F": false,
          "Condition G": true,
          "Condition H": false,
          "Condition I": false,
          "Condition J": null,
          "DoctorID": "ACBBCA",
          "OrderID": "DGJJIIA",
          "OrderNum": "ABHGHGF",
          "index": 76
         },
         {
          "Condition A": true,
          "Condition B": false,
          "Condition C": false,
          "Condition D": false,
          "Condition F": false,
          "Condition G": false,
          "Condition H": true,
          "Condition I": false,
          "Condition J": "Before",
          "DoctorID": "ACBBCA",
          "OrderID": "DGBADFC",
          "OrderNum": "AIADFAD",
          "index": 77
         },
         {
          "Condition A": false,
          "Condition B": false,
          "Condition C": false,
          "Condition D": true,
          "Condition F": false,
          "Condition G": false,
          "Condition H": false,
          "Condition I": false,
          "Condition J": "Before",
          "DoctorID": "ACBBCA",
          "OrderID": "DGFJJHA",
          "OrderNum": "AIBIAHF",
          "index": 78
         },
         {
          "Condition A": false,
          "Condition B": false,
          "Condition C": false,
          "Condition D": true,
          "Condition F": false,
          "Condition G": true,
          "Condition H": true,
          "Condition I": false,
          "Condition J": "Before",
          "DoctorID": "ACBBCA",
          "OrderID": "DGGIGDC",
          "OrderNum": "AICGJEC",
          "index": 79
         },
         {
          "Condition A": false,
          "Condition B": false,
          "Condition C": false,
          "Condition D": false,
          "Condition F": false,
          "Condition G": false,
          "Condition H": false,
          "Condition I": false,
          "Condition J": null,
          "DoctorID": "BCGFDD",
          "OrderID": "DGIJDHB",
          "OrderNum": "AEFEHBC",
          "index": 80
         },
         {
          "Condition A": false,
          "Condition B": false,
          "Condition C": true,
          "Condition D": true,
          "Condition F": false,
          "Condition G": false,
          "Condition H": false,
          "Condition I": false,
          "Condition J": null,
          "DoctorID": "BCGFDD",
          "OrderID": "DGIJDHB",
          "OrderNum": "AEFEHBC",
          "index": 81
         },
         {
          "Condition A": false,
          "Condition B": false,
          "Condition C": false,
          "Condition D": false,
          "Condition F": false,
          "Condition G": false,
          "Condition H": true,
          "Condition I": false,
          "Condition J": "Before",
          "DoctorID": "EIFHE",
          "OrderID": "DFCCCBA",
          "OrderNum": "AHGHGBE",
          "index": 82
         },
         {
          "Condition A": false,
          "Condition B": false,
          "Condition C": false,
          "Condition D": false,
          "Condition F": false,
          "Condition G": false,
          "Condition H": true,
          "Condition I": false,
          "Condition J": "Before",
          "DoctorID": "FDHAJ",
          "OrderID": "DFIBEBH",
          "OrderNum": "AIJBFHH",
          "index": 83
         },
         {
          "Condition A": false,
          "Condition B": false,
          "Condition C": true,
          "Condition D": false,
          "Condition F": false,
          "Condition G": true,
          "Condition H": false,
          "Condition I": false,
          "Condition J": null,
          "DoctorID": "FDHAJ",
          "OrderID": "DGECABG",
          "OrderNum": "AFBGDFJ",
          "index": 84
         },
         {
          "Condition A": false,
          "Condition B": false,
          "Condition C": false,
          "Condition D": false,
          "Condition F": false,
          "Condition G": false,
          "Condition H": false,
          "Condition I": false,
          "Condition J": null,
          "DoctorID": "AADDIG",
          "OrderID": "DGDGGEE",
          "OrderNum": "ADFEHJD",
          "index": 85
         },
         {
          "Condition A": false,
          "Condition B": false,
          "Condition C": false,
          "Condition D": false,
          "Condition F": false,
          "Condition G": false,
          "Condition H": false,
          "Condition I": false,
          "Condition J": null,
          "DoctorID": "AADDIG",
          "OrderID": "DHJCIIG",
          "OrderNum": "AAEFGFJ",
          "index": 86
         },
         {
          "Condition A": false,
          "Condition B": false,
          "Condition C": false,
          "Condition D": false,
          "Condition F": false,
          "Condition G": false,
          "Condition H": true,
          "Condition I": false,
          "Condition J": "Before",
          "DoctorID": "FAGBJ",
          "OrderID": "DGFDCFI",
          "OrderNum": "AICJGFB",
          "index": 87
         },
         {
          "Condition A": false,
          "Condition B": false,
          "Condition C": false,
          "Condition D": false,
          "Condition F": false,
          "Condition G": false,
          "Condition H": true,
          "Condition I": false,
          "Condition J": "Before",
          "DoctorID": "FCIJH",
          "OrderID": "DGJDBCE",
          "OrderNum": "AIJGJDE",
          "index": 88
         },
         {
          "Condition A": false,
          "Condition B": false,
          "Condition C": false,
          "Condition D": false,
          "Condition F": false,
          "Condition G": false,
          "Condition H": true,
          "Condition I": false,
          "Condition J": "Before",
          "DoctorID": "HBDID",
          "OrderID": "DGCGHGA",
          "OrderNum": "AIBAEAH",
          "index": 89
         },
         {
          "Condition A": false,
          "Condition B": false,
          "Condition C": false,
          "Condition D": false,
          "Condition F": false,
          "Condition G": false,
          "Condition H": false,
          "Condition I": false,
          "Condition J": null,
          "DoctorID": "BABEFH",
          "OrderID": "DGAHHEH",
          "OrderNum": "AEIDFFG",
          "index": 90
         },
         {
          "Condition A": false,
          "Condition B": false,
          "Condition C": false,
          "Condition D": true,
          "Condition F": false,
          "Condition G": true,
          "Condition H": false,
          "Condition I": false,
          "Condition J": null,
          "DoctorID": "BABEFH",
          "OrderID": "DGDIHDE",
          "OrderNum": "AFBAFCE",
          "index": 91
         },
         {
          "Condition A": false,
          "Condition B": false,
          "Condition C": false,
          "Condition D": false,
          "Condition F": false,
          "Condition G": false,
          "Condition H": false,
          "Condition I": false,
          "Condition J": null,
          "DoctorID": "BABEFH",
          "OrderID": "DGDIIGH",
          "OrderNum": "ACHAFAF",
          "index": 92
         },
         {
          "Condition A": false,
          "Condition B": false,
          "Condition C": false,
          "Condition D": false,
          "Condition F": false,
          "Condition G": true,
          "Condition H": false,
          "Condition I": false,
          "Condition J": null,
          "DoctorID": "BABEFH",
          "OrderID": "DGEADIG",
          "OrderNum": "AEBFDHI",
          "index": 93
         },
         {
          "Condition A": false,
          "Condition B": false,
          "Condition C": true,
          "Condition D": true,
          "Condition F": false,
          "Condition G": true,
          "Condition H": false,
          "Condition I": false,
          "Condition J": null,
          "DoctorID": "BABEFH",
          "OrderID": "DGFCFEB",
          "OrderNum": "ACBJDBF",
          "index": 94
         },
         {
          "Condition A": false,
          "Condition B": false,
          "Condition C": false,
          "Condition D": false,
          "Condition F": false,
          "Condition G": false,
          "Condition H": false,
          "Condition I": false,
          "Condition J": null,
          "DoctorID": "BABEFH",
          "OrderID": "DGFHCFH",
          "OrderNum": "AFBFACG",
          "index": 95
         },
         {
          "Condition A": false,
          "Condition B": false,
          "Condition C": true,
          "Condition D": false,
          "Condition F": false,
          "Condition G": false,
          "Condition H": false,
          "Condition I": false,
          "Condition J": "Before",
          "DoctorID": "BABEFH",
          "OrderID": "DGGCJAD",
          "OrderNum": "AICDCCB",
          "index": 96
         },
         {
          "Condition A": false,
          "Condition B": false,
          "Condition C": false,
          "Condition D": false,
          "Condition F": false,
          "Condition G": false,
          "Condition H": false,
          "Condition I": false,
          "Condition J": "Before",
          "DoctorID": "BABEFH",
          "OrderID": "DGICHCD",
          "OrderNum": "AIDBIFC",
          "index": 97
         },
         {
          "Condition A": false,
          "Condition B": false,
          "Condition C": false,
          "Condition D": true,
          "Condition F": true,
          "Condition G": false,
          "Condition H": true,
          "Condition I": false,
          "Condition J": "Before",
          "DoctorID": "ACDBJE",
          "OrderID": "DFFHDEF",
          "OrderNum": "AHICJII",
          "index": 98
         },
         {
          "Condition A": false,
          "Condition B": false,
          "Condition C": false,
          "Condition D": false,
          "Condition F": false,
          "Condition G": true,
          "Condition H": false,
          "Condition I": false,
          "Condition J": "Before",
          "DoctorID": "ACDBJE",
          "OrderID": "DGACHEG",
          "OrderNum": "AIAABDH",
          "index": 99
         },
         {
          "Condition A": false,
          "Condition B": false,
          "Condition C": false,
          "Condition D": false,
          "Condition F": false,
          "Condition G": false,
          "Condition H": false,
          "Condition I": false,
          "Condition J": "Before",
          "DoctorID": "ACDBJE",
          "OrderID": "DGCEGED",
          "OrderNum": "AIBJDBH",
          "index": 100
         },
         {
          "Condition A": false,
          "Condition B": false,
          "Condition C": true,
          "Condition D": false,
          "Condition F": false,
          "Condition G": false,
          "Condition H": true,
          "Condition I": false,
          "Condition J": "Before",
          "DoctorID": "ACDBJE",
          "OrderID": "DGDFHHA",
          "OrderNum": "AIBDFFA",
          "index": 101
         },
         {
          "Condition A": false,
          "Condition B": false,
          "Condition C": false,
          "Condition D": false,
          "Condition F": false,
          "Condition G": false,
          "Condition H": false,
          "Condition I": false,
          "Condition J": "Before",
          "DoctorID": "ACDBJE",
          "OrderID": "DGEGDGJ",
          "OrderNum": "AIBHCAE",
          "index": 102
         },
         {
          "Condition A": false,
          "Condition B": false,
          "Condition C": false,
          "Condition D": false,
          "Condition F": false,
          "Condition G": false,
          "Condition H": false,
          "Condition I": false,
          "Condition J": null,
          "DoctorID": "ABHGCJ",
          "OrderID": "DGDGGFH",
          "OrderNum": "AFFADGA",
          "index": 103
         },
         {
          "Condition A": false,
          "Condition B": false,
          "Condition C": false,
          "Condition D": false,
          "Condition F": false,
          "Condition G": false,
          "Condition H": false,
          "Condition I": false,
          "Condition J": "Before",
          "DoctorID": "ABHGCJ",
          "OrderID": "DGGHEDF",
          "OrderNum": "AICFEJH",
          "index": 104
         },
         {
          "Condition A": false,
          "Condition B": false,
          "Condition C": false,
          "Condition D": false,
          "Condition F": false,
          "Condition G": false,
          "Condition H": false,
          "Condition I": false,
          "Condition J": "Before",
          "DoctorID": "FCEDH",
          "OrderID": "DGCIDHB",
          "OrderNum": "AIBBJBF",
          "index": 105
         },
         {
          "Condition A": false,
          "Condition B": false,
          "Condition C": false,
          "Condition D": false,
          "Condition F": false,
          "Condition G": true,
          "Condition H": false,
          "Condition I": true,
          "Condition J": "Before",
          "DoctorID": "FCEDH",
          "OrderID": "DGIHADH",
          "OrderNum": "AIDDGID",
          "index": 106
         },
         {
          "Condition A": false,
          "Condition B": false,
          "Condition C": false,
          "Condition D": true,
          "Condition F": false,
          "Condition G": true,
          "Condition H": false,
          "Condition I": false,
          "Condition J": "Before",
          "DoctorID": "AFCADC",
          "OrderID": "DFFJGDJ",
          "OrderNum": "AHIJJDC",
          "index": 107
         },
         {
          "Condition A": false,
          "Condition B": false,
          "Condition C": false,
          "Condition D": true,
          "Condition F": false,
          "Condition G": true,
          "Condition H": true,
          "Condition I": false,
          "Condition J": "Before",
          "DoctorID": "AFCADC",
          "OrderID": "DFGBHIA",
          "OrderNum": "AHIEJGA",
          "index": 108
         },
         {
          "Condition A": false,
          "Condition B": false,
          "Condition C": false,
          "Condition D": false,
          "Condition F": false,
          "Condition G": true,
          "Condition H": true,
          "Condition I": false,
          "Condition J": "Before",
          "DoctorID": "AFCADC",
          "OrderID": "DFIGJAG",
          "OrderNum": "AIJDBFE",
          "index": 109
         },
         {
          "Condition A": false,
          "Condition B": false,
          "Condition C": false,
          "Condition D": false,
          "Condition F": false,
          "Condition G": false,
          "Condition H": false,
          "Condition I": false,
          "Condition J": null,
          "DoctorID": "AFCADC",
          "OrderID": "DGJCEFD",
          "OrderNum": "AEAEBGG",
          "index": 110
         },
         {
          "Condition A": false,
          "Condition B": false,
          "Condition C": false,
          "Condition D": false,
          "Condition F": false,
          "Condition G": false,
          "Condition H": false,
          "Condition I": false,
          "Condition J": null,
          "DoctorID": "AFCADC",
          "OrderID": "DGJGIAG",
          "OrderNum": "ADGGJIH",
          "index": 111
         },
         {
          "Condition A": false,
          "Condition B": false,
          "Condition C": false,
          "Condition D": false,
          "Condition F": false,
          "Condition G": false,
          "Condition H": false,
          "Condition I": false,
          "Condition J": null,
          "DoctorID": "AFCADC",
          "OrderID": "DGCJCDE",
          "OrderNum": "AEADFHJ",
          "index": 112
         },
         {
          "Condition A": true,
          "Condition B": false,
          "Condition C": false,
          "Condition D": false,
          "Condition F": false,
          "Condition G": false,
          "Condition H": false,
          "Condition I": false,
          "Condition J": null,
          "DoctorID": "AFCADC",
          "OrderID": "DGCEGHD",
          "OrderNum": "AGBCCHH",
          "index": 113
         },
         {
          "Condition A": true,
          "Condition B": true,
          "Condition C": false,
          "Condition D": false,
          "Condition F": false,
          "Condition G": false,
          "Condition H": false,
          "Condition I": false,
          "Condition J": null,
          "DoctorID": "AFCADC",
          "OrderID": "DGCFEBA",
          "OrderNum": "AEGAGGH",
          "index": 114
         },
         {
          "Condition A": true,
          "Condition B": false,
          "Condition C": false,
          "Condition D": false,
          "Condition F": false,
          "Condition G": false,
          "Condition H": true,
          "Condition I": false,
          "Condition J": "Before",
          "DoctorID": "AFCADC",
          "OrderID": "DGDJAGA",
          "OrderNum": "AIBBCEH",
          "index": 115
         },
         {
          "Condition A": true,
          "Condition B": true,
          "Condition C": true,
          "Condition D": true,
          "Condition F": false,
          "Condition G": false,
          "Condition H": false,
          "Condition I": false,
          "Condition J": "Before",
          "DoctorID": "AFCADC",
          "OrderID": "DGDJBGD",
          "OrderNum": "AIBBCBE",
          "index": 116
         },
         {
          "Condition A": false,
          "Condition B": false,
          "Condition C": false,
          "Condition D": false,
          "Condition F": false,
          "Condition G": false,
          "Condition H": false,
          "Condition I": false,
          "Condition J": "Before",
          "DoctorID": "AFCADC",
          "OrderID": "DGEFEGC",
          "OrderNum": "AHAEEJE",
          "index": 117
         },
         {
          "Condition A": false,
          "Condition B": false,
          "Condition C": false,
          "Condition D": false,
          "Condition F": false,
          "Condition G": false,
          "Condition H": false,
          "Condition I": false,
          "Condition J": null,
          "DoctorID": "AFCADC",
          "OrderID": "DGGCDFH",
          "OrderNum": "AEJJDFG",
          "index": 118
         },
         {
          "Condition A": false,
          "Condition B": false,
          "Condition C": false,
          "Condition D": false,
          "Condition F": false,
          "Condition G": false,
          "Condition H": false,
          "Condition I": false,
          "Condition J": null,
          "DoctorID": "AFCADC",
          "OrderID": "DGGICGJ",
          "OrderNum": "AECCIDG",
          "index": 119
         },
         {
          "Condition A": false,
          "Condition B": false,
          "Condition C": false,
          "Condition D": false,
          "Condition F": false,
          "Condition G": false,
          "Condition H": false,
          "Condition I": false,
          "Condition J": null,
          "DoctorID": "AFCADC",
          "OrderID": "DGGICIA",
          "OrderNum": "AGDAAAB",
          "index": 120
         },
         {
          "Condition A": false,
          "Condition B": false,
          "Condition C": false,
          "Condition D": false,
          "Condition F": false,
          "Condition G": false,
          "Condition H": false,
          "Condition I": false,
          "Condition J": null,
          "DoctorID": "AFCADC",
          "OrderID": "DHJHIDH",
          "OrderNum": "AEHBFFG",
          "index": 121
         },
         {
          "Condition A": false,
          "Condition B": false,
          "Condition C": false,
          "Condition D": false,
          "Condition F": false,
          "Condition G": false,
          "Condition H": false,
          "Condition I": false,
          "Condition J": null,
          "DoctorID": "HJDFA",
          "OrderID": "DGDCFHF",
          "OrderNum": "ACDCGBI",
          "index": 122
         },
         {
          "Condition A": false,
          "Condition B": true,
          "Condition C": false,
          "Condition D": false,
          "Condition F": false,
          "Condition G": false,
          "Condition H": true,
          "Condition I": false,
          "Condition J": "Before",
          "DoctorID": "HJDFA",
          "OrderID": "DGEEJHG",
          "OrderNum": "AIBGCGE",
          "index": 123
         },
         {
          "Condition A": false,
          "Condition B": false,
          "Condition C": false,
          "Condition D": false,
          "Condition F": false,
          "Condition G": true,
          "Condition H": true,
          "Condition I": false,
          "Condition J": "Before",
          "DoctorID": "AAEIEG",
          "OrderID": "DGBJJAC",
          "OrderNum": "AIACHGA",
          "index": 124
         },
         {
          "Condition A": false,
          "Condition B": false,
          "Condition C": true,
          "Condition D": true,
          "Condition F": false,
          "Condition G": false,
          "Condition H": false,
          "Condition I": false,
          "Condition J": null,
          "DoctorID": "AAEIEG",
          "OrderID": "DGBAIJH",
          "OrderNum": "AEIJDJH",
          "index": 125
         },
         {
          "Condition A": false,
          "Condition B": true,
          "Condition C": false,
          "Condition D": false,
          "Condition F": false,
          "Condition G": true,
          "Condition H": false,
          "Condition I": false,
          "Condition J": null,
          "DoctorID": "FBFHB",
          "OrderID": "DEGJCCG",
          "OrderNum": "ACGBFDH",
          "index": 126
         },
         {
          "Condition A": false,
          "Condition B": true,
          "Condition C": false,
          "Condition D": false,
          "Condition F": false,
          "Condition G": false,
          "Condition H": true,
          "Condition I": false,
          "Condition J": null,
          "DoctorID": "FBFHB",
          "OrderID": "DEHBAFG",
          "OrderNum": "ACHBFEH",
          "index": 127
         },
         {
          "Condition A": true,
          "Condition B": true,
          "Condition C": false,
          "Condition D": false,
          "Condition F": false,
          "Condition G": false,
          "Condition H": false,
          "Condition I": false,
          "Condition J": "Before",
          "DoctorID": "FBFHB",
          "OrderID": "DEHBHCJ",
          "OrderNum": "AHEIJFB",
          "index": 128
         },
         {
          "Condition A": false,
          "Condition B": false,
          "Condition C": false,
          "Condition D": false,
          "Condition F": false,
          "Condition G": false,
          "Condition H": false,
          "Condition I": false,
          "Condition J": null,
          "DoctorID": "FBFHB",
          "OrderID": "DFJHJEG",
          "OrderNum": "ACDAJBA",
          "index": 129
         },
         {
          "Condition A": true,
          "Condition B": true,
          "Condition C": false,
          "Condition D": false,
          "Condition F": false,
          "Condition G": false,
          "Condition H": true,
          "Condition I": false,
          "Condition J": "Before",
          "DoctorID": "FBFHB",
          "OrderID": "DFFCGFA",
          "OrderNum": "AHIABCG",
          "index": 130
         },
         {
          "Condition A": false,
          "Condition B": false,
          "Condition C": false,
          "Condition D": false,
          "Condition F": false,
          "Condition G": false,
          "Condition H": false,
          "Condition I": false,
          "Condition J": null,
          "DoctorID": "FBFHB",
          "OrderID": "DFFCHHA",
          "OrderNum": "AFIDCEF",
          "index": 131
         },
         {
          "Condition A": false,
          "Condition B": true,
          "Condition C": false,
          "Condition D": false,
          "Condition F": false,
          "Condition G": false,
          "Condition H": true,
          "Condition I": false,
          "Condition J": "Before",
          "DoctorID": "FBFHB",
          "OrderID": "DFGAGIE",
          "OrderNum": "AHIDEHC",
          "index": 132
         },
         {
          "Condition A": false,
          "Condition B": false,
          "Condition C": false,
          "Condition D": false,
          "Condition F": false,
          "Condition G": false,
          "Condition H": false,
          "Condition I": false,
          "Condition J": "Before",
          "DoctorID": "FBFHB",
          "OrderID": "DFGAHBE",
          "OrderNum": "AHIDEID",
          "index": 133
         },
         {
          "Condition A": true,
          "Condition B": true,
          "Condition C": false,
          "Condition D": false,
          "Condition F": false,
          "Condition G": false,
          "Condition H": false,
          "Condition I": false,
          "Condition J": "Before",
          "DoctorID": "FBFHB",
          "OrderID": "DFIIBCC",
          "OrderNum": "AIJEJBH",
          "index": 134
         },
         {
          "Condition A": false,
          "Condition B": false,
          "Condition C": false,
          "Condition D": false,
          "Condition F": false,
          "Condition G": false,
          "Condition H": true,
          "Condition I": false,
          "Condition J": "Before",
          "DoctorID": "FBFHB",
          "OrderID": "DGJJACC",
          "OrderNum": "AIJECHC",
          "index": 135
         },
         {
          "Condition A": false,
          "Condition B": false,
          "Condition C": false,
          "Condition D": false,
          "Condition F": false,
          "Condition G": false,
          "Condition H": false,
          "Condition I": false,
          "Condition J": "Before",
          "DoctorID": "FBFHB",
          "OrderID": "DGCJIHJ",
          "OrderNum": "AIAHDGH",
          "index": 136
         },
         {
          "Condition A": false,
          "Condition B": true,
          "Condition C": false,
          "Condition D": false,
          "Condition F": false,
          "Condition G": false,
          "Condition H": false,
          "Condition I": false,
          "Condition J": null,
          "DoctorID": "FBFHB",
          "OrderID": "DGDGCBG",
          "OrderNum": "HBCHHI",
          "index": 137
         },
         {
          "Condition A": false,
          "Condition B": false,
          "Condition C": false,
          "Condition D": false,
          "Condition F": false,
          "Condition G": false,
          "Condition H": true,
          "Condition I": false,
          "Condition J": "Before",
          "DoctorID": "FBFHB",
          "OrderID": "DGFEGGJ",
          "OrderNum": "AICADBF",
          "index": 138
         },
         {
          "Condition A": false,
          "Condition B": false,
          "Condition C": false,
          "Condition D": false,
          "Condition F": false,
          "Condition G": false,
          "Condition H": false,
          "Condition I": false,
          "Condition J": null,
          "DoctorID": "FBFHB",
          "OrderID": "DHJAIDG",
          "OrderNum": "AEAJJAB",
          "index": 139
         },
         {
          "Condition A": false,
          "Condition B": false,
          "Condition C": false,
          "Condition D": false,
          "Condition F": false,
          "Condition G": false,
          "Condition H": false,
          "Condition I": false,
          "Condition J": null,
          "DoctorID": "FAGIE",
          "OrderID": "DFJFEGB",
          "OrderNum": "ACJCAGF",
          "index": 140
         },
         {
          "Condition A": false,
          "Condition B": false,
          "Condition C": true,
          "Condition D": false,
          "Condition F": false,
          "Condition G": true,
          "Condition H": false,
          "Condition I": true,
          "Condition J": "Before",
          "DoctorID": "FAGIE",
          "OrderID": "DFGAGCC",
          "OrderNum": "AHIDDFI",
          "index": 141
         },
         {
          "Condition A": false,
          "Condition B": false,
          "Condition C": false,
          "Condition D": false,
          "Condition F": false,
          "Condition G": true,
          "Condition H": true,
          "Condition I": false,
          "Condition J": "Before",
          "DoctorID": "FAGIE",
          "OrderID": "DFHEGJE",
          "OrderNum": "AHIIIJC",
          "index": 142
         },
         {
          "Condition A": false,
          "Condition B": true,
          "Condition C": false,
          "Condition D": false,
          "Condition F": false,
          "Condition G": false,
          "Condition H": true,
          "Condition I": false,
          "Condition J": "Before",
          "DoctorID": "FAGIE",
          "OrderID": "DFIEIHF",
          "OrderNum": "AHIIHHF",
          "index": 143
         },
         {
          "Condition A": false,
          "Condition B": false,
          "Condition C": false,
          "Condition D": false,
          "Condition F": false,
          "Condition G": false,
          "Condition H": false,
          "Condition I": false,
          "Condition J": null,
          "DoctorID": "FAGIE",
          "OrderID": "DGAEFGF",
          "OrderNum": "ACAFHFF",
          "index": 144
         },
         {
          "Condition A": false,
          "Condition B": false,
          "Condition C": false,
          "Condition D": false,
          "Condition F": false,
          "Condition G": false,
          "Condition H": false,
          "Condition I": false,
          "Condition J": null,
          "DoctorID": "FAGIE",
          "OrderID": "DGAFFDD",
          "OrderNum": "AFBAIBC",
          "index": 145
         },
         {
          "Condition A": false,
          "Condition B": false,
          "Condition C": false,
          "Condition D": false,
          "Condition F": false,
          "Condition G": false,
          "Condition H": false,
          "Condition I": false,
          "Condition J": null,
          "DoctorID": "FAGIE",
          "OrderID": "DGAGDHB",
          "OrderNum": "AFAGEGI",
          "index": 146
         },
         {
          "Condition A": false,
          "Condition B": false,
          "Condition C": false,
          "Condition D": true,
          "Condition F": false,
          "Condition G": false,
          "Condition H": false,
          "Condition I": false,
          "Condition J": null,
          "DoctorID": "FAGIE",
          "OrderID": "DGAGDHB",
          "OrderNum": "AFAGEGI",
          "index": 147
         },
         {
          "Condition A": false,
          "Condition B": false,
          "Condition C": true,
          "Condition D": true,
          "Condition F": false,
          "Condition G": false,
          "Condition H": false,
          "Condition I": false,
          "Condition J": null,
          "DoctorID": "FAGIE",
          "OrderID": "DGAIAJB",
          "OrderNum": "ACCIAGH",
          "index": 148
         },
         {
          "Condition A": false,
          "Condition B": false,
          "Condition C": false,
          "Condition D": true,
          "Condition F": false,
          "Condition G": false,
          "Condition H": false,
          "Condition I": true,
          "Condition J": "Before",
          "DoctorID": "FAGIE",
          "OrderID": "DGBGEEE",
          "OrderNum": "AIAGCGD",
          "index": 149
         },
         {
          "Condition A": false,
          "Condition B": false,
          "Condition C": false,
          "Condition D": true,
          "Condition F": false,
          "Condition G": true,
          "Condition H": true,
          "Condition I": false,
          "Condition J": "Before",
          "DoctorID": "FAGIE",
          "OrderID": "DGCEBDI",
          "OrderNum": "AIBJDII",
          "index": 150
         },
         {
          "Condition A": false,
          "Condition B": false,
          "Condition C": false,
          "Condition D": false,
          "Condition F": false,
          "Condition G": false,
          "Condition H": false,
          "Condition I": false,
          "Condition J": null,
          "DoctorID": "FAICB",
          "OrderID": "DFIAGCC",
          "OrderNum": "AFCCIBI",
          "index": 151
         },
         {
          "Condition A": false,
          "Condition B": false,
          "Condition C": false,
          "Condition D": false,
          "Condition F": false,
          "Condition G": false,
          "Condition H": false,
          "Condition I": false,
          "Condition J": null,
          "DoctorID": "FAICB",
          "OrderID": "DGAGBIC",
          "OrderNum": "AGJCEBJ",
          "index": 152
         },
         {
          "Condition A": false,
          "Condition B": false,
          "Condition C": null,
          "Condition D": false,
          "Condition F": null,
          "Condition G": null,
          "Condition H": false,
          "Condition I": false,
          "Condition J": null,
          "DoctorID": "FAICB",
          "OrderID": "DGFEGAJ",
          "OrderNum": "AGHDCCC",
          "index": 153
         },
         {
          "Condition A": false,
          "Condition B": true,
          "Condition C": false,
          "Condition D": false,
          "Condition F": false,
          "Condition G": false,
          "Condition H": false,
          "Condition I": false,
          "Condition J": "Before",
          "DoctorID": "FAICB",
          "OrderID": "DGHAHAD",
          "OrderNum": "AICGICG",
          "index": 154
         },
         {
          "Condition A": true,
          "Condition B": true,
          "Condition C": false,
          "Condition D": false,
          "Condition F": false,
          "Condition G": false,
          "Condition H": true,
          "Condition I": false,
          "Condition J": "Before",
          "DoctorID": "FAICB",
          "OrderID": "DGIEGIA",
          "OrderNum": "AIDCGDJ",
          "index": 155
         },
         {
          "Condition A": false,
          "Condition B": false,
          "Condition C": false,
          "Condition D": false,
          "Condition F": false,
          "Condition G": false,
          "Condition H": false,
          "Condition I": true,
          "Condition J": "Before",
          "DoctorID": "GIHBE",
          "OrderID": "DGABGAI",
          "OrderNum": "AIAJGBE",
          "index": 156
         },
         {
          "Condition A": false,
          "Condition B": false,
          "Condition C": false,
          "Condition D": false,
          "Condition F": false,
          "Condition G": true,
          "Condition H": true,
          "Condition I": false,
          "Condition J": "Before",
          "DoctorID": "GIHBE",
          "OrderID": "DGAFEJE",
          "OrderNum": "AIABCCD",
          "index": 157
         },
         {
          "Condition A": true,
          "Condition B": false,
          "Condition C": false,
          "Condition D": false,
          "Condition F": false,
          "Condition G": false,
          "Condition H": false,
          "Condition I": false,
          "Condition J": "Before",
          "DoctorID": "AEGFAA",
          "OrderID": "DGDCJFI",
          "OrderNum": "AIBCEIH",
          "index": 158
         },
         {
          "Condition A": false,
          "Condition B": false,
          "Condition C": false,
          "Condition D": false,
          "Condition F": false,
          "Condition G": false,
          "Condition H": false,
          "Condition I": false,
          "Condition J": null,
          "DoctorID": "AEGFAA",
          "OrderID": "DGDFHHD",
          "OrderNum": "ABEFFIE",
          "index": 159
         },
         {
          "Condition A": false,
          "Condition B": true,
          "Condition C": false,
          "Condition D": false,
          "Condition F": false,
          "Condition G": false,
          "Condition H": false,
          "Condition I": false,
          "Condition J": "Before",
          "DoctorID": "AEGFAA",
          "OrderID": "DGECIAI",
          "OrderNum": "AIBGABH",
          "index": 160
         },
         {
          "Condition A": false,
          "Condition B": false,
          "Condition C": false,
          "Condition D": false,
          "Condition F": false,
          "Condition G": false,
          "Condition H": false,
          "Condition I": false,
          "Condition J": null,
          "DoctorID": "AEGFAA",
          "OrderID": "DGHDJIJ",
          "OrderNum": "AEEJHFE",
          "index": 161
         },
         {
          "Condition A": false,
          "Condition B": false,
          "Condition C": false,
          "Condition D": false,
          "Condition F": false,
          "Condition G": false,
          "Condition H": false,
          "Condition I": false,
          "Condition J": null,
          "DoctorID": "ADFECC",
          "OrderID": "DGBEIGB",
          "OrderNum": "AJCDEDF",
          "index": 162
         },
         {
          "Condition A": false,
          "Condition B": false,
          "Condition C": false,
          "Condition D": false,
          "Condition F": false,
          "Condition G": true,
          "Condition H": true,
          "Condition I": false,
          "Condition J": null,
          "DoctorID": "HBAHA",
          "OrderID": "DGCFABC",
          "OrderNum": "ADCCEIB",
          "index": 163
         },
         {
          "Condition A": false,
          "Condition B": false,
          "Condition C": false,
          "Condition D": false,
          "Condition F": false,
          "Condition G": false,
          "Condition H": false,
          "Condition I": false,
          "Condition J": "Before",
          "DoctorID": "FCDBG",
          "OrderID": "DFAGGJE",
          "OrderNum": "AHGBFGA",
          "index": 164
         },
         {
          "Condition A": false,
          "Condition B": false,
          "Condition C": false,
          "Condition D": false,
          "Condition F": false,
          "Condition G": false,
          "Condition H": false,
          "Condition I": false,
          "Condition J": "Before",
          "DoctorID": "FCDBG",
          "OrderID": "DGAJACG",
          "OrderNum": "AIJIGDJ",
          "index": 165
         },
         {
          "Condition A": false,
          "Condition B": false,
          "Condition C": false,
          "Condition D": false,
          "Condition F": false,
          "Condition G": false,
          "Condition H": false,
          "Condition I": false,
          "Condition J": null,
          "DoctorID": "FCDBG",
          "OrderID": "DGBBDCI",
          "OrderNum": "AECHFHE",
          "index": 166
         },
         {
          "Condition A": false,
          "Condition B": false,
          "Condition C": false,
          "Condition D": false,
          "Condition F": false,
          "Condition G": false,
          "Condition H": true,
          "Condition I": false,
          "Condition J": "Before",
          "DoctorID": "FCDBG",
          "OrderID": "DGFBGCF",
          "OrderNum": "AICJAGC",
          "index": 167
         },
         {
          "Condition A": false,
          "Condition B": true,
          "Condition C": null,
          "Condition D": false,
          "Condition F": false,
          "Condition G": false,
          "Condition H": false,
          "Condition I": true,
          "Condition J": "Before",
          "DoctorID": "FCDBG",
          "OrderID": "DGGEFGJ",
          "OrderNum": "AICECGC",
          "index": 168
         },
         {
          "Condition A": false,
          "Condition B": false,
          "Condition C": false,
          "Condition D": false,
          "Condition F": false,
          "Condition G": false,
          "Condition H": false,
          "Condition I": false,
          "Condition J": null,
          "DoctorID": "AHIEIG",
          "OrderID": "DGDJGHB",
          "OrderNum": "AGEBABE",
          "index": 169
         },
         {
          "Condition A": false,
          "Condition B": true,
          "Condition C": false,
          "Condition D": false,
          "Condition F": false,
          "Condition G": false,
          "Condition H": false,
          "Condition I": false,
          "Condition J": null,
          "DoctorID": "AHIEIG",
          "OrderID": "DGEAGBJ",
          "OrderNum": "AGDDEBI",
          "index": 170
         },
         {
          "Condition A": false,
          "Condition B": false,
          "Condition C": false,
          "Condition D": false,
          "Condition F": false,
          "Condition G": false,
          "Condition H": false,
          "Condition I": false,
          "Condition J": null,
          "DoctorID": "GDADF",
          "OrderID": "DGCBGHG",
          "OrderNum": "ADFCHGD",
          "index": 171
         },
         {
          "Condition A": true,
          "Condition B": true,
          "Condition C": false,
          "Condition D": false,
          "Condition F": false,
          "Condition G": false,
          "Condition H": false,
          "Condition I": false,
          "Condition J": null,
          "DoctorID": "AHDDAI",
          "OrderID": "DGAIDCA",
          "OrderNum": "ACJIADJ",
          "index": 172
         },
         {
          "Condition A": false,
          "Condition B": false,
          "Condition C": false,
          "Condition D": false,
          "Condition F": false,
          "Condition G": true,
          "Condition H": false,
          "Condition I": false,
          "Condition J": "Before",
          "DoctorID": "GDFHE",
          "OrderID": "DGGFDFH",
          "OrderNum": "AICEFIF",
          "index": 173
         },
         {
          "Condition A": false,
          "Condition B": false,
          "Condition C": false,
          "Condition D": false,
          "Condition F": false,
          "Condition G": true,
          "Condition H": true,
          "Condition I": false,
          "Condition J": "Before",
          "DoctorID": "GDFHE",
          "OrderID": "DGGFECC",
          "OrderNum": "AICEFEB",
          "index": 174
         },
         {
          "Condition A": false,
          "Condition B": false,
          "Condition C": false,
          "Condition D": false,
          "Condition F": false,
          "Condition G": false,
          "Condition H": false,
          "Condition I": true,
          "Condition J": null,
          "DoctorID": "GDFHE",
          "OrderID": "DHJIBCI",
          "OrderNum": "AAJHEBA",
          "index": 175
         },
         {
          "Condition A": false,
          "Condition B": false,
          "Condition C": false,
          "Condition D": false,
          "Condition F": false,
          "Condition G": true,
          "Condition H": true,
          "Condition I": false,
          "Condition J": "Before",
          "DoctorID": "FBIII",
          "OrderID": "DFDIHJF",
          "OrderNum": "AHHEBHH",
          "index": 176
         },
         {
          "Condition A": true,
          "Condition B": false,
          "Condition C": true,
          "Condition D": false,
          "Condition F": false,
          "Condition G": false,
          "Condition H": true,
          "Condition I": false,
          "Condition J": "Before",
          "DoctorID": "FBIII",
          "OrderID": "DFHIFFF",
          "OrderNum": "AIJADFA",
          "index": 177
         },
         {
          "Condition A": false,
          "Condition B": false,
          "Condition C": false,
          "Condition D": false,
          "Condition F": false,
          "Condition G": false,
          "Condition H": false,
          "Condition I": false,
          "Condition J": null,
          "DoctorID": "FBIII",
          "OrderID": "DGEDCIG",
          "OrderNum": "AFEAGGA",
          "index": 178
         },
         {
          "Condition A": false,
          "Condition B": false,
          "Condition C": false,
          "Condition D": false,
          "Condition F": false,
          "Condition G": false,
          "Condition H": false,
          "Condition I": false,
          "Condition J": null,
          "DoctorID": "FBIII",
          "OrderID": "DGEDDGI",
          "OrderNum": "ADEDFAG",
          "index": 179
         },
         {
          "Condition A": false,
          "Condition B": false,
          "Condition C": false,
          "Condition D": false,
          "Condition F": false,
          "Condition G": false,
          "Condition H": false,
          "Condition I": false,
          "Condition J": null,
          "DoctorID": "FBIII",
          "OrderID": "DGHJBFH",
          "OrderNum": "ADFCCGB",
          "index": 180
         },
         {
          "Condition A": false,
          "Condition B": false,
          "Condition C": false,
          "Condition D": false,
          "Condition F": false,
          "Condition G": false,
          "Condition H": false,
          "Condition I": true,
          "Condition J": "Before",
          "DoctorID": "FBIII",
          "OrderID": "DGHBGAJ",
          "OrderNum": "AICHCFD",
          "index": 181
         },
         {
          "Condition A": false,
          "Condition B": false,
          "Condition C": false,
          "Condition D": false,
          "Condition F": false,
          "Condition G": false,
          "Condition H": false,
          "Condition I": false,
          "Condition J": null,
          "DoctorID": "FBIII",
          "OrderID": "DGHHGDA",
          "OrderNum": "AEGHHGG",
          "index": 182
         },
         {
          "Condition A": false,
          "Condition B": false,
          "Condition C": true,
          "Condition D": true,
          "Condition F": false,
          "Condition G": true,
          "Condition H": false,
          "Condition I": false,
          "Condition J": null,
          "DoctorID": "AFCGAH",
          "OrderID": "DGBEGJD",
          "OrderNum": "AFJFBEI",
          "index": 183
         },
         {
          "Condition A": false,
          "Condition B": false,
          "Condition C": false,
          "Condition D": false,
          "Condition F": false,
          "Condition G": false,
          "Condition H": false,
          "Condition I": false,
          "Condition J": "Before",
          "DoctorID": "AEFEAG",
          "OrderID": "DGAGBFC",
          "OrderNum": "AIABFIB",
          "index": 184
         },
         {
          "Condition A": false,
          "Condition B": false,
          "Condition C": false,
          "Condition D": false,
          "Condition F": false,
          "Condition G": false,
          "Condition H": false,
          "Condition I": false,
          "Condition J": null,
          "DoctorID": "AEFEAG",
          "OrderID": "DGECCED",
          "OrderNum": "ADGEAFA",
          "index": 185
         },
         {
          "Condition A": false,
          "Condition B": false,
          "Condition C": null,
          "Condition D": false,
          "Condition F": null,
          "Condition G": null,
          "Condition H": false,
          "Condition I": false,
          "Condition J": null,
          "DoctorID": "AAGHII",
          "OrderID": "DGECAJB",
          "OrderNum": "GHCGDJ",
          "index": 186
         },
         {
          "Condition A": false,
          "Condition B": false,
          "Condition C": false,
          "Condition D": false,
          "Condition F": false,
          "Condition G": true,
          "Condition H": false,
          "Condition I": false,
          "Condition J": "Before",
          "DoctorID": "AAGHII",
          "OrderID": "DGHHGHB",
          "OrderNum": "AIDJGGA",
          "index": 187
         },
         {
          "Condition A": false,
          "Condition B": true,
          "Condition C": true,
          "Condition D": true,
          "Condition F": false,
          "Condition G": false,
          "Condition H": false,
          "Condition I": false,
          "Condition J": "Before",
          "DoctorID": "EHEGI",
          "OrderID": "DGBCIGD",
          "OrderNum": "AIAEGBH",
          "index": 188
         },
         {
          "Condition A": false,
          "Condition B": false,
          "Condition C": false,
          "Condition D": false,
          "Condition F": false,
          "Condition G": false,
          "Condition H": true,
          "Condition I": false,
          "Condition J": "Before",
          "DoctorID": "BDGHAH",
          "OrderID": "DFAGCIC",
          "OrderNum": "AHGBEFJ",
          "index": 189
         },
         {
          "Condition A": false,
          "Condition B": false,
          "Condition C": false,
          "Condition D": false,
          "Condition F": false,
          "Condition G": true,
          "Condition H": true,
          "Condition I": false,
          "Condition J": "Before",
          "DoctorID": "BDGHAH",
          "OrderID": "DGDFDHI",
          "OrderNum": "AIBDEGC",
          "index": 190
         },
         {
          "Condition A": false,
          "Condition B": false,
          "Condition C": false,
          "Condition D": false,
          "Condition F": false,
          "Condition G": true,
          "Condition H": false,
          "Condition I": false,
          "Condition J": "Before",
          "DoctorID": "BDGHAH",
          "OrderID": "DGIFCFE",
          "OrderNum": "AIDCIHD",
          "index": 191
         },
         {
          "Condition A": true,
          "Condition B": true,
          "Condition C": false,
          "Condition D": true,
          "Condition F": false,
          "Condition G": false,
          "Condition H": false,
          "Condition I": false,
          "Condition J": "Before",
          "DoctorID": "ABEAFF",
          "OrderID": "DGJEGIJ",
          "OrderNum": "AIJGHJF",
          "index": 192
         },
         {
          "Condition A": true,
          "Condition B": false,
          "Condition C": false,
          "Condition D": false,
          "Condition F": false,
          "Condition G": false,
          "Condition H": true,
          "Condition I": false,
          "Condition J": "Before",
          "DoctorID": "ABEAFF",
          "OrderID": "DGCGECA",
          "OrderNum": "AIBACBG",
          "index": 193
         },
         {
          "Condition A": true,
          "Condition B": false,
          "Condition C": false,
          "Condition D": false,
          "Condition F": false,
          "Condition G": false,
          "Condition H": false,
          "Condition I": false,
          "Condition J": "Before",
          "DoctorID": "BABGJG",
          "OrderID": "DGBEEIB",
          "OrderNum": "AIAFFDB",
          "index": 194
         },
         {
          "Condition A": true,
          "Condition B": true,
          "Condition C": false,
          "Condition D": false,
          "Condition F": false,
          "Condition G": false,
          "Condition H": false,
          "Condition I": false,
          "Condition J": "Before",
          "DoctorID": "BABGJG",
          "OrderID": "DGBEHJF",
          "OrderNum": "AIAFGAB",
          "index": 195
         },
         {
          "Condition A": false,
          "Condition B": false,
          "Condition C": true,
          "Condition D": true,
          "Condition F": false,
          "Condition G": false,
          "Condition H": false,
          "Condition I": false,
          "Condition J": null,
          "DoctorID": "BABGJG",
          "OrderID": "DGDDJAA",
          "OrderNum": "ADFHCHG",
          "index": 196
         },
         {
          "Condition A": false,
          "Condition B": false,
          "Condition C": false,
          "Condition D": false,
          "Condition F": false,
          "Condition G": false,
          "Condition H": true,
          "Condition I": false,
          "Condition J": "Before",
          "DoctorID": "AABGAB",
          "OrderID": "DGCJDCD",
          "OrderNum": "AIAHBEB",
          "index": 197
         },
         {
          "Condition A": false,
          "Condition B": false,
          "Condition C": false,
          "Condition D": false,
          "Condition F": false,
          "Condition G": false,
          "Condition H": false,
          "Condition I": false,
          "Condition J": "Before",
          "DoctorID": "AABGAB",
          "OrderID": "DGCJDEE",
          "OrderNum": "AIAHBFE",
          "index": 198
         },
         {
          "Condition A": false,
          "Condition B": false,
          "Condition C": true,
          "Condition D": false,
          "Condition F": false,
          "Condition G": true,
          "Condition H": true,
          "Condition I": false,
          "Condition J": "Before",
          "DoctorID": "AABGAB",
          "OrderID": "DGCEAAA",
          "OrderNum": "AIBJDFC",
          "index": 199
         },
         {
          "Condition A": false,
          "Condition B": false,
          "Condition C": false,
          "Condition D": false,
          "Condition F": false,
          "Condition G": false,
          "Condition H": true,
          "Condition I": false,
          "Condition J": "Before",
          "DoctorID": "AABGAB",
          "OrderID": "DGCEABH",
          "OrderNum": "AIBJDGH",
          "index": 200
         },
         {
          "Condition A": false,
          "Condition B": false,
          "Condition C": false,
          "Condition D": false,
          "Condition F": false,
          "Condition G": false,
          "Condition H": false,
          "Condition I": false,
          "Condition J": "Before",
          "DoctorID": "FDFAC",
          "OrderID": "DFHGIFE",
          "OrderNum": "AIJJGGH",
          "index": 201
         },
         {
          "Condition A": false,
          "Condition B": false,
          "Condition C": false,
          "Condition D": false,
          "Condition F": false,
          "Condition G": false,
          "Condition H": false,
          "Condition I": false,
          "Condition J": "Before",
          "DoctorID": "FDFAC",
          "OrderID": "DGBDIAE",
          "OrderNum": "AIAFAID",
          "index": 202
         },
         {
          "Condition A": true,
          "Condition B": false,
          "Condition C": false,
          "Condition D": false,
          "Condition F": false,
          "Condition G": false,
          "Condition H": true,
          "Condition I": false,
          "Condition J": "Before",
          "DoctorID": "FDFAC",
          "OrderID": "DGDIDCE",
          "OrderNum": "AIBEDAJ",
          "index": 203
         },
         {
          "Condition A": false,
          "Condition B": false,
          "Condition C": false,
          "Condition D": false,
          "Condition F": false,
          "Condition G": false,
          "Condition H": false,
          "Condition I": false,
          "Condition J": null,
          "DoctorID": "FDFAC",
          "OrderID": "DGEDCCB",
          "OrderNum": "AFJIBIJ",
          "index": 204
         },
         {
          "Condition A": false,
          "Condition B": false,
          "Condition C": false,
          "Condition D": false,
          "Condition F": false,
          "Condition G": false,
          "Condition H": false,
          "Condition I": false,
          "Condition J": "After",
          "DoctorID": "FDFAC",
          "OrderID": "DGGHADB",
          "OrderNum": "AEECDJC",
          "index": 205
         },
         {
          "Condition A": false,
          "Condition B": false,
          "Condition C": false,
          "Condition D": false,
          "Condition F": false,
          "Condition G": false,
          "Condition H": true,
          "Condition I": false,
          "Condition J": null,
          "DoctorID": "BBAJCF",
          "OrderID": "DGBBFIC",
          "OrderNum": "AFDFJID",
          "index": 206
         },
         {
          "Condition A": false,
          "Condition B": false,
          "Condition C": false,
          "Condition D": false,
          "Condition F": false,
          "Condition G": false,
          "Condition H": false,
          "Condition I": false,
          "Condition J": null,
          "DoctorID": "BBAJCF",
          "OrderID": "DGEADDG",
          "OrderNum": "AFAAECG",
          "index": 207
         },
         {
          "Condition A": false,
          "Condition B": false,
          "Condition C": false,
          "Condition D": false,
          "Condition F": false,
          "Condition G": false,
          "Condition H": false,
          "Condition I": false,
          "Condition J": "Before",
          "DoctorID": "IAEBD",
          "OrderID": "DFHFFAG",
          "OrderNum": "AIJJCAJ",
          "index": 208
         },
         {
          "Condition A": false,
          "Condition B": false,
          "Condition C": false,
          "Condition D": false,
          "Condition F": false,
          "Condition G": false,
          "Condition H": false,
          "Condition I": false,
          "Condition J": "Before",
          "DoctorID": "FBJIB",
          "OrderID": "DGAGBII",
          "OrderNum": "AIABGAJ",
          "index": 209
         },
         {
          "Condition A": false,
          "Condition B": false,
          "Condition C": false,
          "Condition D": false,
          "Condition F": false,
          "Condition G": false,
          "Condition H": false,
          "Condition I": false,
          "Condition J": "Before",
          "DoctorID": "AAAEAH",
          "OrderID": "DFJCJGA",
          "OrderNum": "AHFGCFG",
          "index": 210
         },
         {
          "Condition A": false,
          "Condition B": true,
          "Condition C": null,
          "Condition D": false,
          "Condition F": false,
          "Condition G": false,
          "Condition H": true,
          "Condition I": false,
          "Condition J": "Before",
          "DoctorID": "AAAEAH",
          "OrderID": "DFHACJH",
          "OrderNum": "AECDDAD",
          "index": 211
         },
         {
          "Condition A": false,
          "Condition B": true,
          "Condition C": null,
          "Condition D": false,
          "Condition F": false,
          "Condition G": true,
          "Condition H": true,
          "Condition I": false,
          "Condition J": "Before",
          "DoctorID": "AAAEAH",
          "OrderID": "DFHACJH",
          "OrderNum": "AECDDAD",
          "index": 212
         },
         {
          "Condition A": false,
          "Condition B": false,
          "Condition C": false,
          "Condition D": false,
          "Condition F": false,
          "Condition G": false,
          "Condition H": false,
          "Condition I": false,
          "Condition J": "Before",
          "DoctorID": "AAAEAH",
          "OrderID": "DGJBEFA",
          "OrderNum": "AIJFBGB",
          "index": 213
         },
         {
          "Condition A": false,
          "Condition B": false,
          "Condition C": null,
          "Condition D": false,
          "Condition F": false,
          "Condition G": true,
          "Condition H": false,
          "Condition I": true,
          "Condition J": "Before",
          "DoctorID": "AAAEAH",
          "OrderID": "DGAADFB",
          "OrderNum": "AIAJBID",
          "index": 214
         },
         {
          "Condition A": false,
          "Condition B": true,
          "Condition C": false,
          "Condition D": false,
          "Condition F": false,
          "Condition G": false,
          "Condition H": false,
          "Condition I": false,
          "Condition J": null,
          "DoctorID": "AAAEAH",
          "OrderID": "DGAFGBE",
          "OrderNum": "AEHIFAC",
          "index": 215
         },
         {
          "Condition A": false,
          "Condition B": false,
          "Condition C": false,
          "Condition D": false,
          "Condition F": false,
          "Condition G": false,
          "Condition H": false,
          "Condition I": false,
          "Condition J": null,
          "DoctorID": "AAAEAH",
          "OrderID": "DGBHFHE",
          "OrderNum": "AECIGBJ",
          "index": 216
         },
         {
          "Condition A": false,
          "Condition B": false,
          "Condition C": false,
          "Condition D": false,
          "Condition F": false,
          "Condition G": false,
          "Condition H": true,
          "Condition I": false,
          "Condition J": "Before",
          "DoctorID": "AAAEAH",
          "OrderID": "DGCACCC",
          "OrderNum": "AIAHFFG",
          "index": 217
         },
         {
          "Condition A": true,
          "Condition B": false,
          "Condition C": false,
          "Condition D": false,
          "Condition F": false,
          "Condition G": false,
          "Condition H": false,
          "Condition I": false,
          "Condition J": "Before",
          "DoctorID": "AAAEAH",
          "OrderID": "DGCDCCC",
          "OrderNum": "AIBJJEC",
          "index": 218
         },
         {
          "Condition A": false,
          "Condition B": false,
          "Condition C": false,
          "Condition D": false,
          "Condition F": false,
          "Condition G": false,
          "Condition H": false,
          "Condition I": false,
          "Condition J": "Before",
          "DoctorID": "AAAEAH",
          "OrderID": "DGCDCGA",
          "OrderNum": "AIBJJGH",
          "index": 219
         },
         {
          "Condition A": false,
          "Condition B": false,
          "Condition C": false,
          "Condition D": false,
          "Condition F": false,
          "Condition G": false,
          "Condition H": false,
          "Condition I": false,
          "Condition J": "Before",
          "DoctorID": "AAAEAH",
          "OrderID": "DGCIDDD",
          "OrderNum": "AIBBJAH",
          "index": 220
         },
         {
          "Condition A": false,
          "Condition B": false,
          "Condition C": false,
          "Condition D": false,
          "Condition F": false,
          "Condition G": false,
          "Condition H": false,
          "Condition I": false,
          "Condition J": null,
          "DoctorID": "AAAEAH",
          "OrderID": "DGDEFDJ",
          "OrderNum": "AEDBFFB",
          "index": 221
         },
         {
          "Condition A": true,
          "Condition B": false,
          "Condition C": false,
          "Condition D": false,
          "Condition F": false,
          "Condition G": false,
          "Condition H": false,
          "Condition I": false,
          "Condition J": null,
          "DoctorID": "AAAEAH",
          "OrderID": "DGDGHED",
          "OrderNum": "ACGDABH",
          "index": 222
         },
         {
          "Condition A": false,
          "Condition B": false,
          "Condition C": false,
          "Condition D": false,
          "Condition F": false,
          "Condition G": false,
          "Condition H": false,
          "Condition I": true,
          "Condition J": "Before",
          "DoctorID": "AAAEAH",
          "OrderID": "DGDIAFC",
          "OrderNum": "AIBEBHA",
          "index": 223
         },
         {
          "Condition A": false,
          "Condition B": false,
          "Condition C": false,
          "Condition D": false,
          "Condition F": false,
          "Condition G": false,
          "Condition H": false,
          "Condition I": false,
          "Condition J": null,
          "DoctorID": "AAAEAH",
          "OrderID": "DGEBHBI",
          "OrderNum": "ADFGDIH",
          "index": 224
         },
         {
          "Condition A": true,
          "Condition B": false,
          "Condition C": false,
          "Condition D": false,
          "Condition F": false,
          "Condition G": false,
          "Condition H": false,
          "Condition I": false,
          "Condition J": "Before",
          "DoctorID": "AAAEAH",
          "OrderID": "DGEHBAF",
          "OrderNum": "AIBHEHH",
          "index": 225
         },
         {
          "Condition A": false,
          "Condition B": false,
          "Condition C": false,
          "Condition D": false,
          "Condition F": false,
          "Condition G": false,
          "Condition H": true,
          "Condition I": false,
          "Condition J": "Before",
          "DoctorID": "AAAEAH",
          "OrderID": "DGFAFIF",
          "OrderNum": "AHJGEIB",
          "index": 226
         },
         {
          "Condition A": false,
          "Condition B": false,
          "Condition C": false,
          "Condition D": false,
          "Condition F": false,
          "Condition G": false,
          "Condition H": false,
          "Condition I": false,
          "Condition J": null,
          "DoctorID": "AAAEAH",
          "OrderID": "DGHEDDE",
          "OrderNum": "AEFDBHF",
          "index": 227
         },
         {
          "Condition A": false,
          "Condition B": false,
          "Condition C": false,
          "Condition D": false,
          "Condition F": false,
          "Condition G": false,
          "Condition H": false,
          "Condition I": false,
          "Condition J": "Before",
          "DoctorID": "AAAEAH",
          "OrderID": "DGHEGJD",
          "OrderNum": "AICIFHH",
          "index": 228
         },
         {
          "Condition A": true,
          "Condition B": true,
          "Condition C": false,
          "Condition D": false,
          "Condition F": false,
          "Condition G": false,
          "Condition H": false,
          "Condition I": false,
          "Condition J": null,
          "DoctorID": "HCIGF",
          "OrderID": "DGDGFID",
          "OrderNum": "AEFGBFC",
          "index": 229
         },
         {
          "Condition A": false,
          "Condition B": false,
          "Condition C": false,
          "Condition D": false,
          "Condition F": false,
          "Condition G": false,
          "Condition H": false,
          "Condition I": false,
          "Condition J": null,
          "DoctorID": "HCIGF",
          "OrderID": "DGGGGBD",
          "OrderNum": "AEFGCCA",
          "index": 230
         },
         {
          "Condition A": false,
          "Condition B": false,
          "Condition C": false,
          "Condition D": false,
          "Condition F": false,
          "Condition G": false,
          "Condition H": true,
          "Condition I": false,
          "Condition J": "Before",
          "DoctorID": "BBCHEH",
          "OrderID": "DGDADIB",
          "OrderNum": "AIBBHED",
          "index": 231
         },
         {
          "Condition A": false,
          "Condition B": false,
          "Condition C": false,
          "Condition D": true,
          "Condition F": false,
          "Condition G": false,
          "Condition H": true,
          "Condition I": false,
          "Condition J": "Before",
          "DoctorID": "BBCHEH",
          "OrderID": "DGDADIB",
          "OrderNum": "AIBBHED",
          "index": 232
         },
         {
          "Condition A": false,
          "Condition B": false,
          "Condition C": false,
          "Condition D": false,
          "Condition F": false,
          "Condition G": false,
          "Condition H": false,
          "Condition I": false,
          "Condition J": null,
          "DoctorID": "AJGICE",
          "OrderID": "DFAIIAA",
          "OrderNum": "ADCDBGJ",
          "index": 233
         },
         {
          "Condition A": false,
          "Condition B": false,
          "Condition C": true,
          "Condition D": false,
          "Condition F": false,
          "Condition G": false,
          "Condition H": false,
          "Condition I": false,
          "Condition J": "Before",
          "DoctorID": "AJGICE",
          "OrderID": "DGDBCED",
          "OrderNum": "AIBCBFD",
          "index": 234
         },
         {
          "Condition A": false,
          "Condition B": false,
          "Condition C": true,
          "Condition D": true,
          "Condition F": false,
          "Condition G": true,
          "Condition H": false,
          "Condition I": false,
          "Condition J": "Before",
          "DoctorID": "FDDIH",
          "OrderID": "DGBCAHE",
          "OrderNum": "AIAECGD",
          "index": 235
         },
         {
          "Condition A": false,
          "Condition B": false,
          "Condition C": false,
          "Condition D": false,
          "Condition F": false,
          "Condition G": false,
          "Condition H": false,
          "Condition I": false,
          "Condition J": null,
          "DoctorID": "FBHHI",
          "OrderID": "DGEAEAD",
          "OrderNum": "ABAHIFH",
          "index": 236
         },
         {
          "Condition A": false,
          "Condition B": false,
          "Condition C": false,
          "Condition D": false,
          "Condition F": false,
          "Condition G": false,
          "Condition H": false,
          "Condition I": false,
          "Condition J": null,
          "DoctorID": "FBHHI",
          "OrderID": "DGGCIFE",
          "OrderNum": "AGDBJEJ",
          "index": 237
         },
         {
          "Condition A": false,
          "Condition B": false,
          "Condition C": false,
          "Condition D": false,
          "Condition F": false,
          "Condition G": false,
          "Condition H": false,
          "Condition I": false,
          "Condition J": null,
          "DoctorID": "ADJHAB",
          "OrderID": "DGFGJAC",
          "OrderNum": "AEJBICA",
          "index": 238
         },
         {
          "Condition A": false,
          "Condition B": false,
          "Condition C": false,
          "Condition D": false,
          "Condition F": false,
          "Condition G": false,
          "Condition H": true,
          "Condition I": false,
          "Condition J": "Before",
          "DoctorID": "ADJHAB",
          "OrderID": "DGHEDJG",
          "OrderNum": "AICIECG",
          "index": 239
         },
         {
          "Condition A": false,
          "Condition B": false,
          "Condition C": false,
          "Condition D": false,
          "Condition F": false,
          "Condition G": true,
          "Condition H": false,
          "Condition I": false,
          "Condition J": "Before",
          "DoctorID": "AHAHIB",
          "OrderID": "DGBECEJ",
          "OrderNum": "GCFBBA",
          "index": 240
         },
         {
          "Condition A": false,
          "Condition B": false,
          "Condition C": false,
          "Condition D": false,
          "Condition F": false,
          "Condition G": false,
          "Condition H": false,
          "Condition I": false,
          "Condition J": null,
          "DoctorID": "BJDEGI",
          "OrderID": "DGDJEBH",
          "OrderNum": "AGADBIF",
          "index": 241
         },
         {
          "Condition A": false,
          "Condition B": false,
          "Condition C": false,
          "Condition D": false,
          "Condition F": false,
          "Condition G": false,
          "Condition H": false,
          "Condition I": false,
          "Condition J": "Before",
          "DoctorID": "BJEACG",
          "OrderID": "DGDABGG",
          "OrderNum": "AIBBGCG",
          "index": 242
         },
         {
          "Condition A": false,
          "Condition B": false,
          "Condition C": false,
          "Condition D": false,
          "Condition F": false,
          "Condition G": false,
          "Condition H": false,
          "Condition I": false,
          "Condition J": "Before",
          "DoctorID": "FJGEJ",
          "OrderID": "DGCCFII",
          "OrderNum": "AIAIGGJ",
          "index": 243
         },
         {
          "Condition A": false,
          "Condition B": false,
          "Condition C": false,
          "Condition D": false,
          "Condition F": false,
          "Condition G": false,
          "Condition H": false,
          "Condition I": false,
          "Condition J": null,
          "DoctorID": "FJGEJ",
          "OrderID": "DGDJCHI",
          "OrderNum": "ADDGFFC",
          "index": 244
         },
         {
          "Condition A": true,
          "Condition B": false,
          "Condition C": false,
          "Condition D": false,
          "Condition F": false,
          "Condition G": false,
          "Condition H": false,
          "Condition I": true,
          "Condition J": "Before",
          "DoctorID": "FJGEJ",
          "OrderID": "DGDHCBJ",
          "OrderNum": "AIBDIHG",
          "index": 245
         },
         {
          "Condition A": false,
          "Condition B": false,
          "Condition C": true,
          "Condition D": true,
          "Condition F": false,
          "Condition G": false,
          "Condition H": false,
          "Condition I": false,
          "Condition J": "Before",
          "DoctorID": "FJGEJ",
          "OrderID": "DGEFFCE",
          "OrderNum": "AIBHAJB",
          "index": 246
         },
         {
          "Condition A": false,
          "Condition B": false,
          "Condition C": false,
          "Condition D": false,
          "Condition F": false,
          "Condition G": false,
          "Condition H": false,
          "Condition I": true,
          "Condition J": "Before",
          "DoctorID": "FJGEJ",
          "OrderID": "DGFIAIE",
          "OrderNum": "AICCJCA",
          "index": 247
         },
         {
          "Condition A": false,
          "Condition B": false,
          "Condition C": false,
          "Condition D": false,
          "Condition F": false,
          "Condition G": true,
          "Condition H": true,
          "Condition I": false,
          "Condition J": "Before",
          "DoctorID": "FJGEJ",
          "OrderID": "DGHIECB",
          "OrderNum": "AIDAAGA",
          "index": 248
         },
         {
          "Condition A": true,
          "Condition B": false,
          "Condition C": false,
          "Condition D": false,
          "Condition F": false,
          "Condition G": false,
          "Condition H": false,
          "Condition I": false,
          "Condition J": "Before",
          "DoctorID": "GDGHI",
          "OrderID": "DGCEEHG",
          "OrderNum": "AIBJFHB",
          "index": 249
         },
         {
          "Condition A": false,
          "Condition B": false,
          "Condition C": false,
          "Condition D": false,
          "Condition F": false,
          "Condition G": false,
          "Condition H": false,
          "Condition I": false,
          "Condition J": "Before",
          "DoctorID": "GDGHI",
          "OrderID": "DGFDFHI",
          "OrderNum": "AICJHID",
          "index": 250
         },
         {
          "Condition A": false,
          "Condition B": false,
          "Condition C": false,
          "Condition D": false,
          "Condition F": false,
          "Condition G": false,
          "Condition H": false,
          "Condition I": false,
          "Condition J": "Before",
          "DoctorID": "FJFEG",
          "OrderID": "DGDBFBF",
          "OrderNum": "AIBCDJB",
          "index": 251
         },
         {
          "Condition A": false,
          "Condition B": true,
          "Condition C": false,
          "Condition D": false,
          "Condition F": false,
          "Condition G": true,
          "Condition H": true,
          "Condition I": false,
          "Condition J": "Before",
          "DoctorID": "FJFEG",
          "OrderID": "DGDBGJH",
          "OrderNum": "AIBCDCE",
          "index": 252
         },
         {
          "Condition A": false,
          "Condition B": false,
          "Condition C": true,
          "Condition D": false,
          "Condition F": false,
          "Condition G": false,
          "Condition H": true,
          "Condition I": false,
          "Condition J": "Before",
          "DoctorID": "FJFEG",
          "OrderID": "DGDBGGI",
          "OrderNum": "AIBCDGD",
          "index": 253
         },
         {
          "Condition A": true,
          "Condition B": false,
          "Condition C": false,
          "Condition D": false,
          "Condition F": false,
          "Condition G": false,
          "Condition H": false,
          "Condition I": false,
          "Condition J": "Before",
          "DoctorID": "FJFEG",
          "OrderID": "DGEABGI",
          "OrderNum": "AIBFJHE",
          "index": 254
         },
         {
          "Condition A": true,
          "Condition B": false,
          "Condition C": false,
          "Condition D": true,
          "Condition F": false,
          "Condition G": false,
          "Condition H": false,
          "Condition I": false,
          "Condition J": "Before",
          "DoctorID": "FJFEG",
          "OrderID": "DGEABGI",
          "OrderNum": "AIBFJHE",
          "index": 255
         },
         {
          "Condition A": false,
          "Condition B": false,
          "Condition C": false,
          "Condition D": false,
          "Condition F": false,
          "Condition G": false,
          "Condition H": false,
          "Condition I": false,
          "Condition J": null,
          "DoctorID": "AIABDJ",
          "OrderID": "DFICBFD",
          "OrderNum": "AEFABFI",
          "index": 256
         }
        ],
        "schema": {
         "fields": [
          {
           "name": "index",
           "type": "integer"
          },
          {
           "name": "DoctorID",
           "type": "string"
          },
          {
           "name": "OrderID",
           "type": "string"
          },
          {
           "name": "OrderNum",
           "type": "string"
          },
          {
           "name": "Condition A",
           "type": "boolean"
          },
          {
           "name": "Condition B",
           "type": "boolean"
          },
          {
           "name": "Condition C",
           "type": "string"
          },
          {
           "name": "Condition D",
           "type": "boolean"
          },
          {
           "name": "Condition F",
           "type": "string"
          },
          {
           "name": "Condition G",
           "type": "string"
          },
          {
           "name": "Condition H",
           "type": "boolean"
          },
          {
           "name": "Condition I",
           "type": "boolean"
          },
          {
           "name": "Condition J",
           "type": "string"
          }
         ],
         "pandas_version": "0.20.0",
         "primaryKey": [
          "index"
         ]
        }
       },
       "total_rows": 257
      },
      "text/html": [
       "<div>\n",
       "<style scoped>\n",
       "    .dataframe tbody tr th:only-of-type {\n",
       "        vertical-align: middle;\n",
       "    }\n",
       "\n",
       "    .dataframe tbody tr th {\n",
       "        vertical-align: top;\n",
       "    }\n",
       "\n",
       "    .dataframe thead th {\n",
       "        text-align: right;\n",
       "    }\n",
       "</style>\n",
       "<table border=\"1\" class=\"dataframe\">\n",
       "  <thead>\n",
       "    <tr style=\"text-align: right;\">\n",
       "      <th></th>\n",
       "      <th>DoctorID</th>\n",
       "      <th>OrderID</th>\n",
       "      <th>OrderNum</th>\n",
       "      <th>Condition A</th>\n",
       "      <th>Condition B</th>\n",
       "      <th>Condition C</th>\n",
       "      <th>Condition D</th>\n",
       "      <th>Condition F</th>\n",
       "      <th>Condition G</th>\n",
       "      <th>Condition H</th>\n",
       "      <th>Condition I</th>\n",
       "      <th>Condition J</th>\n",
       "    </tr>\n",
       "  </thead>\n",
       "  <tbody>\n",
       "    <tr>\n",
       "      <th>0</th>\n",
       "      <td>ABJEAI</td>\n",
       "      <td>DGEJFDC</td>\n",
       "      <td>AIBEHCJ</td>\n",
       "      <td>False</td>\n",
       "      <td>False</td>\n",
       "      <td>False</td>\n",
       "      <td>False</td>\n",
       "      <td>False</td>\n",
       "      <td>True</td>\n",
       "      <td>True</td>\n",
       "      <td>False</td>\n",
       "      <td>Before</td>\n",
       "    </tr>\n",
       "    <tr>\n",
       "      <th>1</th>\n",
       "      <td>HBIEA</td>\n",
       "      <td>DGAJDAH</td>\n",
       "      <td>AIJIHGB</td>\n",
       "      <td>False</td>\n",
       "      <td>True</td>\n",
       "      <td>NaN</td>\n",
       "      <td>False</td>\n",
       "      <td>False</td>\n",
       "      <td>True</td>\n",
       "      <td>False</td>\n",
       "      <td>True</td>\n",
       "      <td>Before</td>\n",
       "    </tr>\n",
       "    <tr>\n",
       "      <th>2</th>\n",
       "      <td>GGCCD</td>\n",
       "      <td>DGBBDCB</td>\n",
       "      <td>AFEIHFB</td>\n",
       "      <td>False</td>\n",
       "      <td>False</td>\n",
       "      <td>False</td>\n",
       "      <td>False</td>\n",
       "      <td>False</td>\n",
       "      <td>False</td>\n",
       "      <td>False</td>\n",
       "      <td>False</td>\n",
       "      <td>NaN</td>\n",
       "    </tr>\n",
       "    <tr>\n",
       "      <th>3</th>\n",
       "      <td>EHHGF</td>\n",
       "      <td>DGCDCCF</td>\n",
       "      <td>AIBJJEE</td>\n",
       "      <td>False</td>\n",
       "      <td>False</td>\n",
       "      <td>False</td>\n",
       "      <td>True</td>\n",
       "      <td>False</td>\n",
       "      <td>False</td>\n",
       "      <td>True</td>\n",
       "      <td>False</td>\n",
       "      <td>Before</td>\n",
       "    </tr>\n",
       "    <tr>\n",
       "      <th>4</th>\n",
       "      <td>EHHGF</td>\n",
       "      <td>DGCFAGC</td>\n",
       "      <td>AEDBBDC</td>\n",
       "      <td>False</td>\n",
       "      <td>False</td>\n",
       "      <td>False</td>\n",
       "      <td>False</td>\n",
       "      <td>False</td>\n",
       "      <td>False</td>\n",
       "      <td>False</td>\n",
       "      <td>False</td>\n",
       "      <td>NaN</td>\n",
       "    </tr>\n",
       "    <tr>\n",
       "      <th>...</th>\n",
       "      <td>...</td>\n",
       "      <td>...</td>\n",
       "      <td>...</td>\n",
       "      <td>...</td>\n",
       "      <td>...</td>\n",
       "      <td>...</td>\n",
       "      <td>...</td>\n",
       "      <td>...</td>\n",
       "      <td>...</td>\n",
       "      <td>...</td>\n",
       "      <td>...</td>\n",
       "      <td>...</td>\n",
       "    </tr>\n",
       "    <tr>\n",
       "      <th>252</th>\n",
       "      <td>FJFEG</td>\n",
       "      <td>DGDBGJH</td>\n",
       "      <td>AIBCDCE</td>\n",
       "      <td>False</td>\n",
       "      <td>True</td>\n",
       "      <td>False</td>\n",
       "      <td>False</td>\n",
       "      <td>False</td>\n",
       "      <td>True</td>\n",
       "      <td>True</td>\n",
       "      <td>False</td>\n",
       "      <td>Before</td>\n",
       "    </tr>\n",
       "    <tr>\n",
       "      <th>253</th>\n",
       "      <td>FJFEG</td>\n",
       "      <td>DGDBGGI</td>\n",
       "      <td>AIBCDGD</td>\n",
       "      <td>False</td>\n",
       "      <td>False</td>\n",
       "      <td>True</td>\n",
       "      <td>False</td>\n",
       "      <td>False</td>\n",
       "      <td>False</td>\n",
       "      <td>True</td>\n",
       "      <td>False</td>\n",
       "      <td>Before</td>\n",
       "    </tr>\n",
       "    <tr>\n",
       "      <th>254</th>\n",
       "      <td>FJFEG</td>\n",
       "      <td>DGEABGI</td>\n",
       "      <td>AIBFJHE</td>\n",
       "      <td>True</td>\n",
       "      <td>False</td>\n",
       "      <td>False</td>\n",
       "      <td>False</td>\n",
       "      <td>False</td>\n",
       "      <td>False</td>\n",
       "      <td>False</td>\n",
       "      <td>False</td>\n",
       "      <td>Before</td>\n",
       "    </tr>\n",
       "    <tr>\n",
       "      <th>255</th>\n",
       "      <td>FJFEG</td>\n",
       "      <td>DGEABGI</td>\n",
       "      <td>AIBFJHE</td>\n",
       "      <td>True</td>\n",
       "      <td>False</td>\n",
       "      <td>False</td>\n",
       "      <td>True</td>\n",
       "      <td>False</td>\n",
       "      <td>False</td>\n",
       "      <td>False</td>\n",
       "      <td>False</td>\n",
       "      <td>Before</td>\n",
       "    </tr>\n",
       "    <tr>\n",
       "      <th>256</th>\n",
       "      <td>AIABDJ</td>\n",
       "      <td>DFICBFD</td>\n",
       "      <td>AEFABFI</td>\n",
       "      <td>False</td>\n",
       "      <td>False</td>\n",
       "      <td>False</td>\n",
       "      <td>False</td>\n",
       "      <td>False</td>\n",
       "      <td>False</td>\n",
       "      <td>False</td>\n",
       "      <td>False</td>\n",
       "      <td>NaN</td>\n",
       "    </tr>\n",
       "  </tbody>\n",
       "</table>\n",
       "<p>257 rows × 12 columns</p>\n",
       "</div>"
      ],
      "text/plain": [
       "    DoctorID  OrderID OrderNum  Condition A  Condition B Condition C  \\\n",
       "0     ABJEAI  DGEJFDC  AIBEHCJ        False        False       False   \n",
       "1      HBIEA  DGAJDAH  AIJIHGB        False         True         NaN   \n",
       "2      GGCCD  DGBBDCB  AFEIHFB        False        False       False   \n",
       "3      EHHGF  DGCDCCF  AIBJJEE        False        False       False   \n",
       "4      EHHGF  DGCFAGC  AEDBBDC        False        False       False   \n",
       "..       ...      ...      ...          ...          ...         ...   \n",
       "252    FJFEG  DGDBGJH  AIBCDCE        False         True       False   \n",
       "253    FJFEG  DGDBGGI  AIBCDGD        False        False        True   \n",
       "254    FJFEG  DGEABGI  AIBFJHE         True        False       False   \n",
       "255    FJFEG  DGEABGI  AIBFJHE         True        False       False   \n",
       "256   AIABDJ  DFICBFD  AEFABFI        False        False       False   \n",
       "\n",
       "     Condition D Condition F Condition G  Condition H  Condition I Condition J  \n",
       "0          False       False        True         True        False      Before  \n",
       "1          False       False        True        False         True      Before  \n",
       "2          False       False       False        False        False         NaN  \n",
       "3           True       False       False         True        False      Before  \n",
       "4          False       False       False        False        False         NaN  \n",
       "..           ...         ...         ...          ...          ...         ...  \n",
       "252        False       False        True         True        False      Before  \n",
       "253        False       False       False         True        False      Before  \n",
       "254        False       False       False        False        False      Before  \n",
       "255         True       False       False        False        False      Before  \n",
       "256        False       False       False        False        False         NaN  \n",
       "\n",
       "[257 rows x 12 columns]"
      ]
     },
     "execution_count": 2,
     "metadata": {},
     "output_type": "execute_result"
    }
   ],
   "source": [
    "orders = pd.read_csv('data/orders.csv')\n",
    "orders"
   ]
  },
  {
   "cell_type": "code",
   "execution_count": 3,
   "id": "fd0b2654-cc60-48de-bb1e-f97928c72e75",
   "metadata": {},
   "outputs": [
    {
     "data": {
      "application/com.datacamp.data-table.v1+json": {
       "is_truncated": false,
       "table": {
        "data": [
         {
          "Complaint Type": "Correct",
          "DoctorID": "EHAHI",
          "Qty": 10,
          "index": 0
         },
         {
          "Complaint Type": "Correct",
          "DoctorID": "EHDGF",
          "Qty": 2,
          "index": 1
         },
         {
          "Complaint Type": "Unknown",
          "DoctorID": "EHDGF",
          "Qty": 3,
          "index": 2
         },
         {
          "Complaint Type": "Correct",
          "DoctorID": "EHDIJ",
          "Qty": 8,
          "index": 3
         },
         {
          "Complaint Type": "Incorrect",
          "DoctorID": "EHDIJ",
          "Qty": 2,
          "index": 4
         },
         {
          "Complaint Type": "Unknown",
          "DoctorID": "EHDIJ",
          "Qty": 3,
          "index": 5
         },
         {
          "Complaint Type": "Incorrect",
          "DoctorID": "EHDIC",
          "Qty": 3,
          "index": 6
         },
         {
          "Complaint Type": "Correct",
          "DoctorID": "EHDIH",
          "Qty": 1,
          "index": 7
         },
         {
          "Complaint Type": "Correct",
          "DoctorID": "EHEGI",
          "Qty": 1,
          "index": 8
         },
         {
          "Complaint Type": "Unknown",
          "DoctorID": "EHEGI",
          "Qty": 1,
          "index": 9
         },
         {
          "Complaint Type": "Correct",
          "DoctorID": "EHFDE",
          "Qty": 1,
          "index": 10
         },
         {
          "Complaint Type": "Correct",
          "DoctorID": "EHHJI",
          "Qty": 1,
          "index": 11
         },
         {
          "Complaint Type": "Correct",
          "DoctorID": "EHHGF",
          "Qty": 1,
          "index": 12
         },
         {
          "Complaint Type": "Correct",
          "DoctorID": "EIJHF",
          "Qty": 2,
          "index": 13
         },
         {
          "Complaint Type": "Unknown",
          "DoctorID": "EIJHF",
          "Qty": 1,
          "index": 14
         },
         {
          "Complaint Type": "Correct",
          "DoctorID": "EIAAF",
          "Qty": 3,
          "index": 15
         },
         {
          "Complaint Type": "Incorrect",
          "DoctorID": "EIAAF",
          "Qty": 1,
          "index": 16
         },
         {
          "Complaint Type": "Unknown",
          "DoctorID": "EIAAF",
          "Qty": 1,
          "index": 17
         },
         {
          "Complaint Type": "Correct",
          "DoctorID": "EIDDH",
          "Qty": 2,
          "index": 18
         },
         {
          "Complaint Type": "Incorrect",
          "DoctorID": "EIDHJ",
          "Qty": 1,
          "index": 19
         },
         {
          "Complaint Type": "Correct",
          "DoctorID": "EIFAD",
          "Qty": 1,
          "index": 20
         },
         {
          "Complaint Type": "Incorrect",
          "DoctorID": "EIFAD",
          "Qty": 2,
          "index": 21
         },
         {
          "Complaint Type": "Unknown",
          "DoctorID": "EIFAD",
          "Qty": 4,
          "index": 22
         },
         {
          "Complaint Type": "Correct",
          "DoctorID": "EIFDB",
          "Qty": 1,
          "index": 23
         },
         {
          "Complaint Type": "Correct",
          "DoctorID": "EIFEJ",
          "Qty": 2,
          "index": 24
         },
         {
          "Complaint Type": "Unknown",
          "DoctorID": "EIFEJ",
          "Qty": 1,
          "index": 25
         },
         {
          "Complaint Type": "Correct",
          "DoctorID": "EIFHE",
          "Qty": 2,
          "index": 26
         },
         {
          "Complaint Type": "Correct",
          "DoctorID": "EIGAE",
          "Qty": 1,
          "index": 27
         },
         {
          "Complaint Type": "Correct",
          "DoctorID": "EIIBH",
          "Qty": 2,
          "index": 28
         },
         {
          "Complaint Type": "Correct",
          "DoctorID": "FJJGG",
          "Qty": 1,
          "index": 29
         },
         {
          "Complaint Type": "Correct",
          "DoctorID": "FJAJH",
          "Qty": 1,
          "index": 30
         },
         {
          "Complaint Type": "Unknown",
          "DoctorID": "FJAJH",
          "Qty": 1,
          "index": 31
         },
         {
          "Complaint Type": "Incorrect",
          "DoctorID": "FJBGJ",
          "Qty": 1,
          "index": 32
         },
         {
          "Complaint Type": "Incorrect",
          "DoctorID": "FJCDB",
          "Qty": 1,
          "index": 33
         },
         {
          "Complaint Type": "Correct",
          "DoctorID": "FJFDC",
          "Qty": 2,
          "index": 34
         },
         {
          "Complaint Type": "Unknown",
          "DoctorID": "FJFEG",
          "Qty": 1,
          "index": 35
         },
         {
          "Complaint Type": "Correct",
          "DoctorID": "FJGEJ",
          "Qty": 1,
          "index": 36
         },
         {
          "Complaint Type": "Correct",
          "DoctorID": "FJGEH",
          "Qty": 1,
          "index": 37
         },
         {
          "Complaint Type": "Incorrect",
          "DoctorID": "FJGEH",
          "Qty": 1,
          "index": 38
         },
         {
          "Complaint Type": "Unknown",
          "DoctorID": "FJGEH",
          "Qty": 1,
          "index": 39
         },
         {
          "Complaint Type": "Unknown",
          "DoctorID": "FJIDJ",
          "Qty": 1,
          "index": 40
         },
         {
          "Complaint Type": "Correct",
          "DoctorID": "FAJFE",
          "Qty": 7,
          "index": 41
         },
         {
          "Complaint Type": "Incorrect",
          "DoctorID": "FAJFE",
          "Qty": 3,
          "index": 42
         },
         {
          "Complaint Type": "Unknown",
          "DoctorID": "FAJFE",
          "Qty": 2,
          "index": 43
         },
         {
          "Complaint Type": "Incorrect",
          "DoctorID": "FAJGC",
          "Qty": 1,
          "index": 44
         },
         {
          "Complaint Type": "Unknown",
          "DoctorID": "FAJGC",
          "Qty": 1,
          "index": 45
         },
         {
          "Complaint Type": "Correct",
          "DoctorID": "FAJID",
          "Qty": 4,
          "index": 46
         },
         {
          "Complaint Type": "Correct",
          "DoctorID": "FABEA",
          "Qty": 1,
          "index": 47
         },
         {
          "Complaint Type": "Unknown",
          "DoctorID": "FABEA",
          "Qty": 1,
          "index": 48
         },
         {
          "Complaint Type": "Incorrect",
          "DoctorID": "FADIG",
          "Qty": 1,
          "index": 49
         },
         {
          "Complaint Type": "Correct",
          "DoctorID": "FAEJE",
          "Qty": 3,
          "index": 50
         },
         {
          "Complaint Type": "Incorrect",
          "DoctorID": "FAEJE",
          "Qty": 4,
          "index": 51
         },
         {
          "Complaint Type": "Unknown",
          "DoctorID": "FAEJE",
          "Qty": 8,
          "index": 52
         },
         {
          "Complaint Type": "Correct",
          "DoctorID": "FAEAH",
          "Qty": 3,
          "index": 53
         },
         {
          "Complaint Type": "Unknown",
          "DoctorID": "FAEAH",
          "Qty": 1,
          "index": 54
         },
         {
          "Complaint Type": "Correct",
          "DoctorID": "FAEFA",
          "Qty": 2,
          "index": 55
         },
         {
          "Complaint Type": "Unknown",
          "DoctorID": "FAEFA",
          "Qty": 1,
          "index": 56
         },
         {
          "Complaint Type": "Correct",
          "DoctorID": "FAGBJ",
          "Qty": 1,
          "index": 57
         },
         {
          "Complaint Type": "Incorrect",
          "DoctorID": "FAGBJ",
          "Qty": 4,
          "index": 58
         },
         {
          "Complaint Type": "Unknown",
          "DoctorID": "FAGBJ",
          "Qty": 1,
          "index": 59
         },
         {
          "Complaint Type": "Incorrect",
          "DoctorID": "FAGEB",
          "Qty": 1,
          "index": 60
         },
         {
          "Complaint Type": "Correct",
          "DoctorID": "FAGED",
          "Qty": 13,
          "index": 61
         },
         {
          "Complaint Type": "Incorrect",
          "DoctorID": "FAGED",
          "Qty": 1,
          "index": 62
         },
         {
          "Complaint Type": "Unknown",
          "DoctorID": "FAGED",
          "Qty": 1,
          "index": 63
         },
         {
          "Complaint Type": "Correct",
          "DoctorID": "FAGIE",
          "Qty": 2,
          "index": 64
         },
         {
          "Complaint Type": "Incorrect",
          "DoctorID": "FAGIE",
          "Qty": 2,
          "index": 65
         },
         {
          "Complaint Type": "Correct",
          "DoctorID": "FAHDI",
          "Qty": 1,
          "index": 66
         },
         {
          "Complaint Type": "Incorrect",
          "DoctorID": "FAHDI",
          "Qty": 1,
          "index": 67
         },
         {
          "Complaint Type": "Correct",
          "DoctorID": "FAICB",
          "Qty": 4,
          "index": 68
         },
         {
          "Complaint Type": "Incorrect",
          "DoctorID": "FAICB",
          "Qty": 2,
          "index": 69
         },
         {
          "Complaint Type": "Correct",
          "DoctorID": "FBJDE",
          "Qty": 1,
          "index": 70
         },
         {
          "Complaint Type": "Incorrect",
          "DoctorID": "FBJGF",
          "Qty": 1,
          "index": 71
         },
         {
          "Complaint Type": "Unknown",
          "DoctorID": "FBJGF",
          "Qty": 2,
          "index": 72
         },
         {
          "Complaint Type": "Correct",
          "DoctorID": "FBJIB",
          "Qty": 3,
          "index": 73
         },
         {
          "Complaint Type": "Incorrect",
          "DoctorID": "FBJIB",
          "Qty": 2,
          "index": 74
         },
         {
          "Complaint Type": "Unknown",
          "DoctorID": "FBJIB",
          "Qty": 1,
          "index": 75
         },
         {
          "Complaint Type": "Correct",
          "DoctorID": "FBDCE",
          "Qty": 1,
          "index": 76
         },
         {
          "Complaint Type": "Unknown",
          "DoctorID": "FBDCE",
          "Qty": 1,
          "index": 77
         },
         {
          "Complaint Type": "Correct",
          "DoctorID": "FBEDJ",
          "Qty": 1,
          "index": 78
         },
         {
          "Complaint Type": "Incorrect",
          "DoctorID": "FBEDJ",
          "Qty": 1,
          "index": 79
         },
         {
          "Complaint Type": "Unknown",
          "DoctorID": "FBEDJ",
          "Qty": 1,
          "index": 80
         },
         {
          "Complaint Type": "Incorrect",
          "DoctorID": "FBEEH",
          "Qty": 1,
          "index": 81
         },
         {
          "Complaint Type": "Correct",
          "DoctorID": "FBFHB",
          "Qty": 1,
          "index": 82
         },
         {
          "Complaint Type": "Incorrect",
          "DoctorID": "FBFHB",
          "Qty": 1,
          "index": 83
         },
         {
          "Complaint Type": "Correct",
          "DoctorID": "FBHJG",
          "Qty": 2,
          "index": 84
         },
         {
          "Complaint Type": null,
          "DoctorID": "FBHJG",
          "Qty": 1,
          "index": 85
         },
         {
          "Complaint Type": "Incorrect",
          "DoctorID": "FBHJG",
          "Qty": 2,
          "index": 86
         },
         {
          "Complaint Type": "Correct",
          "DoctorID": "FBHAC",
          "Qty": 1,
          "index": 87
         },
         {
          "Complaint Type": "Correct",
          "DoctorID": "FBHHI",
          "Qty": 8,
          "index": 88
         },
         {
          "Complaint Type": "Incorrect",
          "DoctorID": "FBHHI",
          "Qty": 3,
          "index": 89
         },
         {
          "Complaint Type": "Unknown",
          "DoctorID": "FBHHI",
          "Qty": 1,
          "index": 90
         },
         {
          "Complaint Type": "Correct",
          "DoctorID": "FBIII",
          "Qty": 2,
          "index": 91
         },
         {
          "Complaint Type": "Unknown",
          "DoctorID": "FCJJB",
          "Qty": 1,
          "index": 92
         },
         {
          "Complaint Type": "Correct",
          "DoctorID": "FCJBJ",
          "Qty": 1,
          "index": 93
         },
         {
          "Complaint Type": "Incorrect",
          "DoctorID": "FCJBJ",
          "Qty": 1,
          "index": 94
         },
         {
          "Complaint Type": "Correct",
          "DoctorID": "FCJGE",
          "Qty": 2,
          "index": 95
         },
         {
          "Complaint Type": "Incorrect",
          "DoctorID": "FCJGE",
          "Qty": 1,
          "index": 96
         },
         {
          "Complaint Type": "Unknown",
          "DoctorID": "FCJGE",
          "Qty": 1,
          "index": 97
         },
         {
          "Complaint Type": "Correct",
          "DoctorID": "FCBBH",
          "Qty": 1,
          "index": 98
         },
         {
          "Complaint Type": "Unknown",
          "DoctorID": "FCBDC",
          "Qty": 1,
          "index": 99
         },
         {
          "Complaint Type": "Correct",
          "DoctorID": "FCBGI",
          "Qty": 3,
          "index": 100
         },
         {
          "Complaint Type": "Incorrect",
          "DoctorID": "FCBGI",
          "Qty": 1,
          "index": 101
         },
         {
          "Complaint Type": "Unknown",
          "DoctorID": "FCBGI",
          "Qty": 1,
          "index": 102
         },
         {
          "Complaint Type": "Correct",
          "DoctorID": "FCBIG",
          "Qty": 1,
          "index": 103
         },
         {
          "Complaint Type": "Unknown",
          "DoctorID": "FCBIG",
          "Qty": 1,
          "index": 104
         },
         {
          "Complaint Type": "Unknown",
          "DoctorID": "FCDBG",
          "Qty": 1,
          "index": 105
         },
         {
          "Complaint Type": "Correct",
          "DoctorID": "FCDCH",
          "Qty": 1,
          "index": 106
         },
         {
          "Complaint Type": "Correct",
          "DoctorID": "FCEBG",
          "Qty": 1,
          "index": 107
         },
         {
          "Complaint Type": "Incorrect",
          "DoctorID": "FCEBG",
          "Qty": 1,
          "index": 108
         },
         {
          "Complaint Type": "Unknown",
          "DoctorID": "FCEBG",
          "Qty": 1,
          "index": 109
         },
         {
          "Complaint Type": "Correct",
          "DoctorID": "FCECC",
          "Qty": 2,
          "index": 110
         },
         {
          "Complaint Type": "Unknown",
          "DoctorID": "FCECC",
          "Qty": 1,
          "index": 111
         },
         {
          "Complaint Type": "Correct",
          "DoctorID": "FCEDH",
          "Qty": 4,
          "index": 112
         },
         {
          "Complaint Type": "Incorrect",
          "DoctorID": "FCEDH",
          "Qty": 1,
          "index": 113
         },
         {
          "Complaint Type": "Unknown",
          "DoctorID": "FCHHA",
          "Qty": 1,
          "index": 114
         },
         {
          "Complaint Type": "Correct",
          "DoctorID": "FCIJH",
          "Qty": 6,
          "index": 115
         },
         {
          "Complaint Type": "Unknown",
          "DoctorID": "FCIJH",
          "Qty": 2,
          "index": 116
         },
         {
          "Complaint Type": "Correct",
          "DoctorID": "FCIGD",
          "Qty": 1,
          "index": 117
         },
         {
          "Complaint Type": "Correct",
          "DoctorID": "FCIGF",
          "Qty": 1,
          "index": 118
         },
         {
          "Complaint Type": "Incorrect",
          "DoctorID": "FCIGF",
          "Qty": 1,
          "index": 119
         },
         {
          "Complaint Type": "Correct",
          "DoctorID": "FDAEE",
          "Qty": 3,
          "index": 120
         },
         {
          "Complaint Type": "Incorrect",
          "DoctorID": "FDAEE",
          "Qty": 1,
          "index": 121
         },
         {
          "Complaint Type": "Unknown",
          "DoctorID": "FDAEE",
          "Qty": 3,
          "index": 122
         },
         {
          "Complaint Type": "Incorrect",
          "DoctorID": "FDAFD",
          "Qty": 1,
          "index": 123
         },
         {
          "Complaint Type": "Unknown",
          "DoctorID": "FDBCJ",
          "Qty": 1,
          "index": 124
         },
         {
          "Complaint Type": "Correct",
          "DoctorID": "FDDIH",
          "Qty": 4,
          "index": 125
         },
         {
          "Complaint Type": "Incorrect",
          "DoctorID": "FDDIH",
          "Qty": 4,
          "index": 126
         },
         {
          "Complaint Type": "Correct",
          "DoctorID": "FDFAC",
          "Qty": 1,
          "index": 127
         },
         {
          "Complaint Type": "Incorrect",
          "DoctorID": "FDFAC",
          "Qty": 1,
          "index": 128
         },
         {
          "Complaint Type": "Correct",
          "DoctorID": "FDFGH",
          "Qty": 1,
          "index": 129
         },
         {
          "Complaint Type": "Correct",
          "DoctorID": "FDGAF",
          "Qty": 1,
          "index": 130
         },
         {
          "Complaint Type": "Correct",
          "DoctorID": "FDGFG",
          "Qty": 2,
          "index": 131
         },
         {
          "Complaint Type": "Correct",
          "DoctorID": "FDGGA",
          "Qty": 3,
          "index": 132
         },
         {
          "Complaint Type": "Correct",
          "DoctorID": "FDHAJ",
          "Qty": 3,
          "index": 133
         },
         {
          "Complaint Type": "Incorrect",
          "DoctorID": "FDHDI",
          "Qty": 1,
          "index": 134
         },
         {
          "Complaint Type": "Correct",
          "DoctorID": "FDHGC",
          "Qty": 4,
          "index": 135
         },
         {
          "Complaint Type": "Incorrect",
          "DoctorID": "FDHGC",
          "Qty": 4,
          "index": 136
         },
         {
          "Complaint Type": "Unknown",
          "DoctorID": "FDHGC",
          "Qty": 1,
          "index": 137
         },
         {
          "Complaint Type": "Correct",
          "DoctorID": "FFCIE",
          "Qty": 5,
          "index": 138
         },
         {
          "Complaint Type": "Incorrect",
          "DoctorID": "FFCIE",
          "Qty": 1,
          "index": 139
         },
         {
          "Complaint Type": "Unknown",
          "DoctorID": "FFCIE",
          "Qty": 1,
          "index": 140
         },
         {
          "Complaint Type": "Incorrect",
          "DoctorID": "GDAJE",
          "Qty": 1,
          "index": 141
         },
         {
          "Complaint Type": "Correct",
          "DoctorID": "GDADF",
          "Qty": 3,
          "index": 142
         },
         {
          "Complaint Type": "Incorrect",
          "DoctorID": "GDADF",
          "Qty": 3,
          "index": 143
         },
         {
          "Complaint Type": "Unknown",
          "DoctorID": "GDAFH",
          "Qty": 1,
          "index": 144
         },
         {
          "Complaint Type": "Correct",
          "DoctorID": "GDEAD",
          "Qty": 3,
          "index": 145
         },
         {
          "Complaint Type": "Unknown",
          "DoctorID": "GDFHE",
          "Qty": 1,
          "index": 146
         },
         {
          "Complaint Type": "Correct",
          "DoctorID": "GDGHI",
          "Qty": 3,
          "index": 147
         },
         {
          "Complaint Type": "Incorrect",
          "DoctorID": "GDGHI",
          "Qty": 4,
          "index": 148
         },
         {
          "Complaint Type": "Correct",
          "DoctorID": "GDGIF",
          "Qty": 1,
          "index": 149
         },
         {
          "Complaint Type": "Incorrect",
          "DoctorID": "GDGIF",
          "Qty": 1,
          "index": 150
         },
         {
          "Complaint Type": "Correct",
          "DoctorID": "GDHIJ",
          "Qty": 9,
          "index": 151
         },
         {
          "Complaint Type": "Incorrect",
          "DoctorID": "GDHIJ",
          "Qty": 4,
          "index": 152
         },
         {
          "Complaint Type": "Unknown",
          "DoctorID": "GDHIJ",
          "Qty": 1,
          "index": 153
         },
         {
          "Complaint Type": "Correct",
          "DoctorID": "GGBFC",
          "Qty": 3,
          "index": 154
         },
         {
          "Complaint Type": "Incorrect",
          "DoctorID": "GGCCD",
          "Qty": 1,
          "index": 155
         },
         {
          "Complaint Type": "Specific",
          "DoctorID": "GGGAA",
          "Qty": 1,
          "index": 156
         },
         {
          "Complaint Type": "Incorrect",
          "DoctorID": "GGGAA",
          "Qty": 1,
          "index": 157
         },
         {
          "Complaint Type": "Correct",
          "DoctorID": "GHAEF",
          "Qty": 3,
          "index": 158
         },
         {
          "Complaint Type": "Unknown",
          "DoctorID": "GHDFB",
          "Qty": 1,
          "index": 159
         },
         {
          "Complaint Type": "Unknown",
          "DoctorID": "GIHBE",
          "Qty": 1,
          "index": 160
         },
         {
          "Complaint Type": "Incorrect",
          "DoctorID": "HJBCD",
          "Qty": 1,
          "index": 161
         },
         {
          "Complaint Type": "Correct",
          "DoctorID": "HJDFA",
          "Qty": 1,
          "index": 162
         },
         {
          "Complaint Type": "Incorrect",
          "DoctorID": "HABDJ",
          "Qty": 1,
          "index": 163
         },
         {
          "Complaint Type": "Unknown",
          "DoctorID": "HABDJ",
          "Qty": 1,
          "index": 164
         },
         {
          "Complaint Type": "Correct",
          "DoctorID": "HAGDC",
          "Qty": 1,
          "index": 165
         },
         {
          "Complaint Type": "Correct",
          "DoctorID": "HAIAH",
          "Qty": 1,
          "index": 166
         },
         {
          "Complaint Type": "Incorrect",
          "DoctorID": "HAIAH",
          "Qty": 1,
          "index": 167
         },
         {
          "Complaint Type": "Correct",
          "DoctorID": "HBAHA",
          "Qty": 4,
          "index": 168
         },
         {
          "Complaint Type": "Correct",
          "DoctorID": "HBCEA",
          "Qty": 1,
          "index": 169
         },
         {
          "Complaint Type": "Incorrect",
          "DoctorID": "HBCEA",
          "Qty": 2,
          "index": 170
         },
         {
          "Complaint Type": "Correct",
          "DoctorID": "HBDID",
          "Qty": 1,
          "index": 171
         },
         {
          "Complaint Type": "Unknown",
          "DoctorID": "HBDID",
          "Qty": 1,
          "index": 172
         },
         {
          "Complaint Type": "Correct",
          "DoctorID": "HBEHJ",
          "Qty": 1,
          "index": 173
         },
         {
          "Complaint Type": "Incorrect",
          "DoctorID": "HBEHJ",
          "Qty": 1,
          "index": 174
         },
         {
          "Complaint Type": "Correct",
          "DoctorID": "HBFAF",
          "Qty": 2,
          "index": 175
         },
         {
          "Complaint Type": "Correct",
          "DoctorID": "HBIEA",
          "Qty": 2,
          "index": 176
         },
         {
          "Complaint Type": "Unknown",
          "DoctorID": "HBIEA",
          "Qty": 1,
          "index": 177
         },
         {
          "Complaint Type": "Correct",
          "DoctorID": "HBIFB",
          "Qty": 2,
          "index": 178
         },
         {
          "Complaint Type": "Correct",
          "DoctorID": "HCJHF",
          "Qty": 3,
          "index": 179
         },
         {
          "Complaint Type": "Correct",
          "DoctorID": "HCAJH",
          "Qty": 1,
          "index": 180
         },
         {
          "Complaint Type": "Correct",
          "DoctorID": "HCBFF",
          "Qty": 4,
          "index": 181
         },
         {
          "Complaint Type": "Incorrect",
          "DoctorID": "HCBFF",
          "Qty": 3,
          "index": 182
         },
         {
          "Complaint Type": "Incorrect",
          "DoctorID": "HCEAA",
          "Qty": 1,
          "index": 183
         },
         {
          "Complaint Type": "Correct",
          "DoctorID": "HCIGF",
          "Qty": 2,
          "index": 184
         },
         {
          "Complaint Type": "Incorrect",
          "DoctorID": "HCIGF",
          "Qty": 1,
          "index": 185
         },
         {
          "Complaint Type": "Unknown",
          "DoctorID": "HCIGF",
          "Qty": 1,
          "index": 186
         },
         {
          "Complaint Type": "Correct",
          "DoctorID": "HEAIA",
          "Qty": 3,
          "index": 187
         },
         {
          "Complaint Type": "Correct",
          "DoctorID": "HEFBI",
          "Qty": 2,
          "index": 188
         },
         {
          "Complaint Type": "Incorrect",
          "DoctorID": "HEFBI",
          "Qty": 1,
          "index": 189
         },
         {
          "Complaint Type": "Unknown",
          "DoctorID": "HEFBI",
          "Qty": 1,
          "index": 190
         },
         {
          "Complaint Type": "Correct",
          "DoctorID": "HHBHI",
          "Qty": 4,
          "index": 191
         },
         {
          "Complaint Type": "Incorrect",
          "DoctorID": "HHBHI",
          "Qty": 1,
          "index": 192
         },
         {
          "Complaint Type": "Unknown",
          "DoctorID": "HHBHI",
          "Qty": 1,
          "index": 193
         },
         {
          "Complaint Type": "Correct",
          "DoctorID": "HIEFA",
          "Qty": 1,
          "index": 194
         },
         {
          "Complaint Type": "Correct",
          "DoctorID": "IAEBD",
          "Qty": 3,
          "index": 195
         },
         {
          "Complaint Type": "Incorrect",
          "DoctorID": "IAEBD",
          "Qty": 1,
          "index": 196
         },
         {
          "Complaint Type": "Correct",
          "DoctorID": "IDAGA",
          "Qty": 2,
          "index": 197
         },
         {
          "Complaint Type": "Unknown",
          "DoctorID": "IDGCI",
          "Qty": 1,
          "index": 198
         },
         {
          "Complaint Type": "Correct",
          "DoctorID": "IEJIA",
          "Qty": 3,
          "index": 199
         },
         {
          "Complaint Type": "Incorrect",
          "DoctorID": "IEJIA",
          "Qty": 1,
          "index": 200
         },
         {
          "Complaint Type": "Unknown",
          "DoctorID": "IEJIA",
          "Qty": 1,
          "index": 201
         },
         {
          "Complaint Type": "Correct",
          "DoctorID": "IEHGF",
          "Qty": 2,
          "index": 202
         },
         {
          "Complaint Type": "Incorrect",
          "DoctorID": "IFBHI",
          "Qty": 1,
          "index": 203
         },
         {
          "Complaint Type": "Unknown",
          "DoctorID": "IFBHI",
          "Qty": 1,
          "index": 204
         },
         {
          "Complaint Type": "Correct",
          "DoctorID": "IFDIB",
          "Qty": 1,
          "index": 205
         },
         {
          "Complaint Type": "Unknown",
          "DoctorID": "IGEIJ",
          "Qty": 1,
          "index": 206
         },
         {
          "Complaint Type": "Correct",
          "DoctorID": "AJDBGC",
          "Qty": 2,
          "index": 207
         },
         {
          "Complaint Type": "Correct",
          "DoctorID": "AJFADH",
          "Qty": 1,
          "index": 208
         },
         {
          "Complaint Type": "Incorrect",
          "DoctorID": "AJFADH",
          "Qty": 1,
          "index": 209
         },
         {
          "Complaint Type": "Correct",
          "DoctorID": "AJGICE",
          "Qty": 5,
          "index": 210
         },
         {
          "Complaint Type": "Incorrect",
          "DoctorID": "AJGICE",
          "Qty": 2,
          "index": 211
         },
         {
          "Complaint Type": "Unknown",
          "DoctorID": "AJGICE",
          "Qty": 2,
          "index": 212
         },
         {
          "Complaint Type": "Incorrect",
          "DoctorID": "AJHCDH",
          "Qty": 1,
          "index": 213
         },
         {
          "Complaint Type": "Incorrect",
          "DoctorID": "AJHIEE",
          "Qty": 1,
          "index": 214
         },
         {
          "Complaint Type": "Correct",
          "DoctorID": "AAJJHH",
          "Qty": 1,
          "index": 215
         },
         {
          "Complaint Type": "Correct",
          "DoctorID": "AAAEAH",
          "Qty": 1,
          "index": 216
         },
         {
          "Complaint Type": "Correct",
          "DoctorID": "AAAHCE",
          "Qty": 1,
          "index": 217
         },
         {
          "Complaint Type": "Incorrect",
          "DoctorID": "AAAHCE",
          "Qty": 2,
          "index": 218
         },
         {
          "Complaint Type": "Unknown",
          "DoctorID": "AAAHCE",
          "Qty": 1,
          "index": 219
         },
         {
          "Complaint Type": "Incorrect",
          "DoctorID": "AABDHC",
          "Qty": 1,
          "index": 220
         },
         {
          "Complaint Type": "Correct",
          "DoctorID": "AABGAB",
          "Qty": 3,
          "index": 221
         },
         {
          "Complaint Type": "Unknown",
          "DoctorID": "AABGAB",
          "Qty": 1,
          "index": 222
         },
         {
          "Complaint Type": "Correct",
          "DoctorID": "AACJEJ",
          "Qty": 1,
          "index": 223
         },
         {
          "Complaint Type": "Incorrect",
          "DoctorID": "AACJEJ",
          "Qty": 2,
          "index": 224
         },
         {
          "Complaint Type": "Incorrect",
          "DoctorID": "AACCGA",
          "Qty": 1,
          "index": 225
         },
         {
          "Complaint Type": "Unknown",
          "DoctorID": "AACCGI",
          "Qty": 1,
          "index": 226
         },
         {
          "Complaint Type": "Unknown",
          "DoctorID": "AACEIE",
          "Qty": 1,
          "index": 227
         },
         {
          "Complaint Type": "Incorrect",
          "DoctorID": "AADDIG",
          "Qty": 1,
          "index": 228
         },
         {
          "Complaint Type": "Correct",
          "DoctorID": "AAEIEG",
          "Qty": 15,
          "index": 229
         },
         {
          "Complaint Type": "Incorrect",
          "DoctorID": "AAEIEG",
          "Qty": 1,
          "index": 230
         },
         {
          "Complaint Type": "R&R",
          "DoctorID": "AAEIEG",
          "Qty": 1,
          "index": 231
         },
         {
          "Complaint Type": "Unknown",
          "DoctorID": "AAEIEG",
          "Qty": 3,
          "index": 232
         },
         {
          "Complaint Type": "Correct",
          "DoctorID": "AAFJJB",
          "Qty": 4,
          "index": 233
         },
         {
          "Complaint Type": "Incorrect",
          "DoctorID": "AAFJJB",
          "Qty": 1,
          "index": 234
         },
         {
          "Complaint Type": "Correct",
          "DoctorID": "AAFJBH",
          "Qty": 1,
          "index": 235
         },
         {
          "Complaint Type": "Unknown",
          "DoctorID": "AAFJBH",
          "Qty": 1,
          "index": 236
         },
         {
          "Complaint Type": "Correct",
          "DoctorID": "AAGHII",
          "Qty": 1,
          "index": 237
         },
         {
          "Complaint Type": "Incorrect",
          "DoctorID": "AAHGBF",
          "Qty": 1,
          "index": 238
         },
         {
          "Complaint Type": "Correct",
          "DoctorID": "AAIGDH",
          "Qty": 5,
          "index": 239
         },
         {
          "Complaint Type": "Correct",
          "DoctorID": "ABJJGH",
          "Qty": 2,
          "index": 240
         },
         {
          "Complaint Type": "Correct",
          "DoctorID": "ABJEAI",
          "Qty": 5,
          "index": 241
         },
         {
          "Complaint Type": "Unknown",
          "DoctorID": "ABJEAI",
          "Qty": 1,
          "index": 242
         },
         {
          "Complaint Type": "Correct",
          "DoctorID": "ABJHED",
          "Qty": 2,
          "index": 243
         },
         {
          "Complaint Type": "Unknown",
          "DoctorID": "ABJHED",
          "Qty": 1,
          "index": 244
         },
         {
          "Complaint Type": "Correct",
          "DoctorID": "ABAIEG",
          "Qty": 1,
          "index": 245
         },
         {
          "Complaint Type": "Correct",
          "DoctorID": "ABBFAC",
          "Qty": 1,
          "index": 246
         },
         {
          "Complaint Type": "Correct",
          "DoctorID": "ABEAFF",
          "Qty": 1,
          "index": 247
         },
         {
          "Complaint Type": "Correct",
          "DoctorID": "ABFFCJ",
          "Qty": 1,
          "index": 248
         },
         {
          "Complaint Type": "Incorrect",
          "DoctorID": "ABFFCJ",
          "Qty": 1,
          "index": 249
         },
         {
          "Complaint Type": "Incorrect",
          "DoctorID": "ABGBGC",
          "Qty": 1,
          "index": 250
         },
         {
          "Complaint Type": "Unknown",
          "DoctorID": "ABGBGC",
          "Qty": 1,
          "index": 251
         },
         {
          "Complaint Type": "Correct",
          "DoctorID": "ABHGCJ",
          "Qty": 3,
          "index": 252
         },
         {
          "Complaint Type": "Incorrect",
          "DoctorID": "ABHGCJ",
          "Qty": 1,
          "index": 253
         },
         {
          "Complaint Type": "Unknown",
          "DoctorID": "ABHGCJ",
          "Qty": 2,
          "index": 254
         },
         {
          "Complaint Type": "Correct",
          "DoctorID": "ABHIAF",
          "Qty": 1,
          "index": 255
         },
         {
          "Complaint Type": "Unknown",
          "DoctorID": "ABHIAF",
          "Qty": 1,
          "index": 256
         },
         {
          "Complaint Type": "Correct",
          "DoctorID": "ABHIFI",
          "Qty": 1,
          "index": 257
         },
         {
          "Complaint Type": "Correct",
          "DoctorID": "ACJDBA",
          "Qty": 1,
          "index": 258
         },
         {
          "Complaint Type": "Incorrect",
          "DoctorID": "ACJDBA",
          "Qty": 2,
          "index": 259
         },
         {
          "Complaint Type": "Correct",
          "DoctorID": "ACBBCA",
          "Qty": 1,
          "index": 260
         },
         {
          "Complaint Type": "Correct",
          "DoctorID": "ACBCHA",
          "Qty": 3,
          "index": 261
         },
         {
          "Complaint Type": "Incorrect",
          "DoctorID": "ACBCHA",
          "Qty": 2,
          "index": 262
         },
         {
          "Complaint Type": "Unknown",
          "DoctorID": "ACBCHA",
          "Qty": 1,
          "index": 263
         },
         {
          "Complaint Type": "Unknown",
          "DoctorID": "ACBGIB",
          "Qty": 1,
          "index": 264
         },
         {
          "Complaint Type": "Incorrect",
          "DoctorID": "ACBIDH",
          "Qty": 1,
          "index": 265
         },
         {
          "Complaint Type": "Correct",
          "DoctorID": "ACDBJE",
          "Qty": 1,
          "index": 266
         },
         {
          "Complaint Type": "Correct",
          "DoctorID": "ACDFJH",
          "Qty": 7,
          "index": 267
         },
         {
          "Complaint Type": "Unknown",
          "DoctorID": "ACDFJH",
          "Qty": 3,
          "index": 268
         },
         {
          "Complaint Type": "Correct",
          "DoctorID": "ACHGHE",
          "Qty": 1,
          "index": 269
         },
         {
          "Complaint Type": "Incorrect",
          "DoctorID": "ACHGHE",
          "Qty": 1,
          "index": 270
         },
         {
          "Complaint Type": "Unknown",
          "DoctorID": "ACHGHE",
          "Qty": 1,
          "index": 271
         },
         {
          "Complaint Type": "Incorrect",
          "DoctorID": "ACIHGD",
          "Qty": 1,
          "index": 272
         },
         {
          "Complaint Type": "Correct",
          "DoctorID": "ADJHAB",
          "Qty": 1,
          "index": 273
         },
         {
          "Complaint Type": "Unknown",
          "DoctorID": "ADJHAB",
          "Qty": 1,
          "index": 274
         },
         {
          "Complaint Type": "Incorrect",
          "DoctorID": "ADBDII",
          "Qty": 1,
          "index": 275
         },
         {
          "Complaint Type": "Correct",
          "DoctorID": "ADBHIC",
          "Qty": 1,
          "index": 276
         },
         {
          "Complaint Type": "Correct",
          "DoctorID": "ADCJFA",
          "Qty": 2,
          "index": 277
         },
         {
          "Complaint Type": "Incorrect",
          "DoctorID": "ADDJGE",
          "Qty": 1,
          "index": 278
         },
         {
          "Complaint Type": "Unknown",
          "DoctorID": "ADDEBB",
          "Qty": 1,
          "index": 279
         },
         {
          "Complaint Type": "Correct",
          "DoctorID": "ADDEGG",
          "Qty": 2,
          "index": 280
         },
         {
          "Complaint Type": "Incorrect",
          "DoctorID": "ADDEGG",
          "Qty": 1,
          "index": 281
         },
         {
          "Complaint Type": "Correct",
          "DoctorID": "ADDGJC",
          "Qty": 1,
          "index": 282
         },
         {
          "Complaint Type": "Unknown",
          "DoctorID": "ADEGFF",
          "Qty": 1,
          "index": 283
         },
         {
          "Complaint Type": "Specific",
          "DoctorID": "ADFECC",
          "Qty": 2,
          "index": 284
         },
         {
          "Complaint Type": "Correct",
          "DoctorID": "ADGAIC",
          "Qty": 1,
          "index": 285
         },
         {
          "Complaint Type": "Correct",
          "DoctorID": "ADGCJI",
          "Qty": 1,
          "index": 286
         },
         {
          "Complaint Type": "Correct",
          "DoctorID": "ADGFHG",
          "Qty": 1,
          "index": 287
         },
         {
          "Complaint Type": "Correct",
          "DoctorID": "ADHBJA",
          "Qty": 1,
          "index": 288
         },
         {
          "Complaint Type": "Correct",
          "DoctorID": "ADIDCF",
          "Qty": 1,
          "index": 289
         },
         {
          "Complaint Type": "Unknown",
          "DoctorID": "AECDDD",
          "Qty": 1,
          "index": 290
         },
         {
          "Complaint Type": "Correct",
          "DoctorID": "AECGFE",
          "Qty": 1,
          "index": 291
         },
         {
          "Complaint Type": "Unknown",
          "DoctorID": "AECGFE",
          "Qty": 1,
          "index": 292
         },
         {
          "Complaint Type": "Correct",
          "DoctorID": "AECIDA",
          "Qty": 2,
          "index": 293
         },
         {
          "Complaint Type": "Incorrect",
          "DoctorID": "AECIDA",
          "Qty": 3,
          "index": 294
         },
         {
          "Complaint Type": "Correct",
          "DoctorID": "AEFEAG",
          "Qty": 8,
          "index": 295
         },
         {
          "Complaint Type": "Incorrect",
          "DoctorID": "AEFEAG",
          "Qty": 2,
          "index": 296
         },
         {
          "Complaint Type": "Correct",
          "DoctorID": "AEGJGG",
          "Qty": 2,
          "index": 297
         },
         {
          "Complaint Type": "Correct",
          "DoctorID": "AEGAJH",
          "Qty": 3,
          "index": 298
         },
         {
          "Complaint Type": "Specific",
          "DoctorID": "AEGCCG",
          "Qty": 1,
          "index": 299
         },
         {
          "Complaint Type": "Incorrect",
          "DoctorID": "AEGFAA",
          "Qty": 1,
          "index": 300
         },
         {
          "Complaint Type": "Incorrect",
          "DoctorID": "AEHEHD",
          "Qty": 1,
          "index": 301
         },
         {
          "Complaint Type": "Unknown",
          "DoctorID": "AEHEHD",
          "Qty": 1,
          "index": 302
         },
         {
          "Complaint Type": "Correct",
          "DoctorID": "AFJHFB",
          "Qty": 3,
          "index": 303
         },
         {
          "Complaint Type": "Correct",
          "DoctorID": "AFCADC",
          "Qty": 1,
          "index": 304
         },
         {
          "Complaint Type": "Incorrect",
          "DoctorID": "AFCADC",
          "Qty": 1,
          "index": 305
         },
         {
          "Complaint Type": "Correct",
          "DoctorID": "AFCFGJ",
          "Qty": 1,
          "index": 306
         },
         {
          "Complaint Type": "Incorrect",
          "DoctorID": "AFCFGJ",
          "Qty": 1,
          "index": 307
         },
         {
          "Complaint Type": "Incorrect",
          "DoctorID": "AFCGAH",
          "Qty": 1,
          "index": 308
         },
         {
          "Complaint Type": "Correct",
          "DoctorID": "AFDBGB",
          "Qty": 2,
          "index": 309
         },
         {
          "Complaint Type": "Correct",
          "DoctorID": "AFGGDB",
          "Qty": 2,
          "index": 310
         },
         {
          "Complaint Type": "Incorrect",
          "DoctorID": "AFGGDB",
          "Qty": 1,
          "index": 311
         },
         {
          "Complaint Type": "Unknown",
          "DoctorID": "AFGGDB",
          "Qty": 1,
          "index": 312
         },
         {
          "Complaint Type": "Correct",
          "DoctorID": "AGABCH",
          "Qty": 1,
          "index": 313
         },
         {
          "Complaint Type": "Correct",
          "DoctorID": "AGABDF",
          "Qty": 1,
          "index": 314
         },
         {
          "Complaint Type": "Unknown",
          "DoctorID": "AGACJD",
          "Qty": 1,
          "index": 315
         },
         {
          "Complaint Type": "Correct",
          "DoctorID": "AGADGD",
          "Qty": 2,
          "index": 316
         },
         {
          "Complaint Type": "Correct",
          "DoctorID": "AGCHEE",
          "Qty": 2,
          "index": 317
         },
         {
          "Complaint Type": "Correct",
          "DoctorID": "AGEFBG",
          "Qty": 1,
          "index": 318
         },
         {
          "Complaint Type": "Incorrect",
          "DoctorID": "AGEIBA",
          "Qty": 1,
          "index": 319
         },
         {
          "Complaint Type": "Unknown",
          "DoctorID": "AGEIBA",
          "Qty": 1,
          "index": 320
         },
         {
          "Complaint Type": "Correct",
          "DoctorID": "AGFEFG",
          "Qty": 1,
          "index": 321
         },
         {
          "Complaint Type": "Correct",
          "DoctorID": "AGIJAC",
          "Qty": 1,
          "index": 322
         },
         {
          "Complaint Type": "Incorrect",
          "DoctorID": "AGIJAC",
          "Qty": 1,
          "index": 323
         },
         {
          "Complaint Type": "Correct",
          "DoctorID": "AGIGAF",
          "Qty": 2,
          "index": 324
         },
         {
          "Complaint Type": "Correct",
          "DoctorID": "AHJDEI",
          "Qty": 1,
          "index": 325
         },
         {
          "Complaint Type": "Unknown",
          "DoctorID": "AHJDEI",
          "Qty": 1,
          "index": 326
         },
         {
          "Complaint Type": "Correct",
          "DoctorID": "AHJEHG",
          "Qty": 1,
          "index": 327
         },
         {
          "Complaint Type": "Unknown",
          "DoctorID": "AHAHIB",
          "Qty": 1,
          "index": 328
         },
         {
          "Complaint Type": "Correct",
          "DoctorID": "AHBEII",
          "Qty": 1,
          "index": 329
         },
         {
          "Complaint Type": "Unknown",
          "DoctorID": "AHDDAI",
          "Qty": 1,
          "index": 330
         },
         {
          "Complaint Type": "Incorrect",
          "DoctorID": "AHDHCH",
          "Qty": 1,
          "index": 331
         },
         {
          "Complaint Type": "Unknown",
          "DoctorID": "AHEFIJ",
          "Qty": 1,
          "index": 332
         },
         {
          "Complaint Type": "Correct",
          "DoctorID": "AHFFDD",
          "Qty": 2,
          "index": 333
         },
         {
          "Complaint Type": "Correct",
          "DoctorID": "AHIEIG",
          "Qty": 1,
          "index": 334
         },
         {
          "Complaint Type": "Correct",
          "DoctorID": "AIABDJ",
          "Qty": 1,
          "index": 335
         },
         {
          "Complaint Type": "Unknown",
          "DoctorID": "AIABDJ",
          "Qty": 1,
          "index": 336
         },
         {
          "Complaint Type": "Correct",
          "DoctorID": "AIBAHD",
          "Qty": 1,
          "index": 337
         },
         {
          "Complaint Type": "Incorrect",
          "DoctorID": "AIBDIG",
          "Qty": 1,
          "index": 338
         },
         {
          "Complaint Type": "Correct",
          "DoctorID": "AICDGI",
          "Qty": 1,
          "index": 339
         },
         {
          "Complaint Type": "Incorrect",
          "DoctorID": "AIDEAJ",
          "Qty": 1,
          "index": 340
         },
         {
          "Complaint Type": "Correct",
          "DoctorID": "AIEJCA",
          "Qty": 1,
          "index": 341
         },
         {
          "Complaint Type": "Incorrect",
          "DoctorID": "AIEACB",
          "Qty": 1,
          "index": 342
         },
         {
          "Complaint Type": "Correct",
          "DoctorID": "AIEBFD",
          "Qty": 3,
          "index": 343
         },
         {
          "Complaint Type": "Specific",
          "DoctorID": "AIEBFD",
          "Qty": 1,
          "index": 344
         },
         {
          "Complaint Type": "Incorrect",
          "DoctorID": "AIEBFD",
          "Qty": 4,
          "index": 345
         },
         {
          "Complaint Type": "Unknown",
          "DoctorID": "AIEBFD",
          "Qty": 4,
          "index": 346
         },
         {
          "Complaint Type": "Correct",
          "DoctorID": "AIFAEE",
          "Qty": 7,
          "index": 347
         },
         {
          "Complaint Type": "Incorrect",
          "DoctorID": "AIFAEE",
          "Qty": 2,
          "index": 348
         },
         {
          "Complaint Type": "Unknown",
          "DoctorID": "AIFAEE",
          "Qty": 4,
          "index": 349
         },
         {
          "Complaint Type": "Incorrect",
          "DoctorID": "AIFDEE",
          "Qty": 1,
          "index": 350
         },
         {
          "Complaint Type": "Unknown",
          "DoctorID": "AIFDEE",
          "Qty": 1,
          "index": 351
         },
         {
          "Complaint Type": "Specific",
          "DoctorID": "AIFDIA",
          "Qty": 1,
          "index": 352
         },
         {
          "Complaint Type": "Incorrect",
          "DoctorID": "AIFEBB",
          "Qty": 1,
          "index": 353
         },
         {
          "Complaint Type": "Correct",
          "DoctorID": "AIFHDB",
          "Qty": 1,
          "index": 354
         },
         {
          "Complaint Type": null,
          "DoctorID": "AIFHDB",
          "Qty": 1,
          "index": 355
         },
         {
          "Complaint Type": "Unknown",
          "DoctorID": "AIFHDB",
          "Qty": 2,
          "index": 356
         },
         {
          "Complaint Type": "Correct",
          "DoctorID": "AIGIAD",
          "Qty": 1,
          "index": 357
         },
         {
          "Complaint Type": "Correct",
          "DoctorID": "AIHCJI",
          "Qty": 6,
          "index": 358
         },
         {
          "Complaint Type": "Incorrect",
          "DoctorID": "AIHCJI",
          "Qty": 1,
          "index": 359
         },
         {
          "Complaint Type": "Unknown",
          "DoctorID": "AIHCJI",
          "Qty": 1,
          "index": 360
         },
         {
          "Complaint Type": "Correct",
          "DoctorID": "BJBAFG",
          "Qty": 1,
          "index": 361
         },
         {
          "Complaint Type": "Correct",
          "DoctorID": "BJBFJC",
          "Qty": 1,
          "index": 362
         },
         {
          "Complaint Type": "Correct",
          "DoctorID": "BJBFDB",
          "Qty": 1,
          "index": 363
         },
         {
          "Complaint Type": "Incorrect",
          "DoctorID": "BJBFDB",
          "Qty": 1,
          "index": 364
         },
         {
          "Complaint Type": "Correct",
          "DoctorID": "BJBIIH",
          "Qty": 1,
          "index": 365
         },
         {
          "Complaint Type": "Correct",
          "DoctorID": "BJDEGI",
          "Qty": 2,
          "index": 366
         },
         {
          "Complaint Type": "Incorrect",
          "DoctorID": "BJDEGI",
          "Qty": 3,
          "index": 367
         },
         {
          "Complaint Type": "Unknown",
          "DoctorID": "BJDEGI",
          "Qty": 3,
          "index": 368
         },
         {
          "Complaint Type": "Incorrect",
          "DoctorID": "BJDFFJ",
          "Qty": 1,
          "index": 369
         },
         {
          "Complaint Type": "Correct",
          "DoctorID": "BJEACG",
          "Qty": 1,
          "index": 370
         },
         {
          "Complaint Type": "Correct",
          "DoctorID": "BJIHHD",
          "Qty": 1,
          "index": 371
         },
         {
          "Complaint Type": "Unknown",
          "DoctorID": "BAACDF",
          "Qty": 1,
          "index": 372
         },
         {
          "Complaint Type": "Incorrect",
          "DoctorID": "BAACGG",
          "Qty": 1,
          "index": 373
         },
         {
          "Complaint Type": "Correct",
          "DoctorID": "BABEFH",
          "Qty": 4,
          "index": 374
         },
         {
          "Complaint Type": "Incorrect",
          "DoctorID": "BABEFH",
          "Qty": 4,
          "index": 375
         },
         {
          "Complaint Type": "Unknown",
          "DoctorID": "BABEFH",
          "Qty": 6,
          "index": 376
         },
         {
          "Complaint Type": "Correct",
          "DoctorID": "BABGJG",
          "Qty": 8,
          "index": 377
         },
         {
          "Complaint Type": "Incorrect",
          "DoctorID": "BABGJG",
          "Qty": 1,
          "index": 378
         },
         {
          "Complaint Type": "Unknown",
          "DoctorID": "BABGJG",
          "Qty": 1,
          "index": 379
         },
         {
          "Complaint Type": "Correct",
          "DoctorID": "BABHAJ",
          "Qty": 1,
          "index": 380
         },
         {
          "Complaint Type": "Correct",
          "DoctorID": "BADDDJ",
          "Qty": 2,
          "index": 381
         },
         {
          "Complaint Type": "Incorrect",
          "DoctorID": "BADDDJ",
          "Qty": 2,
          "index": 382
         },
         {
          "Complaint Type": "Correct",
          "DoctorID": "BAEEJA",
          "Qty": 1,
          "index": 383
         },
         {
          "Complaint Type": "Incorrect",
          "DoctorID": "BAEEJA",
          "Qty": 1,
          "index": 384
         },
         {
          "Complaint Type": "Correct",
          "DoctorID": "BAFAAH",
          "Qty": 1,
          "index": 385
         },
         {
          "Complaint Type": "Correct",
          "DoctorID": "BAFEFF",
          "Qty": 1,
          "index": 386
         },
         {
          "Complaint Type": "Incorrect",
          "DoctorID": "BAFEFF",
          "Qty": 3,
          "index": 387
         },
         {
          "Complaint Type": "Correct",
          "DoctorID": "BAFIJB",
          "Qty": 2,
          "index": 388
         },
         {
          "Complaint Type": "Unknown",
          "DoctorID": "BAFIJB",
          "Qty": 1,
          "index": 389
         },
         {
          "Complaint Type": "Correct",
          "DoctorID": "BAHHBG",
          "Qty": 3,
          "index": 390
         },
         {
          "Complaint Type": "Incorrect",
          "DoctorID": "BBAJCF",
          "Qty": 1,
          "index": 391
         },
         {
          "Complaint Type": "Correct",
          "DoctorID": "BBABJA",
          "Qty": 3,
          "index": 392
         },
         {
          "Complaint Type": "Incorrect",
          "DoctorID": "BBABJA",
          "Qty": 1,
          "index": 393
         },
         {
          "Complaint Type": "Unknown",
          "DoctorID": "BBABJA",
          "Qty": 1,
          "index": 394
         },
         {
          "Complaint Type": "Correct",
          "DoctorID": "BBABJD",
          "Qty": 1,
          "index": 395
         },
         {
          "Complaint Type": "Correct",
          "DoctorID": "BBBDGH",
          "Qty": 1,
          "index": 396
         },
         {
          "Complaint Type": "Incorrect",
          "DoctorID": "BBBGBH",
          "Qty": 1,
          "index": 397
         },
         {
          "Complaint Type": "Correct",
          "DoctorID": "BBCHEH",
          "Qty": 1,
          "index": 398
         },
         {
          "Complaint Type": "Specific",
          "DoctorID": "BBCHEH",
          "Qty": 2,
          "index": 399
         },
         {
          "Complaint Type": "Unknown",
          "DoctorID": "BBHCBF",
          "Qty": 1,
          "index": 400
         },
         {
          "Complaint Type": "Correct",
          "DoctorID": "BCJGJJ",
          "Qty": 1,
          "index": 401
         },
         {
          "Complaint Type": "Correct",
          "DoctorID": "BCCFGC",
          "Qty": 1,
          "index": 402
         },
         {
          "Complaint Type": "Correct",
          "DoctorID": "BCDGAI",
          "Qty": 1,
          "index": 403
         },
         {
          "Complaint Type": "Correct",
          "DoctorID": "BCFJAB",
          "Qty": 1,
          "index": 404
         },
         {
          "Complaint Type": "Unknown",
          "DoctorID": "BCFJAB",
          "Qty": 2,
          "index": 405
         },
         {
          "Complaint Type": "Correct",
          "DoctorID": "BCFGAB",
          "Qty": 2,
          "index": 406
         },
         {
          "Complaint Type": "Unknown",
          "DoctorID": "BCFGAB",
          "Qty": 2,
          "index": 407
         },
         {
          "Complaint Type": "Unknown",
          "DoctorID": "BCFGEA",
          "Qty": 1,
          "index": 408
         },
         {
          "Complaint Type": "Correct",
          "DoctorID": "BCGBHC",
          "Qty": 2,
          "index": 409
         },
         {
          "Complaint Type": "Correct",
          "DoctorID": "BCGFDD",
          "Qty": 1,
          "index": 410
         },
         {
          "Complaint Type": "Correct",
          "DoctorID": "BCGHBG",
          "Qty": 1,
          "index": 411
         },
         {
          "Complaint Type": "Correct",
          "DoctorID": "BCHBBG",
          "Qty": 1,
          "index": 412
         },
         {
          "Complaint Type": "Correct",
          "DoctorID": "BDDCCB",
          "Qty": 1,
          "index": 413
         },
         {
          "Complaint Type": "Correct",
          "DoctorID": "BDFCGI",
          "Qty": 2,
          "index": 414
         },
         {
          "Complaint Type": "Correct",
          "DoctorID": "BDGBIC",
          "Qty": 1,
          "index": 415
         },
         {
          "Complaint Type": "Incorrect",
          "DoctorID": "BDGBIC",
          "Qty": 1,
          "index": 416
         },
         {
          "Complaint Type": "Incorrect",
          "DoctorID": "BDGCCB",
          "Qty": 1,
          "index": 417
         },
         {
          "Complaint Type": "Incorrect",
          "DoctorID": "BDGHAH",
          "Qty": 1,
          "index": 418
         },
         {
          "Complaint Type": "Incorrect",
          "DoctorID": "BEAIJI",
          "Qty": 1,
          "index": 419
         },
         {
          "Complaint Type": "Correct",
          "DoctorID": "BEBBHJ",
          "Qty": 1,
          "index": 420
         },
         {
          "Complaint Type": "Unknown",
          "DoctorID": "BEEGED",
          "Qty": 2,
          "index": 421
         },
         {
          "Complaint Type": "Unknown",
          "DoctorID": "BEFIIH",
          "Qty": 1,
          "index": 422
         },
         {
          "Complaint Type": "Correct",
          "DoctorID": "BFAHHA",
          "Qty": 1,
          "index": 423
         },
         {
          "Complaint Type": "Unknown",
          "DoctorID": "BFIGHB",
          "Qty": 1,
          "index": 424
         },
         {
          "Complaint Type": "Correct",
          "DoctorID": "BGJCFE",
          "Qty": 3,
          "index": 425
         },
         {
          "Complaint Type": "Unknown",
          "DoctorID": "BGJCFE",
          "Qty": 1,
          "index": 426
         },
         {
          "Complaint Type": "Correct",
          "DoctorID": "BGAAAH",
          "Qty": 7,
          "index": 427
         },
         {
          "Complaint Type": "Unknown",
          "DoctorID": "BGAAAH",
          "Qty": 1,
          "index": 428
         },
         {
          "Complaint Type": "Correct",
          "DoctorID": "BHGIFC",
          "Qty": 2,
          "index": 429
         },
         {
          "Complaint Type": "Incorrect",
          "DoctorID": "BHGIFC",
          "Qty": 1,
          "index": 430
         },
         {
          "Complaint Type": "Correct",
          "DoctorID": "BHHDDF",
          "Qty": 1,
          "index": 431
         },
         {
          "Complaint Type": "Incorrect",
          "DoctorID": "CJAFAB",
          "Qty": 1,
          "index": 432
         },
         {
          "Complaint Type": "Correct",
          "DoctorID": "CAAHID",
          "Qty": 2,
          "index": 433
         },
         {
          "Complaint Type": "Correct",
          "DoctorID": "CAECFG",
          "Qty": 2,
          "index": 434
         }
        ],
        "schema": {
         "fields": [
          {
           "name": "index",
           "type": "integer"
          },
          {
           "name": "DoctorID",
           "type": "string"
          },
          {
           "name": "Complaint Type",
           "type": "string"
          },
          {
           "name": "Qty",
           "type": "integer"
          }
         ],
         "pandas_version": "0.20.0",
         "primaryKey": [
          "index"
         ]
        }
       },
       "total_rows": 435
      },
      "text/html": [
       "<div>\n",
       "<style scoped>\n",
       "    .dataframe tbody tr th:only-of-type {\n",
       "        vertical-align: middle;\n",
       "    }\n",
       "\n",
       "    .dataframe tbody tr th {\n",
       "        vertical-align: top;\n",
       "    }\n",
       "\n",
       "    .dataframe thead th {\n",
       "        text-align: right;\n",
       "    }\n",
       "</style>\n",
       "<table border=\"1\" class=\"dataframe\">\n",
       "  <thead>\n",
       "    <tr style=\"text-align: right;\">\n",
       "      <th></th>\n",
       "      <th>DoctorID</th>\n",
       "      <th>Complaint Type</th>\n",
       "      <th>Qty</th>\n",
       "    </tr>\n",
       "  </thead>\n",
       "  <tbody>\n",
       "    <tr>\n",
       "      <th>0</th>\n",
       "      <td>EHAHI</td>\n",
       "      <td>Correct</td>\n",
       "      <td>10</td>\n",
       "    </tr>\n",
       "    <tr>\n",
       "      <th>1</th>\n",
       "      <td>EHDGF</td>\n",
       "      <td>Correct</td>\n",
       "      <td>2</td>\n",
       "    </tr>\n",
       "    <tr>\n",
       "      <th>2</th>\n",
       "      <td>EHDGF</td>\n",
       "      <td>Unknown</td>\n",
       "      <td>3</td>\n",
       "    </tr>\n",
       "    <tr>\n",
       "      <th>3</th>\n",
       "      <td>EHDIJ</td>\n",
       "      <td>Correct</td>\n",
       "      <td>8</td>\n",
       "    </tr>\n",
       "    <tr>\n",
       "      <th>4</th>\n",
       "      <td>EHDIJ</td>\n",
       "      <td>Incorrect</td>\n",
       "      <td>2</td>\n",
       "    </tr>\n",
       "    <tr>\n",
       "      <th>...</th>\n",
       "      <td>...</td>\n",
       "      <td>...</td>\n",
       "      <td>...</td>\n",
       "    </tr>\n",
       "    <tr>\n",
       "      <th>430</th>\n",
       "      <td>BHGIFC</td>\n",
       "      <td>Incorrect</td>\n",
       "      <td>1</td>\n",
       "    </tr>\n",
       "    <tr>\n",
       "      <th>431</th>\n",
       "      <td>BHHDDF</td>\n",
       "      <td>Correct</td>\n",
       "      <td>1</td>\n",
       "    </tr>\n",
       "    <tr>\n",
       "      <th>432</th>\n",
       "      <td>CJAFAB</td>\n",
       "      <td>Incorrect</td>\n",
       "      <td>1</td>\n",
       "    </tr>\n",
       "    <tr>\n",
       "      <th>433</th>\n",
       "      <td>CAAHID</td>\n",
       "      <td>Correct</td>\n",
       "      <td>2</td>\n",
       "    </tr>\n",
       "    <tr>\n",
       "      <th>434</th>\n",
       "      <td>CAECFG</td>\n",
       "      <td>Correct</td>\n",
       "      <td>2</td>\n",
       "    </tr>\n",
       "  </tbody>\n",
       "</table>\n",
       "<p>435 rows × 3 columns</p>\n",
       "</div>"
      ],
      "text/plain": [
       "    DoctorID Complaint Type  Qty\n",
       "0      EHAHI        Correct   10\n",
       "1      EHDGF        Correct    2\n",
       "2      EHDGF        Unknown    3\n",
       "3      EHDIJ        Correct    8\n",
       "4      EHDIJ      Incorrect    2\n",
       "..       ...            ...  ...\n",
       "430   BHGIFC      Incorrect    1\n",
       "431   BHHDDF        Correct    1\n",
       "432   CJAFAB      Incorrect    1\n",
       "433   CAAHID        Correct    2\n",
       "434   CAECFG        Correct    2\n",
       "\n",
       "[435 rows x 3 columns]"
      ]
     },
     "execution_count": 3,
     "metadata": {},
     "output_type": "execute_result"
    }
   ],
   "source": [
    "complaints = pd.read_csv('data/complaints.csv')\n",
    "complaints"
   ]
  },
  {
   "cell_type": "code",
   "execution_count": 4,
   "id": "873723e7-b56a-4663-a622-8f077ce3ae37",
   "metadata": {},
   "outputs": [
    {
     "data": {
      "application/com.datacamp.data-table.v1+json": {
       "is_truncated": false,
       "table": {
        "data": [
         {
          "DoctorID": "ADIFBD",
          "Instructions": "Yes",
          "index": 0
         },
         {
          "DoctorID": "ABHBED",
          "Instructions": "No",
          "index": 1
         },
         {
          "DoctorID": "FJFEG",
          "Instructions": "Yes",
          "index": 2
         },
         {
          "DoctorID": "AEBDAB",
          "Instructions": "No",
          "index": 3
         },
         {
          "DoctorID": "AJCBFE",
          "Instructions": "Yes",
          "index": 4
         },
         {
          "DoctorID": "GGBFD",
          "Instructions": "Yes",
          "index": 5
         },
         {
          "DoctorID": "AHIEIG",
          "Instructions": "Yes",
          "index": 6
         },
         {
          "DoctorID": "AIABDJ",
          "Instructions": "Yes",
          "index": 7
         },
         {
          "DoctorID": "FDHDI",
          "Instructions": "Yes",
          "index": 8
         },
         {
          "DoctorID": "FBFHB",
          "Instructions": "Yes",
          "index": 9
         },
         {
          "DoctorID": "BABGJG",
          "Instructions": "Yes",
          "index": 10
         },
         {
          "DoctorID": "BJDGBB",
          "Instructions": "Yes",
          "index": 11
         },
         {
          "DoctorID": "HIDEF",
          "Instructions": "Yes",
          "index": 12
         },
         {
          "DoctorID": "IDIAG",
          "Instructions": "Yes",
          "index": 13
         },
         {
          "DoctorID": "EIEIB",
          "Instructions": "Yes",
          "index": 14
         },
         {
          "DoctorID": "GGCCG",
          "Instructions": "Yes",
          "index": 15
         },
         {
          "DoctorID": "GGCFB",
          "Instructions": "Yes",
          "index": 16
         },
         {
          "DoctorID": "HDFJH",
          "Instructions": "Yes",
          "index": 17
         },
         {
          "DoctorID": "HCAIC",
          "Instructions": "Yes",
          "index": 18
         },
         {
          "DoctorID": "GDJGB",
          "Instructions": "Yes",
          "index": 19
         },
         {
          "DoctorID": "AAEAAJ",
          "Instructions": "Yes",
          "index": 20
         },
         {
          "DoctorID": "FDBFC",
          "Instructions": "Yes",
          "index": 21
         },
         {
          "DoctorID": "FCFJF",
          "Instructions": "No",
          "index": 22
         },
         {
          "DoctorID": "AABAAC",
          "Instructions": "No",
          "index": 23
         },
         {
          "DoctorID": "ADBEEF",
          "Instructions": "No",
          "index": 24
         },
         {
          "DoctorID": "ACEHEG",
          "Instructions": "Yes",
          "index": 25
         },
         {
          "DoctorID": "FAFFH",
          "Instructions": "Yes",
          "index": 26
         },
         {
          "DoctorID": "FBAHB",
          "Instructions": "Yes",
          "index": 27
         },
         {
          "DoctorID": "HBBCA",
          "Instructions": "Yes",
          "index": 28
         },
         {
          "DoctorID": "GIEAH",
          "Instructions": "No",
          "index": 29
         },
         {
          "DoctorID": "BACJAD",
          "Instructions": "Yes",
          "index": 30
         },
         {
          "DoctorID": "AAAEAH",
          "Instructions": "Yes",
          "index": 31
         },
         {
          "DoctorID": "FBEHD",
          "Instructions": "Yes",
          "index": 32
         },
         {
          "DoctorID": "IJDHE",
          "Instructions": "Yes",
          "index": 33
         },
         {
          "DoctorID": "BEAGDA",
          "Instructions": "Yes",
          "index": 34
         },
         {
          "DoctorID": "ACCBHF",
          "Instructions": "Yes",
          "index": 35
         },
         {
          "DoctorID": "FDHGC",
          "Instructions": "No",
          "index": 36
         },
         {
          "DoctorID": "FBFGD",
          "Instructions": "No",
          "index": 37
         },
         {
          "DoctorID": "EHDDC",
          "Instructions": "Yes",
          "index": 38
         },
         {
          "DoctorID": "FCDBG",
          "Instructions": "Yes",
          "index": 39
         },
         {
          "DoctorID": "EIFEJ",
          "Instructions": "Yes",
          "index": 40
         },
         {
          "DoctorID": "ACIFIF",
          "Instructions": "Yes",
          "index": 41
         },
         {
          "DoctorID": "FABAI",
          "Instructions": "Yes",
          "index": 42
         },
         {
          "DoctorID": "ACBBCA",
          "Instructions": "Yes",
          "index": 43
         },
         {
          "DoctorID": "AHDCBA",
          "Instructions": "Yes",
          "index": 44
         },
         {
          "DoctorID": "AEFJHG",
          "Instructions": "Yes",
          "index": 45
         },
         {
          "DoctorID": "AJCAGD",
          "Instructions": "Yes",
          "index": 46
         },
         {
          "DoctorID": "AACHCG",
          "Instructions": "Yes",
          "index": 47
         },
         {
          "DoctorID": "FAICE",
          "Instructions": "Yes",
          "index": 48
         },
         {
          "DoctorID": "EIEJD",
          "Instructions": "Yes",
          "index": 49
         },
         {
          "DoctorID": "FDIJG",
          "Instructions": "Yes",
          "index": 50
         },
         {
          "DoctorID": "EIBIE",
          "Instructions": "Yes",
          "index": 51
         },
         {
          "DoctorID": "CCCBCE",
          "Instructions": "No",
          "index": 52
         },
         {
          "DoctorID": "AFCGAH",
          "Instructions": "Yes",
          "index": 53
         },
         {
          "DoctorID": "AEFJCG",
          "Instructions": "Yes",
          "index": 54
         },
         {
          "DoctorID": "GDADF",
          "Instructions": "Yes",
          "index": 55
         },
         {
          "DoctorID": "IAEBD",
          "Instructions": "Yes",
          "index": 56
         },
         {
          "DoctorID": "GDGHI",
          "Instructions": "Yes",
          "index": 57
         },
         {
          "DoctorID": "GGCDI",
          "Instructions": "Yes",
          "index": 58
         },
         {
          "DoctorID": "ACBGIB",
          "Instructions": "Yes",
          "index": 59
         },
         {
          "DoctorID": "EIEJB",
          "Instructions": "No",
          "index": 60
         },
         {
          "DoctorID": "FCDID",
          "Instructions": "Yes",
          "index": 61
         },
         {
          "DoctorID": "HCCIE",
          "Instructions": "Yes",
          "index": 62
         },
         {
          "DoctorID": "ABCGDJ",
          "Instructions": "Yes",
          "index": 63
         },
         {
          "DoctorID": "ABDJAA",
          "Instructions": "Yes",
          "index": 64
         },
         {
          "DoctorID": "AAIJGC",
          "Instructions": "Yes",
          "index": 65
         },
         {
          "DoctorID": "IABCA",
          "Instructions": "Yes",
          "index": 66
         },
         {
          "DoctorID": "BEDIAF",
          "Instructions": "Yes",
          "index": 67
         },
         {
          "DoctorID": "FAHJJ",
          "Instructions": "Yes",
          "index": 68
         },
         {
          "DoctorID": "HFHII",
          "Instructions": "Yes",
          "index": 69
         },
         {
          "DoctorID": "FBGCC",
          "Instructions": "Yes",
          "index": 70
         },
         {
          "DoctorID": "BDDCCJ",
          "Instructions": "Yes",
          "index": 71
         },
         {
          "DoctorID": "ABEAFF",
          "Instructions": "Yes",
          "index": 72
         },
         {
          "DoctorID": "FCGCI",
          "Instructions": "Yes",
          "index": 73
         },
         {
          "DoctorID": "FBAHD",
          "Instructions": "Yes",
          "index": 74
         },
         {
          "DoctorID": "FCABB",
          "Instructions": "Yes",
          "index": 75
         },
         {
          "DoctorID": "GHDFB",
          "Instructions": "Yes",
          "index": 76
         }
        ],
        "schema": {
         "fields": [
          {
           "name": "index",
           "type": "integer"
          },
          {
           "name": "DoctorID",
           "type": "string"
          },
          {
           "name": "Instructions",
           "type": "string"
          }
         ],
         "pandas_version": "0.20.0",
         "primaryKey": [
          "index"
         ]
        }
       },
       "total_rows": 77
      },
      "text/html": [
       "<div>\n",
       "<style scoped>\n",
       "    .dataframe tbody tr th:only-of-type {\n",
       "        vertical-align: middle;\n",
       "    }\n",
       "\n",
       "    .dataframe tbody tr th {\n",
       "        vertical-align: top;\n",
       "    }\n",
       "\n",
       "    .dataframe thead th {\n",
       "        text-align: right;\n",
       "    }\n",
       "</style>\n",
       "<table border=\"1\" class=\"dataframe\">\n",
       "  <thead>\n",
       "    <tr style=\"text-align: right;\">\n",
       "      <th></th>\n",
       "      <th>DoctorID</th>\n",
       "      <th>Instructions</th>\n",
       "    </tr>\n",
       "  </thead>\n",
       "  <tbody>\n",
       "    <tr>\n",
       "      <th>0</th>\n",
       "      <td>ADIFBD</td>\n",
       "      <td>Yes</td>\n",
       "    </tr>\n",
       "    <tr>\n",
       "      <th>1</th>\n",
       "      <td>ABHBED</td>\n",
       "      <td>No</td>\n",
       "    </tr>\n",
       "    <tr>\n",
       "      <th>2</th>\n",
       "      <td>FJFEG</td>\n",
       "      <td>Yes</td>\n",
       "    </tr>\n",
       "    <tr>\n",
       "      <th>3</th>\n",
       "      <td>AEBDAB</td>\n",
       "      <td>No</td>\n",
       "    </tr>\n",
       "    <tr>\n",
       "      <th>4</th>\n",
       "      <td>AJCBFE</td>\n",
       "      <td>Yes</td>\n",
       "    </tr>\n",
       "    <tr>\n",
       "      <th>...</th>\n",
       "      <td>...</td>\n",
       "      <td>...</td>\n",
       "    </tr>\n",
       "    <tr>\n",
       "      <th>72</th>\n",
       "      <td>ABEAFF</td>\n",
       "      <td>Yes</td>\n",
       "    </tr>\n",
       "    <tr>\n",
       "      <th>73</th>\n",
       "      <td>FCGCI</td>\n",
       "      <td>Yes</td>\n",
       "    </tr>\n",
       "    <tr>\n",
       "      <th>74</th>\n",
       "      <td>FBAHD</td>\n",
       "      <td>Yes</td>\n",
       "    </tr>\n",
       "    <tr>\n",
       "      <th>75</th>\n",
       "      <td>FCABB</td>\n",
       "      <td>Yes</td>\n",
       "    </tr>\n",
       "    <tr>\n",
       "      <th>76</th>\n",
       "      <td>GHDFB</td>\n",
       "      <td>Yes</td>\n",
       "    </tr>\n",
       "  </tbody>\n",
       "</table>\n",
       "<p>77 rows × 2 columns</p>\n",
       "</div>"
      ],
      "text/plain": [
       "   DoctorID Instructions\n",
       "0    ADIFBD          Yes\n",
       "1    ABHBED           No\n",
       "2     FJFEG          Yes\n",
       "3    AEBDAB           No\n",
       "4    AJCBFE          Yes\n",
       "..      ...          ...\n",
       "72   ABEAFF          Yes\n",
       "73    FCGCI          Yes\n",
       "74    FBAHD          Yes\n",
       "75    FCABB          Yes\n",
       "76    GHDFB          Yes\n",
       "\n",
       "[77 rows x 2 columns]"
      ]
     },
     "execution_count": 4,
     "metadata": {},
     "output_type": "execute_result"
    }
   ],
   "source": [
    "instructions = pd.read_csv('data/instructions.csv')\n",
    "instructions"
   ]
  },
  {
   "cell_type": "markdown",
   "id": "ea5ecc34-7949-4090-9129-684c491c05cb",
   "metadata": {},
   "source": [
    "## 💪 Competition challenge\n",
    "\n",
    "Create a report that covers the following:\n",
    "1. How many doctors are there in each region? What is the average number of purchases per region?\n",
    "2. Can you find a relationship between purchases and complaints?\n",
    "3. Define new doctor segments that help the company improve marketing efforts and customer service.\n",
    "4. Identify which features impact the new segmentation strategy the most.\n",
    "5. Your team will need to explain the new segments to the rest of the company. Describe which characteristics distinguish the newly defined segments."
   ]
  },
  {
   "cell_type": "markdown",
   "id": "a5b2aa2a-1f53-4343-93bf-9a09c503fbf5",
   "metadata": {},
   "source": [
    "## 🧑‍⚖️ Judging criteria\n",
    "\n",
    "| CATEGORY | WEIGHTING | DETAILS                                                              |\n",
    "|:---------|:----------|:---------------------------------------------------------------------|\n",
    "| **Recommendations** | 35%       | <ul><li>Clarity of recommendations - how clear and well presented the recommendation is.</li><li>Quality of recommendations - are appropriate analytical techniques used & are the conclusions valid?</li><li>Number of relevant insights found for the target audience.</li></ul>       |\n",
    "| **Storytelling**  | 35%       | <ul><li>How well the data and insights are connected to the recommendation.</li><li>How the narrative and whole report connects together.</li><li>Balancing making the report in-depth enough but also concise.</li></ul> |\n",
    "| **Visualizations** | 20% | <ul><li>Appropriateness of visualization used.</li><li>Clarity of insight from visualization.</li></ul> |"
   ]
  },
  {
   "cell_type": "markdown",
   "id": "f53a49ea-ddf4-4a19-941a-5ce52b679e77",
   "metadata": {},
   "source": [
    "## Start after this cell\n",
    "## ⌛️ Time is ticking. Good luck!"
   ]
  },
  {
   "cell_type": "code",
   "execution_count": 46,
   "id": "ab02028c",
   "metadata": {},
   "outputs": [],
   "source": [
    "import pandas as pd\n",
    "import numpy as np"
   ]
  },
  {
   "cell_type": "code",
   "execution_count": 49,
   "id": "f6408915",
   "metadata": {},
   "outputs": [],
   "source": [
    "complaints = pd.read_csv(r'D:\\FastSemesters\\k201716\\19k_casestudy\\data\\complaints.csv')\n",
    "doctors = pd.read_csv(r'D:\\FastSemesters\\k201716\\19k_casestudy\\data\\doctors.csv')\n",
    "instructions = pd.read_csv(r'D:\\FastSemesters\\k201716\\19k_casestudy\\data\\instructions.csv')\n",
    "orders = pd.read_csv(r'D:\\FastSemesters\\k201716\\19k_casestudy\\data\\orders.csv')"
   ]
  },
  {
   "cell_type": "markdown",
   "id": "b0f07b5c",
   "metadata": {},
   "source": [
    "# parta"
   ]
  },
  {
   "cell_type": "code",
   "execution_count": 53,
   "id": "ee9e6f46",
   "metadata": {},
   "outputs": [
    {
     "data": {
      "text/plain": [
       "Region\n",
       "1 10       15\n",
       "1 10 T3     8\n",
       "1 11       23\n",
       "1 12       23\n",
       "1 12 T3     6\n",
       "1 12 T4     2\n",
       "1 13       34\n",
       "1 13 T3    11\n",
       "1 13 T4     1\n",
       "1 14       32\n",
       "1 14 T3    15\n",
       "1 14 T4     4\n",
       "1 19       31\n",
       "1 19 20     1\n",
       "1 19 T3    13\n",
       "1 19 T4     9\n",
       "1 21 T3     4\n",
       "1 21 T4     2\n",
       "1 4CP       1\n",
       "1 8        21\n",
       "1 8 T3     14\n",
       "1 8 T4      6\n",
       "1 9        32\n",
       "1 9 T3     11\n",
       "1 9 T4      7\n",
       "17          6\n",
       "2 11        9\n",
       "2 6 10      1\n",
       "2 6 12      5\n",
       "2 6 13      6\n",
       "2 6 14      2\n",
       "2 6 19      5\n",
       "2 6 8       4\n",
       "2 6 9       5\n",
       "2 7 10      7\n",
       "2 7 12      6\n",
       "2 7 13      6\n",
       "2 7 14      7\n",
       "2 7 19     14\n",
       "2 7 8       5\n",
       "2 7 9       8\n",
       "22 18       7\n",
       "23 3        1\n",
       "3 16        1\n",
       "4 15        3\n",
       "5 18        3\n",
       "Name: DoctorID, dtype: int64"
      ]
     },
     "execution_count": 53,
     "metadata": {},
     "output_type": "execute_result"
    }
   ],
   "source": [
    "#How many doctors are there in each region?\n",
    "#I am using groupby function to group doctors in one region and then have count of doctors per that grouped region\n",
    "doctors_in_each_region = doctors.groupby('Region')['DoctorID'].count()\n",
    "doctors_in_each_region"
   ]
  },
  {
   "cell_type": "code",
   "execution_count": 56,
   "id": "f3929ced",
   "metadata": {},
   "outputs": [
    {
     "data": {
      "text/plain": [
       "Region\n",
       "1 10        15.000000\n",
       "1 10 T3     11.375000\n",
       "1 11        10.565217\n",
       "1 12        14.913043\n",
       "1 12 T3     14.833333\n",
       "1 12 T4     22.500000\n",
       "1 13        10.382353\n",
       "1 13 T3      9.909091\n",
       "1 13 T4     30.000000\n",
       "1 14        12.156250\n",
       "1 14 T3     11.666667\n",
       "1 14 T4     19.500000\n",
       "1 19         9.064516\n",
       "1 19 20    129.000000\n",
       "1 19 T3     10.769231\n",
       "1 19 T4     25.333333\n",
       "1 21 T3      8.750000\n",
       "1 21 T4     11.000000\n",
       "1 4CP        6.000000\n",
       "1 8         10.809524\n",
       "1 8 T3      10.928571\n",
       "1 8 T4      18.500000\n",
       "1 9         10.812500\n",
       "1 9 T3       7.636364\n",
       "1 9 T4      23.428571\n",
       "17           4.500000\n",
       "2 11         5.666667\n",
       "2 6 10       5.000000\n",
       "2 6 12       3.800000\n",
       "2 6 13       4.500000\n",
       "2 6 14       3.000000\n",
       "2 6 19       3.600000\n",
       "2 6 8        4.250000\n",
       "2 6 9        5.200000\n",
       "2 7 10       5.142857\n",
       "2 7 12       6.166667\n",
       "2 7 13       7.666667\n",
       "2 7 14       3.571429\n",
       "2 7 19       4.785714\n",
       "2 7 8        4.600000\n",
       "2 7 9        4.125000\n",
       "22 18        6.285714\n",
       "23 3        14.000000\n",
       "3 16        14.000000\n",
       "4 15        23.333333\n",
       "5 18         5.000000\n",
       "Name: Purchases, dtype: float64"
      ]
     },
     "execution_count": 56,
     "metadata": {},
     "output_type": "execute_result"
    }
   ],
   "source": [
    "#What is the average number of purchases per region?\n",
    "AvgPurchase_in_each_region = doctors.groupby('Region')['Purchases'].mean()\n",
    "AvgPurchase_in_each_region"
   ]
  },
  {
   "cell_type": "markdown",
   "id": "59312a25",
   "metadata": {},
   "source": [
    "# partb"
   ]
  },
  {
   "cell_type": "code",
   "execution_count": 57,
   "id": "2afd8339",
   "metadata": {},
   "outputs": [],
   "source": [
    "#Can you find a relationship between purchases and complaints?\n",
    "purchase = doctors[['DoctorID','Purchases']]"
   ]
  },
  {
   "cell_type": "code",
   "execution_count": 58,
   "id": "e1579fa9",
   "metadata": {},
   "outputs": [
    {
     "data": {
      "text/html": [
       "<div>\n",
       "<style scoped>\n",
       "    .dataframe tbody tr th:only-of-type {\n",
       "        vertical-align: middle;\n",
       "    }\n",
       "\n",
       "    .dataframe tbody tr th {\n",
       "        vertical-align: top;\n",
       "    }\n",
       "\n",
       "    .dataframe thead th {\n",
       "        text-align: right;\n",
       "    }\n",
       "</style>\n",
       "<table border=\"1\" class=\"dataframe\">\n",
       "  <thead>\n",
       "    <tr style=\"text-align: right;\">\n",
       "      <th></th>\n",
       "      <th>DoctorID</th>\n",
       "      <th>Purchases</th>\n",
       "      <th>Complaint Type</th>\n",
       "      <th>Qty</th>\n",
       "    </tr>\n",
       "  </thead>\n",
       "  <tbody>\n",
       "    <tr>\n",
       "      <th>0</th>\n",
       "      <td>FCBDC</td>\n",
       "      <td>14.0</td>\n",
       "      <td>Unknown</td>\n",
       "      <td>1</td>\n",
       "    </tr>\n",
       "    <tr>\n",
       "      <th>1</th>\n",
       "      <td>IFDIB</td>\n",
       "      <td>14.0</td>\n",
       "      <td>Correct</td>\n",
       "      <td>1</td>\n",
       "    </tr>\n",
       "    <tr>\n",
       "      <th>2</th>\n",
       "      <td>FDHGC</td>\n",
       "      <td>13.0</td>\n",
       "      <td>Correct</td>\n",
       "      <td>4</td>\n",
       "    </tr>\n",
       "    <tr>\n",
       "      <th>3</th>\n",
       "      <td>FDHGC</td>\n",
       "      <td>13.0</td>\n",
       "      <td>Incorrect</td>\n",
       "      <td>4</td>\n",
       "    </tr>\n",
       "    <tr>\n",
       "      <th>4</th>\n",
       "      <td>FDHGC</td>\n",
       "      <td>13.0</td>\n",
       "      <td>Unknown</td>\n",
       "      <td>1</td>\n",
       "    </tr>\n",
       "    <tr>\n",
       "      <th>...</th>\n",
       "      <td>...</td>\n",
       "      <td>...</td>\n",
       "      <td>...</td>\n",
       "      <td>...</td>\n",
       "    </tr>\n",
       "    <tr>\n",
       "      <th>120</th>\n",
       "      <td>IAEBD</td>\n",
       "      <td>129.0</td>\n",
       "      <td>Correct</td>\n",
       "      <td>3</td>\n",
       "    </tr>\n",
       "    <tr>\n",
       "      <th>121</th>\n",
       "      <td>IAEBD</td>\n",
       "      <td>129.0</td>\n",
       "      <td>Incorrect</td>\n",
       "      <td>1</td>\n",
       "    </tr>\n",
       "    <tr>\n",
       "      <th>122</th>\n",
       "      <td>AIABDJ</td>\n",
       "      <td>35.0</td>\n",
       "      <td>Correct</td>\n",
       "      <td>1</td>\n",
       "    </tr>\n",
       "    <tr>\n",
       "      <th>123</th>\n",
       "      <td>AIABDJ</td>\n",
       "      <td>35.0</td>\n",
       "      <td>Unknown</td>\n",
       "      <td>1</td>\n",
       "    </tr>\n",
       "    <tr>\n",
       "      <th>124</th>\n",
       "      <td>BBAJCF</td>\n",
       "      <td>19.0</td>\n",
       "      <td>Incorrect</td>\n",
       "      <td>1</td>\n",
       "    </tr>\n",
       "  </tbody>\n",
       "</table>\n",
       "<p>125 rows × 4 columns</p>\n",
       "</div>"
      ],
      "text/plain": [
       "    DoctorID  Purchases Complaint Type  Qty\n",
       "0      FCBDC       14.0        Unknown    1\n",
       "1      IFDIB       14.0        Correct    1\n",
       "2      FDHGC       13.0        Correct    4\n",
       "3      FDHGC       13.0      Incorrect    4\n",
       "4      FDHGC       13.0        Unknown    1\n",
       "..       ...        ...            ...  ...\n",
       "120    IAEBD      129.0        Correct    3\n",
       "121    IAEBD      129.0      Incorrect    1\n",
       "122   AIABDJ       35.0        Correct    1\n",
       "123   AIABDJ       35.0        Unknown    1\n",
       "124   BBAJCF       19.0      Incorrect    1\n",
       "\n",
       "[125 rows x 4 columns]"
      ]
     },
     "execution_count": 58,
     "metadata": {},
     "output_type": "execute_result"
    }
   ],
   "source": [
    "merged = pd.merge(purchase,complaints,on='DoctorID');\n",
    "merged"
   ]
  },
  {
   "cell_type": "code",
   "execution_count": 78,
   "id": "d15d995d",
   "metadata": {},
   "outputs": [
    {
     "data": {
      "text/plain": [
       "Text(0.5, 1.0, 'RELATIONSHIP BETWEEN PURCHASE AND QUANTITY')"
      ]
     },
     "execution_count": 78,
     "metadata": {},
     "output_type": "execute_result"
    },
    {
     "data": {
      "image/png": "[encoded data removed]",
      "text/plain": [
       "<Figure size 432x288 with 1 Axes>"
      ]
     },
     "metadata": {
      "needs_background": "light"
     },
     "output_type": "display_data"
    }
   ],
   "source": [
    "import seaborn as sns\n",
    "Purchase = merged['Purchases']\n",
    "Complaints = merged['Qty']\n",
    "correlation = Purchase.corr(Complaints)\n",
    "sns.scatterplot(x=Purchase,y=Complaints)\n",
    "plt.title('RELATIONSHIP BETWEEN PURCHASE AND QUANTITY')\n",
    "#the plot below shows that doctors with more complaints have purchased less amount of products approx 1-22\n",
    "#from the company over the last year."
   ]
  },
  {
   "cell_type": "markdown",
   "id": "2fba49cd",
   "metadata": {},
   "source": [
    "# partc"
   ]
  },
  {
   "cell_type": "code",
   "execution_count": null,
   "id": "374ae534",
   "metadata": {},
   "outputs": [],
   "source": [
    "#Define new doctor segments that help the company improve marketing efforts and customer \n",
    "#service."
   ]
  },
  {
   "cell_type": "code",
   "execution_count": 99,
   "id": "8e102799",
   "metadata": {},
   "outputs": [
    {
     "data": {
      "text/plain": [
       "<AxesSubplot:>"
      ]
     },
     "execution_count": 99,
     "metadata": {},
     "output_type": "execute_result"
    },
    {
     "data": {
      "image/png": "[encoded data removed]",
      "text/plain": [
       "<Figure size 432x288 with 2 Axes>"
      ]
     },
     "metadata": {
      "needs_background": "light"
     },
     "output_type": "display_data"
    }
   ],
   "source": [
    "corr_mat = doctors.corr()\n",
    "sns.heatmap(corr_mat, cmap='coolwarm', annot=True)\n",
    "#heatmap defines how each variable is correlated with the other. \n",
    "#we can use this to see how much each variable has affect on other variables."
   ]
  },
  {
   "cell_type": "code",
   "execution_count": 108,
   "id": "401d5961",
   "metadata": {},
   "outputs": [
    {
     "data": {
      "text/html": [
       "<div>\n",
       "<style scoped>\n",
       "    .dataframe tbody tr th:only-of-type {\n",
       "        vertical-align: middle;\n",
       "    }\n",
       "\n",
       "    .dataframe tbody tr th {\n",
       "        vertical-align: top;\n",
       "    }\n",
       "\n",
       "    .dataframe thead th {\n",
       "        text-align: right;\n",
       "    }\n",
       "</style>\n",
       "<table border=\"1\" class=\"dataframe\">\n",
       "  <thead>\n",
       "    <tr style=\"text-align: right;\">\n",
       "      <th></th>\n",
       "      <th>Rank</th>\n",
       "      <th>Purchases</th>\n",
       "    </tr>\n",
       "  </thead>\n",
       "  <tbody>\n",
       "    <tr>\n",
       "      <th>0</th>\n",
       "      <td>Ambassador</td>\n",
       "      <td>115</td>\n",
       "    </tr>\n",
       "    <tr>\n",
       "      <th>1</th>\n",
       "      <td>Gold</td>\n",
       "      <td>22</td>\n",
       "    </tr>\n",
       "    <tr>\n",
       "      <th>2</th>\n",
       "      <td>Gold Plus</td>\n",
       "      <td>50</td>\n",
       "    </tr>\n",
       "    <tr>\n",
       "      <th>3</th>\n",
       "      <td>Platinum</td>\n",
       "      <td>77</td>\n",
       "    </tr>\n",
       "    <tr>\n",
       "      <th>4</th>\n",
       "      <td>Platinum Plus</td>\n",
       "      <td>54</td>\n",
       "    </tr>\n",
       "    <tr>\n",
       "      <th>5</th>\n",
       "      <td>Silver</td>\n",
       "      <td>3</td>\n",
       "    </tr>\n",
       "    <tr>\n",
       "      <th>6</th>\n",
       "      <td>Silver Plus</td>\n",
       "      <td>44</td>\n",
       "    </tr>\n",
       "    <tr>\n",
       "      <th>7</th>\n",
       "      <td>Titanium</td>\n",
       "      <td>69</td>\n",
       "    </tr>\n",
       "    <tr>\n",
       "      <th>8</th>\n",
       "      <td>Titanium Plus</td>\n",
       "      <td>1</td>\n",
       "    </tr>\n",
       "  </tbody>\n",
       "</table>\n",
       "</div>"
      ],
      "text/plain": [
       "            Rank  Purchases\n",
       "0     Ambassador        115\n",
       "1           Gold         22\n",
       "2      Gold Plus         50\n",
       "3       Platinum         77\n",
       "4  Platinum Plus         54\n",
       "5         Silver          3\n",
       "6    Silver Plus         44\n",
       "7       Titanium         69\n",
       "8  Titanium Plus          1"
      ]
     },
     "execution_count": 108,
     "metadata": {},
     "output_type": "execute_result"
    }
   ],
   "source": [
    "# \"DoctorID\" - is a unique identifier for each doctor.\n",
    "# \"Region\" - the current geographical region of the doctor.\n",
    "# \"Category\" - the type of doctor, either 'Specialist' or 'General Practitioner.'\n",
    "# \"Rank\" - is an internal ranking system. It is an ordered variable: The highest level is Ambassadors, followed by Titanium Plus, Titanium, Platinum Plus, Platinum, Gold Plus, Gold, Silver Plus, and the lowest level is Silver.\n",
    "# \"Incidence rate\" and \"R rate\" - relate to the amount of re-work each doctor generates.\n",
    "# \"Satisfaction\" - measures doctors' satisfaction with the company.\n",
    "# \"Experience\" - relates to the doctor's experience with the company.\n",
    "# \"Purchases\" - purchases over the last year.\n",
    "purchase_by_rank = doctors.groupby('Rank')['Purchases'].count()\n",
    "data = pd.DataFrame(purchase_by_rank)\n",
    "data.reset_index(drop=False,inplace=True)\n",
    "data"
   ]
  },
  {
   "cell_type": "code",
   "execution_count": 115,
   "id": "7aa0683d",
   "metadata": {},
   "outputs": [
    {
     "data": {
      "image/png": "[encoded data removed]",
      "text/plain": [
       "<Figure size 432x288 with 1 Axes>"
      ]
     },
     "metadata": {
      "needs_background": "light"
     },
     "output_type": "display_data"
    }
   ],
   "source": [
    "c1= data['Rank']\n",
    "c2= data['Purchases']\n",
    "\n",
    "plt.scatter(x=c1,y=c2)\n",
    "plt.show()\n",
    "\n",
    "#ambassadors and platinum customers are beneficial for the company"
   ]
  },
  {
   "cell_type": "code",
   "execution_count": 117,
   "id": "b2fac2ef",
   "metadata": {},
   "outputs": [
    {
     "data": {
      "text/html": [
       "<div>\n",
       "<style scoped>\n",
       "    .dataframe tbody tr th:only-of-type {\n",
       "        vertical-align: middle;\n",
       "    }\n",
       "\n",
       "    .dataframe tbody tr th {\n",
       "        vertical-align: top;\n",
       "    }\n",
       "\n",
       "    .dataframe thead th {\n",
       "        text-align: right;\n",
       "    }\n",
       "</style>\n",
       "<table border=\"1\" class=\"dataframe\">\n",
       "  <thead>\n",
       "    <tr style=\"text-align: right;\">\n",
       "      <th></th>\n",
       "      <th>Category</th>\n",
       "      <th>Purchases</th>\n",
       "    </tr>\n",
       "  </thead>\n",
       "  <tbody>\n",
       "    <tr>\n",
       "      <th>0</th>\n",
       "      <td>General Practitioner</td>\n",
       "      <td>70</td>\n",
       "    </tr>\n",
       "    <tr>\n",
       "      <th>1</th>\n",
       "      <td>Specialist</td>\n",
       "      <td>367</td>\n",
       "    </tr>\n",
       "  </tbody>\n",
       "</table>\n",
       "</div>"
      ],
      "text/plain": [
       "               Category  Purchases\n",
       "0  General Practitioner         70\n",
       "1            Specialist        367"
      ]
     },
     "execution_count": 117,
     "metadata": {},
     "output_type": "execute_result"
    }
   ],
   "source": [
    "purchase_by_rank = doctors.groupby('Category')['Purchases'].count()\n",
    "data2 = pd.DataFrame(purchase_by_rank)\n",
    "data2.reset_index(drop=False,inplace=True)\n",
    "data2"
   ]
  },
  {
   "cell_type": "code",
   "execution_count": 124,
   "id": "17be9b8e",
   "metadata": {},
   "outputs": [
    {
     "data": {
      "image/png": "[encoded data removed]",
      "text/plain": [
       "<Figure size 432x288 with 1 Axes>"
      ]
     },
     "metadata": {
      "needs_background": "light"
     },
     "output_type": "display_data"
    }
   ],
   "source": [
    "c1= data2['Category']\n",
    "c2= data2['Purchases']\n",
    "plt.scatter(x=c1,y=c2)\n",
    "plt.show()\n",
    "#specialist made prominent purchases."
   ]
  },
  {
   "cell_type": "code",
   "execution_count": null,
   "id": "b3de28ac",
   "metadata": {},
   "outputs": [],
   "source": []
  }
 ],
 "metadata": {
  "editor": "DataCamp Workspace",
  "kernelspec": {
   "display_name": "Python 3 (ipykernel)",
   "language": "python",
   "name": "python3"
  },
  "language_info": {
   "codemirror_mode": {
    "name": "ipython",
    "version": 3
   },
   "file_extension": ".py",
   "mimetype": "text/x-python",
   "name": "python",
   "nbconvert_exporter": "python",
   "pygments_lexer": "ipython3",
   "version": "3.9.12"
  }
 },
 "nbformat": 4,
 "nbformat_minor": 5
}
