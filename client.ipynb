{
 "cells": [
  {
   "cell_type": "code",
   "execution_count": 2,
   "id": "9b253c9b",
   "metadata": {},
   "outputs": [
    {
     "name": "stdout",
     "output_type": "stream",
     "text": [
      "\n",
      "[server] hi\n"
     ]
    }
   ],
   "source": [
    "###client###\n",
    "import socket\n",
    "import threading\n",
    "client_socket = socket.socket(socket.AF_INET, socket.SOCK_STREAM)\n",
    "client_socket.connect(('localhost', 1636))\n",
    "\n",
    "def send_message():\n",
    "    while True:\n",
    "        message = input(\"[client] \")\n",
    "        client_socket.send(message.encode())\n",
    "\n",
    "def receive_message():\n",
    "    while True:\n",
    "        message = client_socket.recv(1024).decode()\n",
    "        print(f\"\\n[server] {message.rstrip()}\")\n",
    "\n",
    "send_thread = threading.Thread(target=send_message)\n",
    "receive_thread = threading.Thread(target=receive_message)\n",
    "send_thread.start()\n",
    "receive_thread.start()"
   ]
  },
  {
   "cell_type": "code",
   "execution_count": null,
   "id": "e5f779e2",
   "metadata": {},
   "outputs": [],
   "source": []
  }
 ],
 "metadata": {
  "kernelspec": {
   "display_name": "Python 3 (ipykernel)",
   "language": "python",
   "name": "python3"
  },
  "language_info": {
   "codemirror_mode": {
    "name": "ipython",
    "version": 3
   },
   "file_extension": ".py",
   "mimetype": "text/x-python",
   "name": "python",
   "nbconvert_exporter": "python",
   "pygments_lexer": "ipython3",
   "version": "3.9.12"
  }
 },
 "nbformat": 4,
 "nbformat_minor": 5
}
